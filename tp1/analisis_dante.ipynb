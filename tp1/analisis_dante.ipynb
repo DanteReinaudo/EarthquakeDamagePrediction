{
 "cells": [
  {
   "cell_type": "code",
   "execution_count": 1,
   "metadata": {},
   "outputs": [],
   "source": [
    "# encoding=utf8\n",
    "\n",
    "# importacion general de librerias y de visualizacion (matplotlib y seaborn)\n",
    "import pandas as pd\n",
    "import numpy as np\n",
    "import matplotlib.pyplot as plt\n",
    "import seaborn as sns\n",
    "\n",
    "%matplotlib inline\n",
    "\n",
    "plt.style.use('default') # haciendo los graficos un poco mas bonitos en matplotlib\n",
    "#plt.rcParams['figure.figsize'] = (20, 10)\n",
    "\n",
    "sns.set(style=\"whitegrid\") # seteando tipo de grid en seaborn\n",
    "\n",
    "pd.options.display.float_format = '{:20,.2f}'.format # suprimimos la notacion cientifica en los outputs\n",
    "\n",
    "import warnings\n",
    "warnings.filterwarnings('ignore')"
   ]
  },
  {
   "cell_type": "code",
   "execution_count": 2,
   "metadata": {},
   "outputs": [],
   "source": [
    "#Carga de datos, indicando el tipo de dato se redujo de 71.3 Mb a 13.2 Mb\n",
    "data_values = pd.read_csv('train_values.csv',dtype = {\n",
    "    \"geo_level_1_id\" : \"int16\", \n",
    "    \"geo_level_2_id\" : \"int16\",\n",
    "    \"geo_level_3_id\" : \"int16\",\n",
    "    \"count_floors_pre_eq\" : \"int8\",\n",
    "    \"age\" : \"int16\",\n",
    "    \"area_percentage\" :\"int16\",\n",
    "    \"height_percentage\" :\"int16\",\n",
    "    \"land_surface_condition\" :\"category\",\n",
    "    \"foundation_type\" :\"category\",\n",
    "    \"roof_type\" :\"category\",\n",
    "    \"ground_floor_type\" :\"category\",\n",
    "    \"other_floor_type\" :\"category\",\n",
    "    \"position\" :\"category\",\n",
    "    \"plan_configuration\" :\"category\",\n",
    "    \"has_superstructure_adobe_mud\" : \"bool\",\n",
    "    \"has_superstructure_mud_mortar_stone\" : \"bool\",\n",
    "    \"has_superstructure_stone_flag\" : \"bool\",\n",
    "    \"has_superstructure_cement_mortar_stone\" : \"bool\",\n",
    "    \"has_superstructure_mud_mortar_brick\" : \"bool\",\n",
    "    \"has_superstructure_cement_mortar_brick\" : \"bool\",\n",
    "    \"has_superstructure_timber\" : \"bool\",\n",
    "    \"has_superstructure_bamboo\" : \"bool\",\n",
    "    \"has_superstructure_rc_non_engineered\" : \"bool\",\n",
    "    \"has_superstructure_rc_engineered\" : \"bool\",\n",
    "    \"has_superstructure_other\" : \"bool\",\n",
    "    \"legal_ownership_status\" :\"category\",\n",
    "    \"count_families\" : \"int16\",\n",
    "    \"has_secondary_use\" : \"bool\",\n",
    "    \"has_secondary_use_agriculture\" : \"bool\",\n",
    "    \"has_secondary_use_hotel\" : \"bool\",\n",
    "    \"has_secondary_use_rental\" : \"bool\",\n",
    "    \"has_secondary_use_institution\" : \"bool\",\n",
    "    \"has_secondary_use_school\" : \"bool\",\n",
    "    \"has_secondary_use_industry\" : \"bool\",\n",
    "    \"has_secondary_use_health_post\" : \"bool\",\n",
    "    \"has_secondary_use_gov_office\" : \"bool\",\n",
    "    \"has_secondary_use_use_police\" : \"bool\",\n",
    "    \"has_secondary_use_other\" : \"bool\"\n",
    "                    \n",
    "})\n",
    "\n",
    "data_labels = pd.read_csv('train_labels.csv',dtype = {\n",
    "    \"damage_grade\" : \"category\"    \n",
    "})"
   ]
  },
  {
   "cell_type": "code",
   "execution_count": 3,
   "metadata": {},
   "outputs": [
    {
     "name": "stdout",
     "output_type": "stream",
     "text": [
      "<class 'pandas.core.frame.DataFrame'>\n",
      "RangeIndex: 260601 entries, 0 to 260600\n",
      "Data columns (total 39 columns):\n",
      " #   Column                                  Non-Null Count   Dtype   \n",
      "---  ------                                  --------------   -----   \n",
      " 0   building_id                             260601 non-null  int64   \n",
      " 1   geo_level_1_id                          260601 non-null  int16   \n",
      " 2   geo_level_2_id                          260601 non-null  int16   \n",
      " 3   geo_level_3_id                          260601 non-null  int16   \n",
      " 4   count_floors_pre_eq                     260601 non-null  int8    \n",
      " 5   age                                     260601 non-null  int16   \n",
      " 6   area_percentage                         260601 non-null  int16   \n",
      " 7   height_percentage                       260601 non-null  int16   \n",
      " 8   land_surface_condition                  260601 non-null  category\n",
      " 9   foundation_type                         260601 non-null  category\n",
      " 10  roof_type                               260601 non-null  category\n",
      " 11  ground_floor_type                       260601 non-null  category\n",
      " 12  other_floor_type                        260601 non-null  category\n",
      " 13  position                                260601 non-null  category\n",
      " 14  plan_configuration                      260601 non-null  category\n",
      " 15  has_superstructure_adobe_mud            260601 non-null  bool    \n",
      " 16  has_superstructure_mud_mortar_stone     260601 non-null  bool    \n",
      " 17  has_superstructure_stone_flag           260601 non-null  bool    \n",
      " 18  has_superstructure_cement_mortar_stone  260601 non-null  bool    \n",
      " 19  has_superstructure_mud_mortar_brick     260601 non-null  bool    \n",
      " 20  has_superstructure_cement_mortar_brick  260601 non-null  bool    \n",
      " 21  has_superstructure_timber               260601 non-null  bool    \n",
      " 22  has_superstructure_bamboo               260601 non-null  bool    \n",
      " 23  has_superstructure_rc_non_engineered    260601 non-null  bool    \n",
      " 24  has_superstructure_rc_engineered        260601 non-null  bool    \n",
      " 25  has_superstructure_other                260601 non-null  bool    \n",
      " 26  legal_ownership_status                  260601 non-null  category\n",
      " 27  count_families                          260601 non-null  int16   \n",
      " 28  has_secondary_use                       260601 non-null  bool    \n",
      " 29  has_secondary_use_agriculture           260601 non-null  bool    \n",
      " 30  has_secondary_use_hotel                 260601 non-null  bool    \n",
      " 31  has_secondary_use_rental                260601 non-null  bool    \n",
      " 32  has_secondary_use_institution           260601 non-null  bool    \n",
      " 33  has_secondary_use_school                260601 non-null  bool    \n",
      " 34  has_secondary_use_industry              260601 non-null  bool    \n",
      " 35  has_secondary_use_health_post           260601 non-null  bool    \n",
      " 36  has_secondary_use_gov_office            260601 non-null  bool    \n",
      " 37  has_secondary_use_use_police            260601 non-null  bool    \n",
      " 38  has_secondary_use_other                 260601 non-null  bool    \n",
      "dtypes: bool(22), category(8), int16(7), int64(1), int8(1)\n",
      "memory usage: 13.2 MB\n"
     ]
    }
   ],
   "source": [
    "data_values.info()"
   ]
  },
  {
   "cell_type": "code",
   "execution_count": 4,
   "metadata": {},
   "outputs": [
    {
     "name": "stdout",
     "output_type": "stream",
     "text": [
      "<class 'pandas.core.frame.DataFrame'>\n",
      "RangeIndex: 260601 entries, 0 to 260600\n",
      "Data columns (total 2 columns):\n",
      " #   Column        Non-Null Count   Dtype   \n",
      "---  ------        --------------   -----   \n",
      " 0   building_id   260601 non-null  int64   \n",
      " 1   damage_grade  260601 non-null  category\n",
      "dtypes: category(1), int64(1)\n",
      "memory usage: 2.2 MB\n"
     ]
    }
   ],
   "source": [
    "data_labels.info()"
   ]
  },
  {
   "cell_type": "code",
   "execution_count": 5,
   "metadata": {},
   "outputs": [
    {
     "data": {
      "text/html": [
       "<div>\n",
       "<style scoped>\n",
       "    .dataframe tbody tr th:only-of-type {\n",
       "        vertical-align: middle;\n",
       "    }\n",
       "\n",
       "    .dataframe tbody tr th {\n",
       "        vertical-align: top;\n",
       "    }\n",
       "\n",
       "    .dataframe thead th {\n",
       "        text-align: right;\n",
       "    }\n",
       "</style>\n",
       "<table border=\"1\" class=\"dataframe\">\n",
       "  <thead>\n",
       "    <tr style=\"text-align: right;\">\n",
       "      <th></th>\n",
       "      <th>building_id</th>\n",
       "      <th>damage_grade</th>\n",
       "    </tr>\n",
       "  </thead>\n",
       "  <tbody>\n",
       "    <tr>\n",
       "      <th>0</th>\n",
       "      <td>802906</td>\n",
       "      <td>3</td>\n",
       "    </tr>\n",
       "    <tr>\n",
       "      <th>1</th>\n",
       "      <td>28830</td>\n",
       "      <td>2</td>\n",
       "    </tr>\n",
       "    <tr>\n",
       "      <th>2</th>\n",
       "      <td>94947</td>\n",
       "      <td>3</td>\n",
       "    </tr>\n",
       "    <tr>\n",
       "      <th>3</th>\n",
       "      <td>590882</td>\n",
       "      <td>2</td>\n",
       "    </tr>\n",
       "    <tr>\n",
       "      <th>4</th>\n",
       "      <td>201944</td>\n",
       "      <td>3</td>\n",
       "    </tr>\n",
       "  </tbody>\n",
       "</table>\n",
       "</div>"
      ],
      "text/plain": [
       "   building_id damage_grade\n",
       "0       802906            3\n",
       "1        28830            2\n",
       "2        94947            3\n",
       "3       590882            2\n",
       "4       201944            3"
      ]
     },
     "execution_count": 5,
     "metadata": {},
     "output_type": "execute_result"
    }
   ],
   "source": [
    "data_labels.head()"
   ]
  },
  {
   "cell_type": "code",
   "execution_count": 6,
   "metadata": {},
   "outputs": [
    {
     "data": {
      "text/plain": [
       "260601"
      ]
     },
     "execution_count": 6,
     "metadata": {},
     "output_type": "execute_result"
    }
   ],
   "source": [
    "cantidad_edificios = data_labels[\"building_id\"].count()\n",
    "cantidad_edificios"
   ]
  },
  {
   "cell_type": "code",
   "execution_count": 12,
   "metadata": {},
   "outputs": [
    {
     "data": {
      "text/html": [
       "<div>\n",
       "<style scoped>\n",
       "    .dataframe tbody tr th:only-of-type {\n",
       "        vertical-align: middle;\n",
       "    }\n",
       "\n",
       "    .dataframe tbody tr th {\n",
       "        vertical-align: top;\n",
       "    }\n",
       "\n",
       "    .dataframe thead th {\n",
       "        text-align: right;\n",
       "    }\n",
       "</style>\n",
       "<table border=\"1\" class=\"dataframe\">\n",
       "  <thead>\n",
       "    <tr style=\"text-align: right;\">\n",
       "      <th></th>\n",
       "      <th>building_id</th>\n",
       "    </tr>\n",
       "    <tr>\n",
       "      <th>damage_grade</th>\n",
       "      <th></th>\n",
       "    </tr>\n",
       "  </thead>\n",
       "  <tbody>\n",
       "    <tr>\n",
       "      <th>1</th>\n",
       "      <td>25124</td>\n",
       "    </tr>\n",
       "    <tr>\n",
       "      <th>2</th>\n",
       "      <td>148259</td>\n",
       "    </tr>\n",
       "    <tr>\n",
       "      <th>3</th>\n",
       "      <td>87218</td>\n",
       "    </tr>\n",
       "  </tbody>\n",
       "</table>\n",
       "</div>"
      ],
      "text/plain": [
       "              building_id\n",
       "damage_grade             \n",
       "1                   25124\n",
       "2                  148259\n",
       "3                   87218"
      ]
     },
     "execution_count": 12,
     "metadata": {},
     "output_type": "execute_result"
    }
   ],
   "source": [
    "damage = data_labels.groupby([\"damage_grade\"]).count()\n",
    "damage"
   ]
  },
  {
   "cell_type": "code",
   "execution_count": 46,
   "metadata": {},
   "outputs": [
    {
     "data": {
      "image/png": "[encoded data removed]",
      "text/plain": [
       "<Figure size 640x480 with 1 Axes>"
      ]
     },
     "metadata": {},
     "output_type": "display_data"
    }
   ],
   "source": [
    "#Definir colores\n",
    "my_colors = my_colors = ['lightblue','orange','crimson']\n",
    "\n",
    "plt.pie(damage[\"building_id\"].to_list(),\n",
    "        labels = [\"Low Damage\" ,\"Medium Damage\",\"Serious Damage\"],\n",
    "        autopct='%1.1f%%',\n",
    "        startangle=15,           \n",
    "        shadow = True,\n",
    "        colors = my_colors\n",
    ")\n",
    "plt.title(\"Porcentaje del Grado de Daño sobre el total de los edificios dañados\")\n",
    "plt.show()"
   ]
  },
  {
   "cell_type": "code",
   "execution_count": null,
   "metadata": {},
   "outputs": [],
   "source": []
  }
 ],
 "metadata": {
  "kernelspec": {
   "display_name": "Python 3",
   "language": "python",
   "name": "python3"
  },
  "language_info": {
   "codemirror_mode": {
    "name": "ipython",
    "version": 3
   },
   "file_extension": ".py",
   "mimetype": "text/x-python",
   "name": "python",
   "nbconvert_exporter": "python",
   "pygments_lexer": "ipython3",
   "version": "3.8.5"
  }
 },
 "nbformat": 4,
 "nbformat_minor": 4
}
