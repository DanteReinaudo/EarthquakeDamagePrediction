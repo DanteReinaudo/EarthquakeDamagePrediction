{
 "cells": [
  {
   "cell_type": "code",
   "execution_count": 14,
   "id": "frank-terminology",
   "metadata": {},
   "outputs": [],
   "source": [
    "# encoding=utf8\n",
    "\n",
    "# importacion general de librerias y de visualizacion (matplotlib y seaborn)\n",
    "import pandas as pd\n",
    "import numpy as np\n",
    "import matplotlib.pyplot as plt\n",
    "import seaborn as sns\n",
    "\n",
    "%matplotlib inline\n",
    "\n",
    "plt.style.use('default') # haciendo los graficos un poco mas bonitos en matplotlib\n",
    "#plt.rcParams['figure.figsize'] = (20, 10)\n",
    "\n",
    "sns.set(style=\"whitegrid\") # seteando tipo de grid en seaborn\n",
    "\n",
    "pd.options.display.float_format = '{:20,.2f}'.format # suprimimos la notacion cientifica en los outputs\n",
    "\n",
    "import warnings\n",
    "warnings.filterwarnings('ignore')"
   ]
  },
  {
   "cell_type": "code",
   "execution_count": 57,
   "id": "moderate-elephant",
   "metadata": {},
   "outputs": [
    {
     "data": {
      "text/html": [
       "<div>\n",
       "<style scoped>\n",
       "    .dataframe tbody tr th:only-of-type {\n",
       "        vertical-align: middle;\n",
       "    }\n",
       "\n",
       "    .dataframe tbody tr th {\n",
       "        vertical-align: top;\n",
       "    }\n",
       "\n",
       "    .dataframe thead th {\n",
       "        text-align: right;\n",
       "    }\n",
       "</style>\n",
       "<table border=\"1\" class=\"dataframe\">\n",
       "  <thead>\n",
       "    <tr style=\"text-align: right;\">\n",
       "      <th></th>\n",
       "      <th>building_id</th>\n",
       "      <th>land_surface_condition</th>\n",
       "      <th>has_superstructure_mud_mortar_stone</th>\n",
       "      <th>has_superstructure_cement_mortar_brick</th>\n",
       "      <th>has_superstructure_rc_non_engineered</th>\n",
       "      <th>has_superstructure_rc_engineered</th>\n",
       "      <th>damage_grade</th>\n",
       "    </tr>\n",
       "  </thead>\n",
       "  <tbody>\n",
       "    <tr>\n",
       "      <th>0</th>\n",
       "      <td>802906</td>\n",
       "      <td>t</td>\n",
       "      <td>True</td>\n",
       "      <td>False</td>\n",
       "      <td>False</td>\n",
       "      <td>False</td>\n",
       "      <td>3</td>\n",
       "    </tr>\n",
       "    <tr>\n",
       "      <th>1</th>\n",
       "      <td>28830</td>\n",
       "      <td>o</td>\n",
       "      <td>True</td>\n",
       "      <td>False</td>\n",
       "      <td>False</td>\n",
       "      <td>False</td>\n",
       "      <td>2</td>\n",
       "    </tr>\n",
       "    <tr>\n",
       "      <th>2</th>\n",
       "      <td>94947</td>\n",
       "      <td>t</td>\n",
       "      <td>True</td>\n",
       "      <td>False</td>\n",
       "      <td>False</td>\n",
       "      <td>False</td>\n",
       "      <td>3</td>\n",
       "    </tr>\n",
       "    <tr>\n",
       "      <th>3</th>\n",
       "      <td>590882</td>\n",
       "      <td>t</td>\n",
       "      <td>True</td>\n",
       "      <td>False</td>\n",
       "      <td>False</td>\n",
       "      <td>False</td>\n",
       "      <td>2</td>\n",
       "    </tr>\n",
       "    <tr>\n",
       "      <th>4</th>\n",
       "      <td>201944</td>\n",
       "      <td>t</td>\n",
       "      <td>False</td>\n",
       "      <td>False</td>\n",
       "      <td>False</td>\n",
       "      <td>False</td>\n",
       "      <td>3</td>\n",
       "    </tr>\n",
       "  </tbody>\n",
       "</table>\n",
       "</div>"
      ],
      "text/plain": [
       "   building_id land_surface_condition  has_superstructure_mud_mortar_stone  \\\n",
       "0       802906                      t                                 True   \n",
       "1        28830                      o                                 True   \n",
       "2        94947                      t                                 True   \n",
       "3       590882                      t                                 True   \n",
       "4       201944                      t                                False   \n",
       "\n",
       "   has_superstructure_cement_mortar_brick  \\\n",
       "0                                   False   \n",
       "1                                   False   \n",
       "2                                   False   \n",
       "3                                   False   \n",
       "4                                   False   \n",
       "\n",
       "   has_superstructure_rc_non_engineered  has_superstructure_rc_engineered  \\\n",
       "0                                 False                             False   \n",
       "1                                 False                             False   \n",
       "2                                 False                             False   \n",
       "3                                 False                             False   \n",
       "4                                 False                             False   \n",
       "\n",
       "   damage_grade  \n",
       "0             3  \n",
       "1             2  \n",
       "2             3  \n",
       "3             2  \n",
       "4             3  "
      ]
     },
     "execution_count": 57,
     "metadata": {},
     "output_type": "execute_result"
    }
   ],
   "source": [
    "data_labels = pd.read_csv('data/clean_Data.csv', \n",
    "                          usecols=['building_id',\n",
    "                                   'land_surface_condition',\n",
    "                                   'has_superstructure_mud_mortar_stone',\n",
    "                                   'has_superstructure_cement_mortar_brick',\n",
    "                                   'has_superstructure_rc_engineered',\n",
    "                                   'has_superstructure_rc_non_engineered',\n",
    "                                   'damage_grade'\n",
    "])\n",
    "data_labels.head()"
   ]
  },
  {
   "cell_type": "code",
   "execution_count": 43,
   "id": "narrative-piano",
   "metadata": {},
   "outputs": [],
   "source": [
    "landSurfaceConditionGrouped = data_labels.groupby([\"land_surface_condition\"])"
   ]
  },
  {
   "cell_type": "code",
   "execution_count": 58,
   "id": "norman-symphony",
   "metadata": {
    "scrolled": true
   },
   "outputs": [
    {
     "data": {
      "text/plain": [
       "has_superstructure_mud_mortar_stone\n",
       "False     62040\n",
       "True     198561\n",
       "Name: damage_grade, dtype: int64"
      ]
     },
     "execution_count": 58,
     "metadata": {},
     "output_type": "execute_result"
    }
   ],
   "source": [
    "dmgMudStone = data_labels.groupby([\"has_superstructure_mud_mortar_stone\"])['damage_grade'].count()\n",
    "dmgMudStone"
   ]
  },
  {
   "cell_type": "code",
   "execution_count": 59,
   "id": "banned-madrid",
   "metadata": {},
   "outputs": [
    {
     "data": {
      "text/plain": [
       "has_superstructure_cement_mortar_brick\n",
       "False    240986\n",
       "True      19615\n",
       "Name: damage_grade, dtype: int64"
      ]
     },
     "execution_count": 59,
     "metadata": {},
     "output_type": "execute_result"
    }
   ],
   "source": [
    "dmgCementBrick = data_labels.groupby([\"has_superstructure_cement_mortar_brick\"])['damage_grade'].count()\n",
    "dmgCementBrick"
   ]
  },
  {
   "cell_type": "code",
   "execution_count": 60,
   "id": "suffering-kuwait",
   "metadata": {},
   "outputs": [
    {
     "data": {
      "text/plain": [
       "has_superstructure_rc_engineered\n",
       "False    256468\n",
       "True       4133\n",
       "Name: damage_grade, dtype: int64"
      ]
     },
     "execution_count": 60,
     "metadata": {},
     "output_type": "execute_result"
    }
   ],
   "source": [
    "dmgRcEngineered = data_labels.groupby([\"has_superstructure_rc_engineered\"])['damage_grade'].count()\n",
    "dmgRcEngineered"
   ]
  },
  {
   "cell_type": "code",
   "execution_count": 61,
   "id": "involved-increase",
   "metadata": {},
   "outputs": [
    {
     "data": {
      "text/plain": [
       "has_superstructure_rc_non_engineered\n",
       "False    249502\n",
       "True      11099\n",
       "Name: damage_grade, dtype: int64"
      ]
     },
     "execution_count": 61,
     "metadata": {},
     "output_type": "execute_result"
    }
   ],
   "source": [
    "dmgRcNonEngineered = data_labels.groupby([\"has_superstructure_rc_non_engineered\"])['damage_grade'].count()\n",
    "dmgRcNonEngineered"
   ]
  },
  {
   "cell_type": "code",
   "execution_count": null,
   "id": "human-royal",
   "metadata": {},
   "outputs": [],
   "source": []
  }
 ],
 "metadata": {
  "kernelspec": {
   "display_name": "Python 3",
   "language": "python",
   "name": "python3"
  },
  "language_info": {
   "codemirror_mode": {
    "name": "ipython",
    "version": 3
   },
   "file_extension": ".py",
   "mimetype": "text/x-python",
   "name": "python",
   "nbconvert_exporter": "python",
   "pygments_lexer": "ipython3",
   "version": "3.8.5"
  }
 },
 "nbformat": 4,
 "nbformat_minor": 5
}
