{
 "cells": [
  {
   "cell_type": "code",
   "execution_count": 1,
   "metadata": {
    "id": "lqP0FrMfDDkt"
   },
   "outputs": [],
   "source": [
    "# encoding=utf8\n",
    "\n",
    "# importacion general de librerias y de visualizacion (matplotlib y seaborn)\n",
    "import pandas as pd\n",
    "import numpy as np\n",
    "import matplotlib.pyplot as plt\n",
    "import seaborn as sns\n",
    "import xgboost as xgb\n",
    "from sklearn.ensemble import RandomForestRegressor\n",
    "from sklearn.metrics import mean_squared_error\n",
    "from sklearn import tree\n",
    "\n",
    "\n",
    "%matplotlib inline\n",
    "\n",
    "plt.style.use('default') # haciendo los graficos un poco mas bonitos en matplotlib\n",
    "#plt.rcParams['figure.figsize'] = (20, 10)\n",
    "\n",
    "sns.set(style=\"whitegrid\") # seteando tipo de grid en seaborn\n",
    "\n",
    "pd.options.display.float_format = '{:20,.2f}'.format # suprimimos la notacion cientifica en los outputs\n",
    "\n",
    "import warnings\n",
    "warnings.filterwarnings('ignore')"
   ]
  },
  {
   "cell_type": "code",
   "execution_count": 19,
   "metadata": {
    "colab": {
     "base_uri": "https://localhost:8080/",
     "height": 129
    },
    "id": "Ruk0iWTxDJnA",
    "outputId": "8c099148-145c-434b-a32b-30c45d4aa48f"
   },
   "outputs": [],
   "source": [
    "#Set de entrenamiento con el target Damage Grade includio\n",
    "data_train = pd.read_csv('data/clean_Data.csv',dtype = {\n",
    "    \"building_id\" : \"int32\",\n",
    "    \"geo_level_1_id\" : \"int8\", \n",
    "    \"geo_level_2_id\" : \"int16\",\n",
    "    \"geo_level_3_id\" : \"int16\",\n",
    "    \"count_floors_pre_eq\" : \"int8\",\n",
    "    \"age\" : \"int16\",\n",
    "    \"area_percentage\" :\"int8\",\n",
    "    \"height_percentage\" :\"int8\",\n",
    "    \"land_surface_condition\" :\"category\",\n",
    "    \"foundation_type\" :\"category\",\n",
    "    \"roof_type\" :\"category\",\n",
    "    \"ground_floor_type\" :\"category\",\n",
    "    \"other_floor_type\" :\"category\",\n",
    "    \"position\" :\"category\",\n",
    "    \"plan_configuration\" :\"category\",\n",
    "    \"has_superstructure_adobe_mud\" : \"bool\",\n",
    "    \"has_superstructure_mud_mortar_stone\" : \"bool\",\n",
    "    \"has_superstructure_stone_flag\" : \"bool\",\n",
    "    \"has_superstructure_cement_mortar_stone\" : \"bool\",\n",
    "    \"has_superstructure_mud_mortar_brick\" : \"bool\",\n",
    "    \"has_superstructure_cement_mortar_brick\" : \"bool\",\n",
    "    \"has_superstructure_timber\" : \"bool\",\n",
    "    \"has_superstructure_bamboo\" : \"bool\",\n",
    "    \"has_superstructure_rc_non_engineered\" : \"bool\",\n",
    "    \"has_superstructure_rc_engineered\" : \"bool\",\n",
    "    \"has_superstructure_other\" : \"bool\",\n",
    "    \"legal_ownership_status\" :\"category\",\n",
    "    \"count_families\" : \"int8\",\n",
    "    \"has_secondary_use\" : \"bool\",\n",
    "    \"has_secondary_use_agriculture\" : \"bool\",\n",
    "    \"has_secondary_use_hotel\" : \"bool\",\n",
    "    \"has_secondary_use_rental\" : \"bool\",\n",
    "    \"has_secondary_use_institution\" : \"bool\",\n",
    "    \"has_secondary_use_school\" : \"bool\",\n",
    "    \"has_secondary_use_industry\" : \"bool\",\n",
    "    \"has_secondary_use_health_post\" : \"bool\",\n",
    "    \"has_secondary_use_gov_office\" : \"bool\",\n",
    "    \"has_secondary_use_use_police\" : \"bool\",\n",
    "    \"has_secondary_use_other\" : \"bool\",\n",
    "    \"damage_grade\" : \"category\" \n",
    "                    \n",
    "})"
   ]
  },
  {
   "cell_type": "code",
   "execution_count": 3,
   "metadata": {},
   "outputs": [
    {
     "data": {
      "text/plain": [
       "(260601, 40)"
      ]
     },
     "execution_count": 3,
     "metadata": {},
     "output_type": "execute_result"
    }
   ],
   "source": [
    "data_train.shape"
   ]
  },
  {
   "cell_type": "code",
   "execution_count": 4,
   "metadata": {},
   "outputs": [
    {
     "data": {
      "text/plain": [
       "10424040"
      ]
     },
     "execution_count": 4,
     "metadata": {},
     "output_type": "execute_result"
    }
   ],
   "source": [
    "data_train.size"
   ]
  },
  {
   "cell_type": "code",
   "execution_count": 5,
   "metadata": {},
   "outputs": [
    {
     "data": {
      "text/html": [
       "<div>\n",
       "<style scoped>\n",
       "    .dataframe tbody tr th:only-of-type {\n",
       "        vertical-align: middle;\n",
       "    }\n",
       "\n",
       "    .dataframe tbody tr th {\n",
       "        vertical-align: top;\n",
       "    }\n",
       "\n",
       "    .dataframe thead th {\n",
       "        text-align: right;\n",
       "    }\n",
       "</style>\n",
       "<table border=\"1\" class=\"dataframe\">\n",
       "  <thead>\n",
       "    <tr style=\"text-align: right;\">\n",
       "      <th></th>\n",
       "      <th>building_id</th>\n",
       "      <th>geo_level_1_id</th>\n",
       "      <th>geo_level_2_id</th>\n",
       "      <th>geo_level_3_id</th>\n",
       "      <th>count_floors_pre_eq</th>\n",
       "      <th>age</th>\n",
       "      <th>area_percentage</th>\n",
       "      <th>height_percentage</th>\n",
       "      <th>land_surface_condition</th>\n",
       "      <th>foundation_type</th>\n",
       "      <th>...</th>\n",
       "      <th>has_secondary_use_hotel</th>\n",
       "      <th>has_secondary_use_rental</th>\n",
       "      <th>has_secondary_use_institution</th>\n",
       "      <th>has_secondary_use_school</th>\n",
       "      <th>has_secondary_use_industry</th>\n",
       "      <th>has_secondary_use_health_post</th>\n",
       "      <th>has_secondary_use_gov_office</th>\n",
       "      <th>has_secondary_use_use_police</th>\n",
       "      <th>has_secondary_use_other</th>\n",
       "      <th>damage_grade</th>\n",
       "    </tr>\n",
       "  </thead>\n",
       "  <tbody>\n",
       "    <tr>\n",
       "      <th>count</th>\n",
       "      <td>260,601.00</td>\n",
       "      <td>260,601.00</td>\n",
       "      <td>260,601.00</td>\n",
       "      <td>260,601.00</td>\n",
       "      <td>260,601.00</td>\n",
       "      <td>260,601.00</td>\n",
       "      <td>260,601.00</td>\n",
       "      <td>260,601.00</td>\n",
       "      <td>260601</td>\n",
       "      <td>260601</td>\n",
       "      <td>...</td>\n",
       "      <td>260601</td>\n",
       "      <td>260601</td>\n",
       "      <td>260601</td>\n",
       "      <td>260601</td>\n",
       "      <td>260601</td>\n",
       "      <td>260601</td>\n",
       "      <td>260601</td>\n",
       "      <td>260601</td>\n",
       "      <td>260601</td>\n",
       "      <td>260601</td>\n",
       "    </tr>\n",
       "    <tr>\n",
       "      <th>unique</th>\n",
       "      <td>nan</td>\n",
       "      <td>nan</td>\n",
       "      <td>nan</td>\n",
       "      <td>nan</td>\n",
       "      <td>nan</td>\n",
       "      <td>nan</td>\n",
       "      <td>nan</td>\n",
       "      <td>nan</td>\n",
       "      <td>3</td>\n",
       "      <td>5</td>\n",
       "      <td>...</td>\n",
       "      <td>2</td>\n",
       "      <td>2</td>\n",
       "      <td>2</td>\n",
       "      <td>2</td>\n",
       "      <td>2</td>\n",
       "      <td>2</td>\n",
       "      <td>2</td>\n",
       "      <td>2</td>\n",
       "      <td>2</td>\n",
       "      <td>3</td>\n",
       "    </tr>\n",
       "    <tr>\n",
       "      <th>top</th>\n",
       "      <td>nan</td>\n",
       "      <td>nan</td>\n",
       "      <td>nan</td>\n",
       "      <td>nan</td>\n",
       "      <td>nan</td>\n",
       "      <td>nan</td>\n",
       "      <td>nan</td>\n",
       "      <td>nan</td>\n",
       "      <td>t</td>\n",
       "      <td>r</td>\n",
       "      <td>...</td>\n",
       "      <td>False</td>\n",
       "      <td>False</td>\n",
       "      <td>False</td>\n",
       "      <td>False</td>\n",
       "      <td>False</td>\n",
       "      <td>False</td>\n",
       "      <td>False</td>\n",
       "      <td>False</td>\n",
       "      <td>False</td>\n",
       "      <td>2</td>\n",
       "    </tr>\n",
       "    <tr>\n",
       "      <th>freq</th>\n",
       "      <td>nan</td>\n",
       "      <td>nan</td>\n",
       "      <td>nan</td>\n",
       "      <td>nan</td>\n",
       "      <td>nan</td>\n",
       "      <td>nan</td>\n",
       "      <td>nan</td>\n",
       "      <td>nan</td>\n",
       "      <td>216757</td>\n",
       "      <td>219196</td>\n",
       "      <td>...</td>\n",
       "      <td>251838</td>\n",
       "      <td>258490</td>\n",
       "      <td>260356</td>\n",
       "      <td>260507</td>\n",
       "      <td>260322</td>\n",
       "      <td>260552</td>\n",
       "      <td>260563</td>\n",
       "      <td>260578</td>\n",
       "      <td>259267</td>\n",
       "      <td>148259</td>\n",
       "    </tr>\n",
       "    <tr>\n",
       "      <th>mean</th>\n",
       "      <td>525,675.48</td>\n",
       "      <td>13.90</td>\n",
       "      <td>701.07</td>\n",
       "      <td>6,257.88</td>\n",
       "      <td>2.13</td>\n",
       "      <td>26.54</td>\n",
       "      <td>8.02</td>\n",
       "      <td>5.43</td>\n",
       "      <td>NaN</td>\n",
       "      <td>NaN</td>\n",
       "      <td>...</td>\n",
       "      <td>NaN</td>\n",
       "      <td>NaN</td>\n",
       "      <td>NaN</td>\n",
       "      <td>NaN</td>\n",
       "      <td>NaN</td>\n",
       "      <td>NaN</td>\n",
       "      <td>NaN</td>\n",
       "      <td>NaN</td>\n",
       "      <td>NaN</td>\n",
       "      <td>NaN</td>\n",
       "    </tr>\n",
       "    <tr>\n",
       "      <th>std</th>\n",
       "      <td>304,545.00</td>\n",
       "      <td>8.03</td>\n",
       "      <td>412.71</td>\n",
       "      <td>3,646.37</td>\n",
       "      <td>0.73</td>\n",
       "      <td>73.57</td>\n",
       "      <td>4.39</td>\n",
       "      <td>1.92</td>\n",
       "      <td>NaN</td>\n",
       "      <td>NaN</td>\n",
       "      <td>...</td>\n",
       "      <td>NaN</td>\n",
       "      <td>NaN</td>\n",
       "      <td>NaN</td>\n",
       "      <td>NaN</td>\n",
       "      <td>NaN</td>\n",
       "      <td>NaN</td>\n",
       "      <td>NaN</td>\n",
       "      <td>NaN</td>\n",
       "      <td>NaN</td>\n",
       "      <td>NaN</td>\n",
       "    </tr>\n",
       "    <tr>\n",
       "      <th>min</th>\n",
       "      <td>4.00</td>\n",
       "      <td>0.00</td>\n",
       "      <td>0.00</td>\n",
       "      <td>0.00</td>\n",
       "      <td>1.00</td>\n",
       "      <td>0.00</td>\n",
       "      <td>1.00</td>\n",
       "      <td>2.00</td>\n",
       "      <td>NaN</td>\n",
       "      <td>NaN</td>\n",
       "      <td>...</td>\n",
       "      <td>NaN</td>\n",
       "      <td>NaN</td>\n",
       "      <td>NaN</td>\n",
       "      <td>NaN</td>\n",
       "      <td>NaN</td>\n",
       "      <td>NaN</td>\n",
       "      <td>NaN</td>\n",
       "      <td>NaN</td>\n",
       "      <td>NaN</td>\n",
       "      <td>NaN</td>\n",
       "    </tr>\n",
       "    <tr>\n",
       "      <th>25%</th>\n",
       "      <td>261,190.00</td>\n",
       "      <td>7.00</td>\n",
       "      <td>350.00</td>\n",
       "      <td>3,073.00</td>\n",
       "      <td>2.00</td>\n",
       "      <td>10.00</td>\n",
       "      <td>5.00</td>\n",
       "      <td>4.00</td>\n",
       "      <td>NaN</td>\n",
       "      <td>NaN</td>\n",
       "      <td>...</td>\n",
       "      <td>NaN</td>\n",
       "      <td>NaN</td>\n",
       "      <td>NaN</td>\n",
       "      <td>NaN</td>\n",
       "      <td>NaN</td>\n",
       "      <td>NaN</td>\n",
       "      <td>NaN</td>\n",
       "      <td>NaN</td>\n",
       "      <td>NaN</td>\n",
       "      <td>NaN</td>\n",
       "    </tr>\n",
       "    <tr>\n",
       "      <th>50%</th>\n",
       "      <td>525,757.00</td>\n",
       "      <td>12.00</td>\n",
       "      <td>702.00</td>\n",
       "      <td>6,270.00</td>\n",
       "      <td>2.00</td>\n",
       "      <td>15.00</td>\n",
       "      <td>7.00</td>\n",
       "      <td>5.00</td>\n",
       "      <td>NaN</td>\n",
       "      <td>NaN</td>\n",
       "      <td>...</td>\n",
       "      <td>NaN</td>\n",
       "      <td>NaN</td>\n",
       "      <td>NaN</td>\n",
       "      <td>NaN</td>\n",
       "      <td>NaN</td>\n",
       "      <td>NaN</td>\n",
       "      <td>NaN</td>\n",
       "      <td>NaN</td>\n",
       "      <td>NaN</td>\n",
       "      <td>NaN</td>\n",
       "    </tr>\n",
       "    <tr>\n",
       "      <th>75%</th>\n",
       "      <td>789,762.00</td>\n",
       "      <td>21.00</td>\n",
       "      <td>1,050.00</td>\n",
       "      <td>9,412.00</td>\n",
       "      <td>2.00</td>\n",
       "      <td>30.00</td>\n",
       "      <td>9.00</td>\n",
       "      <td>6.00</td>\n",
       "      <td>NaN</td>\n",
       "      <td>NaN</td>\n",
       "      <td>...</td>\n",
       "      <td>NaN</td>\n",
       "      <td>NaN</td>\n",
       "      <td>NaN</td>\n",
       "      <td>NaN</td>\n",
       "      <td>NaN</td>\n",
       "      <td>NaN</td>\n",
       "      <td>NaN</td>\n",
       "      <td>NaN</td>\n",
       "      <td>NaN</td>\n",
       "      <td>NaN</td>\n",
       "    </tr>\n",
       "    <tr>\n",
       "      <th>max</th>\n",
       "      <td>1,052,934.00</td>\n",
       "      <td>30.00</td>\n",
       "      <td>1,427.00</td>\n",
       "      <td>12,567.00</td>\n",
       "      <td>9.00</td>\n",
       "      <td>995.00</td>\n",
       "      <td>100.00</td>\n",
       "      <td>32.00</td>\n",
       "      <td>NaN</td>\n",
       "      <td>NaN</td>\n",
       "      <td>...</td>\n",
       "      <td>NaN</td>\n",
       "      <td>NaN</td>\n",
       "      <td>NaN</td>\n",
       "      <td>NaN</td>\n",
       "      <td>NaN</td>\n",
       "      <td>NaN</td>\n",
       "      <td>NaN</td>\n",
       "      <td>NaN</td>\n",
       "      <td>NaN</td>\n",
       "      <td>NaN</td>\n",
       "    </tr>\n",
       "  </tbody>\n",
       "</table>\n",
       "<p>11 rows × 40 columns</p>\n",
       "</div>"
      ],
      "text/plain": [
       "                building_id       geo_level_1_id       geo_level_2_id  \\\n",
       "count            260,601.00           260,601.00           260,601.00   \n",
       "unique                  nan                  nan                  nan   \n",
       "top                     nan                  nan                  nan   \n",
       "freq                    nan                  nan                  nan   \n",
       "mean             525,675.48                13.90               701.07   \n",
       "std              304,545.00                 8.03               412.71   \n",
       "min                    4.00                 0.00                 0.00   \n",
       "25%              261,190.00                 7.00               350.00   \n",
       "50%              525,757.00                12.00               702.00   \n",
       "75%              789,762.00                21.00             1,050.00   \n",
       "max            1,052,934.00                30.00             1,427.00   \n",
       "\n",
       "             geo_level_3_id  count_floors_pre_eq                  age  \\\n",
       "count            260,601.00           260,601.00           260,601.00   \n",
       "unique                  nan                  nan                  nan   \n",
       "top                     nan                  nan                  nan   \n",
       "freq                    nan                  nan                  nan   \n",
       "mean               6,257.88                 2.13                26.54   \n",
       "std                3,646.37                 0.73                73.57   \n",
       "min                    0.00                 1.00                 0.00   \n",
       "25%                3,073.00                 2.00                10.00   \n",
       "50%                6,270.00                 2.00                15.00   \n",
       "75%                9,412.00                 2.00                30.00   \n",
       "max               12,567.00                 9.00               995.00   \n",
       "\n",
       "            area_percentage    height_percentage land_surface_condition  \\\n",
       "count            260,601.00           260,601.00                 260601   \n",
       "unique                  nan                  nan                      3   \n",
       "top                     nan                  nan                      t   \n",
       "freq                    nan                  nan                 216757   \n",
       "mean                   8.02                 5.43                    NaN   \n",
       "std                    4.39                 1.92                    NaN   \n",
       "min                    1.00                 2.00                    NaN   \n",
       "25%                    5.00                 4.00                    NaN   \n",
       "50%                    7.00                 5.00                    NaN   \n",
       "75%                    9.00                 6.00                    NaN   \n",
       "max                  100.00                32.00                    NaN   \n",
       "\n",
       "       foundation_type  ... has_secondary_use_hotel has_secondary_use_rental  \\\n",
       "count           260601  ...                  260601                   260601   \n",
       "unique               5  ...                       2                        2   \n",
       "top                  r  ...                   False                    False   \n",
       "freq            219196  ...                  251838                   258490   \n",
       "mean               NaN  ...                     NaN                      NaN   \n",
       "std                NaN  ...                     NaN                      NaN   \n",
       "min                NaN  ...                     NaN                      NaN   \n",
       "25%                NaN  ...                     NaN                      NaN   \n",
       "50%                NaN  ...                     NaN                      NaN   \n",
       "75%                NaN  ...                     NaN                      NaN   \n",
       "max                NaN  ...                     NaN                      NaN   \n",
       "\n",
       "       has_secondary_use_institution has_secondary_use_school  \\\n",
       "count                         260601                   260601   \n",
       "unique                             2                        2   \n",
       "top                            False                    False   \n",
       "freq                          260356                   260507   \n",
       "mean                             NaN                      NaN   \n",
       "std                              NaN                      NaN   \n",
       "min                              NaN                      NaN   \n",
       "25%                              NaN                      NaN   \n",
       "50%                              NaN                      NaN   \n",
       "75%                              NaN                      NaN   \n",
       "max                              NaN                      NaN   \n",
       "\n",
       "       has_secondary_use_industry has_secondary_use_health_post  \\\n",
       "count                      260601                        260601   \n",
       "unique                          2                             2   \n",
       "top                         False                         False   \n",
       "freq                       260322                        260552   \n",
       "mean                          NaN                           NaN   \n",
       "std                           NaN                           NaN   \n",
       "min                           NaN                           NaN   \n",
       "25%                           NaN                           NaN   \n",
       "50%                           NaN                           NaN   \n",
       "75%                           NaN                           NaN   \n",
       "max                           NaN                           NaN   \n",
       "\n",
       "       has_secondary_use_gov_office has_secondary_use_use_police  \\\n",
       "count                        260601                       260601   \n",
       "unique                            2                            2   \n",
       "top                           False                        False   \n",
       "freq                         260563                       260578   \n",
       "mean                            NaN                          NaN   \n",
       "std                             NaN                          NaN   \n",
       "min                             NaN                          NaN   \n",
       "25%                             NaN                          NaN   \n",
       "50%                             NaN                          NaN   \n",
       "75%                             NaN                          NaN   \n",
       "max                             NaN                          NaN   \n",
       "\n",
       "       has_secondary_use_other damage_grade  \n",
       "count                   260601       260601  \n",
       "unique                       2            3  \n",
       "top                      False            2  \n",
       "freq                    259267       148259  \n",
       "mean                       NaN          NaN  \n",
       "std                        NaN          NaN  \n",
       "min                        NaN          NaN  \n",
       "25%                        NaN          NaN  \n",
       "50%                        NaN          NaN  \n",
       "75%                        NaN          NaN  \n",
       "max                        NaN          NaN  \n",
       "\n",
       "[11 rows x 40 columns]"
      ]
     },
     "execution_count": 5,
     "metadata": {},
     "output_type": "execute_result"
    }
   ],
   "source": [
    "data_train.describe(include=\"all\")"
   ]
  },
  {
   "cell_type": "code",
   "execution_count": 3,
   "metadata": {
    "id": "wobjFpS7DJ6O"
   },
   "outputs": [],
   "source": [
    "#Set de Test\n",
    "data_test = pd.read_csv('data/test_values.csv',dtype = {\n",
    "    \"building_id\" : \"int32\",\n",
    "    \"geo_level_1_id\" : \"int8\", \n",
    "    \"geo_level_2_id\" : \"int16\",\n",
    "    \"geo_level_3_id\" : \"int16\",\n",
    "    \"count_floors_pre_eq\" : \"int8\",\n",
    "    \"age\" : \"int16\",\n",
    "    \"area_percentage\" :\"int8\",\n",
    "    \"height_percentage\" :\"int8\",\n",
    "    \"land_surface_condition\" :\"category\",\n",
    "    \"foundation_type\" :\"category\",\n",
    "    \"roof_type\" :\"category\",\n",
    "    \"ground_floor_type\" :\"category\",\n",
    "    \"other_floor_type\" :\"category\",\n",
    "    \"position\" :\"category\",\n",
    "    \"plan_configuration\" :\"category\",\n",
    "    \"has_superstructure_adobe_mud\" : \"bool\",\n",
    "    \"has_superstructure_mud_mortar_stone\" : \"bool\",\n",
    "    \"has_superstructure_stone_flag\" : \"bool\",\n",
    "    \"has_superstructure_cement_mortar_stone\" : \"bool\",\n",
    "    \"has_superstructure_mud_mortar_brick\" : \"bool\",\n",
    "    \"has_superstructure_cement_mortar_brick\" : \"bool\",\n",
    "    \"has_superstructure_timber\" : \"bool\",\n",
    "    \"has_superstructure_bamboo\" : \"bool\",\n",
    "    \"has_superstructure_rc_non_engineered\" : \"bool\",\n",
    "    \"has_superstructure_rc_engineered\" : \"bool\",\n",
    "    \"has_superstructure_other\" : \"bool\",\n",
    "    \"legal_ownership_status\" :\"category\",\n",
    "    \"count_families\" : \"int8\",\n",
    "    \"has_secondary_use\" : \"bool\",\n",
    "    \"has_secondary_use_agriculture\" : \"bool\",\n",
    "    \"has_secondary_use_hotel\" : \"bool\",\n",
    "    \"has_secondary_use_rental\" : \"bool\",\n",
    "    \"has_secondary_use_institution\" : \"bool\",\n",
    "    \"has_secondary_use_school\" : \"bool\",\n",
    "    \"has_secondary_use_industry\" : \"bool\",\n",
    "    \"has_secondary_use_health_post\" : \"bool\",\n",
    "    \"has_secondary_use_gov_office\" : \"bool\",\n",
    "    \"has_secondary_use_use_police\" : \"bool\",\n",
    "    \"has_secondary_use_other\" : \"bool\",\n",
    "})"
   ]
  },
  {
   "cell_type": "code",
   "execution_count": 7,
   "metadata": {},
   "outputs": [
    {
     "data": {
      "text/plain": [
       "(86868, 39)"
      ]
     },
     "execution_count": 7,
     "metadata": {},
     "output_type": "execute_result"
    }
   ],
   "source": [
    "data_test.shape"
   ]
  },
  {
   "cell_type": "code",
   "execution_count": 8,
   "metadata": {
    "id": "UZQK0I5xDeq_"
   },
   "outputs": [
    {
     "data": {
      "text/plain": [
       "3387852"
      ]
     },
     "execution_count": 8,
     "metadata": {},
     "output_type": "execute_result"
    }
   ],
   "source": [
    "data_test.size"
   ]
  },
  {
   "cell_type": "code",
   "execution_count": 9,
   "metadata": {},
   "outputs": [
    {
     "data": {
      "text/html": [
       "<div>\n",
       "<style scoped>\n",
       "    .dataframe tbody tr th:only-of-type {\n",
       "        vertical-align: middle;\n",
       "    }\n",
       "\n",
       "    .dataframe tbody tr th {\n",
       "        vertical-align: top;\n",
       "    }\n",
       "\n",
       "    .dataframe thead th {\n",
       "        text-align: right;\n",
       "    }\n",
       "</style>\n",
       "<table border=\"1\" class=\"dataframe\">\n",
       "  <thead>\n",
       "    <tr style=\"text-align: right;\">\n",
       "      <th></th>\n",
       "      <th>building_id</th>\n",
       "      <th>geo_level_1_id</th>\n",
       "      <th>geo_level_2_id</th>\n",
       "      <th>geo_level_3_id</th>\n",
       "      <th>count_floors_pre_eq</th>\n",
       "      <th>age</th>\n",
       "      <th>area_percentage</th>\n",
       "      <th>height_percentage</th>\n",
       "      <th>land_surface_condition</th>\n",
       "      <th>foundation_type</th>\n",
       "      <th>...</th>\n",
       "      <th>has_secondary_use_agriculture</th>\n",
       "      <th>has_secondary_use_hotel</th>\n",
       "      <th>has_secondary_use_rental</th>\n",
       "      <th>has_secondary_use_institution</th>\n",
       "      <th>has_secondary_use_school</th>\n",
       "      <th>has_secondary_use_industry</th>\n",
       "      <th>has_secondary_use_health_post</th>\n",
       "      <th>has_secondary_use_gov_office</th>\n",
       "      <th>has_secondary_use_use_police</th>\n",
       "      <th>has_secondary_use_other</th>\n",
       "    </tr>\n",
       "  </thead>\n",
       "  <tbody>\n",
       "    <tr>\n",
       "      <th>count</th>\n",
       "      <td>86,868.00</td>\n",
       "      <td>86,868.00</td>\n",
       "      <td>86,868.00</td>\n",
       "      <td>86,868.00</td>\n",
       "      <td>86,868.00</td>\n",
       "      <td>86,868.00</td>\n",
       "      <td>86,868.00</td>\n",
       "      <td>86,868.00</td>\n",
       "      <td>86868</td>\n",
       "      <td>86868</td>\n",
       "      <td>...</td>\n",
       "      <td>86868</td>\n",
       "      <td>86868</td>\n",
       "      <td>86868</td>\n",
       "      <td>86868</td>\n",
       "      <td>86868</td>\n",
       "      <td>86868</td>\n",
       "      <td>86868</td>\n",
       "      <td>86868</td>\n",
       "      <td>86868</td>\n",
       "      <td>86868</td>\n",
       "    </tr>\n",
       "    <tr>\n",
       "      <th>unique</th>\n",
       "      <td>nan</td>\n",
       "      <td>nan</td>\n",
       "      <td>nan</td>\n",
       "      <td>nan</td>\n",
       "      <td>nan</td>\n",
       "      <td>nan</td>\n",
       "      <td>nan</td>\n",
       "      <td>nan</td>\n",
       "      <td>3</td>\n",
       "      <td>5</td>\n",
       "      <td>...</td>\n",
       "      <td>2</td>\n",
       "      <td>2</td>\n",
       "      <td>2</td>\n",
       "      <td>2</td>\n",
       "      <td>2</td>\n",
       "      <td>2</td>\n",
       "      <td>2</td>\n",
       "      <td>2</td>\n",
       "      <td>2</td>\n",
       "      <td>2</td>\n",
       "    </tr>\n",
       "    <tr>\n",
       "      <th>top</th>\n",
       "      <td>nan</td>\n",
       "      <td>nan</td>\n",
       "      <td>nan</td>\n",
       "      <td>nan</td>\n",
       "      <td>nan</td>\n",
       "      <td>nan</td>\n",
       "      <td>nan</td>\n",
       "      <td>nan</td>\n",
       "      <td>t</td>\n",
       "      <td>r</td>\n",
       "      <td>...</td>\n",
       "      <td>False</td>\n",
       "      <td>False</td>\n",
       "      <td>False</td>\n",
       "      <td>False</td>\n",
       "      <td>False</td>\n",
       "      <td>False</td>\n",
       "      <td>False</td>\n",
       "      <td>False</td>\n",
       "      <td>False</td>\n",
       "      <td>False</td>\n",
       "    </tr>\n",
       "    <tr>\n",
       "      <th>freq</th>\n",
       "      <td>nan</td>\n",
       "      <td>nan</td>\n",
       "      <td>nan</td>\n",
       "      <td>nan</td>\n",
       "      <td>nan</td>\n",
       "      <td>nan</td>\n",
       "      <td>nan</td>\n",
       "      <td>nan</td>\n",
       "      <td>72180</td>\n",
       "      <td>73178</td>\n",
       "      <td>...</td>\n",
       "      <td>81300</td>\n",
       "      <td>83926</td>\n",
       "      <td>86152</td>\n",
       "      <td>86780</td>\n",
       "      <td>86836</td>\n",
       "      <td>86781</td>\n",
       "      <td>86859</td>\n",
       "      <td>86858</td>\n",
       "      <td>86864</td>\n",
       "      <td>86442</td>\n",
       "    </tr>\n",
       "    <tr>\n",
       "      <th>mean</th>\n",
       "      <td>526,627.88</td>\n",
       "      <td>13.89</td>\n",
       "      <td>704.13</td>\n",
       "      <td>6,261.76</td>\n",
       "      <td>2.13</td>\n",
       "      <td>26.55</td>\n",
       "      <td>8.01</td>\n",
       "      <td>5.44</td>\n",
       "      <td>NaN</td>\n",
       "      <td>NaN</td>\n",
       "      <td>...</td>\n",
       "      <td>NaN</td>\n",
       "      <td>NaN</td>\n",
       "      <td>NaN</td>\n",
       "      <td>NaN</td>\n",
       "      <td>NaN</td>\n",
       "      <td>NaN</td>\n",
       "      <td>NaN</td>\n",
       "      <td>NaN</td>\n",
       "      <td>NaN</td>\n",
       "      <td>NaN</td>\n",
       "    </tr>\n",
       "    <tr>\n",
       "      <th>std</th>\n",
       "      <td>303,782.84</td>\n",
       "      <td>8.03</td>\n",
       "      <td>413.36</td>\n",
       "      <td>3,648.71</td>\n",
       "      <td>0.73</td>\n",
       "      <td>73.41</td>\n",
       "      <td>4.38</td>\n",
       "      <td>1.91</td>\n",
       "      <td>NaN</td>\n",
       "      <td>NaN</td>\n",
       "      <td>...</td>\n",
       "      <td>NaN</td>\n",
       "      <td>NaN</td>\n",
       "      <td>NaN</td>\n",
       "      <td>NaN</td>\n",
       "      <td>NaN</td>\n",
       "      <td>NaN</td>\n",
       "      <td>NaN</td>\n",
       "      <td>NaN</td>\n",
       "      <td>NaN</td>\n",
       "      <td>NaN</td>\n",
       "    </tr>\n",
       "    <tr>\n",
       "      <th>min</th>\n",
       "      <td>7.00</td>\n",
       "      <td>0.00</td>\n",
       "      <td>0.00</td>\n",
       "      <td>0.00</td>\n",
       "      <td>1.00</td>\n",
       "      <td>0.00</td>\n",
       "      <td>1.00</td>\n",
       "      <td>2.00</td>\n",
       "      <td>NaN</td>\n",
       "      <td>NaN</td>\n",
       "      <td>...</td>\n",
       "      <td>NaN</td>\n",
       "      <td>NaN</td>\n",
       "      <td>NaN</td>\n",
       "      <td>NaN</td>\n",
       "      <td>NaN</td>\n",
       "      <td>NaN</td>\n",
       "      <td>NaN</td>\n",
       "      <td>NaN</td>\n",
       "      <td>NaN</td>\n",
       "      <td>NaN</td>\n",
       "    </tr>\n",
       "    <tr>\n",
       "      <th>25%</th>\n",
       "      <td>264,421.50</td>\n",
       "      <td>7.00</td>\n",
       "      <td>350.00</td>\n",
       "      <td>3,073.00</td>\n",
       "      <td>2.00</td>\n",
       "      <td>10.00</td>\n",
       "      <td>5.00</td>\n",
       "      <td>4.00</td>\n",
       "      <td>NaN</td>\n",
       "      <td>NaN</td>\n",
       "      <td>...</td>\n",
       "      <td>NaN</td>\n",
       "      <td>NaN</td>\n",
       "      <td>NaN</td>\n",
       "      <td>NaN</td>\n",
       "      <td>NaN</td>\n",
       "      <td>NaN</td>\n",
       "      <td>NaN</td>\n",
       "      <td>NaN</td>\n",
       "      <td>NaN</td>\n",
       "      <td>NaN</td>\n",
       "    </tr>\n",
       "    <tr>\n",
       "      <th>50%</th>\n",
       "      <td>526,983.50</td>\n",
       "      <td>12.00</td>\n",
       "      <td>709.00</td>\n",
       "      <td>6,276.00</td>\n",
       "      <td>2.00</td>\n",
       "      <td>15.00</td>\n",
       "      <td>7.00</td>\n",
       "      <td>5.00</td>\n",
       "      <td>NaN</td>\n",
       "      <td>NaN</td>\n",
       "      <td>...</td>\n",
       "      <td>NaN</td>\n",
       "      <td>NaN</td>\n",
       "      <td>NaN</td>\n",
       "      <td>NaN</td>\n",
       "      <td>NaN</td>\n",
       "      <td>NaN</td>\n",
       "      <td>NaN</td>\n",
       "      <td>NaN</td>\n",
       "      <td>NaN</td>\n",
       "      <td>NaN</td>\n",
       "    </tr>\n",
       "    <tr>\n",
       "      <th>75%</th>\n",
       "      <td>789,084.25</td>\n",
       "      <td>21.00</td>\n",
       "      <td>1,054.00</td>\n",
       "      <td>9,416.00</td>\n",
       "      <td>2.00</td>\n",
       "      <td>30.00</td>\n",
       "      <td>9.00</td>\n",
       "      <td>6.00</td>\n",
       "      <td>NaN</td>\n",
       "      <td>NaN</td>\n",
       "      <td>...</td>\n",
       "      <td>NaN</td>\n",
       "      <td>NaN</td>\n",
       "      <td>NaN</td>\n",
       "      <td>NaN</td>\n",
       "      <td>NaN</td>\n",
       "      <td>NaN</td>\n",
       "      <td>NaN</td>\n",
       "      <td>NaN</td>\n",
       "      <td>NaN</td>\n",
       "      <td>NaN</td>\n",
       "    </tr>\n",
       "    <tr>\n",
       "      <th>max</th>\n",
       "      <td>1,052,923.00</td>\n",
       "      <td>30.00</td>\n",
       "      <td>1,427.00</td>\n",
       "      <td>12,567.00</td>\n",
       "      <td>8.00</td>\n",
       "      <td>995.00</td>\n",
       "      <td>92.00</td>\n",
       "      <td>32.00</td>\n",
       "      <td>NaN</td>\n",
       "      <td>NaN</td>\n",
       "      <td>...</td>\n",
       "      <td>NaN</td>\n",
       "      <td>NaN</td>\n",
       "      <td>NaN</td>\n",
       "      <td>NaN</td>\n",
       "      <td>NaN</td>\n",
       "      <td>NaN</td>\n",
       "      <td>NaN</td>\n",
       "      <td>NaN</td>\n",
       "      <td>NaN</td>\n",
       "      <td>NaN</td>\n",
       "    </tr>\n",
       "  </tbody>\n",
       "</table>\n",
       "<p>11 rows × 39 columns</p>\n",
       "</div>"
      ],
      "text/plain": [
       "                building_id       geo_level_1_id       geo_level_2_id  \\\n",
       "count             86,868.00            86,868.00            86,868.00   \n",
       "unique                  nan                  nan                  nan   \n",
       "top                     nan                  nan                  nan   \n",
       "freq                    nan                  nan                  nan   \n",
       "mean             526,627.88                13.89               704.13   \n",
       "std              303,782.84                 8.03               413.36   \n",
       "min                    7.00                 0.00                 0.00   \n",
       "25%              264,421.50                 7.00               350.00   \n",
       "50%              526,983.50                12.00               709.00   \n",
       "75%              789,084.25                21.00             1,054.00   \n",
       "max            1,052,923.00                30.00             1,427.00   \n",
       "\n",
       "             geo_level_3_id  count_floors_pre_eq                  age  \\\n",
       "count             86,868.00            86,868.00            86,868.00   \n",
       "unique                  nan                  nan                  nan   \n",
       "top                     nan                  nan                  nan   \n",
       "freq                    nan                  nan                  nan   \n",
       "mean               6,261.76                 2.13                26.55   \n",
       "std                3,648.71                 0.73                73.41   \n",
       "min                    0.00                 1.00                 0.00   \n",
       "25%                3,073.00                 2.00                10.00   \n",
       "50%                6,276.00                 2.00                15.00   \n",
       "75%                9,416.00                 2.00                30.00   \n",
       "max               12,567.00                 8.00               995.00   \n",
       "\n",
       "            area_percentage    height_percentage land_surface_condition  \\\n",
       "count             86,868.00            86,868.00                  86868   \n",
       "unique                  nan                  nan                      3   \n",
       "top                     nan                  nan                      t   \n",
       "freq                    nan                  nan                  72180   \n",
       "mean                   8.01                 5.44                    NaN   \n",
       "std                    4.38                 1.91                    NaN   \n",
       "min                    1.00                 2.00                    NaN   \n",
       "25%                    5.00                 4.00                    NaN   \n",
       "50%                    7.00                 5.00                    NaN   \n",
       "75%                    9.00                 6.00                    NaN   \n",
       "max                   92.00                32.00                    NaN   \n",
       "\n",
       "       foundation_type  ... has_secondary_use_agriculture  \\\n",
       "count            86868  ...                         86868   \n",
       "unique               5  ...                             2   \n",
       "top                  r  ...                         False   \n",
       "freq             73178  ...                         81300   \n",
       "mean               NaN  ...                           NaN   \n",
       "std                NaN  ...                           NaN   \n",
       "min                NaN  ...                           NaN   \n",
       "25%                NaN  ...                           NaN   \n",
       "50%                NaN  ...                           NaN   \n",
       "75%                NaN  ...                           NaN   \n",
       "max                NaN  ...                           NaN   \n",
       "\n",
       "       has_secondary_use_hotel has_secondary_use_rental  \\\n",
       "count                    86868                    86868   \n",
       "unique                       2                        2   \n",
       "top                      False                    False   \n",
       "freq                     83926                    86152   \n",
       "mean                       NaN                      NaN   \n",
       "std                        NaN                      NaN   \n",
       "min                        NaN                      NaN   \n",
       "25%                        NaN                      NaN   \n",
       "50%                        NaN                      NaN   \n",
       "75%                        NaN                      NaN   \n",
       "max                        NaN                      NaN   \n",
       "\n",
       "       has_secondary_use_institution has_secondary_use_school  \\\n",
       "count                          86868                    86868   \n",
       "unique                             2                        2   \n",
       "top                            False                    False   \n",
       "freq                           86780                    86836   \n",
       "mean                             NaN                      NaN   \n",
       "std                              NaN                      NaN   \n",
       "min                              NaN                      NaN   \n",
       "25%                              NaN                      NaN   \n",
       "50%                              NaN                      NaN   \n",
       "75%                              NaN                      NaN   \n",
       "max                              NaN                      NaN   \n",
       "\n",
       "       has_secondary_use_industry has_secondary_use_health_post  \\\n",
       "count                       86868                         86868   \n",
       "unique                          2                             2   \n",
       "top                         False                         False   \n",
       "freq                        86781                         86859   \n",
       "mean                          NaN                           NaN   \n",
       "std                           NaN                           NaN   \n",
       "min                           NaN                           NaN   \n",
       "25%                           NaN                           NaN   \n",
       "50%                           NaN                           NaN   \n",
       "75%                           NaN                           NaN   \n",
       "max                           NaN                           NaN   \n",
       "\n",
       "       has_secondary_use_gov_office has_secondary_use_use_police  \\\n",
       "count                         86868                        86868   \n",
       "unique                            2                            2   \n",
       "top                           False                        False   \n",
       "freq                          86858                        86864   \n",
       "mean                            NaN                          NaN   \n",
       "std                             NaN                          NaN   \n",
       "min                             NaN                          NaN   \n",
       "25%                             NaN                          NaN   \n",
       "50%                             NaN                          NaN   \n",
       "75%                             NaN                          NaN   \n",
       "max                             NaN                          NaN   \n",
       "\n",
       "       has_secondary_use_other  \n",
       "count                    86868  \n",
       "unique                       2  \n",
       "top                      False  \n",
       "freq                     86442  \n",
       "mean                       NaN  \n",
       "std                        NaN  \n",
       "min                        NaN  \n",
       "25%                        NaN  \n",
       "50%                        NaN  \n",
       "75%                        NaN  \n",
       "max                        NaN  \n",
       "\n",
       "[11 rows x 39 columns]"
      ]
     },
     "execution_count": 9,
     "metadata": {},
     "output_type": "execute_result"
    }
   ],
   "source": [
    "data_test.describe(include=\"all\")"
   ]
  },
  {
   "cell_type": "code",
   "execution_count": 10,
   "metadata": {
    "scrolled": true
   },
   "outputs": [
    {
     "name": "stdout",
     "output_type": "stream",
     "text": [
      "<class 'pandas.core.frame.DataFrame'>\n",
      "RangeIndex: 86868 entries, 0 to 86867\n",
      "Data columns (total 39 columns):\n",
      " #   Column                                  Non-Null Count  Dtype   \n",
      "---  ------                                  --------------  -----   \n",
      " 0   building_id                             86868 non-null  int32   \n",
      " 1   geo_level_1_id                          86868 non-null  int8    \n",
      " 2   geo_level_2_id                          86868 non-null  int16   \n",
      " 3   geo_level_3_id                          86868 non-null  int16   \n",
      " 4   count_floors_pre_eq                     86868 non-null  int8    \n",
      " 5   age                                     86868 non-null  int16   \n",
      " 6   area_percentage                         86868 non-null  int8    \n",
      " 7   height_percentage                       86868 non-null  int8    \n",
      " 8   land_surface_condition                  86868 non-null  category\n",
      " 9   foundation_type                         86868 non-null  category\n",
      " 10  roof_type                               86868 non-null  category\n",
      " 11  ground_floor_type                       86868 non-null  category\n",
      " 12  other_floor_type                        86868 non-null  category\n",
      " 13  position                                86868 non-null  category\n",
      " 14  plan_configuration                      86868 non-null  category\n",
      " 15  has_superstructure_adobe_mud            86868 non-null  bool    \n",
      " 16  has_superstructure_mud_mortar_stone     86868 non-null  bool    \n",
      " 17  has_superstructure_stone_flag           86868 non-null  bool    \n",
      " 18  has_superstructure_cement_mortar_stone  86868 non-null  bool    \n",
      " 19  has_superstructure_mud_mortar_brick     86868 non-null  bool    \n",
      " 20  has_superstructure_cement_mortar_brick  86868 non-null  bool    \n",
      " 21  has_superstructure_timber               86868 non-null  bool    \n",
      " 22  has_superstructure_bamboo               86868 non-null  bool    \n",
      " 23  has_superstructure_rc_non_engineered    86868 non-null  bool    \n",
      " 24  has_superstructure_rc_engineered        86868 non-null  bool    \n",
      " 25  has_superstructure_other                86868 non-null  bool    \n",
      " 26  legal_ownership_status                  86868 non-null  category\n",
      " 27  count_families                          86868 non-null  int8    \n",
      " 28  has_secondary_use                       86868 non-null  bool    \n",
      " 29  has_secondary_use_agriculture           86868 non-null  bool    \n",
      " 30  has_secondary_use_hotel                 86868 non-null  bool    \n",
      " 31  has_secondary_use_rental                86868 non-null  bool    \n",
      " 32  has_secondary_use_institution           86868 non-null  bool    \n",
      " 33  has_secondary_use_school                86868 non-null  bool    \n",
      " 34  has_secondary_use_industry              86868 non-null  bool    \n",
      " 35  has_secondary_use_health_post           86868 non-null  bool    \n",
      " 36  has_secondary_use_gov_office            86868 non-null  bool    \n",
      " 37  has_secondary_use_use_police            86868 non-null  bool    \n",
      " 38  has_secondary_use_other                 86868 non-null  bool    \n",
      "dtypes: bool(22), category(8), int16(3), int32(1), int8(5)\n",
      "memory usage: 3.7 MB\n"
     ]
    }
   ],
   "source": [
    "data_test.info()"
   ]
  },
  {
   "cell_type": "code",
   "execution_count": 11,
   "metadata": {},
   "outputs": [
    {
     "data": {
      "text/plain": [
       "0"
      ]
     },
     "execution_count": 11,
     "metadata": {},
     "output_type": "execute_result"
    }
   ],
   "source": [
    "#Analisis del set de test, para realizar limpieza de datos, verifica cantdad de nan.\n",
    "data_test.isna().sum().sum()"
   ]
  },
  {
   "cell_type": "code",
   "execution_count": 12,
   "metadata": {},
   "outputs": [
    {
     "data": {
      "text/plain": [
       "0"
      ]
     },
     "execution_count": 12,
     "metadata": {},
     "output_type": "execute_result"
    }
   ],
   "source": [
    "#Analisis del set de test, para realizar limpieza de datos, verifica cantidad de null.\n",
    "data_test.isnull().sum().sum()"
   ]
  },
  {
   "cell_type": "code",
   "execution_count": 13,
   "metadata": {},
   "outputs": [
    {
     "data": {
      "text/plain": [
       "0         3\n",
       "1         2\n",
       "2         3\n",
       "3         2\n",
       "4         3\n",
       "         ..\n",
       "260596    2\n",
       "260597    3\n",
       "260598    3\n",
       "260599    2\n",
       "260600    3\n",
       "Name: damage_grade, Length: 260601, dtype: category\n",
       "Categories (3, object): ['1', '2', '3']"
      ]
     },
     "execution_count": 13,
     "metadata": {},
     "output_type": "execute_result"
    }
   ],
   "source": [
    "data_train.iloc[:,-1]"
   ]
  },
  {
   "cell_type": "markdown",
   "metadata": {},
   "source": [
    "# Analisis de Correlacion y Feature Engineering"
   ]
  },
  {
   "cell_type": "code",
   "execution_count": 14,
   "metadata": {},
   "outputs": [
    {
     "data": {
      "text/html": [
       "<div>\n",
       "<style scoped>\n",
       "    .dataframe tbody tr th:only-of-type {\n",
       "        vertical-align: middle;\n",
       "    }\n",
       "\n",
       "    .dataframe tbody tr th {\n",
       "        vertical-align: top;\n",
       "    }\n",
       "\n",
       "    .dataframe thead th {\n",
       "        text-align: right;\n",
       "    }\n",
       "</style>\n",
       "<table border=\"1\" class=\"dataframe\">\n",
       "  <thead>\n",
       "    <tr style=\"text-align: right;\">\n",
       "      <th></th>\n",
       "      <th>building_id</th>\n",
       "      <th>geo_level_1_id</th>\n",
       "      <th>geo_level_2_id</th>\n",
       "      <th>geo_level_3_id</th>\n",
       "      <th>count_floors_pre_eq</th>\n",
       "      <th>age</th>\n",
       "      <th>area_percentage</th>\n",
       "      <th>height_percentage</th>\n",
       "      <th>has_superstructure_adobe_mud</th>\n",
       "      <th>has_superstructure_mud_mortar_stone</th>\n",
       "      <th>...</th>\n",
       "      <th>has_secondary_use_agriculture</th>\n",
       "      <th>has_secondary_use_hotel</th>\n",
       "      <th>has_secondary_use_rental</th>\n",
       "      <th>has_secondary_use_institution</th>\n",
       "      <th>has_secondary_use_school</th>\n",
       "      <th>has_secondary_use_industry</th>\n",
       "      <th>has_secondary_use_health_post</th>\n",
       "      <th>has_secondary_use_gov_office</th>\n",
       "      <th>has_secondary_use_use_police</th>\n",
       "      <th>has_secondary_use_other</th>\n",
       "    </tr>\n",
       "  </thead>\n",
       "  <tbody>\n",
       "    <tr>\n",
       "      <th>building_id</th>\n",
       "      <td>1.00</td>\n",
       "      <td>-0.00</td>\n",
       "      <td>0.00</td>\n",
       "      <td>-0.00</td>\n",
       "      <td>-0.00</td>\n",
       "      <td>-0.00</td>\n",
       "      <td>-0.00</td>\n",
       "      <td>0.00</td>\n",
       "      <td>-0.00</td>\n",
       "      <td>0.00</td>\n",
       "      <td>...</td>\n",
       "      <td>0.00</td>\n",
       "      <td>0.00</td>\n",
       "      <td>-0.00</td>\n",
       "      <td>0.00</td>\n",
       "      <td>-0.00</td>\n",
       "      <td>0.00</td>\n",
       "      <td>-0.00</td>\n",
       "      <td>0.00</td>\n",
       "      <td>-0.00</td>\n",
       "      <td>-0.00</td>\n",
       "    </tr>\n",
       "    <tr>\n",
       "      <th>geo_level_1_id</th>\n",
       "      <td>-0.00</td>\n",
       "      <td>1.00</td>\n",
       "      <td>-0.06</td>\n",
       "      <td>0.00</td>\n",
       "      <td>-0.09</td>\n",
       "      <td>-0.00</td>\n",
       "      <td>0.07</td>\n",
       "      <td>-0.06</td>\n",
       "      <td>-0.02</td>\n",
       "      <td>-0.15</td>\n",
       "      <td>...</td>\n",
       "      <td>-0.02</td>\n",
       "      <td>0.00</td>\n",
       "      <td>0.02</td>\n",
       "      <td>0.00</td>\n",
       "      <td>0.00</td>\n",
       "      <td>0.00</td>\n",
       "      <td>-0.00</td>\n",
       "      <td>0.00</td>\n",
       "      <td>0.00</td>\n",
       "      <td>-0.02</td>\n",
       "    </tr>\n",
       "    <tr>\n",
       "      <th>geo_level_2_id</th>\n",
       "      <td>0.00</td>\n",
       "      <td>-0.06</td>\n",
       "      <td>1.00</td>\n",
       "      <td>0.00</td>\n",
       "      <td>0.05</td>\n",
       "      <td>0.01</td>\n",
       "      <td>-0.05</td>\n",
       "      <td>0.04</td>\n",
       "      <td>0.02</td>\n",
       "      <td>0.08</td>\n",
       "      <td>...</td>\n",
       "      <td>0.02</td>\n",
       "      <td>-0.01</td>\n",
       "      <td>-0.03</td>\n",
       "      <td>-0.00</td>\n",
       "      <td>-0.00</td>\n",
       "      <td>0.00</td>\n",
       "      <td>-0.00</td>\n",
       "      <td>-0.00</td>\n",
       "      <td>0.00</td>\n",
       "      <td>-0.01</td>\n",
       "    </tr>\n",
       "    <tr>\n",
       "      <th>geo_level_3_id</th>\n",
       "      <td>-0.00</td>\n",
       "      <td>0.00</td>\n",
       "      <td>0.00</td>\n",
       "      <td>1.00</td>\n",
       "      <td>-0.02</td>\n",
       "      <td>-0.01</td>\n",
       "      <td>-0.01</td>\n",
       "      <td>-0.02</td>\n",
       "      <td>-0.02</td>\n",
       "      <td>0.03</td>\n",
       "      <td>...</td>\n",
       "      <td>0.02</td>\n",
       "      <td>-0.00</td>\n",
       "      <td>-0.01</td>\n",
       "      <td>-0.01</td>\n",
       "      <td>-0.00</td>\n",
       "      <td>-0.00</td>\n",
       "      <td>-0.00</td>\n",
       "      <td>-0.00</td>\n",
       "      <td>0.00</td>\n",
       "      <td>-0.00</td>\n",
       "    </tr>\n",
       "    <tr>\n",
       "      <th>count_floors_pre_eq</th>\n",
       "      <td>-0.00</td>\n",
       "      <td>-0.09</td>\n",
       "      <td>0.05</td>\n",
       "      <td>-0.02</td>\n",
       "      <td>1.00</td>\n",
       "      <td>0.09</td>\n",
       "      <td>0.10</td>\n",
       "      <td>0.77</td>\n",
       "      <td>0.17</td>\n",
       "      <td>-0.03</td>\n",
       "      <td>...</td>\n",
       "      <td>-0.01</td>\n",
       "      <td>0.08</td>\n",
       "      <td>0.04</td>\n",
       "      <td>0.02</td>\n",
       "      <td>0.01</td>\n",
       "      <td>-0.00</td>\n",
       "      <td>0.01</td>\n",
       "      <td>0.01</td>\n",
       "      <td>0.00</td>\n",
       "      <td>-0.00</td>\n",
       "    </tr>\n",
       "    <tr>\n",
       "      <th>age</th>\n",
       "      <td>-0.00</td>\n",
       "      <td>-0.00</td>\n",
       "      <td>0.01</td>\n",
       "      <td>-0.01</td>\n",
       "      <td>0.09</td>\n",
       "      <td>1.00</td>\n",
       "      <td>-0.00</td>\n",
       "      <td>0.06</td>\n",
       "      <td>0.07</td>\n",
       "      <td>0.00</td>\n",
       "      <td>...</td>\n",
       "      <td>-0.00</td>\n",
       "      <td>-0.01</td>\n",
       "      <td>0.00</td>\n",
       "      <td>-0.00</td>\n",
       "      <td>-0.00</td>\n",
       "      <td>-0.00</td>\n",
       "      <td>-0.00</td>\n",
       "      <td>-0.00</td>\n",
       "      <td>-0.00</td>\n",
       "      <td>-0.00</td>\n",
       "    </tr>\n",
       "    <tr>\n",
       "      <th>area_percentage</th>\n",
       "      <td>-0.00</td>\n",
       "      <td>0.07</td>\n",
       "      <td>-0.05</td>\n",
       "      <td>-0.01</td>\n",
       "      <td>0.10</td>\n",
       "      <td>-0.00</td>\n",
       "      <td>1.00</td>\n",
       "      <td>0.20</td>\n",
       "      <td>0.03</td>\n",
       "      <td>-0.23</td>\n",
       "      <td>...</td>\n",
       "      <td>-0.02</td>\n",
       "      <td>0.16</td>\n",
       "      <td>0.11</td>\n",
       "      <td>0.05</td>\n",
       "      <td>0.05</td>\n",
       "      <td>0.02</td>\n",
       "      <td>0.02</td>\n",
       "      <td>0.02</td>\n",
       "      <td>0.00</td>\n",
       "      <td>0.01</td>\n",
       "    </tr>\n",
       "    <tr>\n",
       "      <th>height_percentage</th>\n",
       "      <td>0.00</td>\n",
       "      <td>-0.06</td>\n",
       "      <td>0.04</td>\n",
       "      <td>-0.02</td>\n",
       "      <td>0.77</td>\n",
       "      <td>0.06</td>\n",
       "      <td>0.20</td>\n",
       "      <td>1.00</td>\n",
       "      <td>0.15</td>\n",
       "      <td>-0.11</td>\n",
       "      <td>...</td>\n",
       "      <td>-0.01</td>\n",
       "      <td>0.12</td>\n",
       "      <td>0.07</td>\n",
       "      <td>0.03</td>\n",
       "      <td>0.02</td>\n",
       "      <td>0.00</td>\n",
       "      <td>0.01</td>\n",
       "      <td>0.01</td>\n",
       "      <td>0.00</td>\n",
       "      <td>0.01</td>\n",
       "    </tr>\n",
       "    <tr>\n",
       "      <th>has_superstructure_adobe_mud</th>\n",
       "      <td>-0.00</td>\n",
       "      <td>-0.02</td>\n",
       "      <td>0.02</td>\n",
       "      <td>-0.02</td>\n",
       "      <td>0.17</td>\n",
       "      <td>0.07</td>\n",
       "      <td>0.03</td>\n",
       "      <td>0.15</td>\n",
       "      <td>1.00</td>\n",
       "      <td>-0.31</td>\n",
       "      <td>...</td>\n",
       "      <td>-0.00</td>\n",
       "      <td>-0.01</td>\n",
       "      <td>-0.00</td>\n",
       "      <td>-0.00</td>\n",
       "      <td>-0.00</td>\n",
       "      <td>0.00</td>\n",
       "      <td>-0.00</td>\n",
       "      <td>-0.00</td>\n",
       "      <td>-0.00</td>\n",
       "      <td>-0.01</td>\n",
       "    </tr>\n",
       "    <tr>\n",
       "      <th>has_superstructure_mud_mortar_stone</th>\n",
       "      <td>0.00</td>\n",
       "      <td>-0.15</td>\n",
       "      <td>0.08</td>\n",
       "      <td>0.03</td>\n",
       "      <td>-0.03</td>\n",
       "      <td>0.00</td>\n",
       "      <td>-0.23</td>\n",
       "      <td>-0.11</td>\n",
       "      <td>-0.31</td>\n",
       "      <td>1.00</td>\n",
       "      <td>...</td>\n",
       "      <td>0.06</td>\n",
       "      <td>-0.16</td>\n",
       "      <td>-0.12</td>\n",
       "      <td>-0.04</td>\n",
       "      <td>-0.02</td>\n",
       "      <td>-0.03</td>\n",
       "      <td>-0.01</td>\n",
       "      <td>-0.01</td>\n",
       "      <td>-0.00</td>\n",
       "      <td>0.01</td>\n",
       "    </tr>\n",
       "    <tr>\n",
       "      <th>has_superstructure_stone_flag</th>\n",
       "      <td>0.00</td>\n",
       "      <td>0.01</td>\n",
       "      <td>-0.01</td>\n",
       "      <td>0.02</td>\n",
       "      <td>-0.04</td>\n",
       "      <td>0.01</td>\n",
       "      <td>-0.00</td>\n",
       "      <td>-0.02</td>\n",
       "      <td>0.01</td>\n",
       "      <td>-0.03</td>\n",
       "      <td>...</td>\n",
       "      <td>0.01</td>\n",
       "      <td>-0.01</td>\n",
       "      <td>-0.01</td>\n",
       "      <td>-0.00</td>\n",
       "      <td>-0.00</td>\n",
       "      <td>-0.00</td>\n",
       "      <td>-0.00</td>\n",
       "      <td>0.00</td>\n",
       "      <td>0.00</td>\n",
       "      <td>0.00</td>\n",
       "    </tr>\n",
       "    <tr>\n",
       "      <th>has_superstructure_cement_mortar_stone</th>\n",
       "      <td>-0.00</td>\n",
       "      <td>0.02</td>\n",
       "      <td>-0.01</td>\n",
       "      <td>0.01</td>\n",
       "      <td>-0.01</td>\n",
       "      <td>-0.01</td>\n",
       "      <td>0.07</td>\n",
       "      <td>0.01</td>\n",
       "      <td>-0.01</td>\n",
       "      <td>-0.10</td>\n",
       "      <td>...</td>\n",
       "      <td>-0.02</td>\n",
       "      <td>0.07</td>\n",
       "      <td>0.03</td>\n",
       "      <td>0.01</td>\n",
       "      <td>0.01</td>\n",
       "      <td>0.01</td>\n",
       "      <td>0.00</td>\n",
       "      <td>0.01</td>\n",
       "      <td>0.00</td>\n",
       "      <td>0.01</td>\n",
       "    </tr>\n",
       "    <tr>\n",
       "      <th>has_superstructure_mud_mortar_brick</th>\n",
       "      <td>-0.00</td>\n",
       "      <td>-0.03</td>\n",
       "      <td>0.01</td>\n",
       "      <td>-0.02</td>\n",
       "      <td>0.26</td>\n",
       "      <td>0.08</td>\n",
       "      <td>0.05</td>\n",
       "      <td>0.21</td>\n",
       "      <td>0.31</td>\n",
       "      <td>-0.38</td>\n",
       "      <td>...</td>\n",
       "      <td>-0.04</td>\n",
       "      <td>0.03</td>\n",
       "      <td>0.02</td>\n",
       "      <td>-0.00</td>\n",
       "      <td>-0.00</td>\n",
       "      <td>0.01</td>\n",
       "      <td>0.00</td>\n",
       "      <td>-0.00</td>\n",
       "      <td>-0.00</td>\n",
       "      <td>-0.00</td>\n",
       "    </tr>\n",
       "    <tr>\n",
       "      <th>has_superstructure_cement_mortar_brick</th>\n",
       "      <td>0.00</td>\n",
       "      <td>0.13</td>\n",
       "      <td>-0.08</td>\n",
       "      <td>-0.01</td>\n",
       "      <td>-0.09</td>\n",
       "      <td>-0.04</td>\n",
       "      <td>0.21</td>\n",
       "      <td>0.00</td>\n",
       "      <td>-0.04</td>\n",
       "      <td>-0.47</td>\n",
       "      <td>...</td>\n",
       "      <td>-0.05</td>\n",
       "      <td>0.14</td>\n",
       "      <td>0.11</td>\n",
       "      <td>0.03</td>\n",
       "      <td>0.02</td>\n",
       "      <td>0.03</td>\n",
       "      <td>0.01</td>\n",
       "      <td>0.01</td>\n",
       "      <td>0.01</td>\n",
       "      <td>0.00</td>\n",
       "    </tr>\n",
       "    <tr>\n",
       "      <th>has_superstructure_timber</th>\n",
       "      <td>0.00</td>\n",
       "      <td>0.14</td>\n",
       "      <td>-0.02</td>\n",
       "      <td>-0.00</td>\n",
       "      <td>-0.06</td>\n",
       "      <td>0.01</td>\n",
       "      <td>-0.05</td>\n",
       "      <td>-0.05</td>\n",
       "      <td>0.01</td>\n",
       "      <td>-0.04</td>\n",
       "      <td>...</td>\n",
       "      <td>0.00</td>\n",
       "      <td>-0.03</td>\n",
       "      <td>-0.03</td>\n",
       "      <td>-0.01</td>\n",
       "      <td>-0.00</td>\n",
       "      <td>-0.00</td>\n",
       "      <td>-0.00</td>\n",
       "      <td>-0.00</td>\n",
       "      <td>-0.00</td>\n",
       "      <td>-0.01</td>\n",
       "    </tr>\n",
       "    <tr>\n",
       "      <th>has_superstructure_bamboo</th>\n",
       "      <td>0.00</td>\n",
       "      <td>0.07</td>\n",
       "      <td>-0.03</td>\n",
       "      <td>0.01</td>\n",
       "      <td>-0.07</td>\n",
       "      <td>-0.01</td>\n",
       "      <td>-0.03</td>\n",
       "      <td>-0.06</td>\n",
       "      <td>0.01</td>\n",
       "      <td>-0.05</td>\n",
       "      <td>...</td>\n",
       "      <td>0.00</td>\n",
       "      <td>-0.03</td>\n",
       "      <td>-0.02</td>\n",
       "      <td>-0.00</td>\n",
       "      <td>-0.00</td>\n",
       "      <td>-0.00</td>\n",
       "      <td>-0.00</td>\n",
       "      <td>-0.00</td>\n",
       "      <td>-0.00</td>\n",
       "      <td>-0.01</td>\n",
       "    </tr>\n",
       "    <tr>\n",
       "      <th>has_superstructure_rc_non_engineered</th>\n",
       "      <td>0.00</td>\n",
       "      <td>0.02</td>\n",
       "      <td>-0.04</td>\n",
       "      <td>0.00</td>\n",
       "      <td>0.01</td>\n",
       "      <td>-0.03</td>\n",
       "      <td>0.19</td>\n",
       "      <td>0.09</td>\n",
       "      <td>-0.04</td>\n",
       "      <td>-0.22</td>\n",
       "      <td>...</td>\n",
       "      <td>-0.02</td>\n",
       "      <td>0.16</td>\n",
       "      <td>0.10</td>\n",
       "      <td>0.04</td>\n",
       "      <td>0.02</td>\n",
       "      <td>0.02</td>\n",
       "      <td>0.01</td>\n",
       "      <td>0.01</td>\n",
       "      <td>0.00</td>\n",
       "      <td>0.00</td>\n",
       "    </tr>\n",
       "    <tr>\n",
       "      <th>has_superstructure_rc_engineered</th>\n",
       "      <td>-0.00</td>\n",
       "      <td>0.02</td>\n",
       "      <td>-0.04</td>\n",
       "      <td>-0.01</td>\n",
       "      <td>0.05</td>\n",
       "      <td>-0.03</td>\n",
       "      <td>0.22</td>\n",
       "      <td>0.13</td>\n",
       "      <td>-0.04</td>\n",
       "      <td>-0.22</td>\n",
       "      <td>...</td>\n",
       "      <td>-0.03</td>\n",
       "      <td>0.14</td>\n",
       "      <td>0.13</td>\n",
       "      <td>0.05</td>\n",
       "      <td>0.03</td>\n",
       "      <td>0.01</td>\n",
       "      <td>0.01</td>\n",
       "      <td>0.03</td>\n",
       "      <td>0.01</td>\n",
       "      <td>0.01</td>\n",
       "    </tr>\n",
       "    <tr>\n",
       "      <th>has_superstructure_other</th>\n",
       "      <td>0.00</td>\n",
       "      <td>0.02</td>\n",
       "      <td>-0.02</td>\n",
       "      <td>-0.01</td>\n",
       "      <td>-0.03</td>\n",
       "      <td>-0.00</td>\n",
       "      <td>0.01</td>\n",
       "      <td>-0.02</td>\n",
       "      <td>0.06</td>\n",
       "      <td>-0.04</td>\n",
       "      <td>...</td>\n",
       "      <td>-0.01</td>\n",
       "      <td>0.01</td>\n",
       "      <td>0.00</td>\n",
       "      <td>-0.00</td>\n",
       "      <td>0.00</td>\n",
       "      <td>-0.00</td>\n",
       "      <td>0.00</td>\n",
       "      <td>-0.00</td>\n",
       "      <td>-0.00</td>\n",
       "      <td>0.01</td>\n",
       "    </tr>\n",
       "    <tr>\n",
       "      <th>count_families</th>\n",
       "      <td>-0.00</td>\n",
       "      <td>0.04</td>\n",
       "      <td>-0.01</td>\n",
       "      <td>-0.00</td>\n",
       "      <td>0.09</td>\n",
       "      <td>0.01</td>\n",
       "      <td>0.09</td>\n",
       "      <td>0.06</td>\n",
       "      <td>0.03</td>\n",
       "      <td>0.00</td>\n",
       "      <td>...</td>\n",
       "      <td>-0.04</td>\n",
       "      <td>-0.03</td>\n",
       "      <td>0.02</td>\n",
       "      <td>-0.02</td>\n",
       "      <td>-0.02</td>\n",
       "      <td>-0.02</td>\n",
       "      <td>-0.01</td>\n",
       "      <td>-0.00</td>\n",
       "      <td>-0.01</td>\n",
       "      <td>-0.02</td>\n",
       "    </tr>\n",
       "    <tr>\n",
       "      <th>has_secondary_use</th>\n",
       "      <td>0.00</td>\n",
       "      <td>-0.01</td>\n",
       "      <td>-0.00</td>\n",
       "      <td>0.01</td>\n",
       "      <td>0.05</td>\n",
       "      <td>-0.01</td>\n",
       "      <td>0.12</td>\n",
       "      <td>0.09</td>\n",
       "      <td>-0.01</td>\n",
       "      <td>-0.09</td>\n",
       "      <td>...</td>\n",
       "      <td>0.74</td>\n",
       "      <td>0.53</td>\n",
       "      <td>0.25</td>\n",
       "      <td>0.09</td>\n",
       "      <td>0.05</td>\n",
       "      <td>0.09</td>\n",
       "      <td>0.04</td>\n",
       "      <td>0.03</td>\n",
       "      <td>0.03</td>\n",
       "      <td>0.20</td>\n",
       "    </tr>\n",
       "    <tr>\n",
       "      <th>has_secondary_use_agriculture</th>\n",
       "      <td>0.00</td>\n",
       "      <td>-0.02</td>\n",
       "      <td>0.02</td>\n",
       "      <td>0.02</td>\n",
       "      <td>-0.01</td>\n",
       "      <td>-0.00</td>\n",
       "      <td>-0.02</td>\n",
       "      <td>-0.01</td>\n",
       "      <td>-0.00</td>\n",
       "      <td>0.06</td>\n",
       "      <td>...</td>\n",
       "      <td>1.00</td>\n",
       "      <td>-0.05</td>\n",
       "      <td>-0.02</td>\n",
       "      <td>-0.01</td>\n",
       "      <td>-0.00</td>\n",
       "      <td>-0.01</td>\n",
       "      <td>-0.00</td>\n",
       "      <td>-0.00</td>\n",
       "      <td>-0.00</td>\n",
       "      <td>0.09</td>\n",
       "    </tr>\n",
       "    <tr>\n",
       "      <th>has_secondary_use_hotel</th>\n",
       "      <td>0.00</td>\n",
       "      <td>0.00</td>\n",
       "      <td>-0.01</td>\n",
       "      <td>-0.00</td>\n",
       "      <td>0.08</td>\n",
       "      <td>-0.01</td>\n",
       "      <td>0.16</td>\n",
       "      <td>0.12</td>\n",
       "      <td>-0.01</td>\n",
       "      <td>-0.16</td>\n",
       "      <td>...</td>\n",
       "      <td>-0.05</td>\n",
       "      <td>1.00</td>\n",
       "      <td>-0.02</td>\n",
       "      <td>-0.01</td>\n",
       "      <td>-0.00</td>\n",
       "      <td>-0.01</td>\n",
       "      <td>-0.00</td>\n",
       "      <td>-0.00</td>\n",
       "      <td>-0.00</td>\n",
       "      <td>0.00</td>\n",
       "    </tr>\n",
       "    <tr>\n",
       "      <th>has_secondary_use_rental</th>\n",
       "      <td>-0.00</td>\n",
       "      <td>0.02</td>\n",
       "      <td>-0.03</td>\n",
       "      <td>-0.01</td>\n",
       "      <td>0.04</td>\n",
       "      <td>0.00</td>\n",
       "      <td>0.11</td>\n",
       "      <td>0.07</td>\n",
       "      <td>-0.00</td>\n",
       "      <td>-0.12</td>\n",
       "      <td>...</td>\n",
       "      <td>-0.02</td>\n",
       "      <td>-0.02</td>\n",
       "      <td>1.00</td>\n",
       "      <td>-0.00</td>\n",
       "      <td>-0.00</td>\n",
       "      <td>-0.00</td>\n",
       "      <td>-0.00</td>\n",
       "      <td>-0.00</td>\n",
       "      <td>-0.00</td>\n",
       "      <td>0.00</td>\n",
       "    </tr>\n",
       "    <tr>\n",
       "      <th>has_secondary_use_institution</th>\n",
       "      <td>0.00</td>\n",
       "      <td>0.00</td>\n",
       "      <td>-0.00</td>\n",
       "      <td>-0.01</td>\n",
       "      <td>0.02</td>\n",
       "      <td>-0.00</td>\n",
       "      <td>0.05</td>\n",
       "      <td>0.03</td>\n",
       "      <td>-0.00</td>\n",
       "      <td>-0.04</td>\n",
       "      <td>...</td>\n",
       "      <td>-0.01</td>\n",
       "      <td>-0.01</td>\n",
       "      <td>-0.00</td>\n",
       "      <td>1.00</td>\n",
       "      <td>-0.00</td>\n",
       "      <td>-0.00</td>\n",
       "      <td>-0.00</td>\n",
       "      <td>-0.00</td>\n",
       "      <td>-0.00</td>\n",
       "      <td>0.00</td>\n",
       "    </tr>\n",
       "    <tr>\n",
       "      <th>has_secondary_use_school</th>\n",
       "      <td>-0.00</td>\n",
       "      <td>0.00</td>\n",
       "      <td>-0.00</td>\n",
       "      <td>-0.00</td>\n",
       "      <td>0.01</td>\n",
       "      <td>-0.00</td>\n",
       "      <td>0.05</td>\n",
       "      <td>0.02</td>\n",
       "      <td>-0.00</td>\n",
       "      <td>-0.02</td>\n",
       "      <td>...</td>\n",
       "      <td>-0.00</td>\n",
       "      <td>-0.00</td>\n",
       "      <td>-0.00</td>\n",
       "      <td>-0.00</td>\n",
       "      <td>1.00</td>\n",
       "      <td>-0.00</td>\n",
       "      <td>-0.00</td>\n",
       "      <td>-0.00</td>\n",
       "      <td>-0.00</td>\n",
       "      <td>0.00</td>\n",
       "    </tr>\n",
       "    <tr>\n",
       "      <th>has_secondary_use_industry</th>\n",
       "      <td>0.00</td>\n",
       "      <td>0.00</td>\n",
       "      <td>0.00</td>\n",
       "      <td>-0.00</td>\n",
       "      <td>-0.00</td>\n",
       "      <td>-0.00</td>\n",
       "      <td>0.02</td>\n",
       "      <td>0.00</td>\n",
       "      <td>0.00</td>\n",
       "      <td>-0.03</td>\n",
       "      <td>...</td>\n",
       "      <td>-0.01</td>\n",
       "      <td>-0.01</td>\n",
       "      <td>-0.00</td>\n",
       "      <td>-0.00</td>\n",
       "      <td>-0.00</td>\n",
       "      <td>1.00</td>\n",
       "      <td>-0.00</td>\n",
       "      <td>-0.00</td>\n",
       "      <td>-0.00</td>\n",
       "      <td>0.00</td>\n",
       "    </tr>\n",
       "    <tr>\n",
       "      <th>has_secondary_use_health_post</th>\n",
       "      <td>-0.00</td>\n",
       "      <td>-0.00</td>\n",
       "      <td>-0.00</td>\n",
       "      <td>-0.00</td>\n",
       "      <td>0.01</td>\n",
       "      <td>-0.00</td>\n",
       "      <td>0.02</td>\n",
       "      <td>0.01</td>\n",
       "      <td>-0.00</td>\n",
       "      <td>-0.01</td>\n",
       "      <td>...</td>\n",
       "      <td>-0.00</td>\n",
       "      <td>-0.00</td>\n",
       "      <td>-0.00</td>\n",
       "      <td>-0.00</td>\n",
       "      <td>-0.00</td>\n",
       "      <td>-0.00</td>\n",
       "      <td>1.00</td>\n",
       "      <td>-0.00</td>\n",
       "      <td>-0.00</td>\n",
       "      <td>-0.00</td>\n",
       "    </tr>\n",
       "    <tr>\n",
       "      <th>has_secondary_use_gov_office</th>\n",
       "      <td>0.00</td>\n",
       "      <td>0.00</td>\n",
       "      <td>-0.00</td>\n",
       "      <td>-0.00</td>\n",
       "      <td>0.01</td>\n",
       "      <td>-0.00</td>\n",
       "      <td>0.02</td>\n",
       "      <td>0.01</td>\n",
       "      <td>-0.00</td>\n",
       "      <td>-0.01</td>\n",
       "      <td>...</td>\n",
       "      <td>-0.00</td>\n",
       "      <td>-0.00</td>\n",
       "      <td>-0.00</td>\n",
       "      <td>-0.00</td>\n",
       "      <td>-0.00</td>\n",
       "      <td>-0.00</td>\n",
       "      <td>-0.00</td>\n",
       "      <td>1.00</td>\n",
       "      <td>-0.00</td>\n",
       "      <td>0.00</td>\n",
       "    </tr>\n",
       "    <tr>\n",
       "      <th>has_secondary_use_use_police</th>\n",
       "      <td>-0.00</td>\n",
       "      <td>0.00</td>\n",
       "      <td>0.00</td>\n",
       "      <td>0.00</td>\n",
       "      <td>0.00</td>\n",
       "      <td>-0.00</td>\n",
       "      <td>0.00</td>\n",
       "      <td>0.00</td>\n",
       "      <td>-0.00</td>\n",
       "      <td>-0.00</td>\n",
       "      <td>...</td>\n",
       "      <td>-0.00</td>\n",
       "      <td>-0.00</td>\n",
       "      <td>-0.00</td>\n",
       "      <td>-0.00</td>\n",
       "      <td>-0.00</td>\n",
       "      <td>-0.00</td>\n",
       "      <td>-0.00</td>\n",
       "      <td>-0.00</td>\n",
       "      <td>1.00</td>\n",
       "      <td>-0.00</td>\n",
       "    </tr>\n",
       "    <tr>\n",
       "      <th>has_secondary_use_other</th>\n",
       "      <td>-0.00</td>\n",
       "      <td>-0.02</td>\n",
       "      <td>-0.01</td>\n",
       "      <td>-0.00</td>\n",
       "      <td>-0.00</td>\n",
       "      <td>-0.00</td>\n",
       "      <td>0.01</td>\n",
       "      <td>0.01</td>\n",
       "      <td>-0.01</td>\n",
       "      <td>0.01</td>\n",
       "      <td>...</td>\n",
       "      <td>0.09</td>\n",
       "      <td>0.00</td>\n",
       "      <td>0.00</td>\n",
       "      <td>0.00</td>\n",
       "      <td>0.00</td>\n",
       "      <td>0.00</td>\n",
       "      <td>-0.00</td>\n",
       "      <td>0.00</td>\n",
       "      <td>-0.00</td>\n",
       "      <td>1.00</td>\n",
       "    </tr>\n",
       "  </tbody>\n",
       "</table>\n",
       "<p>31 rows × 31 columns</p>\n",
       "</div>"
      ],
      "text/plain": [
       "                                                building_id  \\\n",
       "building_id                                            1.00   \n",
       "geo_level_1_id                                        -0.00   \n",
       "geo_level_2_id                                         0.00   \n",
       "geo_level_3_id                                        -0.00   \n",
       "count_floors_pre_eq                                   -0.00   \n",
       "age                                                   -0.00   \n",
       "area_percentage                                       -0.00   \n",
       "height_percentage                                      0.00   \n",
       "has_superstructure_adobe_mud                          -0.00   \n",
       "has_superstructure_mud_mortar_stone                    0.00   \n",
       "has_superstructure_stone_flag                          0.00   \n",
       "has_superstructure_cement_mortar_stone                -0.00   \n",
       "has_superstructure_mud_mortar_brick                   -0.00   \n",
       "has_superstructure_cement_mortar_brick                 0.00   \n",
       "has_superstructure_timber                              0.00   \n",
       "has_superstructure_bamboo                              0.00   \n",
       "has_superstructure_rc_non_engineered                   0.00   \n",
       "has_superstructure_rc_engineered                      -0.00   \n",
       "has_superstructure_other                               0.00   \n",
       "count_families                                        -0.00   \n",
       "has_secondary_use                                      0.00   \n",
       "has_secondary_use_agriculture                          0.00   \n",
       "has_secondary_use_hotel                                0.00   \n",
       "has_secondary_use_rental                              -0.00   \n",
       "has_secondary_use_institution                          0.00   \n",
       "has_secondary_use_school                              -0.00   \n",
       "has_secondary_use_industry                             0.00   \n",
       "has_secondary_use_health_post                         -0.00   \n",
       "has_secondary_use_gov_office                           0.00   \n",
       "has_secondary_use_use_police                          -0.00   \n",
       "has_secondary_use_other                               -0.00   \n",
       "\n",
       "                                             geo_level_1_id  \\\n",
       "building_id                                           -0.00   \n",
       "geo_level_1_id                                         1.00   \n",
       "geo_level_2_id                                        -0.06   \n",
       "geo_level_3_id                                         0.00   \n",
       "count_floors_pre_eq                                   -0.09   \n",
       "age                                                   -0.00   \n",
       "area_percentage                                        0.07   \n",
       "height_percentage                                     -0.06   \n",
       "has_superstructure_adobe_mud                          -0.02   \n",
       "has_superstructure_mud_mortar_stone                   -0.15   \n",
       "has_superstructure_stone_flag                          0.01   \n",
       "has_superstructure_cement_mortar_stone                 0.02   \n",
       "has_superstructure_mud_mortar_brick                   -0.03   \n",
       "has_superstructure_cement_mortar_brick                 0.13   \n",
       "has_superstructure_timber                              0.14   \n",
       "has_superstructure_bamboo                              0.07   \n",
       "has_superstructure_rc_non_engineered                   0.02   \n",
       "has_superstructure_rc_engineered                       0.02   \n",
       "has_superstructure_other                               0.02   \n",
       "count_families                                         0.04   \n",
       "has_secondary_use                                     -0.01   \n",
       "has_secondary_use_agriculture                         -0.02   \n",
       "has_secondary_use_hotel                                0.00   \n",
       "has_secondary_use_rental                               0.02   \n",
       "has_secondary_use_institution                          0.00   \n",
       "has_secondary_use_school                               0.00   \n",
       "has_secondary_use_industry                             0.00   \n",
       "has_secondary_use_health_post                         -0.00   \n",
       "has_secondary_use_gov_office                           0.00   \n",
       "has_secondary_use_use_police                           0.00   \n",
       "has_secondary_use_other                               -0.02   \n",
       "\n",
       "                                             geo_level_2_id  \\\n",
       "building_id                                            0.00   \n",
       "geo_level_1_id                                        -0.06   \n",
       "geo_level_2_id                                         1.00   \n",
       "geo_level_3_id                                         0.00   \n",
       "count_floors_pre_eq                                    0.05   \n",
       "age                                                    0.01   \n",
       "area_percentage                                       -0.05   \n",
       "height_percentage                                      0.04   \n",
       "has_superstructure_adobe_mud                           0.02   \n",
       "has_superstructure_mud_mortar_stone                    0.08   \n",
       "has_superstructure_stone_flag                         -0.01   \n",
       "has_superstructure_cement_mortar_stone                -0.01   \n",
       "has_superstructure_mud_mortar_brick                    0.01   \n",
       "has_superstructure_cement_mortar_brick                -0.08   \n",
       "has_superstructure_timber                             -0.02   \n",
       "has_superstructure_bamboo                             -0.03   \n",
       "has_superstructure_rc_non_engineered                  -0.04   \n",
       "has_superstructure_rc_engineered                      -0.04   \n",
       "has_superstructure_other                              -0.02   \n",
       "count_families                                        -0.01   \n",
       "has_secondary_use                                     -0.00   \n",
       "has_secondary_use_agriculture                          0.02   \n",
       "has_secondary_use_hotel                               -0.01   \n",
       "has_secondary_use_rental                              -0.03   \n",
       "has_secondary_use_institution                         -0.00   \n",
       "has_secondary_use_school                              -0.00   \n",
       "has_secondary_use_industry                             0.00   \n",
       "has_secondary_use_health_post                         -0.00   \n",
       "has_secondary_use_gov_office                          -0.00   \n",
       "has_secondary_use_use_police                           0.00   \n",
       "has_secondary_use_other                               -0.01   \n",
       "\n",
       "                                             geo_level_3_id  \\\n",
       "building_id                                           -0.00   \n",
       "geo_level_1_id                                         0.00   \n",
       "geo_level_2_id                                         0.00   \n",
       "geo_level_3_id                                         1.00   \n",
       "count_floors_pre_eq                                   -0.02   \n",
       "age                                                   -0.01   \n",
       "area_percentage                                       -0.01   \n",
       "height_percentage                                     -0.02   \n",
       "has_superstructure_adobe_mud                          -0.02   \n",
       "has_superstructure_mud_mortar_stone                    0.03   \n",
       "has_superstructure_stone_flag                          0.02   \n",
       "has_superstructure_cement_mortar_stone                 0.01   \n",
       "has_superstructure_mud_mortar_brick                   -0.02   \n",
       "has_superstructure_cement_mortar_brick                -0.01   \n",
       "has_superstructure_timber                             -0.00   \n",
       "has_superstructure_bamboo                              0.01   \n",
       "has_superstructure_rc_non_engineered                   0.00   \n",
       "has_superstructure_rc_engineered                      -0.01   \n",
       "has_superstructure_other                              -0.01   \n",
       "count_families                                        -0.00   \n",
       "has_secondary_use                                      0.01   \n",
       "has_secondary_use_agriculture                          0.02   \n",
       "has_secondary_use_hotel                               -0.00   \n",
       "has_secondary_use_rental                              -0.01   \n",
       "has_secondary_use_institution                         -0.01   \n",
       "has_secondary_use_school                              -0.00   \n",
       "has_secondary_use_industry                            -0.00   \n",
       "has_secondary_use_health_post                         -0.00   \n",
       "has_secondary_use_gov_office                          -0.00   \n",
       "has_secondary_use_use_police                           0.00   \n",
       "has_secondary_use_other                               -0.00   \n",
       "\n",
       "                                        count_floors_pre_eq  \\\n",
       "building_id                                           -0.00   \n",
       "geo_level_1_id                                        -0.09   \n",
       "geo_level_2_id                                         0.05   \n",
       "geo_level_3_id                                        -0.02   \n",
       "count_floors_pre_eq                                    1.00   \n",
       "age                                                    0.09   \n",
       "area_percentage                                        0.10   \n",
       "height_percentage                                      0.77   \n",
       "has_superstructure_adobe_mud                           0.17   \n",
       "has_superstructure_mud_mortar_stone                   -0.03   \n",
       "has_superstructure_stone_flag                         -0.04   \n",
       "has_superstructure_cement_mortar_stone                -0.01   \n",
       "has_superstructure_mud_mortar_brick                    0.26   \n",
       "has_superstructure_cement_mortar_brick                -0.09   \n",
       "has_superstructure_timber                             -0.06   \n",
       "has_superstructure_bamboo                             -0.07   \n",
       "has_superstructure_rc_non_engineered                   0.01   \n",
       "has_superstructure_rc_engineered                       0.05   \n",
       "has_superstructure_other                              -0.03   \n",
       "count_families                                         0.09   \n",
       "has_secondary_use                                      0.05   \n",
       "has_secondary_use_agriculture                         -0.01   \n",
       "has_secondary_use_hotel                                0.08   \n",
       "has_secondary_use_rental                               0.04   \n",
       "has_secondary_use_institution                          0.02   \n",
       "has_secondary_use_school                               0.01   \n",
       "has_secondary_use_industry                            -0.00   \n",
       "has_secondary_use_health_post                          0.01   \n",
       "has_secondary_use_gov_office                           0.01   \n",
       "has_secondary_use_use_police                           0.00   \n",
       "has_secondary_use_other                               -0.00   \n",
       "\n",
       "                                                        age  \\\n",
       "building_id                                           -0.00   \n",
       "geo_level_1_id                                        -0.00   \n",
       "geo_level_2_id                                         0.01   \n",
       "geo_level_3_id                                        -0.01   \n",
       "count_floors_pre_eq                                    0.09   \n",
       "age                                                    1.00   \n",
       "area_percentage                                       -0.00   \n",
       "height_percentage                                      0.06   \n",
       "has_superstructure_adobe_mud                           0.07   \n",
       "has_superstructure_mud_mortar_stone                    0.00   \n",
       "has_superstructure_stone_flag                          0.01   \n",
       "has_superstructure_cement_mortar_stone                -0.01   \n",
       "has_superstructure_mud_mortar_brick                    0.08   \n",
       "has_superstructure_cement_mortar_brick                -0.04   \n",
       "has_superstructure_timber                              0.01   \n",
       "has_superstructure_bamboo                             -0.01   \n",
       "has_superstructure_rc_non_engineered                  -0.03   \n",
       "has_superstructure_rc_engineered                      -0.03   \n",
       "has_superstructure_other                              -0.00   \n",
       "count_families                                         0.01   \n",
       "has_secondary_use                                     -0.01   \n",
       "has_secondary_use_agriculture                         -0.00   \n",
       "has_secondary_use_hotel                               -0.01   \n",
       "has_secondary_use_rental                               0.00   \n",
       "has_secondary_use_institution                         -0.00   \n",
       "has_secondary_use_school                              -0.00   \n",
       "has_secondary_use_industry                            -0.00   \n",
       "has_secondary_use_health_post                         -0.00   \n",
       "has_secondary_use_gov_office                          -0.00   \n",
       "has_secondary_use_use_police                          -0.00   \n",
       "has_secondary_use_other                               -0.00   \n",
       "\n",
       "                                            area_percentage  \\\n",
       "building_id                                           -0.00   \n",
       "geo_level_1_id                                         0.07   \n",
       "geo_level_2_id                                        -0.05   \n",
       "geo_level_3_id                                        -0.01   \n",
       "count_floors_pre_eq                                    0.10   \n",
       "age                                                   -0.00   \n",
       "area_percentage                                        1.00   \n",
       "height_percentage                                      0.20   \n",
       "has_superstructure_adobe_mud                           0.03   \n",
       "has_superstructure_mud_mortar_stone                   -0.23   \n",
       "has_superstructure_stone_flag                         -0.00   \n",
       "has_superstructure_cement_mortar_stone                 0.07   \n",
       "has_superstructure_mud_mortar_brick                    0.05   \n",
       "has_superstructure_cement_mortar_brick                 0.21   \n",
       "has_superstructure_timber                             -0.05   \n",
       "has_superstructure_bamboo                             -0.03   \n",
       "has_superstructure_rc_non_engineered                   0.19   \n",
       "has_superstructure_rc_engineered                       0.22   \n",
       "has_superstructure_other                               0.01   \n",
       "count_families                                         0.09   \n",
       "has_secondary_use                                      0.12   \n",
       "has_secondary_use_agriculture                         -0.02   \n",
       "has_secondary_use_hotel                                0.16   \n",
       "has_secondary_use_rental                               0.11   \n",
       "has_secondary_use_institution                          0.05   \n",
       "has_secondary_use_school                               0.05   \n",
       "has_secondary_use_industry                             0.02   \n",
       "has_secondary_use_health_post                          0.02   \n",
       "has_secondary_use_gov_office                           0.02   \n",
       "has_secondary_use_use_police                           0.00   \n",
       "has_secondary_use_other                                0.01   \n",
       "\n",
       "                                          height_percentage  \\\n",
       "building_id                                            0.00   \n",
       "geo_level_1_id                                        -0.06   \n",
       "geo_level_2_id                                         0.04   \n",
       "geo_level_3_id                                        -0.02   \n",
       "count_floors_pre_eq                                    0.77   \n",
       "age                                                    0.06   \n",
       "area_percentage                                        0.20   \n",
       "height_percentage                                      1.00   \n",
       "has_superstructure_adobe_mud                           0.15   \n",
       "has_superstructure_mud_mortar_stone                   -0.11   \n",
       "has_superstructure_stone_flag                         -0.02   \n",
       "has_superstructure_cement_mortar_stone                 0.01   \n",
       "has_superstructure_mud_mortar_brick                    0.21   \n",
       "has_superstructure_cement_mortar_brick                 0.00   \n",
       "has_superstructure_timber                             -0.05   \n",
       "has_superstructure_bamboo                             -0.06   \n",
       "has_superstructure_rc_non_engineered                   0.09   \n",
       "has_superstructure_rc_engineered                       0.13   \n",
       "has_superstructure_other                              -0.02   \n",
       "count_families                                         0.06   \n",
       "has_secondary_use                                      0.09   \n",
       "has_secondary_use_agriculture                         -0.01   \n",
       "has_secondary_use_hotel                                0.12   \n",
       "has_secondary_use_rental                               0.07   \n",
       "has_secondary_use_institution                          0.03   \n",
       "has_secondary_use_school                               0.02   \n",
       "has_secondary_use_industry                             0.00   \n",
       "has_secondary_use_health_post                          0.01   \n",
       "has_secondary_use_gov_office                           0.01   \n",
       "has_secondary_use_use_police                           0.00   \n",
       "has_secondary_use_other                                0.01   \n",
       "\n",
       "                                        has_superstructure_adobe_mud  \\\n",
       "building_id                                                    -0.00   \n",
       "geo_level_1_id                                                 -0.02   \n",
       "geo_level_2_id                                                  0.02   \n",
       "geo_level_3_id                                                 -0.02   \n",
       "count_floors_pre_eq                                             0.17   \n",
       "age                                                             0.07   \n",
       "area_percentage                                                 0.03   \n",
       "height_percentage                                               0.15   \n",
       "has_superstructure_adobe_mud                                    1.00   \n",
       "has_superstructure_mud_mortar_stone                            -0.31   \n",
       "has_superstructure_stone_flag                                   0.01   \n",
       "has_superstructure_cement_mortar_stone                         -0.01   \n",
       "has_superstructure_mud_mortar_brick                             0.31   \n",
       "has_superstructure_cement_mortar_brick                         -0.04   \n",
       "has_superstructure_timber                                       0.01   \n",
       "has_superstructure_bamboo                                       0.01   \n",
       "has_superstructure_rc_non_engineered                           -0.04   \n",
       "has_superstructure_rc_engineered                               -0.04   \n",
       "has_superstructure_other                                        0.06   \n",
       "count_families                                                  0.03   \n",
       "has_secondary_use                                              -0.01   \n",
       "has_secondary_use_agriculture                                  -0.00   \n",
       "has_secondary_use_hotel                                        -0.01   \n",
       "has_secondary_use_rental                                       -0.00   \n",
       "has_secondary_use_institution                                  -0.00   \n",
       "has_secondary_use_school                                       -0.00   \n",
       "has_secondary_use_industry                                      0.00   \n",
       "has_secondary_use_health_post                                  -0.00   \n",
       "has_secondary_use_gov_office                                   -0.00   \n",
       "has_secondary_use_use_police                                   -0.00   \n",
       "has_secondary_use_other                                        -0.01   \n",
       "\n",
       "                                        has_superstructure_mud_mortar_stone  \\\n",
       "building_id                                                            0.00   \n",
       "geo_level_1_id                                                        -0.15   \n",
       "geo_level_2_id                                                         0.08   \n",
       "geo_level_3_id                                                         0.03   \n",
       "count_floors_pre_eq                                                   -0.03   \n",
       "age                                                                    0.00   \n",
       "area_percentage                                                       -0.23   \n",
       "height_percentage                                                     -0.11   \n",
       "has_superstructure_adobe_mud                                          -0.31   \n",
       "has_superstructure_mud_mortar_stone                                    1.00   \n",
       "has_superstructure_stone_flag                                         -0.03   \n",
       "has_superstructure_cement_mortar_stone                                -0.10   \n",
       "has_superstructure_mud_mortar_brick                                   -0.38   \n",
       "has_superstructure_cement_mortar_brick                                -0.47   \n",
       "has_superstructure_timber                                             -0.04   \n",
       "has_superstructure_bamboo                                             -0.05   \n",
       "has_superstructure_rc_non_engineered                                  -0.22   \n",
       "has_superstructure_rc_engineered                                      -0.22   \n",
       "has_superstructure_other                                              -0.04   \n",
       "count_families                                                         0.00   \n",
       "has_secondary_use                                                     -0.09   \n",
       "has_secondary_use_agriculture                                          0.06   \n",
       "has_secondary_use_hotel                                               -0.16   \n",
       "has_secondary_use_rental                                              -0.12   \n",
       "has_secondary_use_institution                                         -0.04   \n",
       "has_secondary_use_school                                              -0.02   \n",
       "has_secondary_use_industry                                            -0.03   \n",
       "has_secondary_use_health_post                                         -0.01   \n",
       "has_secondary_use_gov_office                                          -0.01   \n",
       "has_secondary_use_use_police                                          -0.00   \n",
       "has_secondary_use_other                                                0.01   \n",
       "\n",
       "                                        ...  has_secondary_use_agriculture  \\\n",
       "building_id                             ...                           0.00   \n",
       "geo_level_1_id                          ...                          -0.02   \n",
       "geo_level_2_id                          ...                           0.02   \n",
       "geo_level_3_id                          ...                           0.02   \n",
       "count_floors_pre_eq                     ...                          -0.01   \n",
       "age                                     ...                          -0.00   \n",
       "area_percentage                         ...                          -0.02   \n",
       "height_percentage                       ...                          -0.01   \n",
       "has_superstructure_adobe_mud            ...                          -0.00   \n",
       "has_superstructure_mud_mortar_stone     ...                           0.06   \n",
       "has_superstructure_stone_flag           ...                           0.01   \n",
       "has_superstructure_cement_mortar_stone  ...                          -0.02   \n",
       "has_superstructure_mud_mortar_brick     ...                          -0.04   \n",
       "has_superstructure_cement_mortar_brick  ...                          -0.05   \n",
       "has_superstructure_timber               ...                           0.00   \n",
       "has_superstructure_bamboo               ...                           0.00   \n",
       "has_superstructure_rc_non_engineered    ...                          -0.02   \n",
       "has_superstructure_rc_engineered        ...                          -0.03   \n",
       "has_superstructure_other                ...                          -0.01   \n",
       "count_families                          ...                          -0.04   \n",
       "has_secondary_use                       ...                           0.74   \n",
       "has_secondary_use_agriculture           ...                           1.00   \n",
       "has_secondary_use_hotel                 ...                          -0.05   \n",
       "has_secondary_use_rental                ...                          -0.02   \n",
       "has_secondary_use_institution           ...                          -0.01   \n",
       "has_secondary_use_school                ...                          -0.00   \n",
       "has_secondary_use_industry              ...                          -0.01   \n",
       "has_secondary_use_health_post           ...                          -0.00   \n",
       "has_secondary_use_gov_office            ...                          -0.00   \n",
       "has_secondary_use_use_police            ...                          -0.00   \n",
       "has_secondary_use_other                 ...                           0.09   \n",
       "\n",
       "                                        has_secondary_use_hotel  \\\n",
       "building_id                                                0.00   \n",
       "geo_level_1_id                                             0.00   \n",
       "geo_level_2_id                                            -0.01   \n",
       "geo_level_3_id                                            -0.00   \n",
       "count_floors_pre_eq                                        0.08   \n",
       "age                                                       -0.01   \n",
       "area_percentage                                            0.16   \n",
       "height_percentage                                          0.12   \n",
       "has_superstructure_adobe_mud                              -0.01   \n",
       "has_superstructure_mud_mortar_stone                       -0.16   \n",
       "has_superstructure_stone_flag                             -0.01   \n",
       "has_superstructure_cement_mortar_stone                     0.07   \n",
       "has_superstructure_mud_mortar_brick                        0.03   \n",
       "has_superstructure_cement_mortar_brick                     0.14   \n",
       "has_superstructure_timber                                 -0.03   \n",
       "has_superstructure_bamboo                                 -0.03   \n",
       "has_superstructure_rc_non_engineered                       0.16   \n",
       "has_superstructure_rc_engineered                           0.14   \n",
       "has_superstructure_other                                   0.01   \n",
       "count_families                                            -0.03   \n",
       "has_secondary_use                                          0.53   \n",
       "has_secondary_use_agriculture                             -0.05   \n",
       "has_secondary_use_hotel                                    1.00   \n",
       "has_secondary_use_rental                                  -0.02   \n",
       "has_secondary_use_institution                             -0.01   \n",
       "has_secondary_use_school                                  -0.00   \n",
       "has_secondary_use_industry                                -0.01   \n",
       "has_secondary_use_health_post                             -0.00   \n",
       "has_secondary_use_gov_office                              -0.00   \n",
       "has_secondary_use_use_police                              -0.00   \n",
       "has_secondary_use_other                                    0.00   \n",
       "\n",
       "                                        has_secondary_use_rental  \\\n",
       "building_id                                                -0.00   \n",
       "geo_level_1_id                                              0.02   \n",
       "geo_level_2_id                                             -0.03   \n",
       "geo_level_3_id                                             -0.01   \n",
       "count_floors_pre_eq                                         0.04   \n",
       "age                                                         0.00   \n",
       "area_percentage                                             0.11   \n",
       "height_percentage                                           0.07   \n",
       "has_superstructure_adobe_mud                               -0.00   \n",
       "has_superstructure_mud_mortar_stone                        -0.12   \n",
       "has_superstructure_stone_flag                              -0.01   \n",
       "has_superstructure_cement_mortar_stone                      0.03   \n",
       "has_superstructure_mud_mortar_brick                         0.02   \n",
       "has_superstructure_cement_mortar_brick                      0.11   \n",
       "has_superstructure_timber                                  -0.03   \n",
       "has_superstructure_bamboo                                  -0.02   \n",
       "has_superstructure_rc_non_engineered                        0.10   \n",
       "has_superstructure_rc_engineered                            0.13   \n",
       "has_superstructure_other                                    0.00   \n",
       "count_families                                              0.02   \n",
       "has_secondary_use                                           0.25   \n",
       "has_secondary_use_agriculture                              -0.02   \n",
       "has_secondary_use_hotel                                    -0.02   \n",
       "has_secondary_use_rental                                    1.00   \n",
       "has_secondary_use_institution                              -0.00   \n",
       "has_secondary_use_school                                   -0.00   \n",
       "has_secondary_use_industry                                 -0.00   \n",
       "has_secondary_use_health_post                              -0.00   \n",
       "has_secondary_use_gov_office                               -0.00   \n",
       "has_secondary_use_use_police                               -0.00   \n",
       "has_secondary_use_other                                     0.00   \n",
       "\n",
       "                                        has_secondary_use_institution  \\\n",
       "building_id                                                      0.00   \n",
       "geo_level_1_id                                                   0.00   \n",
       "geo_level_2_id                                                  -0.00   \n",
       "geo_level_3_id                                                  -0.01   \n",
       "count_floors_pre_eq                                              0.02   \n",
       "age                                                             -0.00   \n",
       "area_percentage                                                  0.05   \n",
       "height_percentage                                                0.03   \n",
       "has_superstructure_adobe_mud                                    -0.00   \n",
       "has_superstructure_mud_mortar_stone                             -0.04   \n",
       "has_superstructure_stone_flag                                   -0.00   \n",
       "has_superstructure_cement_mortar_stone                           0.01   \n",
       "has_superstructure_mud_mortar_brick                             -0.00   \n",
       "has_superstructure_cement_mortar_brick                           0.03   \n",
       "has_superstructure_timber                                       -0.01   \n",
       "has_superstructure_bamboo                                       -0.00   \n",
       "has_superstructure_rc_non_engineered                             0.04   \n",
       "has_superstructure_rc_engineered                                 0.05   \n",
       "has_superstructure_other                                        -0.00   \n",
       "count_families                                                  -0.02   \n",
       "has_secondary_use                                                0.09   \n",
       "has_secondary_use_agriculture                                   -0.01   \n",
       "has_secondary_use_hotel                                         -0.01   \n",
       "has_secondary_use_rental                                        -0.00   \n",
       "has_secondary_use_institution                                    1.00   \n",
       "has_secondary_use_school                                        -0.00   \n",
       "has_secondary_use_industry                                      -0.00   \n",
       "has_secondary_use_health_post                                   -0.00   \n",
       "has_secondary_use_gov_office                                    -0.00   \n",
       "has_secondary_use_use_police                                    -0.00   \n",
       "has_secondary_use_other                                          0.00   \n",
       "\n",
       "                                        has_secondary_use_school  \\\n",
       "building_id                                                -0.00   \n",
       "geo_level_1_id                                              0.00   \n",
       "geo_level_2_id                                             -0.00   \n",
       "geo_level_3_id                                             -0.00   \n",
       "count_floors_pre_eq                                         0.01   \n",
       "age                                                        -0.00   \n",
       "area_percentage                                             0.05   \n",
       "height_percentage                                           0.02   \n",
       "has_superstructure_adobe_mud                               -0.00   \n",
       "has_superstructure_mud_mortar_stone                        -0.02   \n",
       "has_superstructure_stone_flag                              -0.00   \n",
       "has_superstructure_cement_mortar_stone                      0.01   \n",
       "has_superstructure_mud_mortar_brick                        -0.00   \n",
       "has_superstructure_cement_mortar_brick                      0.02   \n",
       "has_superstructure_timber                                  -0.00   \n",
       "has_superstructure_bamboo                                  -0.00   \n",
       "has_superstructure_rc_non_engineered                        0.02   \n",
       "has_superstructure_rc_engineered                            0.03   \n",
       "has_superstructure_other                                    0.00   \n",
       "count_families                                             -0.02   \n",
       "has_secondary_use                                           0.05   \n",
       "has_secondary_use_agriculture                              -0.00   \n",
       "has_secondary_use_hotel                                    -0.00   \n",
       "has_secondary_use_rental                                   -0.00   \n",
       "has_secondary_use_institution                              -0.00   \n",
       "has_secondary_use_school                                    1.00   \n",
       "has_secondary_use_industry                                 -0.00   \n",
       "has_secondary_use_health_post                              -0.00   \n",
       "has_secondary_use_gov_office                               -0.00   \n",
       "has_secondary_use_use_police                               -0.00   \n",
       "has_secondary_use_other                                     0.00   \n",
       "\n",
       "                                        has_secondary_use_industry  \\\n",
       "building_id                                                   0.00   \n",
       "geo_level_1_id                                                0.00   \n",
       "geo_level_2_id                                                0.00   \n",
       "geo_level_3_id                                               -0.00   \n",
       "count_floors_pre_eq                                          -0.00   \n",
       "age                                                          -0.00   \n",
       "area_percentage                                               0.02   \n",
       "height_percentage                                             0.00   \n",
       "has_superstructure_adobe_mud                                  0.00   \n",
       "has_superstructure_mud_mortar_stone                          -0.03   \n",
       "has_superstructure_stone_flag                                -0.00   \n",
       "has_superstructure_cement_mortar_stone                        0.01   \n",
       "has_superstructure_mud_mortar_brick                           0.01   \n",
       "has_superstructure_cement_mortar_brick                        0.03   \n",
       "has_superstructure_timber                                    -0.00   \n",
       "has_superstructure_bamboo                                    -0.00   \n",
       "has_superstructure_rc_non_engineered                          0.02   \n",
       "has_superstructure_rc_engineered                              0.01   \n",
       "has_superstructure_other                                     -0.00   \n",
       "count_families                                               -0.02   \n",
       "has_secondary_use                                             0.09   \n",
       "has_secondary_use_agriculture                                -0.01   \n",
       "has_secondary_use_hotel                                      -0.01   \n",
       "has_secondary_use_rental                                     -0.00   \n",
       "has_secondary_use_institution                                -0.00   \n",
       "has_secondary_use_school                                     -0.00   \n",
       "has_secondary_use_industry                                    1.00   \n",
       "has_secondary_use_health_post                                -0.00   \n",
       "has_secondary_use_gov_office                                 -0.00   \n",
       "has_secondary_use_use_police                                 -0.00   \n",
       "has_secondary_use_other                                       0.00   \n",
       "\n",
       "                                        has_secondary_use_health_post  \\\n",
       "building_id                                                     -0.00   \n",
       "geo_level_1_id                                                  -0.00   \n",
       "geo_level_2_id                                                  -0.00   \n",
       "geo_level_3_id                                                  -0.00   \n",
       "count_floors_pre_eq                                              0.01   \n",
       "age                                                             -0.00   \n",
       "area_percentage                                                  0.02   \n",
       "height_percentage                                                0.01   \n",
       "has_superstructure_adobe_mud                                    -0.00   \n",
       "has_superstructure_mud_mortar_stone                             -0.01   \n",
       "has_superstructure_stone_flag                                   -0.00   \n",
       "has_superstructure_cement_mortar_stone                           0.00   \n",
       "has_superstructure_mud_mortar_brick                              0.00   \n",
       "has_superstructure_cement_mortar_brick                           0.01   \n",
       "has_superstructure_timber                                       -0.00   \n",
       "has_superstructure_bamboo                                       -0.00   \n",
       "has_superstructure_rc_non_engineered                             0.01   \n",
       "has_superstructure_rc_engineered                                 0.01   \n",
       "has_superstructure_other                                         0.00   \n",
       "count_families                                                  -0.01   \n",
       "has_secondary_use                                                0.04   \n",
       "has_secondary_use_agriculture                                   -0.00   \n",
       "has_secondary_use_hotel                                         -0.00   \n",
       "has_secondary_use_rental                                        -0.00   \n",
       "has_secondary_use_institution                                   -0.00   \n",
       "has_secondary_use_school                                        -0.00   \n",
       "has_secondary_use_industry                                      -0.00   \n",
       "has_secondary_use_health_post                                    1.00   \n",
       "has_secondary_use_gov_office                                    -0.00   \n",
       "has_secondary_use_use_police                                    -0.00   \n",
       "has_secondary_use_other                                         -0.00   \n",
       "\n",
       "                                        has_secondary_use_gov_office  \\\n",
       "building_id                                                     0.00   \n",
       "geo_level_1_id                                                  0.00   \n",
       "geo_level_2_id                                                 -0.00   \n",
       "geo_level_3_id                                                 -0.00   \n",
       "count_floors_pre_eq                                             0.01   \n",
       "age                                                            -0.00   \n",
       "area_percentage                                                 0.02   \n",
       "height_percentage                                               0.01   \n",
       "has_superstructure_adobe_mud                                   -0.00   \n",
       "has_superstructure_mud_mortar_stone                            -0.01   \n",
       "has_superstructure_stone_flag                                   0.00   \n",
       "has_superstructure_cement_mortar_stone                          0.01   \n",
       "has_superstructure_mud_mortar_brick                            -0.00   \n",
       "has_superstructure_cement_mortar_brick                          0.01   \n",
       "has_superstructure_timber                                      -0.00   \n",
       "has_superstructure_bamboo                                      -0.00   \n",
       "has_superstructure_rc_non_engineered                            0.01   \n",
       "has_superstructure_rc_engineered                                0.03   \n",
       "has_superstructure_other                                       -0.00   \n",
       "count_families                                                 -0.00   \n",
       "has_secondary_use                                               0.03   \n",
       "has_secondary_use_agriculture                                  -0.00   \n",
       "has_secondary_use_hotel                                        -0.00   \n",
       "has_secondary_use_rental                                       -0.00   \n",
       "has_secondary_use_institution                                  -0.00   \n",
       "has_secondary_use_school                                       -0.00   \n",
       "has_secondary_use_industry                                     -0.00   \n",
       "has_secondary_use_health_post                                  -0.00   \n",
       "has_secondary_use_gov_office                                    1.00   \n",
       "has_secondary_use_use_police                                   -0.00   \n",
       "has_secondary_use_other                                         0.00   \n",
       "\n",
       "                                        has_secondary_use_use_police  \\\n",
       "building_id                                                    -0.00   \n",
       "geo_level_1_id                                                  0.00   \n",
       "geo_level_2_id                                                  0.00   \n",
       "geo_level_3_id                                                  0.00   \n",
       "count_floors_pre_eq                                             0.00   \n",
       "age                                                            -0.00   \n",
       "area_percentage                                                 0.00   \n",
       "height_percentage                                               0.00   \n",
       "has_superstructure_adobe_mud                                   -0.00   \n",
       "has_superstructure_mud_mortar_stone                            -0.00   \n",
       "has_superstructure_stone_flag                                   0.00   \n",
       "has_superstructure_cement_mortar_stone                          0.00   \n",
       "has_superstructure_mud_mortar_brick                            -0.00   \n",
       "has_superstructure_cement_mortar_brick                          0.01   \n",
       "has_superstructure_timber                                      -0.00   \n",
       "has_superstructure_bamboo                                      -0.00   \n",
       "has_superstructure_rc_non_engineered                            0.00   \n",
       "has_superstructure_rc_engineered                                0.01   \n",
       "has_superstructure_other                                       -0.00   \n",
       "count_families                                                 -0.01   \n",
       "has_secondary_use                                               0.03   \n",
       "has_secondary_use_agriculture                                  -0.00   \n",
       "has_secondary_use_hotel                                        -0.00   \n",
       "has_secondary_use_rental                                       -0.00   \n",
       "has_secondary_use_institution                                  -0.00   \n",
       "has_secondary_use_school                                       -0.00   \n",
       "has_secondary_use_industry                                     -0.00   \n",
       "has_secondary_use_health_post                                  -0.00   \n",
       "has_secondary_use_gov_office                                   -0.00   \n",
       "has_secondary_use_use_police                                    1.00   \n",
       "has_secondary_use_other                                        -0.00   \n",
       "\n",
       "                                        has_secondary_use_other  \n",
       "building_id                                               -0.00  \n",
       "geo_level_1_id                                            -0.02  \n",
       "geo_level_2_id                                            -0.01  \n",
       "geo_level_3_id                                            -0.00  \n",
       "count_floors_pre_eq                                       -0.00  \n",
       "age                                                       -0.00  \n",
       "area_percentage                                            0.01  \n",
       "height_percentage                                          0.01  \n",
       "has_superstructure_adobe_mud                              -0.01  \n",
       "has_superstructure_mud_mortar_stone                        0.01  \n",
       "has_superstructure_stone_flag                              0.00  \n",
       "has_superstructure_cement_mortar_stone                     0.01  \n",
       "has_superstructure_mud_mortar_brick                       -0.00  \n",
       "has_superstructure_cement_mortar_brick                     0.00  \n",
       "has_superstructure_timber                                 -0.01  \n",
       "has_superstructure_bamboo                                 -0.01  \n",
       "has_superstructure_rc_non_engineered                       0.00  \n",
       "has_superstructure_rc_engineered                           0.01  \n",
       "has_superstructure_other                                   0.01  \n",
       "count_families                                            -0.02  \n",
       "has_secondary_use                                          0.20  \n",
       "has_secondary_use_agriculture                              0.09  \n",
       "has_secondary_use_hotel                                    0.00  \n",
       "has_secondary_use_rental                                   0.00  \n",
       "has_secondary_use_institution                              0.00  \n",
       "has_secondary_use_school                                   0.00  \n",
       "has_secondary_use_industry                                 0.00  \n",
       "has_secondary_use_health_post                             -0.00  \n",
       "has_secondary_use_gov_office                               0.00  \n",
       "has_secondary_use_use_police                              -0.00  \n",
       "has_secondary_use_other                                    1.00  \n",
       "\n",
       "[31 rows x 31 columns]"
      ]
     },
     "execution_count": 14,
     "metadata": {},
     "output_type": "execute_result"
    }
   ],
   "source": [
    "#En este analisis no entran las variables categoricas.\n",
    "corr_matrix = data_train.corr()\n",
    "corr_matrix"
   ]
  },
  {
   "cell_type": "markdown",
   "metadata": {},
   "source": [
    "Debo analizar las variables categoricas, ya que panda solo calcula correlacion de variables numericas. Aplico Hot Encoding para las siguientes columnas:\n",
    "\n",
    "    -land_surface_condition: condición de la superficie terrestre donde el edificio fue construido. Valores posibles: n, o, t.\n",
    "    -foundation_type: tipo de cimientos usados cuando se construyó la edificación. Valores posibles: h, i, r, u, w.\n",
    "    -roof_type: tipo de techo usado cuando se construyó la edificación. Valores posibles: n, q, x.\n",
    "    -ground_floor_type: tipo de construcción usado en la planta baja cuando se construyó la edificación. Valores posibles: f, m, v, x, z.\n",
    "    -other_floor_type : tipo de construcción usado en otros pisos cuando se construyó la edificación (exceptuando el techo). Posibles valores: j, q, s, x.\n",
    "    -position : orientación de la edificación. Posibles valores: j, o, s, t.\n",
    "    -plan_configuration: formato de construcción de la edificación (para diseño sísmico). Valores posibles: a, c, d, f, m, n, o, q, s, u.\n",
    "    -legal_ownership_status : estado legal de la tierra donde la edificación fue construida. Valores posibles: a, r, v, w.\n",
    "    -damage grade= 1,2,3\n",
    "\n"
   ]
  },
  {
   "cell_type": "code",
   "execution_count": 7,
   "metadata": {},
   "outputs": [
    {
     "data": {
      "text/html": [
       "<div>\n",
       "<style scoped>\n",
       "    .dataframe tbody tr th:only-of-type {\n",
       "        vertical-align: middle;\n",
       "    }\n",
       "\n",
       "    .dataframe tbody tr th {\n",
       "        vertical-align: top;\n",
       "    }\n",
       "\n",
       "    .dataframe thead th {\n",
       "        text-align: right;\n",
       "    }\n",
       "</style>\n",
       "<table border=\"1\" class=\"dataframe\">\n",
       "  <thead>\n",
       "    <tr style=\"text-align: right;\">\n",
       "      <th></th>\n",
       "      <th>building_id</th>\n",
       "      <th>geo_level_1_id</th>\n",
       "      <th>geo_level_2_id</th>\n",
       "      <th>geo_level_3_id</th>\n",
       "      <th>count_floors_pre_eq</th>\n",
       "      <th>age</th>\n",
       "      <th>area_percentage</th>\n",
       "      <th>height_percentage</th>\n",
       "      <th>has_superstructure_adobe_mud</th>\n",
       "      <th>has_superstructure_mud_mortar_stone</th>\n",
       "      <th>...</th>\n",
       "      <th>plan_configuration_q</th>\n",
       "      <th>plan_configuration_s</th>\n",
       "      <th>plan_configuration_u</th>\n",
       "      <th>legal_ownership_status_a</th>\n",
       "      <th>legal_ownership_status_r</th>\n",
       "      <th>legal_ownership_status_v</th>\n",
       "      <th>legal_ownership_status_w</th>\n",
       "      <th>damage_grade_1</th>\n",
       "      <th>damage_grade_2</th>\n",
       "      <th>damage_grade_3</th>\n",
       "    </tr>\n",
       "  </thead>\n",
       "  <tbody>\n",
       "    <tr>\n",
       "      <th>0</th>\n",
       "      <td>802906</td>\n",
       "      <td>6</td>\n",
       "      <td>487</td>\n",
       "      <td>12198</td>\n",
       "      <td>2</td>\n",
       "      <td>30</td>\n",
       "      <td>6</td>\n",
       "      <td>5</td>\n",
       "      <td>True</td>\n",
       "      <td>True</td>\n",
       "      <td>...</td>\n",
       "      <td>0</td>\n",
       "      <td>0</td>\n",
       "      <td>0</td>\n",
       "      <td>0</td>\n",
       "      <td>0</td>\n",
       "      <td>1</td>\n",
       "      <td>0</td>\n",
       "      <td>0</td>\n",
       "      <td>0</td>\n",
       "      <td>1</td>\n",
       "    </tr>\n",
       "    <tr>\n",
       "      <th>1</th>\n",
       "      <td>28830</td>\n",
       "      <td>8</td>\n",
       "      <td>900</td>\n",
       "      <td>2812</td>\n",
       "      <td>2</td>\n",
       "      <td>10</td>\n",
       "      <td>8</td>\n",
       "      <td>7</td>\n",
       "      <td>False</td>\n",
       "      <td>True</td>\n",
       "      <td>...</td>\n",
       "      <td>0</td>\n",
       "      <td>0</td>\n",
       "      <td>0</td>\n",
       "      <td>0</td>\n",
       "      <td>0</td>\n",
       "      <td>1</td>\n",
       "      <td>0</td>\n",
       "      <td>0</td>\n",
       "      <td>1</td>\n",
       "      <td>0</td>\n",
       "    </tr>\n",
       "    <tr>\n",
       "      <th>2</th>\n",
       "      <td>94947</td>\n",
       "      <td>21</td>\n",
       "      <td>363</td>\n",
       "      <td>8973</td>\n",
       "      <td>2</td>\n",
       "      <td>10</td>\n",
       "      <td>5</td>\n",
       "      <td>5</td>\n",
       "      <td>False</td>\n",
       "      <td>True</td>\n",
       "      <td>...</td>\n",
       "      <td>0</td>\n",
       "      <td>0</td>\n",
       "      <td>0</td>\n",
       "      <td>0</td>\n",
       "      <td>0</td>\n",
       "      <td>1</td>\n",
       "      <td>0</td>\n",
       "      <td>0</td>\n",
       "      <td>0</td>\n",
       "      <td>1</td>\n",
       "    </tr>\n",
       "    <tr>\n",
       "      <th>3</th>\n",
       "      <td>590882</td>\n",
       "      <td>22</td>\n",
       "      <td>418</td>\n",
       "      <td>10694</td>\n",
       "      <td>2</td>\n",
       "      <td>10</td>\n",
       "      <td>6</td>\n",
       "      <td>5</td>\n",
       "      <td>False</td>\n",
       "      <td>True</td>\n",
       "      <td>...</td>\n",
       "      <td>0</td>\n",
       "      <td>0</td>\n",
       "      <td>0</td>\n",
       "      <td>0</td>\n",
       "      <td>0</td>\n",
       "      <td>1</td>\n",
       "      <td>0</td>\n",
       "      <td>0</td>\n",
       "      <td>1</td>\n",
       "      <td>0</td>\n",
       "    </tr>\n",
       "    <tr>\n",
       "      <th>4</th>\n",
       "      <td>201944</td>\n",
       "      <td>11</td>\n",
       "      <td>131</td>\n",
       "      <td>1488</td>\n",
       "      <td>3</td>\n",
       "      <td>30</td>\n",
       "      <td>8</td>\n",
       "      <td>9</td>\n",
       "      <td>True</td>\n",
       "      <td>False</td>\n",
       "      <td>...</td>\n",
       "      <td>0</td>\n",
       "      <td>0</td>\n",
       "      <td>0</td>\n",
       "      <td>0</td>\n",
       "      <td>0</td>\n",
       "      <td>1</td>\n",
       "      <td>0</td>\n",
       "      <td>0</td>\n",
       "      <td>0</td>\n",
       "      <td>1</td>\n",
       "    </tr>\n",
       "    <tr>\n",
       "      <th>...</th>\n",
       "      <td>...</td>\n",
       "      <td>...</td>\n",
       "      <td>...</td>\n",
       "      <td>...</td>\n",
       "      <td>...</td>\n",
       "      <td>...</td>\n",
       "      <td>...</td>\n",
       "      <td>...</td>\n",
       "      <td>...</td>\n",
       "      <td>...</td>\n",
       "      <td>...</td>\n",
       "      <td>...</td>\n",
       "      <td>...</td>\n",
       "      <td>...</td>\n",
       "      <td>...</td>\n",
       "      <td>...</td>\n",
       "      <td>...</td>\n",
       "      <td>...</td>\n",
       "      <td>...</td>\n",
       "      <td>...</td>\n",
       "      <td>...</td>\n",
       "    </tr>\n",
       "    <tr>\n",
       "      <th>260596</th>\n",
       "      <td>688636</td>\n",
       "      <td>25</td>\n",
       "      <td>1335</td>\n",
       "      <td>1621</td>\n",
       "      <td>1</td>\n",
       "      <td>55</td>\n",
       "      <td>6</td>\n",
       "      <td>3</td>\n",
       "      <td>False</td>\n",
       "      <td>True</td>\n",
       "      <td>...</td>\n",
       "      <td>1</td>\n",
       "      <td>0</td>\n",
       "      <td>0</td>\n",
       "      <td>0</td>\n",
       "      <td>0</td>\n",
       "      <td>1</td>\n",
       "      <td>0</td>\n",
       "      <td>0</td>\n",
       "      <td>1</td>\n",
       "      <td>0</td>\n",
       "    </tr>\n",
       "    <tr>\n",
       "      <th>260597</th>\n",
       "      <td>669485</td>\n",
       "      <td>17</td>\n",
       "      <td>715</td>\n",
       "      <td>2060</td>\n",
       "      <td>2</td>\n",
       "      <td>0</td>\n",
       "      <td>6</td>\n",
       "      <td>5</td>\n",
       "      <td>False</td>\n",
       "      <td>True</td>\n",
       "      <td>...</td>\n",
       "      <td>0</td>\n",
       "      <td>0</td>\n",
       "      <td>0</td>\n",
       "      <td>0</td>\n",
       "      <td>0</td>\n",
       "      <td>1</td>\n",
       "      <td>0</td>\n",
       "      <td>0</td>\n",
       "      <td>0</td>\n",
       "      <td>1</td>\n",
       "    </tr>\n",
       "    <tr>\n",
       "      <th>260598</th>\n",
       "      <td>602512</td>\n",
       "      <td>17</td>\n",
       "      <td>51</td>\n",
       "      <td>8163</td>\n",
       "      <td>3</td>\n",
       "      <td>55</td>\n",
       "      <td>6</td>\n",
       "      <td>7</td>\n",
       "      <td>False</td>\n",
       "      <td>True</td>\n",
       "      <td>...</td>\n",
       "      <td>0</td>\n",
       "      <td>0</td>\n",
       "      <td>0</td>\n",
       "      <td>0</td>\n",
       "      <td>0</td>\n",
       "      <td>1</td>\n",
       "      <td>0</td>\n",
       "      <td>0</td>\n",
       "      <td>0</td>\n",
       "      <td>1</td>\n",
       "    </tr>\n",
       "    <tr>\n",
       "      <th>260599</th>\n",
       "      <td>151409</td>\n",
       "      <td>26</td>\n",
       "      <td>39</td>\n",
       "      <td>1851</td>\n",
       "      <td>2</td>\n",
       "      <td>10</td>\n",
       "      <td>14</td>\n",
       "      <td>6</td>\n",
       "      <td>False</td>\n",
       "      <td>False</td>\n",
       "      <td>...</td>\n",
       "      <td>0</td>\n",
       "      <td>0</td>\n",
       "      <td>0</td>\n",
       "      <td>0</td>\n",
       "      <td>0</td>\n",
       "      <td>1</td>\n",
       "      <td>0</td>\n",
       "      <td>0</td>\n",
       "      <td>1</td>\n",
       "      <td>0</td>\n",
       "    </tr>\n",
       "    <tr>\n",
       "      <th>260600</th>\n",
       "      <td>747594</td>\n",
       "      <td>21</td>\n",
       "      <td>9</td>\n",
       "      <td>9101</td>\n",
       "      <td>3</td>\n",
       "      <td>10</td>\n",
       "      <td>7</td>\n",
       "      <td>6</td>\n",
       "      <td>False</td>\n",
       "      <td>True</td>\n",
       "      <td>...</td>\n",
       "      <td>0</td>\n",
       "      <td>0</td>\n",
       "      <td>0</td>\n",
       "      <td>0</td>\n",
       "      <td>0</td>\n",
       "      <td>1</td>\n",
       "      <td>0</td>\n",
       "      <td>0</td>\n",
       "      <td>0</td>\n",
       "      <td>1</td>\n",
       "    </tr>\n",
       "  </tbody>\n",
       "</table>\n",
       "<p>260601 rows × 72 columns</p>\n",
       "</div>"
      ],
      "text/plain": [
       "        building_id  geo_level_1_id  geo_level_2_id  geo_level_3_id  \\\n",
       "0            802906               6             487           12198   \n",
       "1             28830               8             900            2812   \n",
       "2             94947              21             363            8973   \n",
       "3            590882              22             418           10694   \n",
       "4            201944              11             131            1488   \n",
       "...             ...             ...             ...             ...   \n",
       "260596       688636              25            1335            1621   \n",
       "260597       669485              17             715            2060   \n",
       "260598       602512              17              51            8163   \n",
       "260599       151409              26              39            1851   \n",
       "260600       747594              21               9            9101   \n",
       "\n",
       "        count_floors_pre_eq  age  area_percentage  height_percentage  \\\n",
       "0                         2   30                6                  5   \n",
       "1                         2   10                8                  7   \n",
       "2                         2   10                5                  5   \n",
       "3                         2   10                6                  5   \n",
       "4                         3   30                8                  9   \n",
       "...                     ...  ...              ...                ...   \n",
       "260596                    1   55                6                  3   \n",
       "260597                    2    0                6                  5   \n",
       "260598                    3   55                6                  7   \n",
       "260599                    2   10               14                  6   \n",
       "260600                    3   10                7                  6   \n",
       "\n",
       "        has_superstructure_adobe_mud  has_superstructure_mud_mortar_stone  \\\n",
       "0                               True                                 True   \n",
       "1                              False                                 True   \n",
       "2                              False                                 True   \n",
       "3                              False                                 True   \n",
       "4                               True                                False   \n",
       "...                              ...                                  ...   \n",
       "260596                         False                                 True   \n",
       "260597                         False                                 True   \n",
       "260598                         False                                 True   \n",
       "260599                         False                                False   \n",
       "260600                         False                                 True   \n",
       "\n",
       "        ...  plan_configuration_q  plan_configuration_s  plan_configuration_u  \\\n",
       "0       ...                     0                     0                     0   \n",
       "1       ...                     0                     0                     0   \n",
       "2       ...                     0                     0                     0   \n",
       "3       ...                     0                     0                     0   \n",
       "4       ...                     0                     0                     0   \n",
       "...     ...                   ...                   ...                   ...   \n",
       "260596  ...                     1                     0                     0   \n",
       "260597  ...                     0                     0                     0   \n",
       "260598  ...                     0                     0                     0   \n",
       "260599  ...                     0                     0                     0   \n",
       "260600  ...                     0                     0                     0   \n",
       "\n",
       "        legal_ownership_status_a  legal_ownership_status_r  \\\n",
       "0                              0                         0   \n",
       "1                              0                         0   \n",
       "2                              0                         0   \n",
       "3                              0                         0   \n",
       "4                              0                         0   \n",
       "...                          ...                       ...   \n",
       "260596                         0                         0   \n",
       "260597                         0                         0   \n",
       "260598                         0                         0   \n",
       "260599                         0                         0   \n",
       "260600                         0                         0   \n",
       "\n",
       "        legal_ownership_status_v  legal_ownership_status_w  damage_grade_1  \\\n",
       "0                              1                         0               0   \n",
       "1                              1                         0               0   \n",
       "2                              1                         0               0   \n",
       "3                              1                         0               0   \n",
       "4                              1                         0               0   \n",
       "...                          ...                       ...             ...   \n",
       "260596                         1                         0               0   \n",
       "260597                         1                         0               0   \n",
       "260598                         1                         0               0   \n",
       "260599                         1                         0               0   \n",
       "260600                         1                         0               0   \n",
       "\n",
       "        damage_grade_2  damage_grade_3  \n",
       "0                    0               1  \n",
       "1                    1               0  \n",
       "2                    0               1  \n",
       "3                    1               0  \n",
       "4                    0               1  \n",
       "...                ...             ...  \n",
       "260596               1               0  \n",
       "260597               0               1  \n",
       "260598               0               1  \n",
       "260599               1               0  \n",
       "260600               0               1  \n",
       "\n",
       "[260601 rows x 72 columns]"
      ]
     },
     "execution_count": 7,
     "metadata": {},
     "output_type": "execute_result"
    }
   ],
   "source": [
    "# Aplico Hot Encoding de las variables categoricas para poder analizar correlacion.\n",
    "data_corr = pd.get_dummies(data_train)\n",
    "data_corr"
   ]
  },
  {
   "cell_type": "code",
   "execution_count": 26,
   "metadata": {},
   "outputs": [
    {
     "data": {
      "text/html": [
       "<div>\n",
       "<style scoped>\n",
       "    .dataframe tbody tr th:only-of-type {\n",
       "        vertical-align: middle;\n",
       "    }\n",
       "\n",
       "    .dataframe tbody tr th {\n",
       "        vertical-align: top;\n",
       "    }\n",
       "\n",
       "    .dataframe thead th {\n",
       "        text-align: right;\n",
       "    }\n",
       "</style>\n",
       "<table border=\"1\" class=\"dataframe\">\n",
       "  <thead>\n",
       "    <tr style=\"text-align: right;\">\n",
       "      <th></th>\n",
       "      <th>building_id</th>\n",
       "      <th>geo_level_1_id</th>\n",
       "      <th>geo_level_2_id</th>\n",
       "      <th>geo_level_3_id</th>\n",
       "      <th>count_floors_pre_eq</th>\n",
       "      <th>age</th>\n",
       "      <th>area_percentage</th>\n",
       "      <th>height_percentage</th>\n",
       "      <th>has_superstructure_adobe_mud</th>\n",
       "      <th>has_superstructure_mud_mortar_stone</th>\n",
       "      <th>...</th>\n",
       "      <th>Construccion sismica tipo q</th>\n",
       "      <th>Construccion sismica tipo s</th>\n",
       "      <th>Construccion sismica tipo u</th>\n",
       "      <th>Estado legal tipo a</th>\n",
       "      <th>Estado legal tipo r</th>\n",
       "      <th>Estado legal tipo v</th>\n",
       "      <th>Estado legal tipo w</th>\n",
       "      <th>Low Damage</th>\n",
       "      <th>Medium Damage</th>\n",
       "      <th>High Damage</th>\n",
       "    </tr>\n",
       "  </thead>\n",
       "  <tbody>\n",
       "    <tr>\n",
       "      <th>building_id</th>\n",
       "      <td>1.00</td>\n",
       "      <td>-0.00</td>\n",
       "      <td>0.00</td>\n",
       "      <td>-0.00</td>\n",
       "      <td>-0.00</td>\n",
       "      <td>-0.00</td>\n",
       "      <td>-0.00</td>\n",
       "      <td>0.00</td>\n",
       "      <td>-0.00</td>\n",
       "      <td>0.00</td>\n",
       "      <td>...</td>\n",
       "      <td>-0.00</td>\n",
       "      <td>0.00</td>\n",
       "      <td>0.00</td>\n",
       "      <td>-0.00</td>\n",
       "      <td>-0.00</td>\n",
       "      <td>0.00</td>\n",
       "      <td>-0.00</td>\n",
       "      <td>0.00</td>\n",
       "      <td>-0.00</td>\n",
       "      <td>0.00</td>\n",
       "    </tr>\n",
       "    <tr>\n",
       "      <th>geo_level_1_id</th>\n",
       "      <td>-0.00</td>\n",
       "      <td>1.00</td>\n",
       "      <td>-0.06</td>\n",
       "      <td>0.00</td>\n",
       "      <td>-0.09</td>\n",
       "      <td>-0.00</td>\n",
       "      <td>0.07</td>\n",
       "      <td>-0.06</td>\n",
       "      <td>-0.02</td>\n",
       "      <td>-0.15</td>\n",
       "      <td>...</td>\n",
       "      <td>0.01</td>\n",
       "      <td>0.01</td>\n",
       "      <td>0.03</td>\n",
       "      <td>0.10</td>\n",
       "      <td>0.01</td>\n",
       "      <td>-0.08</td>\n",
       "      <td>0.00</td>\n",
       "      <td>0.14</td>\n",
       "      <td>-0.08</td>\n",
       "      <td>-0.01</td>\n",
       "    </tr>\n",
       "    <tr>\n",
       "      <th>geo_level_2_id</th>\n",
       "      <td>0.00</td>\n",
       "      <td>-0.06</td>\n",
       "      <td>1.00</td>\n",
       "      <td>0.00</td>\n",
       "      <td>0.05</td>\n",
       "      <td>0.01</td>\n",
       "      <td>-0.05</td>\n",
       "      <td>0.04</td>\n",
       "      <td>0.02</td>\n",
       "      <td>0.08</td>\n",
       "      <td>...</td>\n",
       "      <td>-0.00</td>\n",
       "      <td>-0.01</td>\n",
       "      <td>-0.03</td>\n",
       "      <td>-0.03</td>\n",
       "      <td>-0.03</td>\n",
       "      <td>0.02</td>\n",
       "      <td>0.01</td>\n",
       "      <td>-0.04</td>\n",
       "      <td>-0.01</td>\n",
       "      <td>0.03</td>\n",
       "    </tr>\n",
       "    <tr>\n",
       "      <th>geo_level_3_id</th>\n",
       "      <td>-0.00</td>\n",
       "      <td>0.00</td>\n",
       "      <td>0.00</td>\n",
       "      <td>1.00</td>\n",
       "      <td>-0.02</td>\n",
       "      <td>-0.01</td>\n",
       "      <td>-0.01</td>\n",
       "      <td>-0.02</td>\n",
       "      <td>-0.02</td>\n",
       "      <td>0.03</td>\n",
       "      <td>...</td>\n",
       "      <td>0.00</td>\n",
       "      <td>-0.00</td>\n",
       "      <td>0.00</td>\n",
       "      <td>0.03</td>\n",
       "      <td>-0.00</td>\n",
       "      <td>-0.02</td>\n",
       "      <td>-0.01</td>\n",
       "      <td>0.00</td>\n",
       "      <td>-0.01</td>\n",
       "      <td>0.01</td>\n",
       "    </tr>\n",
       "    <tr>\n",
       "      <th>count_floors_pre_eq</th>\n",
       "      <td>-0.00</td>\n",
       "      <td>-0.09</td>\n",
       "      <td>0.05</td>\n",
       "      <td>-0.02</td>\n",
       "      <td>1.00</td>\n",
       "      <td>0.09</td>\n",
       "      <td>0.10</td>\n",
       "      <td>0.77</td>\n",
       "      <td>0.17</td>\n",
       "      <td>-0.03</td>\n",
       "      <td>...</td>\n",
       "      <td>-0.03</td>\n",
       "      <td>-0.00</td>\n",
       "      <td>-0.00</td>\n",
       "      <td>-0.10</td>\n",
       "      <td>-0.01</td>\n",
       "      <td>0.07</td>\n",
       "      <td>0.01</td>\n",
       "      <td>-0.13</td>\n",
       "      <td>0.00</td>\n",
       "      <td>0.08</td>\n",
       "    </tr>\n",
       "    <tr>\n",
       "      <th>...</th>\n",
       "      <td>...</td>\n",
       "      <td>...</td>\n",
       "      <td>...</td>\n",
       "      <td>...</td>\n",
       "      <td>...</td>\n",
       "      <td>...</td>\n",
       "      <td>...</td>\n",
       "      <td>...</td>\n",
       "      <td>...</td>\n",
       "      <td>...</td>\n",
       "      <td>...</td>\n",
       "      <td>...</td>\n",
       "      <td>...</td>\n",
       "      <td>...</td>\n",
       "      <td>...</td>\n",
       "      <td>...</td>\n",
       "      <td>...</td>\n",
       "      <td>...</td>\n",
       "      <td>...</td>\n",
       "      <td>...</td>\n",
       "      <td>...</td>\n",
       "    </tr>\n",
       "    <tr>\n",
       "      <th>Estado legal tipo v</th>\n",
       "      <td>0.00</td>\n",
       "      <td>-0.08</td>\n",
       "      <td>0.02</td>\n",
       "      <td>-0.02</td>\n",
       "      <td>0.07</td>\n",
       "      <td>0.02</td>\n",
       "      <td>0.03</td>\n",
       "      <td>0.06</td>\n",
       "      <td>-0.00</td>\n",
       "      <td>0.13</td>\n",
       "      <td>...</td>\n",
       "      <td>-0.01</td>\n",
       "      <td>-0.00</td>\n",
       "      <td>-0.02</td>\n",
       "      <td>-0.75</td>\n",
       "      <td>-0.38</td>\n",
       "      <td>1.00</td>\n",
       "      <td>-0.52</td>\n",
       "      <td>-0.06</td>\n",
       "      <td>0.02</td>\n",
       "      <td>0.02</td>\n",
       "    </tr>\n",
       "    <tr>\n",
       "      <th>Estado legal tipo w</th>\n",
       "      <td>-0.00</td>\n",
       "      <td>0.00</td>\n",
       "      <td>0.01</td>\n",
       "      <td>-0.01</td>\n",
       "      <td>0.01</td>\n",
       "      <td>0.00</td>\n",
       "      <td>-0.00</td>\n",
       "      <td>0.00</td>\n",
       "      <td>0.03</td>\n",
       "      <td>-0.00</td>\n",
       "      <td>...</td>\n",
       "      <td>-0.00</td>\n",
       "      <td>-0.00</td>\n",
       "      <td>0.00</td>\n",
       "      <td>-0.01</td>\n",
       "      <td>-0.01</td>\n",
       "      <td>-0.52</td>\n",
       "      <td>1.00</td>\n",
       "      <td>-0.02</td>\n",
       "      <td>-0.02</td>\n",
       "      <td>0.03</td>\n",
       "    </tr>\n",
       "    <tr>\n",
       "      <th>Low Damage</th>\n",
       "      <td>0.00</td>\n",
       "      <td>0.14</td>\n",
       "      <td>-0.04</td>\n",
       "      <td>0.00</td>\n",
       "      <td>-0.13</td>\n",
       "      <td>-0.04</td>\n",
       "      <td>0.13</td>\n",
       "      <td>-0.05</td>\n",
       "      <td>-0.07</td>\n",
       "      <td>-0.32</td>\n",
       "      <td>...</td>\n",
       "      <td>0.02</td>\n",
       "      <td>0.01</td>\n",
       "      <td>0.05</td>\n",
       "      <td>0.09</td>\n",
       "      <td>0.01</td>\n",
       "      <td>-0.06</td>\n",
       "      <td>-0.02</td>\n",
       "      <td>1.00</td>\n",
       "      <td>-0.38</td>\n",
       "      <td>-0.23</td>\n",
       "    </tr>\n",
       "    <tr>\n",
       "      <th>Medium Damage</th>\n",
       "      <td>-0.00</td>\n",
       "      <td>-0.08</td>\n",
       "      <td>-0.01</td>\n",
       "      <td>-0.01</td>\n",
       "      <td>0.00</td>\n",
       "      <td>0.01</td>\n",
       "      <td>0.00</td>\n",
       "      <td>-0.00</td>\n",
       "      <td>0.02</td>\n",
       "      <td>0.02</td>\n",
       "      <td>...</td>\n",
       "      <td>-0.03</td>\n",
       "      <td>0.01</td>\n",
       "      <td>0.02</td>\n",
       "      <td>-0.00</td>\n",
       "      <td>-0.01</td>\n",
       "      <td>0.02</td>\n",
       "      <td>-0.02</td>\n",
       "      <td>-0.38</td>\n",
       "      <td>1.00</td>\n",
       "      <td>-0.81</td>\n",
       "    </tr>\n",
       "    <tr>\n",
       "      <th>High Damage</th>\n",
       "      <td>0.00</td>\n",
       "      <td>-0.01</td>\n",
       "      <td>0.03</td>\n",
       "      <td>0.01</td>\n",
       "      <td>0.08</td>\n",
       "      <td>0.01</td>\n",
       "      <td>-0.08</td>\n",
       "      <td>0.03</td>\n",
       "      <td>0.02</td>\n",
       "      <td>0.18</td>\n",
       "      <td>...</td>\n",
       "      <td>0.02</td>\n",
       "      <td>-0.01</td>\n",
       "      <td>-0.05</td>\n",
       "      <td>-0.05</td>\n",
       "      <td>0.00</td>\n",
       "      <td>0.02</td>\n",
       "      <td>0.03</td>\n",
       "      <td>-0.23</td>\n",
       "      <td>-0.81</td>\n",
       "      <td>1.00</td>\n",
       "    </tr>\n",
       "  </tbody>\n",
       "</table>\n",
       "<p>72 rows × 72 columns</p>\n",
       "</div>"
      ],
      "text/plain": [
       "                             building_id       geo_level_1_id  \\\n",
       "building_id                         1.00                -0.00   \n",
       "geo_level_1_id                     -0.00                 1.00   \n",
       "geo_level_2_id                      0.00                -0.06   \n",
       "geo_level_3_id                     -0.00                 0.00   \n",
       "count_floors_pre_eq                -0.00                -0.09   \n",
       "...                                  ...                  ...   \n",
       "Estado legal tipo v                 0.00                -0.08   \n",
       "Estado legal tipo w                -0.00                 0.00   \n",
       "Low Damage                          0.00                 0.14   \n",
       "Medium Damage                      -0.00                -0.08   \n",
       "High Damage                         0.00                -0.01   \n",
       "\n",
       "                          geo_level_2_id       geo_level_3_id  \\\n",
       "building_id                         0.00                -0.00   \n",
       "geo_level_1_id                     -0.06                 0.00   \n",
       "geo_level_2_id                      1.00                 0.00   \n",
       "geo_level_3_id                      0.00                 1.00   \n",
       "count_floors_pre_eq                 0.05                -0.02   \n",
       "...                                  ...                  ...   \n",
       "Estado legal tipo v                 0.02                -0.02   \n",
       "Estado legal tipo w                 0.01                -0.01   \n",
       "Low Damage                         -0.04                 0.00   \n",
       "Medium Damage                      -0.01                -0.01   \n",
       "High Damage                         0.03                 0.01   \n",
       "\n",
       "                     count_floors_pre_eq                  age  \\\n",
       "building_id                        -0.00                -0.00   \n",
       "geo_level_1_id                     -0.09                -0.00   \n",
       "geo_level_2_id                      0.05                 0.01   \n",
       "geo_level_3_id                     -0.02                -0.01   \n",
       "count_floors_pre_eq                 1.00                 0.09   \n",
       "...                                  ...                  ...   \n",
       "Estado legal tipo v                 0.07                 0.02   \n",
       "Estado legal tipo w                 0.01                 0.00   \n",
       "Low Damage                         -0.13                -0.04   \n",
       "Medium Damage                       0.00                 0.01   \n",
       "High Damage                         0.08                 0.01   \n",
       "\n",
       "                         area_percentage    height_percentage  \\\n",
       "building_id                        -0.00                 0.00   \n",
       "geo_level_1_id                      0.07                -0.06   \n",
       "geo_level_2_id                     -0.05                 0.04   \n",
       "geo_level_3_id                     -0.01                -0.02   \n",
       "count_floors_pre_eq                 0.10                 0.77   \n",
       "...                                  ...                  ...   \n",
       "Estado legal tipo v                 0.03                 0.06   \n",
       "Estado legal tipo w                -0.00                 0.00   \n",
       "Low Damage                          0.13                -0.05   \n",
       "Medium Damage                       0.00                -0.00   \n",
       "High Damage                        -0.08                 0.03   \n",
       "\n",
       "                     has_superstructure_adobe_mud  \\\n",
       "building_id                                 -0.00   \n",
       "geo_level_1_id                              -0.02   \n",
       "geo_level_2_id                               0.02   \n",
       "geo_level_3_id                              -0.02   \n",
       "count_floors_pre_eq                          0.17   \n",
       "...                                           ...   \n",
       "Estado legal tipo v                         -0.00   \n",
       "Estado legal tipo w                          0.03   \n",
       "Low Damage                                  -0.07   \n",
       "Medium Damage                                0.02   \n",
       "High Damage                                  0.02   \n",
       "\n",
       "                     has_superstructure_mud_mortar_stone  ...  \\\n",
       "building_id                                         0.00  ...   \n",
       "geo_level_1_id                                     -0.15  ...   \n",
       "geo_level_2_id                                      0.08  ...   \n",
       "geo_level_3_id                                      0.03  ...   \n",
       "count_floors_pre_eq                                -0.03  ...   \n",
       "...                                                  ...  ...   \n",
       "Estado legal tipo v                                 0.13  ...   \n",
       "Estado legal tipo w                                -0.00  ...   \n",
       "Low Damage                                         -0.32  ...   \n",
       "Medium Damage                                       0.02  ...   \n",
       "High Damage                                         0.18  ...   \n",
       "\n",
       "                     Construccion sismica tipo q  Construccion sismica tipo s  \\\n",
       "building_id                                -0.00                         0.00   \n",
       "geo_level_1_id                              0.01                         0.01   \n",
       "geo_level_2_id                             -0.00                        -0.01   \n",
       "geo_level_3_id                              0.00                        -0.00   \n",
       "count_floors_pre_eq                        -0.03                        -0.00   \n",
       "...                                          ...                          ...   \n",
       "Estado legal tipo v                        -0.01                        -0.00   \n",
       "Estado legal tipo w                        -0.00                        -0.00   \n",
       "Low Damage                                  0.02                         0.01   \n",
       "Medium Damage                              -0.03                         0.01   \n",
       "High Damage                                 0.02                        -0.01   \n",
       "\n",
       "                     Construccion sismica tipo u  Estado legal tipo a  \\\n",
       "building_id                                 0.00                -0.00   \n",
       "geo_level_1_id                              0.03                 0.10   \n",
       "geo_level_2_id                             -0.03                -0.03   \n",
       "geo_level_3_id                              0.00                 0.03   \n",
       "count_floors_pre_eq                        -0.00                -0.10   \n",
       "...                                          ...                  ...   \n",
       "Estado legal tipo v                        -0.02                -0.75   \n",
       "Estado legal tipo w                         0.00                -0.01   \n",
       "Low Damage                                  0.05                 0.09   \n",
       "Medium Damage                               0.02                -0.00   \n",
       "High Damage                                -0.05                -0.05   \n",
       "\n",
       "                     Estado legal tipo r  Estado legal tipo v  \\\n",
       "building_id                        -0.00                 0.00   \n",
       "geo_level_1_id                      0.01                -0.08   \n",
       "geo_level_2_id                     -0.03                 0.02   \n",
       "geo_level_3_id                     -0.00                -0.02   \n",
       "count_floors_pre_eq                -0.01                 0.07   \n",
       "...                                  ...                  ...   \n",
       "Estado legal tipo v                -0.38                 1.00   \n",
       "Estado legal tipo w                -0.01                -0.52   \n",
       "Low Damage                          0.01                -0.06   \n",
       "Medium Damage                      -0.01                 0.02   \n",
       "High Damage                         0.00                 0.02   \n",
       "\n",
       "                     Estado legal tipo w           Low Damage  \\\n",
       "building_id                        -0.00                 0.00   \n",
       "geo_level_1_id                      0.00                 0.14   \n",
       "geo_level_2_id                      0.01                -0.04   \n",
       "geo_level_3_id                     -0.01                 0.00   \n",
       "count_floors_pre_eq                 0.01                -0.13   \n",
       "...                                  ...                  ...   \n",
       "Estado legal tipo v                -0.52                -0.06   \n",
       "Estado legal tipo w                 1.00                -0.02   \n",
       "Low Damage                         -0.02                 1.00   \n",
       "Medium Damage                      -0.02                -0.38   \n",
       "High Damage                         0.03                -0.23   \n",
       "\n",
       "                           Medium Damage          High Damage  \n",
       "building_id                        -0.00                 0.00  \n",
       "geo_level_1_id                     -0.08                -0.01  \n",
       "geo_level_2_id                     -0.01                 0.03  \n",
       "geo_level_3_id                     -0.01                 0.01  \n",
       "count_floors_pre_eq                 0.00                 0.08  \n",
       "...                                  ...                  ...  \n",
       "Estado legal tipo v                 0.02                 0.02  \n",
       "Estado legal tipo w                -0.02                 0.03  \n",
       "Low Damage                         -0.38                -0.23  \n",
       "Medium Damage                       1.00                -0.81  \n",
       "High Damage                        -0.81                 1.00  \n",
       "\n",
       "[72 rows x 72 columns]"
      ]
     },
     "execution_count": 26,
     "metadata": {},
     "output_type": "execute_result"
    }
   ],
   "source": [
    "corr_matrix = data_corr.corr()\n",
    "corr_matrix"
   ]
  },
  {
   "cell_type": "code",
   "execution_count": 10,
   "metadata": {},
   "outputs": [
    {
     "data": {
      "text/plain": [
       "['geo_level_1_id',\n",
       " 'geo_level_2_id',\n",
       " 'geo_level_3_id',\n",
       " 'count_floors_pre_eq',\n",
       " 'age',\n",
       " 'area_percentage',\n",
       " 'height_percentage',\n",
       " 'has_superstructure_adobe_mud',\n",
       " 'has_superstructure_mud_mortar_stone',\n",
       " 'has_superstructure_stone_flag',\n",
       " 'has_superstructure_cement_mortar_stone',\n",
       " 'has_superstructure_mud_mortar_brick',\n",
       " 'has_superstructure_cement_mortar_brick',\n",
       " 'has_superstructure_timber',\n",
       " 'has_superstructure_bamboo',\n",
       " 'has_superstructure_rc_non_engineered',\n",
       " 'has_superstructure_rc_engineered',\n",
       " 'has_superstructure_other',\n",
       " 'count_families',\n",
       " 'has_secondary_use',\n",
       " 'has_secondary_use_agriculture',\n",
       " 'has_secondary_use_hotel',\n",
       " 'has_secondary_use_rental',\n",
       " 'has_secondary_use_institution',\n",
       " 'has_secondary_use_school',\n",
       " 'has_secondary_use_industry',\n",
       " 'has_secondary_use_health_post',\n",
       " 'has_secondary_use_gov_office',\n",
       " 'has_secondary_use_use_police',\n",
       " 'has_secondary_use_other',\n",
       " 'land_surface_condition_n',\n",
       " 'land_surface_condition_o',\n",
       " 'land_surface_condition_t',\n",
       " 'foundation_type_h',\n",
       " 'foundation_type_i',\n",
       " 'foundation_type_r',\n",
       " 'foundation_type_u',\n",
       " 'foundation_type_w',\n",
       " 'roof_type_n',\n",
       " 'roof_type_q',\n",
       " 'roof_type_x',\n",
       " 'ground_floor_type_f',\n",
       " 'ground_floor_type_m',\n",
       " 'ground_floor_type_v',\n",
       " 'ground_floor_type_x',\n",
       " 'ground_floor_type_z',\n",
       " 'other_floor_type_j',\n",
       " 'other_floor_type_q',\n",
       " 'other_floor_type_s',\n",
       " 'other_floor_type_x',\n",
       " 'position_j',\n",
       " 'position_o',\n",
       " 'position_s',\n",
       " 'position_t',\n",
       " 'plan_configuration_a',\n",
       " 'plan_configuration_c',\n",
       " 'plan_configuration_d',\n",
       " 'plan_configuration_f',\n",
       " 'plan_configuration_m',\n",
       " 'plan_configuration_n',\n",
       " 'plan_configuration_o',\n",
       " 'plan_configuration_q',\n",
       " 'plan_configuration_s',\n",
       " 'plan_configuration_u',\n",
       " 'legal_ownership_status_a',\n",
       " 'legal_ownership_status_r',\n",
       " 'legal_ownership_status_v',\n",
       " 'legal_ownership_status_w']"
      ]
     },
     "execution_count": 10,
     "metadata": {},
     "output_type": "execute_result"
    }
   ],
   "source": [
    "columns_for_correlation = data_corr.columns.to_list()\n",
    "columns_for_correlation.remove('building_id')\n",
    "columns_for_correlation.remove('damage_grade_1')\n",
    "columns_for_correlation.remove('damage_grade_2')\n",
    "columns_for_correlation.remove('damage_grade_3')\n",
    "columns_for_correlation"
   ]
  },
  {
   "cell_type": "code",
   "execution_count": 28,
   "metadata": {},
   "outputs": [
    {
     "data": {
      "text/html": [
       "<div>\n",
       "<style scoped>\n",
       "    .dataframe tbody tr th:only-of-type {\n",
       "        vertical-align: middle;\n",
       "    }\n",
       "\n",
       "    .dataframe tbody tr th {\n",
       "        vertical-align: top;\n",
       "    }\n",
       "\n",
       "    .dataframe thead th {\n",
       "        text-align: right;\n",
       "    }\n",
       "</style>\n",
       "<table border=\"1\" class=\"dataframe\">\n",
       "  <thead>\n",
       "    <tr style=\"text-align: right;\">\n",
       "      <th></th>\n",
       "      <th>correlation</th>\n",
       "    </tr>\n",
       "    <tr>\n",
       "      <th>colum_name</th>\n",
       "      <th></th>\n",
       "    </tr>\n",
       "  </thead>\n",
       "  <tbody>\n",
       "    <tr>\n",
       "      <th>Cimientos Tipo r</th>\n",
       "      <td>0.37</td>\n",
       "    </tr>\n",
       "    <tr>\n",
       "      <th>Planta baja tipo v</th>\n",
       "      <td>0.35</td>\n",
       "    </tr>\n",
       "    <tr>\n",
       "      <th>Cimientos Tipo i</th>\n",
       "      <td>0.33</td>\n",
       "    </tr>\n",
       "    <tr>\n",
       "      <th>Techos Tipo x</th>\n",
       "      <td>0.33</td>\n",
       "    </tr>\n",
       "    <tr>\n",
       "      <th>has_superstructure_mud_mortar_stone</th>\n",
       "      <td>0.32</td>\n",
       "    </tr>\n",
       "    <tr>\n",
       "      <th>Contruccion de otros pisos tipo s</th>\n",
       "      <td>0.26</td>\n",
       "    </tr>\n",
       "    <tr>\n",
       "      <th>has_superstructure_cement_mortar_brick</th>\n",
       "      <td>0.26</td>\n",
       "    </tr>\n",
       "    <tr>\n",
       "      <th>Planta baja tipo f</th>\n",
       "      <td>0.25</td>\n",
       "    </tr>\n",
       "    <tr>\n",
       "      <th>has_superstructure_rc_engineered</th>\n",
       "      <td>0.23</td>\n",
       "    </tr>\n",
       "    <tr>\n",
       "      <th>Contruccion de otros pisos tipo q</th>\n",
       "      <td>0.23</td>\n",
       "    </tr>\n",
       "    <tr>\n",
       "      <th>Contruccion de otros pisos tipo j</th>\n",
       "      <td>0.18</td>\n",
       "    </tr>\n",
       "    <tr>\n",
       "      <th>has_superstructure_rc_non_engineered</th>\n",
       "      <td>0.18</td>\n",
       "    </tr>\n",
       "    <tr>\n",
       "      <th>Cimientos Tipo w</th>\n",
       "      <td>0.16</td>\n",
       "    </tr>\n",
       "    <tr>\n",
       "      <th>geo_level_1_id</th>\n",
       "      <td>0.14</td>\n",
       "    </tr>\n",
       "    <tr>\n",
       "      <th>Cimientos Tipo u</th>\n",
       "      <td>0.13</td>\n",
       "    </tr>\n",
       "    <tr>\n",
       "      <th>count_floors_pre_eq</th>\n",
       "      <td>0.13</td>\n",
       "    </tr>\n",
       "    <tr>\n",
       "      <th>area_percentage</th>\n",
       "      <td>0.13</td>\n",
       "    </tr>\n",
       "    <tr>\n",
       "      <th>Techos Tipo n</th>\n",
       "      <td>0.12</td>\n",
       "    </tr>\n",
       "    <tr>\n",
       "      <th>has_secondary_use_hotel</th>\n",
       "      <td>0.10</td>\n",
       "    </tr>\n",
       "    <tr>\n",
       "      <th>has_secondary_use_rental</th>\n",
       "      <td>0.10</td>\n",
       "    </tr>\n",
       "  </tbody>\n",
       "</table>\n",
       "</div>"
      ],
      "text/plain": [
       "                                                correlation\n",
       "colum_name                                                 \n",
       "Cimientos Tipo r                                       0.37\n",
       "Planta baja tipo v                                     0.35\n",
       "Cimientos Tipo i                                       0.33\n",
       "Techos Tipo x                                          0.33\n",
       "has_superstructure_mud_mortar_stone                    0.32\n",
       "Contruccion de otros pisos tipo s                      0.26\n",
       "has_superstructure_cement_mortar_brick                 0.26\n",
       "Planta baja tipo f                                     0.25\n",
       "has_superstructure_rc_engineered                       0.23\n",
       "Contruccion de otros pisos tipo q                      0.23\n",
       "Contruccion de otros pisos tipo j                      0.18\n",
       "has_superstructure_rc_non_engineered                   0.18\n",
       "Cimientos Tipo w                                       0.16\n",
       "geo_level_1_id                                         0.14\n",
       "Cimientos Tipo u                                       0.13\n",
       "count_floors_pre_eq                                    0.13\n",
       "area_percentage                                        0.13\n",
       "Techos Tipo n                                          0.12\n",
       "has_secondary_use_hotel                                0.10\n",
       "has_secondary_use_rental                               0.10"
      ]
     },
     "execution_count": 28,
     "metadata": {},
     "output_type": "execute_result"
    }
   ],
   "source": [
    "#Correlacion entre Variable y Low Damage\n",
    "\n",
    "low_damage_correlation = pd.DataFrame(columns=['colum_name', 'correlation'])\n",
    "for col in columns_for_correlation:\n",
    "    low_correlation = data_corr[[col, 'Low Damage']].corr()\n",
    "    low_damage_correlation.loc[len(low_damage_correlation)] = [col, low_correlation.min().min()]\n",
    "\n",
    "low_damage_correlation = low_damage_correlation.set_index('colum_name').sort_values(by='correlation', ascending=False)\n",
    "low_damage_correlation.abs().nlargest(20,\"correlation\")"
   ]
  },
  {
   "cell_type": "code",
   "execution_count": 29,
   "metadata": {},
   "outputs": [
    {
     "data": {
      "text/plain": [
       "Text(0.5, 1.0, 'Correlaciones en valores absolutos con columna Low Damage')"
      ]
     },
     "execution_count": 29,
     "metadata": {},
     "output_type": "execute_result"
    },
    {
     "data": {
      "image/png": "[encoded data removed]",
      "text/plain": [
       "<Figure size 1296x360 with 1 Axes>"
      ]
     },
     "metadata": {
      "needs_background": "light"
     },
     "output_type": "display_data"
    }
   ],
   "source": [
    "%matplotlib inline\n",
    "plt.rcParams[\"figure.figsize\"] = [18, 5]\n",
    "\n",
    "absolute_damage_correlation = low_damage_correlation.abs()\n",
    "\n",
    "ax = absolute_damage_correlation.sort_values(by='correlation', ascending=False).plot.bar(color=\"lightblue\")\n",
    "ax.set_xlabel(\"Columnas\")\n",
    "ax.set_ylabel(\"Correlacion Absoluta con Low Damage\")\n",
    "ax.set_title(\"Correlaciones en valores absolutos con columna Low Damage\")\n"
   ]
  },
  {
   "cell_type": "code",
   "execution_count": 30,
   "metadata": {},
   "outputs": [
    {
     "data": {
      "text/plain": [
       "Text(0.5, 1.0, 'Top 10Correlaciones en valores absolutos con columna Low Damage')"
      ]
     },
     "execution_count": 30,
     "metadata": {},
     "output_type": "execute_result"
    },
    {
     "data": {
      "image/png": "[encoded data removed]",
      "text/plain": [
       "<Figure size 1296x360 with 1 Axes>"
      ]
     },
     "metadata": {
      "needs_background": "light"
     },
     "output_type": "display_data"
    }
   ],
   "source": [
    "%matplotlib inline\n",
    "plt.rcParams[\"figure.figsize\"] = [18, 5]\n",
    "\n",
    "absolute_damage_correlation = low_damage_correlation.abs().nlargest(15,\"correlation\")\n",
    "\n",
    "ax = absolute_damage_correlation.sort_values(by='correlation', ascending=False).plot.bar(color=\"lightblue\")\n",
    "ax.set_xlabel(\"Columnas\")\n",
    "ax.set_ylabel(\"Correlacion Absoluta con Low Damage\")\n",
    "ax.set_title(\"Top 10Correlaciones en valores absolutos con columna Low Damage\")\n"
   ]
  },
  {
   "cell_type": "code",
   "execution_count": 31,
   "metadata": {},
   "outputs": [
    {
     "data": {
      "text/html": [
       "<div>\n",
       "<style scoped>\n",
       "    .dataframe tbody tr th:only-of-type {\n",
       "        vertical-align: middle;\n",
       "    }\n",
       "\n",
       "    .dataframe tbody tr th {\n",
       "        vertical-align: top;\n",
       "    }\n",
       "\n",
       "    .dataframe thead th {\n",
       "        text-align: right;\n",
       "    }\n",
       "</style>\n",
       "<table border=\"1\" class=\"dataframe\">\n",
       "  <thead>\n",
       "    <tr style=\"text-align: right;\">\n",
       "      <th></th>\n",
       "      <th>correlation</th>\n",
       "    </tr>\n",
       "    <tr>\n",
       "      <th>colum_name</th>\n",
       "      <th></th>\n",
       "    </tr>\n",
       "  </thead>\n",
       "  <tbody>\n",
       "    <tr>\n",
       "      <th>geo_level_1_id</th>\n",
       "      <td>0.08</td>\n",
       "    </tr>\n",
       "    <tr>\n",
       "      <th>Contruccion de otros pisos tipo q</th>\n",
       "      <td>0.07</td>\n",
       "    </tr>\n",
       "    <tr>\n",
       "      <th>Cimientos Tipo i</th>\n",
       "      <td>0.07</td>\n",
       "    </tr>\n",
       "    <tr>\n",
       "      <th>has_superstructure_rc_engineered</th>\n",
       "      <td>0.06</td>\n",
       "    </tr>\n",
       "    <tr>\n",
       "      <th>Contruccion de otros pisos tipo j</th>\n",
       "      <td>0.05</td>\n",
       "    </tr>\n",
       "    <tr>\n",
       "      <th>has_superstructure_mud_mortar_brick</th>\n",
       "      <td>0.05</td>\n",
       "    </tr>\n",
       "    <tr>\n",
       "      <th>Techos Tipo x</th>\n",
       "      <td>0.05</td>\n",
       "    </tr>\n",
       "    <tr>\n",
       "      <th>has_superstructure_timber</th>\n",
       "      <td>0.04</td>\n",
       "    </tr>\n",
       "    <tr>\n",
       "      <th>Techos Tipo n</th>\n",
       "      <td>0.04</td>\n",
       "    </tr>\n",
       "    <tr>\n",
       "      <th>has_superstructure_bamboo</th>\n",
       "      <td>0.04</td>\n",
       "    </tr>\n",
       "    <tr>\n",
       "      <th>has_secondary_use_agriculture</th>\n",
       "      <td>0.04</td>\n",
       "    </tr>\n",
       "    <tr>\n",
       "      <th>Posicion t</th>\n",
       "      <td>0.04</td>\n",
       "    </tr>\n",
       "    <tr>\n",
       "      <th>Contruccion de otros pisos tipo s</th>\n",
       "      <td>0.03</td>\n",
       "    </tr>\n",
       "    <tr>\n",
       "      <th>Construccion sismica tipo q</th>\n",
       "      <td>0.03</td>\n",
       "    </tr>\n",
       "    <tr>\n",
       "      <th>has_superstructure_cement_mortar_stone</th>\n",
       "      <td>0.03</td>\n",
       "    </tr>\n",
       "    <tr>\n",
       "      <th>Superficie Tipo n</th>\n",
       "      <td>0.03</td>\n",
       "    </tr>\n",
       "    <tr>\n",
       "      <th>has_secondary_use</th>\n",
       "      <td>0.03</td>\n",
       "    </tr>\n",
       "    <tr>\n",
       "      <th>Planta baja tipo v</th>\n",
       "      <td>0.03</td>\n",
       "    </tr>\n",
       "    <tr>\n",
       "      <th>Superficie Tipo t</th>\n",
       "      <td>0.03</td>\n",
       "    </tr>\n",
       "    <tr>\n",
       "      <th>Cimientos Tipo h</th>\n",
       "      <td>0.03</td>\n",
       "    </tr>\n",
       "  </tbody>\n",
       "</table>\n",
       "</div>"
      ],
      "text/plain": [
       "                                                correlation\n",
       "colum_name                                                 \n",
       "geo_level_1_id                                         0.08\n",
       "Contruccion de otros pisos tipo q                      0.07\n",
       "Cimientos Tipo i                                       0.07\n",
       "has_superstructure_rc_engineered                       0.06\n",
       "Contruccion de otros pisos tipo j                      0.05\n",
       "has_superstructure_mud_mortar_brick                    0.05\n",
       "Techos Tipo x                                          0.05\n",
       "has_superstructure_timber                              0.04\n",
       "Techos Tipo n                                          0.04\n",
       "has_superstructure_bamboo                              0.04\n",
       "has_secondary_use_agriculture                          0.04\n",
       "Posicion t                                             0.04\n",
       "Contruccion de otros pisos tipo s                      0.03\n",
       "Construccion sismica tipo q                            0.03\n",
       "has_superstructure_cement_mortar_stone                 0.03\n",
       "Superficie Tipo n                                      0.03\n",
       "has_secondary_use                                      0.03\n",
       "Planta baja tipo v                                     0.03\n",
       "Superficie Tipo t                                      0.03\n",
       "Cimientos Tipo h                                       0.03"
      ]
     },
     "execution_count": 31,
     "metadata": {},
     "output_type": "execute_result"
    }
   ],
   "source": [
    "#Correlacion entre Variable y Medium Damage\n",
    "\n",
    "medium_damage_correlation = pd.DataFrame(columns=['colum_name', 'correlation'])\n",
    "for col in columns_for_correlation:\n",
    "    medium_correlation = data_corr[[col, 'Medium Damage']].corr()\n",
    "    medium_damage_correlation.loc[len(medium_damage_correlation)] = [col, medium_correlation.min().min()]\n",
    "\n",
    "medium_damage_correlation = medium_damage_correlation.set_index('colum_name').sort_values(by='correlation', ascending=False)\n",
    "medium_damage_correlation.abs().nlargest(20,\"correlation\")"
   ]
  },
  {
   "cell_type": "code",
   "execution_count": 32,
   "metadata": {},
   "outputs": [
    {
     "data": {
      "text/plain": [
       "Text(0.5, 1.0, 'Correlaciones en valores absolutos con columna Medium Damage')"
      ]
     },
     "execution_count": 32,
     "metadata": {},
     "output_type": "execute_result"
    },
    {
     "data": {
      "image/png": "[encoded data removed]",
      "text/plain": [
       "<Figure size 1296x360 with 1 Axes>"
      ]
     },
     "metadata": {
      "needs_background": "light"
     },
     "output_type": "display_data"
    }
   ],
   "source": [
    "%matplotlib inline\n",
    "plt.rcParams[\"figure.figsize\"] = [18, 5]\n",
    "\n",
    "absolute_damage_correlation = medium_damage_correlation.abs()\n",
    "\n",
    "ax = absolute_damage_correlation.sort_values(by='correlation', ascending=False).plot.bar(color=\"orange\")\n",
    "ax.set_xlabel(\"Columnas\")\n",
    "ax.set_ylabel(\"Correlacion Absoluta con Medium Damage\")\n",
    "ax.set_title(\"Correlaciones en valores absolutos con columna Medium Damage\")"
   ]
  },
  {
   "cell_type": "code",
   "execution_count": 33,
   "metadata": {},
   "outputs": [
    {
     "data": {
      "text/plain": [
       "Text(0.5, 1.0, 'Top 10 Correlaciones en valores absolutos con columna Medium Damage')"
      ]
     },
     "execution_count": 33,
     "metadata": {},
     "output_type": "execute_result"
    },
    {
     "data": {
      "image/png": "[encoded data removed]",
      "text/plain": [
       "<Figure size 1296x360 with 1 Axes>"
      ]
     },
     "metadata": {
      "needs_background": "light"
     },
     "output_type": "display_data"
    }
   ],
   "source": [
    "%matplotlib inline\n",
    "plt.rcParams[\"figure.figsize\"] = [18, 5]\n",
    "\n",
    "absolute_damage_correlation = medium_damage_correlation.abs().nlargest(15,\"correlation\")\n",
    "\n",
    "ax = absolute_damage_correlation.sort_values(by='correlation', ascending=False).plot.bar(color=\"orange\")\n",
    "ax.set_xlabel(\"Columnas\")\n",
    "ax.set_ylabel(\"Correlacion Absoluta con Medium Damage\")\n",
    "ax.set_title(\"Top 10 Correlaciones en valores absolutos con columna Medium Damage\")"
   ]
  },
  {
   "cell_type": "code",
   "execution_count": 34,
   "metadata": {},
   "outputs": [
    {
     "data": {
      "text/html": [
       "<div>\n",
       "<style scoped>\n",
       "    .dataframe tbody tr th:only-of-type {\n",
       "        vertical-align: middle;\n",
       "    }\n",
       "\n",
       "    .dataframe tbody tr th {\n",
       "        vertical-align: top;\n",
       "    }\n",
       "\n",
       "    .dataframe thead th {\n",
       "        text-align: right;\n",
       "    }\n",
       "</style>\n",
       "<table border=\"1\" class=\"dataframe\">\n",
       "  <thead>\n",
       "    <tr style=\"text-align: right;\">\n",
       "      <th></th>\n",
       "      <th>correlation</th>\n",
       "    </tr>\n",
       "    <tr>\n",
       "      <th>colum_name</th>\n",
       "      <th></th>\n",
       "    </tr>\n",
       "  </thead>\n",
       "  <tbody>\n",
       "    <tr>\n",
       "      <th>Cimientos Tipo r</th>\n",
       "      <td>0.21</td>\n",
       "    </tr>\n",
       "    <tr>\n",
       "      <th>Planta baja tipo v</th>\n",
       "      <td>0.19</td>\n",
       "    </tr>\n",
       "    <tr>\n",
       "      <th>has_superstructure_mud_mortar_stone</th>\n",
       "      <td>0.18</td>\n",
       "    </tr>\n",
       "    <tr>\n",
       "      <th>has_superstructure_cement_mortar_brick</th>\n",
       "      <td>0.17</td>\n",
       "    </tr>\n",
       "    <tr>\n",
       "      <th>Techos Tipo x</th>\n",
       "      <td>0.16</td>\n",
       "    </tr>\n",
       "    <tr>\n",
       "      <th>Planta baja tipo f</th>\n",
       "      <td>0.15</td>\n",
       "    </tr>\n",
       "    <tr>\n",
       "      <th>Cimientos Tipo i</th>\n",
       "      <td>0.14</td>\n",
       "    </tr>\n",
       "    <tr>\n",
       "      <th>Contruccion de otros pisos tipo s</th>\n",
       "      <td>0.13</td>\n",
       "    </tr>\n",
       "    <tr>\n",
       "      <th>Cimientos Tipo w</th>\n",
       "      <td>0.12</td>\n",
       "    </tr>\n",
       "    <tr>\n",
       "      <th>Cimientos Tipo u</th>\n",
       "      <td>0.10</td>\n",
       "    </tr>\n",
       "    <tr>\n",
       "      <th>has_superstructure_rc_non_engineered</th>\n",
       "      <td>0.09</td>\n",
       "    </tr>\n",
       "    <tr>\n",
       "      <th>has_superstructure_rc_engineered</th>\n",
       "      <td>0.09</td>\n",
       "    </tr>\n",
       "    <tr>\n",
       "      <th>area_percentage</th>\n",
       "      <td>0.08</td>\n",
       "    </tr>\n",
       "    <tr>\n",
       "      <th>count_floors_pre_eq</th>\n",
       "      <td>0.08</td>\n",
       "    </tr>\n",
       "    <tr>\n",
       "      <th>Contruccion de otros pisos tipo q</th>\n",
       "      <td>0.07</td>\n",
       "    </tr>\n",
       "    <tr>\n",
       "      <th>has_superstructure_timber</th>\n",
       "      <td>0.07</td>\n",
       "    </tr>\n",
       "    <tr>\n",
       "      <th>has_secondary_use</th>\n",
       "      <td>0.07</td>\n",
       "    </tr>\n",
       "    <tr>\n",
       "      <th>has_secondary_use_hotel</th>\n",
       "      <td>0.07</td>\n",
       "    </tr>\n",
       "    <tr>\n",
       "      <th>Contruccion de otros pisos tipo j</th>\n",
       "      <td>0.06</td>\n",
       "    </tr>\n",
       "    <tr>\n",
       "      <th>has_superstructure_bamboo</th>\n",
       "      <td>0.06</td>\n",
       "    </tr>\n",
       "  </tbody>\n",
       "</table>\n",
       "</div>"
      ],
      "text/plain": [
       "                                                correlation\n",
       "colum_name                                                 \n",
       "Cimientos Tipo r                                       0.21\n",
       "Planta baja tipo v                                     0.19\n",
       "has_superstructure_mud_mortar_stone                    0.18\n",
       "has_superstructure_cement_mortar_brick                 0.17\n",
       "Techos Tipo x                                          0.16\n",
       "Planta baja tipo f                                     0.15\n",
       "Cimientos Tipo i                                       0.14\n",
       "Contruccion de otros pisos tipo s                      0.13\n",
       "Cimientos Tipo w                                       0.12\n",
       "Cimientos Tipo u                                       0.10\n",
       "has_superstructure_rc_non_engineered                   0.09\n",
       "has_superstructure_rc_engineered                       0.09\n",
       "area_percentage                                        0.08\n",
       "count_floors_pre_eq                                    0.08\n",
       "Contruccion de otros pisos tipo q                      0.07\n",
       "has_superstructure_timber                              0.07\n",
       "has_secondary_use                                      0.07\n",
       "has_secondary_use_hotel                                0.07\n",
       "Contruccion de otros pisos tipo j                      0.06\n",
       "has_superstructure_bamboo                              0.06"
      ]
     },
     "execution_count": 34,
     "metadata": {},
     "output_type": "execute_result"
    }
   ],
   "source": [
    "#Correlacion entre Variables y High Damage\n",
    "high_damage_correlation = pd.DataFrame(columns=['colum_name', 'correlation'])\n",
    "for col in columns_for_correlation:\n",
    "    high_correlation = data_corr[[col, 'High Damage']].corr()\n",
    "    high_damage_correlation.loc[len(high_damage_correlation)] = [col, high_correlation.min().min()]\n",
    "\n",
    "high_damage_correlation = high_damage_correlation.set_index('colum_name').sort_values(by='correlation', ascending=False)\n",
    "high_damage_correlation.abs().nlargest(20,\"correlation\")"
   ]
  },
  {
   "cell_type": "code",
   "execution_count": 35,
   "metadata": {},
   "outputs": [
    {
     "data": {
      "text/plain": [
       "Text(0.5, 1.0, 'Correlaciones en valores absolutos con columna High Damage')"
      ]
     },
     "execution_count": 35,
     "metadata": {},
     "output_type": "execute_result"
    },
    {
     "data": {
      "image/png": "[encoded data removed]",
      "text/plain": [
       "<Figure size 1296x360 with 1 Axes>"
      ]
     },
     "metadata": {
      "needs_background": "light"
     },
     "output_type": "display_data"
    }
   ],
   "source": [
    "%matplotlib inline\n",
    "plt.rcParams[\"figure.figsize\"] = [18, 5]\n",
    "\n",
    "absolute_damage_correlation = high_damage_correlation\n",
    "\n",
    "ax = absolute_damage_correlation.sort_values(by='correlation', ascending=False).plot.bar(color=\"crimson\")\n",
    "ax.set_xlabel(\"Columnas\")\n",
    "ax.set_ylabel(\"Correlacion Absoluta con High Damage\")\n",
    "ax.set_title(\"Correlaciones en valores absolutos con columna High Damage\")"
   ]
  },
  {
   "cell_type": "code",
   "execution_count": 36,
   "metadata": {},
   "outputs": [
    {
     "data": {
      "text/plain": [
       "Text(0.5, 1.0, 'Top 10 Correlaciones en valores absolutos con columna High Damage')"
      ]
     },
     "execution_count": 36,
     "metadata": {},
     "output_type": "execute_result"
    },
    {
     "data": {
      "image/png": "[encoded data removed]",
      "text/plain": [
       "<Figure size 1296x360 with 1 Axes>"
      ]
     },
     "metadata": {
      "needs_background": "light"
     },
     "output_type": "display_data"
    }
   ],
   "source": [
    "%matplotlib inline\n",
    "plt.rcParams[\"figure.figsize\"] = [18, 5]\n",
    "\n",
    "absolute_damage_correlation = high_damage_correlation.abs().nlargest(15,\"correlation\")\n",
    "\n",
    "ax = absolute_damage_correlation.sort_values(by='correlation', ascending=False).plot.bar(color=\"crimson\")\n",
    "ax.set_xlabel(\"Columnas\")\n",
    "ax.set_ylabel(\"Correlacion Absoluta con High Damage\")\n",
    "ax.set_title(\"Top 10 Correlaciones en valores absolutos con columna High Damage\")"
   ]
  },
  {
   "cell_type": "code",
   "execution_count": 12,
   "metadata": {},
   "outputs": [],
   "source": [
    "#Damage grade en general\n",
    "columns_for_correlation = data_corr.columns.to_list()\n",
    "columns_for_correlation.remove('building_id')\n",
    "columns_for_correlation.remove('damage_grade_1')\n",
    "columns_for_correlation.remove('damage_grade_2')\n",
    "columns_for_correlation.remove('damage_grade_3')"
   ]
  },
  {
   "cell_type": "code",
   "execution_count": 21,
   "metadata": {},
   "outputs": [
    {
     "data": {
      "text/html": [
       "<div>\n",
       "<style scoped>\n",
       "    .dataframe tbody tr th:only-of-type {\n",
       "        vertical-align: middle;\n",
       "    }\n",
       "\n",
       "    .dataframe tbody tr th {\n",
       "        vertical-align: top;\n",
       "    }\n",
       "\n",
       "    .dataframe thead th {\n",
       "        text-align: right;\n",
       "    }\n",
       "</style>\n",
       "<table border=\"1\" class=\"dataframe\">\n",
       "  <thead>\n",
       "    <tr style=\"text-align: right;\">\n",
       "      <th></th>\n",
       "      <th>correlation</th>\n",
       "    </tr>\n",
       "    <tr>\n",
       "      <th>colum_name</th>\n",
       "      <th></th>\n",
       "    </tr>\n",
       "  </thead>\n",
       "  <tbody>\n",
       "    <tr>\n",
       "      <th>foundation_type_r</th>\n",
       "      <td>0.34</td>\n",
       "    </tr>\n",
       "    <tr>\n",
       "      <th>has_superstructure_mud_mortar_stone</th>\n",
       "      <td>0.29</td>\n",
       "    </tr>\n",
       "    <tr>\n",
       "      <th>ground_floor_type_f</th>\n",
       "      <td>0.23</td>\n",
       "    </tr>\n",
       "    <tr>\n",
       "      <th>other_floor_type_q</th>\n",
       "      <td>0.17</td>\n",
       "    </tr>\n",
       "    <tr>\n",
       "      <th>count_floors_pre_eq</th>\n",
       "      <td>0.12</td>\n",
       "    </tr>\n",
       "    <tr>\n",
       "      <th>roof_type_n</th>\n",
       "      <td>0.08</td>\n",
       "    </tr>\n",
       "    <tr>\n",
       "      <th>roof_type_q</th>\n",
       "      <td>0.07</td>\n",
       "    </tr>\n",
       "    <tr>\n",
       "      <th>has_superstructure_stone_flag</th>\n",
       "      <td>0.07</td>\n",
       "    </tr>\n",
       "    <tr>\n",
       "      <th>count_families</th>\n",
       "      <td>0.06</td>\n",
       "    </tr>\n",
       "    <tr>\n",
       "      <th>has_superstructure_adobe_mud</th>\n",
       "      <td>0.06</td>\n",
       "    </tr>\n",
       "  </tbody>\n",
       "</table>\n",
       "</div>"
      ],
      "text/plain": [
       "                                             correlation\n",
       "colum_name                                              \n",
       "foundation_type_r                                   0.34\n",
       "has_superstructure_mud_mortar_stone                 0.29\n",
       "ground_floor_type_f                                 0.23\n",
       "other_floor_type_q                                  0.17\n",
       "count_floors_pre_eq                                 0.12\n",
       "roof_type_n                                         0.08\n",
       "roof_type_q                                         0.07\n",
       "has_superstructure_stone_flag                       0.07\n",
       "count_families                                      0.06\n",
       "has_superstructure_adobe_mud                        0.06"
      ]
     },
     "execution_count": 21,
     "metadata": {},
     "output_type": "execute_result"
    }
   ],
   "source": [
    "data = data_corr\n",
    "data[\"damage_grade\"] = data_train[\"damage_grade\"]\n",
    "data['damage_grade'] = data['damage_grade'].astype('int8')\n",
    "damage_correlation = pd.DataFrame(columns=['colum_name', 'correlation'])\n",
    "for col in columns_for_correlation:\n",
    "    correlation = data[[col, 'damage_grade']].corr()\n",
    "    damage_correlation.loc[len(damage_correlation)] = [col, correlation.min().min()]\n",
    "damage_correlation = damage_correlation.set_index('colum_name').sort_values(by='correlation', ascending=False)\n",
    "damage_correlation.head(15)"
   ]
  },
  {
   "cell_type": "code",
   "execution_count": 41,
   "metadata": {},
   "outputs": [
    {
     "data": {
      "image/png": "[encoded data removed]",
      "text/plain": [
       "<Figure size 360x864 with 1 Axes>"
      ]
     },
     "metadata": {
      "needs_background": "light"
     },
     "output_type": "display_data"
    }
   ],
   "source": [
    "%matplotlib inline\n",
    "plt.rcParams[\"figure.figsize\"] = [5, 15]\n",
    "\n",
    "absolute_damage_correlation = damage_correlation.abs()\n",
    "\n",
    "ax = absolute_damage_correlation.sort_values(by='correlation', ascending=False).plot.barh(color=\"orange\")\n",
    "ax.set_xlabel(\"Columnas\")\n",
    "ax.set_ylabel(\"Correlacion Absoluta\")\n",
    "ax.set_title(\"Correlaciones en valores absolutos con columna 'damage_grade'\")\n",
    "plt.savefig(\"Correlaciones all.jpg\")"
   ]
  },
  {
   "cell_type": "code",
   "execution_count": 39,
   "metadata": {},
   "outputs": [
    {
     "data": {
      "image/png": "[encoded data removed]",
      "text/plain": [
       "<Figure size 360x720 with 1 Axes>"
      ]
     },
     "metadata": {
      "needs_background": "light"
     },
     "output_type": "display_data"
    }
   ],
   "source": [
    "%matplotlib inline\n",
    "plt.rcParams[\"figure.figsize\"] = [5, 10]\n",
    "plt.rc('xtick', labelsize=16)\n",
    "\n",
    "absolute_damage_correlation_top_10 = damage_correlation.abs().nlargest(15, 'correlation')\n",
    "\n",
    "ax = absolute_damage_correlation_top_10.sort_values(by='correlation', ascending=False).plot.barh(color=\"orange\")\n",
    "ax.set_xlabel(\"Columnas\", fontsize=18)\n",
    "ax.set_ylabel(\"Correlacion Absoluta\", fontsize=18)\n",
    "ax.set_title(\"Top 15 correlaciones en valores absolutos con columna 'damage_grade'\", fontsize=20)\n",
    "plt.savefig(\"Correlaciones top.jpg\")"
   ]
  },
  {
   "cell_type": "code",
   "execution_count": 224,
   "metadata": {},
   "outputs": [
    {
     "data": {
      "text/html": [
       "<div>\n",
       "<style scoped>\n",
       "    .dataframe tbody tr th:only-of-type {\n",
       "        vertical-align: middle;\n",
       "    }\n",
       "\n",
       "    .dataframe tbody tr th {\n",
       "        vertical-align: top;\n",
       "    }\n",
       "\n",
       "    .dataframe thead th {\n",
       "        text-align: right;\n",
       "    }\n",
       "</style>\n",
       "<table border=\"1\" class=\"dataframe\">\n",
       "  <thead>\n",
       "    <tr style=\"text-align: right;\">\n",
       "      <th></th>\n",
       "      <th>correlation</th>\n",
       "    </tr>\n",
       "    <tr>\n",
       "      <th>colum_name</th>\n",
       "      <th></th>\n",
       "    </tr>\n",
       "  </thead>\n",
       "  <tbody>\n",
       "    <tr>\n",
       "      <th>Cimientos Tipo r</th>\n",
       "      <td>0.34</td>\n",
       "    </tr>\n",
       "    <tr>\n",
       "      <th>Planta baja tipo v</th>\n",
       "      <td>0.32</td>\n",
       "    </tr>\n",
       "    <tr>\n",
       "      <th>has_superstructure_mud_mortar_stone</th>\n",
       "      <td>0.29</td>\n",
       "    </tr>\n",
       "    <tr>\n",
       "      <th>Techos Tipo x</th>\n",
       "      <td>0.28</td>\n",
       "    </tr>\n",
       "    <tr>\n",
       "      <th>Cimientos Tipo i</th>\n",
       "      <td>0.26</td>\n",
       "    </tr>\n",
       "    <tr>\n",
       "      <th>has_superstructure_cement_mortar_brick</th>\n",
       "      <td>0.25</td>\n",
       "    </tr>\n",
       "    <tr>\n",
       "      <th>Planta baja tipo f</th>\n",
       "      <td>0.23</td>\n",
       "    </tr>\n",
       "    <tr>\n",
       "      <th>Contruccion de otros pisos tipo s</th>\n",
       "      <td>0.23</td>\n",
       "    </tr>\n",
       "    <tr>\n",
       "      <th>has_superstructure_rc_engineered</th>\n",
       "      <td>0.18</td>\n",
       "    </tr>\n",
       "    <tr>\n",
       "      <th>Cimientos Tipo w</th>\n",
       "      <td>0.17</td>\n",
       "    </tr>\n",
       "    <tr>\n",
       "      <th>Contruccion de otros pisos tipo q</th>\n",
       "      <td>0.17</td>\n",
       "    </tr>\n",
       "    <tr>\n",
       "      <th>has_superstructure_rc_non_engineered</th>\n",
       "      <td>0.16</td>\n",
       "    </tr>\n",
       "    <tr>\n",
       "      <th>Cimientos Tipo u</th>\n",
       "      <td>0.14</td>\n",
       "    </tr>\n",
       "    <tr>\n",
       "      <th>Contruccion de otros pisos tipo j</th>\n",
       "      <td>0.14</td>\n",
       "    </tr>\n",
       "    <tr>\n",
       "      <th>area_percentage</th>\n",
       "      <td>0.13</td>\n",
       "    </tr>\n",
       "    <tr>\n",
       "      <th>count_floors_pre_eq</th>\n",
       "      <td>0.12</td>\n",
       "    </tr>\n",
       "  </tbody>\n",
       "</table>\n",
       "</div>"
      ],
      "text/plain": [
       "                                                correlation\n",
       "colum_name                                                 \n",
       "Cimientos Tipo r                                       0.34\n",
       "Planta baja tipo v                                     0.32\n",
       "has_superstructure_mud_mortar_stone                    0.29\n",
       "Techos Tipo x                                          0.28\n",
       "Cimientos Tipo i                                       0.26\n",
       "has_superstructure_cement_mortar_brick                 0.25\n",
       "Planta baja tipo f                                     0.23\n",
       "Contruccion de otros pisos tipo s                      0.23\n",
       "has_superstructure_rc_engineered                       0.18\n",
       "Cimientos Tipo w                                       0.17\n",
       "Contruccion de otros pisos tipo q                      0.17\n",
       "has_superstructure_rc_non_engineered                   0.16\n",
       "Cimientos Tipo u                                       0.14\n",
       "Contruccion de otros pisos tipo j                      0.14\n",
       "area_percentage                                        0.13\n",
       "count_floors_pre_eq                                    0.12"
      ]
     },
     "execution_count": 224,
     "metadata": {},
     "output_type": "execute_result"
    }
   ],
   "source": [
    "damage_correlation.abs().nlargest(15, 'correlation')"
   ]
  },
  {
   "cell_type": "code",
   "execution_count": 23,
   "metadata": {},
   "outputs": [
    {
     "data": {
      "text/html": [
       "<div>\n",
       "<style scoped>\n",
       "    .dataframe tbody tr th:only-of-type {\n",
       "        vertical-align: middle;\n",
       "    }\n",
       "\n",
       "    .dataframe tbody tr th {\n",
       "        vertical-align: top;\n",
       "    }\n",
       "\n",
       "    .dataframe thead th {\n",
       "        text-align: right;\n",
       "    }\n",
       "</style>\n",
       "<table border=\"1\" class=\"dataframe\">\n",
       "  <thead>\n",
       "    <tr style=\"text-align: right;\">\n",
       "      <th></th>\n",
       "      <th>correlation</th>\n",
       "    </tr>\n",
       "    <tr>\n",
       "      <th>colum_name</th>\n",
       "      <th></th>\n",
       "    </tr>\n",
       "  </thead>\n",
       "  <tbody>\n",
       "    <tr>\n",
       "      <th>foundation_type_r</th>\n",
       "      <td>0.34</td>\n",
       "    </tr>\n",
       "    <tr>\n",
       "      <th>ground_floor_type_v</th>\n",
       "      <td>0.32</td>\n",
       "    </tr>\n",
       "    <tr>\n",
       "      <th>has_superstructure_mud_mortar_stone</th>\n",
       "      <td>0.29</td>\n",
       "    </tr>\n",
       "    <tr>\n",
       "      <th>roof_type_x</th>\n",
       "      <td>0.28</td>\n",
       "    </tr>\n",
       "    <tr>\n",
       "      <th>foundation_type_i</th>\n",
       "      <td>0.26</td>\n",
       "    </tr>\n",
       "    <tr>\n",
       "      <th>has_superstructure_cement_mortar_brick</th>\n",
       "      <td>0.25</td>\n",
       "    </tr>\n",
       "    <tr>\n",
       "      <th>ground_floor_type_f</th>\n",
       "      <td>0.23</td>\n",
       "    </tr>\n",
       "    <tr>\n",
       "      <th>other_floor_type_s</th>\n",
       "      <td>0.23</td>\n",
       "    </tr>\n",
       "    <tr>\n",
       "      <th>has_superstructure_rc_engineered</th>\n",
       "      <td>0.18</td>\n",
       "    </tr>\n",
       "    <tr>\n",
       "      <th>foundation_type_w</th>\n",
       "      <td>0.17</td>\n",
       "    </tr>\n",
       "    <tr>\n",
       "      <th>other_floor_type_q</th>\n",
       "      <td>0.17</td>\n",
       "    </tr>\n",
       "    <tr>\n",
       "      <th>has_superstructure_rc_non_engineered</th>\n",
       "      <td>0.16</td>\n",
       "    </tr>\n",
       "    <tr>\n",
       "      <th>foundation_type_u</th>\n",
       "      <td>0.14</td>\n",
       "    </tr>\n",
       "    <tr>\n",
       "      <th>other_floor_type_j</th>\n",
       "      <td>0.14</td>\n",
       "    </tr>\n",
       "    <tr>\n",
       "      <th>area_percentage</th>\n",
       "      <td>0.13</td>\n",
       "    </tr>\n",
       "  </tbody>\n",
       "</table>\n",
       "</div>"
      ],
      "text/plain": [
       "                                                correlation\n",
       "colum_name                                                 \n",
       "foundation_type_r                                      0.34\n",
       "ground_floor_type_v                                    0.32\n",
       "has_superstructure_mud_mortar_stone                    0.29\n",
       "roof_type_x                                            0.28\n",
       "foundation_type_i                                      0.26\n",
       "has_superstructure_cement_mortar_brick                 0.25\n",
       "ground_floor_type_f                                    0.23\n",
       "other_floor_type_s                                     0.23\n",
       "has_superstructure_rc_engineered                       0.18\n",
       "foundation_type_w                                      0.17\n",
       "other_floor_type_q                                     0.17\n",
       "has_superstructure_rc_non_engineered                   0.16\n",
       "foundation_type_u                                      0.14\n",
       "other_floor_type_j                                     0.14\n",
       "area_percentage                                        0.13"
      ]
     },
     "execution_count": 23,
     "metadata": {},
     "output_type": "execute_result"
    }
   ],
   "source": [
    "damage_correlation.abs().nlargest(15, 'correlation')"
   ]
  },
  {
   "cell_type": "markdown",
   "metadata": {},
   "source": [
    "# Analisis de los features"
   ]
  },
  {
   "cell_type": "markdown",
   "metadata": {},
   "source": [
    "Dado que contamos con muchas columnas, vamos a investigar los features mas interesantes y representativos para nuestro modelo, asi reducimos las chandes de overfitting."
   ]
  },
  {
   "cell_type": "code",
   "execution_count": 41,
   "metadata": {},
   "outputs": [],
   "source": [
    "data_train['damage_grade'] = data['damage_grade'].astype('int8')\n",
    "features= data_train"
   ]
  },
  {
   "cell_type": "code",
   "execution_count": 42,
   "metadata": {},
   "outputs": [
    {
     "data": {
      "text/html": [
       "<div>\n",
       "<style scoped>\n",
       "    .dataframe tbody tr th:only-of-type {\n",
       "        vertical-align: middle;\n",
       "    }\n",
       "\n",
       "    .dataframe tbody tr th {\n",
       "        vertical-align: top;\n",
       "    }\n",
       "\n",
       "    .dataframe thead th {\n",
       "        text-align: right;\n",
       "    }\n",
       "</style>\n",
       "<table border=\"1\" class=\"dataframe\">\n",
       "  <thead>\n",
       "    <tr style=\"text-align: right;\">\n",
       "      <th></th>\n",
       "      <th>building_id</th>\n",
       "      <th>geo_level_1_id</th>\n",
       "      <th>geo_level_2_id</th>\n",
       "      <th>geo_level_3_id</th>\n",
       "      <th>count_floors_pre_eq</th>\n",
       "      <th>age</th>\n",
       "      <th>area_percentage</th>\n",
       "      <th>height_percentage</th>\n",
       "      <th>land_surface_condition</th>\n",
       "      <th>foundation_type</th>\n",
       "      <th>...</th>\n",
       "      <th>has_secondary_use_hotel</th>\n",
       "      <th>has_secondary_use_rental</th>\n",
       "      <th>has_secondary_use_institution</th>\n",
       "      <th>has_secondary_use_school</th>\n",
       "      <th>has_secondary_use_industry</th>\n",
       "      <th>has_secondary_use_health_post</th>\n",
       "      <th>has_secondary_use_gov_office</th>\n",
       "      <th>has_secondary_use_use_police</th>\n",
       "      <th>has_secondary_use_other</th>\n",
       "      <th>damage_grade</th>\n",
       "    </tr>\n",
       "  </thead>\n",
       "  <tbody>\n",
       "    <tr>\n",
       "      <th>0</th>\n",
       "      <td>802906</td>\n",
       "      <td>6</td>\n",
       "      <td>487</td>\n",
       "      <td>12198</td>\n",
       "      <td>2</td>\n",
       "      <td>30</td>\n",
       "      <td>6</td>\n",
       "      <td>5</td>\n",
       "      <td>t</td>\n",
       "      <td>r</td>\n",
       "      <td>...</td>\n",
       "      <td>False</td>\n",
       "      <td>False</td>\n",
       "      <td>False</td>\n",
       "      <td>False</td>\n",
       "      <td>False</td>\n",
       "      <td>False</td>\n",
       "      <td>False</td>\n",
       "      <td>False</td>\n",
       "      <td>False</td>\n",
       "      <td>3</td>\n",
       "    </tr>\n",
       "    <tr>\n",
       "      <th>1</th>\n",
       "      <td>28830</td>\n",
       "      <td>8</td>\n",
       "      <td>900</td>\n",
       "      <td>2812</td>\n",
       "      <td>2</td>\n",
       "      <td>10</td>\n",
       "      <td>8</td>\n",
       "      <td>7</td>\n",
       "      <td>o</td>\n",
       "      <td>r</td>\n",
       "      <td>...</td>\n",
       "      <td>False</td>\n",
       "      <td>False</td>\n",
       "      <td>False</td>\n",
       "      <td>False</td>\n",
       "      <td>False</td>\n",
       "      <td>False</td>\n",
       "      <td>False</td>\n",
       "      <td>False</td>\n",
       "      <td>False</td>\n",
       "      <td>2</td>\n",
       "    </tr>\n",
       "    <tr>\n",
       "      <th>2</th>\n",
       "      <td>94947</td>\n",
       "      <td>21</td>\n",
       "      <td>363</td>\n",
       "      <td>8973</td>\n",
       "      <td>2</td>\n",
       "      <td>10</td>\n",
       "      <td>5</td>\n",
       "      <td>5</td>\n",
       "      <td>t</td>\n",
       "      <td>r</td>\n",
       "      <td>...</td>\n",
       "      <td>False</td>\n",
       "      <td>False</td>\n",
       "      <td>False</td>\n",
       "      <td>False</td>\n",
       "      <td>False</td>\n",
       "      <td>False</td>\n",
       "      <td>False</td>\n",
       "      <td>False</td>\n",
       "      <td>False</td>\n",
       "      <td>3</td>\n",
       "    </tr>\n",
       "    <tr>\n",
       "      <th>3</th>\n",
       "      <td>590882</td>\n",
       "      <td>22</td>\n",
       "      <td>418</td>\n",
       "      <td>10694</td>\n",
       "      <td>2</td>\n",
       "      <td>10</td>\n",
       "      <td>6</td>\n",
       "      <td>5</td>\n",
       "      <td>t</td>\n",
       "      <td>r</td>\n",
       "      <td>...</td>\n",
       "      <td>False</td>\n",
       "      <td>False</td>\n",
       "      <td>False</td>\n",
       "      <td>False</td>\n",
       "      <td>False</td>\n",
       "      <td>False</td>\n",
       "      <td>False</td>\n",
       "      <td>False</td>\n",
       "      <td>False</td>\n",
       "      <td>2</td>\n",
       "    </tr>\n",
       "    <tr>\n",
       "      <th>4</th>\n",
       "      <td>201944</td>\n",
       "      <td>11</td>\n",
       "      <td>131</td>\n",
       "      <td>1488</td>\n",
       "      <td>3</td>\n",
       "      <td>30</td>\n",
       "      <td>8</td>\n",
       "      <td>9</td>\n",
       "      <td>t</td>\n",
       "      <td>r</td>\n",
       "      <td>...</td>\n",
       "      <td>False</td>\n",
       "      <td>False</td>\n",
       "      <td>False</td>\n",
       "      <td>False</td>\n",
       "      <td>False</td>\n",
       "      <td>False</td>\n",
       "      <td>False</td>\n",
       "      <td>False</td>\n",
       "      <td>False</td>\n",
       "      <td>3</td>\n",
       "    </tr>\n",
       "    <tr>\n",
       "      <th>...</th>\n",
       "      <td>...</td>\n",
       "      <td>...</td>\n",
       "      <td>...</td>\n",
       "      <td>...</td>\n",
       "      <td>...</td>\n",
       "      <td>...</td>\n",
       "      <td>...</td>\n",
       "      <td>...</td>\n",
       "      <td>...</td>\n",
       "      <td>...</td>\n",
       "      <td>...</td>\n",
       "      <td>...</td>\n",
       "      <td>...</td>\n",
       "      <td>...</td>\n",
       "      <td>...</td>\n",
       "      <td>...</td>\n",
       "      <td>...</td>\n",
       "      <td>...</td>\n",
       "      <td>...</td>\n",
       "      <td>...</td>\n",
       "      <td>...</td>\n",
       "    </tr>\n",
       "    <tr>\n",
       "      <th>260596</th>\n",
       "      <td>688636</td>\n",
       "      <td>25</td>\n",
       "      <td>1335</td>\n",
       "      <td>1621</td>\n",
       "      <td>1</td>\n",
       "      <td>55</td>\n",
       "      <td>6</td>\n",
       "      <td>3</td>\n",
       "      <td>n</td>\n",
       "      <td>r</td>\n",
       "      <td>...</td>\n",
       "      <td>False</td>\n",
       "      <td>False</td>\n",
       "      <td>False</td>\n",
       "      <td>False</td>\n",
       "      <td>False</td>\n",
       "      <td>False</td>\n",
       "      <td>False</td>\n",
       "      <td>False</td>\n",
       "      <td>False</td>\n",
       "      <td>2</td>\n",
       "    </tr>\n",
       "    <tr>\n",
       "      <th>260597</th>\n",
       "      <td>669485</td>\n",
       "      <td>17</td>\n",
       "      <td>715</td>\n",
       "      <td>2060</td>\n",
       "      <td>2</td>\n",
       "      <td>0</td>\n",
       "      <td>6</td>\n",
       "      <td>5</td>\n",
       "      <td>t</td>\n",
       "      <td>r</td>\n",
       "      <td>...</td>\n",
       "      <td>False</td>\n",
       "      <td>False</td>\n",
       "      <td>False</td>\n",
       "      <td>False</td>\n",
       "      <td>False</td>\n",
       "      <td>False</td>\n",
       "      <td>False</td>\n",
       "      <td>False</td>\n",
       "      <td>False</td>\n",
       "      <td>3</td>\n",
       "    </tr>\n",
       "    <tr>\n",
       "      <th>260598</th>\n",
       "      <td>602512</td>\n",
       "      <td>17</td>\n",
       "      <td>51</td>\n",
       "      <td>8163</td>\n",
       "      <td>3</td>\n",
       "      <td>55</td>\n",
       "      <td>6</td>\n",
       "      <td>7</td>\n",
       "      <td>t</td>\n",
       "      <td>r</td>\n",
       "      <td>...</td>\n",
       "      <td>False</td>\n",
       "      <td>False</td>\n",
       "      <td>False</td>\n",
       "      <td>False</td>\n",
       "      <td>False</td>\n",
       "      <td>False</td>\n",
       "      <td>False</td>\n",
       "      <td>False</td>\n",
       "      <td>False</td>\n",
       "      <td>3</td>\n",
       "    </tr>\n",
       "    <tr>\n",
       "      <th>260599</th>\n",
       "      <td>151409</td>\n",
       "      <td>26</td>\n",
       "      <td>39</td>\n",
       "      <td>1851</td>\n",
       "      <td>2</td>\n",
       "      <td>10</td>\n",
       "      <td>14</td>\n",
       "      <td>6</td>\n",
       "      <td>t</td>\n",
       "      <td>r</td>\n",
       "      <td>...</td>\n",
       "      <td>False</td>\n",
       "      <td>False</td>\n",
       "      <td>False</td>\n",
       "      <td>False</td>\n",
       "      <td>False</td>\n",
       "      <td>False</td>\n",
       "      <td>False</td>\n",
       "      <td>False</td>\n",
       "      <td>False</td>\n",
       "      <td>2</td>\n",
       "    </tr>\n",
       "    <tr>\n",
       "      <th>260600</th>\n",
       "      <td>747594</td>\n",
       "      <td>21</td>\n",
       "      <td>9</td>\n",
       "      <td>9101</td>\n",
       "      <td>3</td>\n",
       "      <td>10</td>\n",
       "      <td>7</td>\n",
       "      <td>6</td>\n",
       "      <td>n</td>\n",
       "      <td>r</td>\n",
       "      <td>...</td>\n",
       "      <td>False</td>\n",
       "      <td>False</td>\n",
       "      <td>False</td>\n",
       "      <td>False</td>\n",
       "      <td>False</td>\n",
       "      <td>False</td>\n",
       "      <td>False</td>\n",
       "      <td>False</td>\n",
       "      <td>False</td>\n",
       "      <td>3</td>\n",
       "    </tr>\n",
       "  </tbody>\n",
       "</table>\n",
       "<p>260601 rows × 40 columns</p>\n",
       "</div>"
      ],
      "text/plain": [
       "        building_id  geo_level_1_id  geo_level_2_id  geo_level_3_id  \\\n",
       "0            802906               6             487           12198   \n",
       "1             28830               8             900            2812   \n",
       "2             94947              21             363            8973   \n",
       "3            590882              22             418           10694   \n",
       "4            201944              11             131            1488   \n",
       "...             ...             ...             ...             ...   \n",
       "260596       688636              25            1335            1621   \n",
       "260597       669485              17             715            2060   \n",
       "260598       602512              17              51            8163   \n",
       "260599       151409              26              39            1851   \n",
       "260600       747594              21               9            9101   \n",
       "\n",
       "        count_floors_pre_eq  age  area_percentage  height_percentage  \\\n",
       "0                         2   30                6                  5   \n",
       "1                         2   10                8                  7   \n",
       "2                         2   10                5                  5   \n",
       "3                         2   10                6                  5   \n",
       "4                         3   30                8                  9   \n",
       "...                     ...  ...              ...                ...   \n",
       "260596                    1   55                6                  3   \n",
       "260597                    2    0                6                  5   \n",
       "260598                    3   55                6                  7   \n",
       "260599                    2   10               14                  6   \n",
       "260600                    3   10                7                  6   \n",
       "\n",
       "       land_surface_condition foundation_type  ... has_secondary_use_hotel  \\\n",
       "0                           t               r  ...                   False   \n",
       "1                           o               r  ...                   False   \n",
       "2                           t               r  ...                   False   \n",
       "3                           t               r  ...                   False   \n",
       "4                           t               r  ...                   False   \n",
       "...                       ...             ...  ...                     ...   \n",
       "260596                      n               r  ...                   False   \n",
       "260597                      t               r  ...                   False   \n",
       "260598                      t               r  ...                   False   \n",
       "260599                      t               r  ...                   False   \n",
       "260600                      n               r  ...                   False   \n",
       "\n",
       "       has_secondary_use_rental has_secondary_use_institution  \\\n",
       "0                         False                         False   \n",
       "1                         False                         False   \n",
       "2                         False                         False   \n",
       "3                         False                         False   \n",
       "4                         False                         False   \n",
       "...                         ...                           ...   \n",
       "260596                    False                         False   \n",
       "260597                    False                         False   \n",
       "260598                    False                         False   \n",
       "260599                    False                         False   \n",
       "260600                    False                         False   \n",
       "\n",
       "       has_secondary_use_school has_secondary_use_industry  \\\n",
       "0                         False                      False   \n",
       "1                         False                      False   \n",
       "2                         False                      False   \n",
       "3                         False                      False   \n",
       "4                         False                      False   \n",
       "...                         ...                        ...   \n",
       "260596                    False                      False   \n",
       "260597                    False                      False   \n",
       "260598                    False                      False   \n",
       "260599                    False                      False   \n",
       "260600                    False                      False   \n",
       "\n",
       "        has_secondary_use_health_post  has_secondary_use_gov_office  \\\n",
       "0                               False                         False   \n",
       "1                               False                         False   \n",
       "2                               False                         False   \n",
       "3                               False                         False   \n",
       "4                               False                         False   \n",
       "...                               ...                           ...   \n",
       "260596                          False                         False   \n",
       "260597                          False                         False   \n",
       "260598                          False                         False   \n",
       "260599                          False                         False   \n",
       "260600                          False                         False   \n",
       "\n",
       "        has_secondary_use_use_police  has_secondary_use_other  damage_grade  \n",
       "0                              False                    False             3  \n",
       "1                              False                    False             2  \n",
       "2                              False                    False             3  \n",
       "3                              False                    False             2  \n",
       "4                              False                    False             3  \n",
       "...                              ...                      ...           ...  \n",
       "260596                         False                    False             2  \n",
       "260597                         False                    False             3  \n",
       "260598                         False                    False             3  \n",
       "260599                         False                    False             2  \n",
       "260600                         False                    False             3  \n",
       "\n",
       "[260601 rows x 40 columns]"
      ]
     },
     "execution_count": 42,
     "metadata": {},
     "output_type": "execute_result"
    }
   ],
   "source": [
    "data_train"
   ]
  },
  {
   "cell_type": "code",
   "execution_count": 183,
   "metadata": {},
   "outputs": [
    {
     "data": {
      "text/plain": [
       "2    148259\n",
       "3     87218\n",
       "1     25124\n",
       "Name: damage_grade, dtype: int64"
      ]
     },
     "execution_count": 183,
     "metadata": {},
     "output_type": "execute_result"
    }
   ],
   "source": [
    "data_train[\"damage_grade\"].value_counts()"
   ]
  },
  {
   "cell_type": "markdown",
   "metadata": {},
   "source": [
    "## building_id (tipo: ID) ❌\n",
    "   - identificador único de la edificación.\n",
    "\n",
    "Debido a que este es un identificador unico para cada edificacion, y es independiente del daño de cada edificio, no lo tendremos cuenta para entrenar nuestro modelo."
   ]
  },
  {
   "cell_type": "markdown",
   "metadata": {},
   "source": [
    "## geo_level_1_id, geo_level_2_id, geo_level_3_id (tipo: enteros) ❌\n",
    " - región geográfica en la cual la edificación existe, desde la más general (level 1) a la más específica (level 3).\n",
    " \n",
    " * level 1: 0-30, \n",
    " * level 2: 0-1427, \n",
    " * level 3: 0-12567.\n",
    " "
   ]
  },
  {
   "cell_type": "code",
   "execution_count": 43,
   "metadata": {},
   "outputs": [],
   "source": [
    "data_train[\"geo_level_absolute\"] = data_train[\"geo_level_1_id\"] + data_train[\"geo_level_2_id\"] + data_train[\"geo_level_3_id\"]"
   ]
  },
  {
   "cell_type": "code",
   "execution_count": 44,
   "metadata": {},
   "outputs": [
    {
     "data": {
      "text/plain": [
       "698      651\n",
       "9198     647\n",
       "799      542\n",
       "11505    514\n",
       "11311    487\n",
       "        ... \n",
       "3806       1\n",
       "13616      1\n",
       "11857      1\n",
       "11903      1\n",
       "12502      1\n",
       "Name: geo_level_absolute, Length: 7721, dtype: int64"
      ]
     },
     "execution_count": 44,
     "metadata": {},
     "output_type": "execute_result"
    }
   ],
   "source": [
    "data_train[\"geo_level_absolute\"].value_counts()"
   ]
  },
  {
   "cell_type": "markdown",
   "metadata": {},
   "source": [
    "## count_floors_pre_eq (tipo: entero) ✔️\n",
    "   - número de pisos en la edificación antes del terremoto."
   ]
  },
  {
   "cell_type": "code",
   "execution_count": 45,
   "metadata": {},
   "outputs": [
    {
     "data": {
      "text/plain": [
       "2    156623\n",
       "3     55617\n",
       "1     40441\n",
       "4      5424\n",
       "5      2246\n",
       "6       209\n",
       "7        39\n",
       "9         1\n",
       "8         1\n",
       "Name: count_floors_pre_eq, dtype: int64"
      ]
     },
     "execution_count": 45,
     "metadata": {},
     "output_type": "execute_result"
    }
   ],
   "source": [
    "data_train[\"count_floors_pre_eq\"].value_counts()"
   ]
  },
  {
   "cell_type": "code",
   "execution_count": 46,
   "metadata": {},
   "outputs": [
    {
     "data": {
      "text/html": [
       "<div>\n",
       "<style scoped>\n",
       "    .dataframe tbody tr th:only-of-type {\n",
       "        vertical-align: middle;\n",
       "    }\n",
       "\n",
       "    .dataframe tbody tr th {\n",
       "        vertical-align: top;\n",
       "    }\n",
       "\n",
       "    .dataframe thead th {\n",
       "        text-align: right;\n",
       "    }\n",
       "</style>\n",
       "<table border=\"1\" class=\"dataframe\">\n",
       "  <thead>\n",
       "    <tr style=\"text-align: right;\">\n",
       "      <th></th>\n",
       "      <th>count_floors_pre_eq</th>\n",
       "      <th>damage_grade</th>\n",
       "    </tr>\n",
       "  </thead>\n",
       "  <tbody>\n",
       "    <tr>\n",
       "      <th>count_floors_pre_eq</th>\n",
       "      <td>1.00</td>\n",
       "      <td>0.12</td>\n",
       "    </tr>\n",
       "    <tr>\n",
       "      <th>damage_grade</th>\n",
       "      <td>0.12</td>\n",
       "      <td>1.00</td>\n",
       "    </tr>\n",
       "  </tbody>\n",
       "</table>\n",
       "</div>"
      ],
      "text/plain": [
       "                     count_floors_pre_eq         damage_grade\n",
       "count_floors_pre_eq                 1.00                 0.12\n",
       "damage_grade                        0.12                 1.00"
      ]
     },
     "execution_count": 46,
     "metadata": {},
     "output_type": "execute_result"
    }
   ],
   "source": [
    "data_train[[\"count_floors_pre_eq\", 'damage_grade']].corr()"
   ]
  },
  {
   "cell_type": "markdown",
   "metadata": {},
   "source": [
    "## age (tipo: entero) ❌\n",
    "   - antigüedad de la edificación en años."
   ]
  },
  {
   "cell_type": "code",
   "execution_count": 47,
   "metadata": {},
   "outputs": [
    {
     "data": {
      "text/plain": [
       "10     38896\n",
       "15     36010\n",
       "5      33697\n",
       "20     32182\n",
       "0      26041\n",
       "25     24366\n",
       "30     18028\n",
       "35     10710\n",
       "40     10559\n",
       "50      7257\n",
       "45      4711\n",
       "60      3612\n",
       "80      3055\n",
       "55      2033\n",
       "70      1975\n",
       "995     1390\n",
       "100     1364\n",
       "65      1123\n",
       "90      1085\n",
       "85       847\n",
       "75       512\n",
       "95       414\n",
       "120      180\n",
       "150      142\n",
       "200      106\n",
       "110      100\n",
       "105       89\n",
       "125       37\n",
       "115       21\n",
       "140        9\n",
       "130        9\n",
       "180        7\n",
       "160        6\n",
       "170        6\n",
       "175        5\n",
       "135        5\n",
       "145        3\n",
       "190        3\n",
       "195        2\n",
       "165        2\n",
       "155        1\n",
       "185        1\n",
       "Name: age, dtype: int64"
      ]
     },
     "execution_count": 47,
     "metadata": {},
     "output_type": "execute_result"
    }
   ],
   "source": [
    "data_train[\"age\"].value_counts()"
   ]
  },
  {
   "cell_type": "code",
   "execution_count": 48,
   "metadata": {},
   "outputs": [
    {
     "data": {
      "text/html": [
       "<div>\n",
       "<style scoped>\n",
       "    .dataframe tbody tr th:only-of-type {\n",
       "        vertical-align: middle;\n",
       "    }\n",
       "\n",
       "    .dataframe tbody tr th {\n",
       "        vertical-align: top;\n",
       "    }\n",
       "\n",
       "    .dataframe thead th {\n",
       "        text-align: right;\n",
       "    }\n",
       "</style>\n",
       "<table border=\"1\" class=\"dataframe\">\n",
       "  <thead>\n",
       "    <tr style=\"text-align: right;\">\n",
       "      <th></th>\n",
       "      <th>age</th>\n",
       "      <th>damage_grade</th>\n",
       "    </tr>\n",
       "  </thead>\n",
       "  <tbody>\n",
       "    <tr>\n",
       "      <th>age</th>\n",
       "      <td>1.00</td>\n",
       "      <td>0.03</td>\n",
       "    </tr>\n",
       "    <tr>\n",
       "      <th>damage_grade</th>\n",
       "      <td>0.03</td>\n",
       "      <td>1.00</td>\n",
       "    </tr>\n",
       "  </tbody>\n",
       "</table>\n",
       "</div>"
      ],
      "text/plain": [
       "                              age         damage_grade\n",
       "age                          1.00                 0.03\n",
       "damage_grade                 0.03                 1.00"
      ]
     },
     "execution_count": 48,
     "metadata": {},
     "output_type": "execute_result"
    }
   ],
   "source": [
    "data_train[[\"age\", 'damage_grade']].corr()"
   ]
  },
  {
   "cell_type": "markdown",
   "metadata": {},
   "source": [
    "Por el analisis realizado en el tp1, vimos que esta columna tiene una distribucion muy poco uniforme, y no permite obtener conlusiones precisas, dejarla podria llevar al overfiting. Ademas tiene una correlacion muy baja con el grado de daño. Vamos a dropearla."
   ]
  },
  {
   "cell_type": "markdown",
   "metadata": {},
   "source": [
    "## area_percentage (tipo: entero) ✔️\n",
    "   - superficie normalizada ocupada por la edificación."
   ]
  },
  {
   "cell_type": "code",
   "execution_count": 49,
   "metadata": {},
   "outputs": [
    {
     "data": {
      "text/plain": [
       "6      42013\n",
       "7      36752\n",
       "5      32724\n",
       "8      28445\n",
       "9      22199\n",
       "       ...  \n",
       "82         1\n",
       "80         1\n",
       "78         1\n",
       "75         1\n",
       "100        1\n",
       "Name: area_percentage, Length: 84, dtype: int64"
      ]
     },
     "execution_count": 49,
     "metadata": {},
     "output_type": "execute_result"
    }
   ],
   "source": [
    "data_train[\"area_percentage\"].value_counts()"
   ]
  },
  {
   "cell_type": "code",
   "execution_count": 50,
   "metadata": {},
   "outputs": [
    {
     "data": {
      "text/html": [
       "<div>\n",
       "<style scoped>\n",
       "    .dataframe tbody tr th:only-of-type {\n",
       "        vertical-align: middle;\n",
       "    }\n",
       "\n",
       "    .dataframe tbody tr th {\n",
       "        vertical-align: top;\n",
       "    }\n",
       "\n",
       "    .dataframe thead th {\n",
       "        text-align: right;\n",
       "    }\n",
       "</style>\n",
       "<table border=\"1\" class=\"dataframe\">\n",
       "  <thead>\n",
       "    <tr style=\"text-align: right;\">\n",
       "      <th></th>\n",
       "      <th>area_percentage</th>\n",
       "      <th>damage_grade</th>\n",
       "    </tr>\n",
       "  </thead>\n",
       "  <tbody>\n",
       "    <tr>\n",
       "      <th>area_percentage</th>\n",
       "      <td>1.00</td>\n",
       "      <td>-0.13</td>\n",
       "    </tr>\n",
       "    <tr>\n",
       "      <th>damage_grade</th>\n",
       "      <td>-0.13</td>\n",
       "      <td>1.00</td>\n",
       "    </tr>\n",
       "  </tbody>\n",
       "</table>\n",
       "</div>"
      ],
      "text/plain": [
       "                     area_percentage         damage_grade\n",
       "area_percentage                 1.00                -0.13\n",
       "damage_grade                   -0.13                 1.00"
      ]
     },
     "execution_count": 50,
     "metadata": {},
     "output_type": "execute_result"
    }
   ],
   "source": [
    "data_train[[\"area_percentage\", 'damage_grade']].corr()"
   ]
  },
  {
   "cell_type": "markdown",
   "metadata": {},
   "source": [
    "## height_percentage (tipo: entero) ❌\n",
    "   - altura normalizada ocupada por la edificación."
   ]
  },
  {
   "cell_type": "code",
   "execution_count": 51,
   "metadata": {},
   "outputs": [
    {
     "data": {
      "text/plain": [
       "5     78513\n",
       "6     46477\n",
       "4     37763\n",
       "7     35465\n",
       "3     25957\n",
       "8     13902\n",
       "2      9305\n",
       "9      5376\n",
       "10     4492\n",
       "11      917\n",
       "12      907\n",
       "13      759\n",
       "15      292\n",
       "16      179\n",
       "32       75\n",
       "18       71\n",
       "14       66\n",
       "20       33\n",
       "21       13\n",
       "23       11\n",
       "17        9\n",
       "19        7\n",
       "24        4\n",
       "25        3\n",
       "26        2\n",
       "28        2\n",
       "31        1\n",
       "Name: height_percentage, dtype: int64"
      ]
     },
     "execution_count": 51,
     "metadata": {},
     "output_type": "execute_result"
    }
   ],
   "source": [
    "data_train[\"height_percentage\"].value_counts()"
   ]
  },
  {
   "cell_type": "code",
   "execution_count": 52,
   "metadata": {},
   "outputs": [
    {
     "data": {
      "text/html": [
       "<div>\n",
       "<style scoped>\n",
       "    .dataframe tbody tr th:only-of-type {\n",
       "        vertical-align: middle;\n",
       "    }\n",
       "\n",
       "    .dataframe tbody tr th {\n",
       "        vertical-align: top;\n",
       "    }\n",
       "\n",
       "    .dataframe thead th {\n",
       "        text-align: right;\n",
       "    }\n",
       "</style>\n",
       "<table border=\"1\" class=\"dataframe\">\n",
       "  <thead>\n",
       "    <tr style=\"text-align: right;\">\n",
       "      <th></th>\n",
       "      <th>height_percentage</th>\n",
       "      <th>damage_grade</th>\n",
       "    </tr>\n",
       "  </thead>\n",
       "  <tbody>\n",
       "    <tr>\n",
       "      <th>height_percentage</th>\n",
       "      <td>1.00</td>\n",
       "      <td>0.05</td>\n",
       "    </tr>\n",
       "    <tr>\n",
       "      <th>damage_grade</th>\n",
       "      <td>0.05</td>\n",
       "      <td>1.00</td>\n",
       "    </tr>\n",
       "  </tbody>\n",
       "</table>\n",
       "</div>"
      ],
      "text/plain": [
       "                     height_percentage         damage_grade\n",
       "height_percentage                 1.00                 0.05\n",
       "damage_grade                      0.05                 1.00"
      ]
     },
     "execution_count": 52,
     "metadata": {},
     "output_type": "execute_result"
    }
   ],
   "source": [
    "data_train[[\"height_percentage\", 'damage_grade']].corr()"
   ]
  },
  {
   "cell_type": "markdown",
   "metadata": {},
   "source": [
    "## land_surface_condition (tipo: categórico) ❌\n",
    " - condición de la superficie terrestre donde el edificio fue construido. Valores posibles: n, o, t."
   ]
  },
  {
   "cell_type": "code",
   "execution_count": 127,
   "metadata": {},
   "outputs": [
    {
     "data": {
      "text/plain": [
       "t                   0.83\n",
       "n                   0.14\n",
       "o                   0.03\n",
       "Name: land_surface_condition, dtype: float64"
      ]
     },
     "execution_count": 127,
     "metadata": {},
     "output_type": "execute_result"
    }
   ],
   "source": [
    "data_train[\"land_surface_condition\"].value_counts(normalize=\"true\")"
   ]
  },
  {
   "cell_type": "code",
   "execution_count": 126,
   "metadata": {},
   "outputs": [
    {
     "data": {
      "text/plain": [
       "damage_grade  land_surface_condition\n",
       "1             n                           2556\n",
       "              o                            602\n",
       "              t                          21966\n",
       "2             n                          21484\n",
       "              o                           4708\n",
       "              t                         122067\n",
       "3             n                          11488\n",
       "              o                           3006\n",
       "              t                          72724\n",
       "Name: contador, dtype: int64"
      ]
     },
     "execution_count": 126,
     "metadata": {},
     "output_type": "execute_result"
    }
   ],
   "source": [
    "features[\"contador\"] = 1\n",
    "features.groupby([\"damage_grade\",\"land_surface_condition\"])[\"contador\"].sum()"
   ]
  },
  {
   "cell_type": "code",
   "execution_count": 132,
   "metadata": {},
   "outputs": [
    {
     "data": {
      "text/html": [
       "<div>\n",
       "<style scoped>\n",
       "    .dataframe tbody tr th:only-of-type {\n",
       "        vertical-align: middle;\n",
       "    }\n",
       "\n",
       "    .dataframe tbody tr th {\n",
       "        vertical-align: top;\n",
       "    }\n",
       "\n",
       "    .dataframe thead th {\n",
       "        text-align: right;\n",
       "    }\n",
       "</style>\n",
       "<table border=\"1\" class=\"dataframe\">\n",
       "  <thead>\n",
       "    <tr style=\"text-align: right;\">\n",
       "      <th></th>\n",
       "      <th>building_id</th>\n",
       "      <th>geo_level_1_id</th>\n",
       "      <th>geo_level_2_id</th>\n",
       "      <th>geo_level_3_id</th>\n",
       "      <th>count_floors_pre_eq</th>\n",
       "      <th>age</th>\n",
       "      <th>area_percentage</th>\n",
       "      <th>height_percentage</th>\n",
       "      <th>land_surface_condition</th>\n",
       "      <th>foundation_type</th>\n",
       "      <th>...</th>\n",
       "      <th>has_secondary_use_health_post</th>\n",
       "      <th>has_secondary_use_gov_office</th>\n",
       "      <th>has_secondary_use_use_police</th>\n",
       "      <th>has_secondary_use_other</th>\n",
       "      <th>damage_grade</th>\n",
       "      <th>geo_level_absolute</th>\n",
       "      <th>contador</th>\n",
       "      <th>n</th>\n",
       "      <th>o</th>\n",
       "      <th>t</th>\n",
       "    </tr>\n",
       "  </thead>\n",
       "  <tbody>\n",
       "    <tr>\n",
       "      <th>0</th>\n",
       "      <td>802906</td>\n",
       "      <td>6</td>\n",
       "      <td>487</td>\n",
       "      <td>12198</td>\n",
       "      <td>2</td>\n",
       "      <td>30</td>\n",
       "      <td>6</td>\n",
       "      <td>5</td>\n",
       "      <td>t</td>\n",
       "      <td>r</td>\n",
       "      <td>...</td>\n",
       "      <td>False</td>\n",
       "      <td>False</td>\n",
       "      <td>False</td>\n",
       "      <td>False</td>\n",
       "      <td>3</td>\n",
       "      <td>12691</td>\n",
       "      <td>1</td>\n",
       "      <td>0</td>\n",
       "      <td>0</td>\n",
       "      <td>1</td>\n",
       "    </tr>\n",
       "    <tr>\n",
       "      <th>1</th>\n",
       "      <td>28830</td>\n",
       "      <td>8</td>\n",
       "      <td>900</td>\n",
       "      <td>2812</td>\n",
       "      <td>2</td>\n",
       "      <td>10</td>\n",
       "      <td>8</td>\n",
       "      <td>7</td>\n",
       "      <td>o</td>\n",
       "      <td>r</td>\n",
       "      <td>...</td>\n",
       "      <td>False</td>\n",
       "      <td>False</td>\n",
       "      <td>False</td>\n",
       "      <td>False</td>\n",
       "      <td>2</td>\n",
       "      <td>3720</td>\n",
       "      <td>1</td>\n",
       "      <td>0</td>\n",
       "      <td>1</td>\n",
       "      <td>0</td>\n",
       "    </tr>\n",
       "    <tr>\n",
       "      <th>2</th>\n",
       "      <td>94947</td>\n",
       "      <td>21</td>\n",
       "      <td>363</td>\n",
       "      <td>8973</td>\n",
       "      <td>2</td>\n",
       "      <td>10</td>\n",
       "      <td>5</td>\n",
       "      <td>5</td>\n",
       "      <td>t</td>\n",
       "      <td>r</td>\n",
       "      <td>...</td>\n",
       "      <td>False</td>\n",
       "      <td>False</td>\n",
       "      <td>False</td>\n",
       "      <td>False</td>\n",
       "      <td>3</td>\n",
       "      <td>9357</td>\n",
       "      <td>1</td>\n",
       "      <td>0</td>\n",
       "      <td>0</td>\n",
       "      <td>1</td>\n",
       "    </tr>\n",
       "    <tr>\n",
       "      <th>3</th>\n",
       "      <td>590882</td>\n",
       "      <td>22</td>\n",
       "      <td>418</td>\n",
       "      <td>10694</td>\n",
       "      <td>2</td>\n",
       "      <td>10</td>\n",
       "      <td>6</td>\n",
       "      <td>5</td>\n",
       "      <td>t</td>\n",
       "      <td>r</td>\n",
       "      <td>...</td>\n",
       "      <td>False</td>\n",
       "      <td>False</td>\n",
       "      <td>False</td>\n",
       "      <td>False</td>\n",
       "      <td>2</td>\n",
       "      <td>11134</td>\n",
       "      <td>1</td>\n",
       "      <td>0</td>\n",
       "      <td>0</td>\n",
       "      <td>1</td>\n",
       "    </tr>\n",
       "    <tr>\n",
       "      <th>4</th>\n",
       "      <td>201944</td>\n",
       "      <td>11</td>\n",
       "      <td>131</td>\n",
       "      <td>1488</td>\n",
       "      <td>3</td>\n",
       "      <td>30</td>\n",
       "      <td>8</td>\n",
       "      <td>9</td>\n",
       "      <td>t</td>\n",
       "      <td>r</td>\n",
       "      <td>...</td>\n",
       "      <td>False</td>\n",
       "      <td>False</td>\n",
       "      <td>False</td>\n",
       "      <td>False</td>\n",
       "      <td>3</td>\n",
       "      <td>1630</td>\n",
       "      <td>1</td>\n",
       "      <td>0</td>\n",
       "      <td>0</td>\n",
       "      <td>1</td>\n",
       "    </tr>\n",
       "    <tr>\n",
       "      <th>...</th>\n",
       "      <td>...</td>\n",
       "      <td>...</td>\n",
       "      <td>...</td>\n",
       "      <td>...</td>\n",
       "      <td>...</td>\n",
       "      <td>...</td>\n",
       "      <td>...</td>\n",
       "      <td>...</td>\n",
       "      <td>...</td>\n",
       "      <td>...</td>\n",
       "      <td>...</td>\n",
       "      <td>...</td>\n",
       "      <td>...</td>\n",
       "      <td>...</td>\n",
       "      <td>...</td>\n",
       "      <td>...</td>\n",
       "      <td>...</td>\n",
       "      <td>...</td>\n",
       "      <td>...</td>\n",
       "      <td>...</td>\n",
       "      <td>...</td>\n",
       "    </tr>\n",
       "    <tr>\n",
       "      <th>260596</th>\n",
       "      <td>688636</td>\n",
       "      <td>25</td>\n",
       "      <td>1335</td>\n",
       "      <td>1621</td>\n",
       "      <td>1</td>\n",
       "      <td>55</td>\n",
       "      <td>6</td>\n",
       "      <td>3</td>\n",
       "      <td>n</td>\n",
       "      <td>r</td>\n",
       "      <td>...</td>\n",
       "      <td>False</td>\n",
       "      <td>False</td>\n",
       "      <td>False</td>\n",
       "      <td>False</td>\n",
       "      <td>2</td>\n",
       "      <td>2981</td>\n",
       "      <td>1</td>\n",
       "      <td>1</td>\n",
       "      <td>0</td>\n",
       "      <td>0</td>\n",
       "    </tr>\n",
       "    <tr>\n",
       "      <th>260597</th>\n",
       "      <td>669485</td>\n",
       "      <td>17</td>\n",
       "      <td>715</td>\n",
       "      <td>2060</td>\n",
       "      <td>2</td>\n",
       "      <td>0</td>\n",
       "      <td>6</td>\n",
       "      <td>5</td>\n",
       "      <td>t</td>\n",
       "      <td>r</td>\n",
       "      <td>...</td>\n",
       "      <td>False</td>\n",
       "      <td>False</td>\n",
       "      <td>False</td>\n",
       "      <td>False</td>\n",
       "      <td>3</td>\n",
       "      <td>2792</td>\n",
       "      <td>1</td>\n",
       "      <td>0</td>\n",
       "      <td>0</td>\n",
       "      <td>1</td>\n",
       "    </tr>\n",
       "    <tr>\n",
       "      <th>260598</th>\n",
       "      <td>602512</td>\n",
       "      <td>17</td>\n",
       "      <td>51</td>\n",
       "      <td>8163</td>\n",
       "      <td>3</td>\n",
       "      <td>55</td>\n",
       "      <td>6</td>\n",
       "      <td>7</td>\n",
       "      <td>t</td>\n",
       "      <td>r</td>\n",
       "      <td>...</td>\n",
       "      <td>False</td>\n",
       "      <td>False</td>\n",
       "      <td>False</td>\n",
       "      <td>False</td>\n",
       "      <td>3</td>\n",
       "      <td>8231</td>\n",
       "      <td>1</td>\n",
       "      <td>0</td>\n",
       "      <td>0</td>\n",
       "      <td>1</td>\n",
       "    </tr>\n",
       "    <tr>\n",
       "      <th>260599</th>\n",
       "      <td>151409</td>\n",
       "      <td>26</td>\n",
       "      <td>39</td>\n",
       "      <td>1851</td>\n",
       "      <td>2</td>\n",
       "      <td>10</td>\n",
       "      <td>14</td>\n",
       "      <td>6</td>\n",
       "      <td>t</td>\n",
       "      <td>r</td>\n",
       "      <td>...</td>\n",
       "      <td>False</td>\n",
       "      <td>False</td>\n",
       "      <td>False</td>\n",
       "      <td>False</td>\n",
       "      <td>2</td>\n",
       "      <td>1916</td>\n",
       "      <td>1</td>\n",
       "      <td>0</td>\n",
       "      <td>0</td>\n",
       "      <td>1</td>\n",
       "    </tr>\n",
       "    <tr>\n",
       "      <th>260600</th>\n",
       "      <td>747594</td>\n",
       "      <td>21</td>\n",
       "      <td>9</td>\n",
       "      <td>9101</td>\n",
       "      <td>3</td>\n",
       "      <td>10</td>\n",
       "      <td>7</td>\n",
       "      <td>6</td>\n",
       "      <td>n</td>\n",
       "      <td>r</td>\n",
       "      <td>...</td>\n",
       "      <td>False</td>\n",
       "      <td>False</td>\n",
       "      <td>False</td>\n",
       "      <td>False</td>\n",
       "      <td>3</td>\n",
       "      <td>9131</td>\n",
       "      <td>1</td>\n",
       "      <td>1</td>\n",
       "      <td>0</td>\n",
       "      <td>0</td>\n",
       "    </tr>\n",
       "  </tbody>\n",
       "</table>\n",
       "<p>260601 rows × 45 columns</p>\n",
       "</div>"
      ],
      "text/plain": [
       "        building_id  geo_level_1_id  geo_level_2_id  geo_level_3_id  \\\n",
       "0            802906               6             487           12198   \n",
       "1             28830               8             900            2812   \n",
       "2             94947              21             363            8973   \n",
       "3            590882              22             418           10694   \n",
       "4            201944              11             131            1488   \n",
       "...             ...             ...             ...             ...   \n",
       "260596       688636              25            1335            1621   \n",
       "260597       669485              17             715            2060   \n",
       "260598       602512              17              51            8163   \n",
       "260599       151409              26              39            1851   \n",
       "260600       747594              21               9            9101   \n",
       "\n",
       "        count_floors_pre_eq  age  area_percentage  height_percentage  \\\n",
       "0                         2   30                6                  5   \n",
       "1                         2   10                8                  7   \n",
       "2                         2   10                5                  5   \n",
       "3                         2   10                6                  5   \n",
       "4                         3   30                8                  9   \n",
       "...                     ...  ...              ...                ...   \n",
       "260596                    1   55                6                  3   \n",
       "260597                    2    0                6                  5   \n",
       "260598                    3   55                6                  7   \n",
       "260599                    2   10               14                  6   \n",
       "260600                    3   10                7                  6   \n",
       "\n",
       "       land_surface_condition foundation_type  ...  \\\n",
       "0                           t               r  ...   \n",
       "1                           o               r  ...   \n",
       "2                           t               r  ...   \n",
       "3                           t               r  ...   \n",
       "4                           t               r  ...   \n",
       "...                       ...             ...  ...   \n",
       "260596                      n               r  ...   \n",
       "260597                      t               r  ...   \n",
       "260598                      t               r  ...   \n",
       "260599                      t               r  ...   \n",
       "260600                      n               r  ...   \n",
       "\n",
       "       has_secondary_use_health_post has_secondary_use_gov_office  \\\n",
       "0                              False                        False   \n",
       "1                              False                        False   \n",
       "2                              False                        False   \n",
       "3                              False                        False   \n",
       "4                              False                        False   \n",
       "...                              ...                          ...   \n",
       "260596                         False                        False   \n",
       "260597                         False                        False   \n",
       "260598                         False                        False   \n",
       "260599                         False                        False   \n",
       "260600                         False                        False   \n",
       "\n",
       "       has_secondary_use_use_police has_secondary_use_other damage_grade  \\\n",
       "0                             False                   False            3   \n",
       "1                             False                   False            2   \n",
       "2                             False                   False            3   \n",
       "3                             False                   False            2   \n",
       "4                             False                   False            3   \n",
       "...                             ...                     ...          ...   \n",
       "260596                        False                   False            2   \n",
       "260597                        False                   False            3   \n",
       "260598                        False                   False            3   \n",
       "260599                        False                   False            2   \n",
       "260600                        False                   False            3   \n",
       "\n",
       "        geo_level_absolute  contador  n  o  t  \n",
       "0                    12691         1  0  0  1  \n",
       "1                     3720         1  0  1  0  \n",
       "2                     9357         1  0  0  1  \n",
       "3                    11134         1  0  0  1  \n",
       "4                     1630         1  0  0  1  \n",
       "...                    ...       ... .. .. ..  \n",
       "260596                2981         1  1  0  0  \n",
       "260597                2792         1  0  0  1  \n",
       "260598                8231         1  0  0  1  \n",
       "260599                1916         1  0  0  1  \n",
       "260600                9131         1  1  0  0  \n",
       "\n",
       "[260601 rows x 45 columns]"
      ]
     },
     "execution_count": 132,
     "metadata": {},
     "output_type": "execute_result"
    }
   ],
   "source": [
    "land_dummies = pd.get_dummies(features[\"land_surface_condition\"])\n",
    "features[\"n\"] = land_dummies[\"n\"]\n",
    "features[\"o\"] = land_dummies[\"o\"]\n",
    "features[\"t\"] = land_dummies[\"t\"]"
   ]
  },
  {
   "cell_type": "code",
   "execution_count": 133,
   "metadata": {},
   "outputs": [
    {
     "data": {
      "text/html": [
       "<div>\n",
       "<style scoped>\n",
       "    .dataframe tbody tr th:only-of-type {\n",
       "        vertical-align: middle;\n",
       "    }\n",
       "\n",
       "    .dataframe tbody tr th {\n",
       "        vertical-align: top;\n",
       "    }\n",
       "\n",
       "    .dataframe thead th {\n",
       "        text-align: right;\n",
       "    }\n",
       "</style>\n",
       "<table border=\"1\" class=\"dataframe\">\n",
       "  <thead>\n",
       "    <tr style=\"text-align: right;\">\n",
       "      <th></th>\n",
       "      <th>n</th>\n",
       "      <th>damage_grade</th>\n",
       "    </tr>\n",
       "  </thead>\n",
       "  <tbody>\n",
       "    <tr>\n",
       "      <th>n</th>\n",
       "      <td>1.00</td>\n",
       "      <td>0.01</td>\n",
       "    </tr>\n",
       "    <tr>\n",
       "      <th>damage_grade</th>\n",
       "      <td>0.01</td>\n",
       "      <td>1.00</td>\n",
       "    </tr>\n",
       "  </tbody>\n",
       "</table>\n",
       "</div>"
      ],
      "text/plain": [
       "                                n         damage_grade\n",
       "n                            1.00                 0.01\n",
       "damage_grade                 0.01                 1.00"
      ]
     },
     "execution_count": 133,
     "metadata": {},
     "output_type": "execute_result"
    }
   ],
   "source": [
    "data_train[[\"n\", 'damage_grade']].corr()"
   ]
  },
  {
   "cell_type": "code",
   "execution_count": 134,
   "metadata": {},
   "outputs": [
    {
     "data": {
      "text/html": [
       "<div>\n",
       "<style scoped>\n",
       "    .dataframe tbody tr th:only-of-type {\n",
       "        vertical-align: middle;\n",
       "    }\n",
       "\n",
       "    .dataframe tbody tr th {\n",
       "        vertical-align: top;\n",
       "    }\n",
       "\n",
       "    .dataframe thead th {\n",
       "        text-align: right;\n",
       "    }\n",
       "</style>\n",
       "<table border=\"1\" class=\"dataframe\">\n",
       "  <thead>\n",
       "    <tr style=\"text-align: right;\">\n",
       "      <th></th>\n",
       "      <th>o</th>\n",
       "      <th>damage_grade</th>\n",
       "    </tr>\n",
       "  </thead>\n",
       "  <tbody>\n",
       "    <tr>\n",
       "      <th>o</th>\n",
       "      <td>1.00</td>\n",
       "      <td>0.02</td>\n",
       "    </tr>\n",
       "    <tr>\n",
       "      <th>damage_grade</th>\n",
       "      <td>0.02</td>\n",
       "      <td>1.00</td>\n",
       "    </tr>\n",
       "  </tbody>\n",
       "</table>\n",
       "</div>"
      ],
      "text/plain": [
       "                                o         damage_grade\n",
       "o                            1.00                 0.02\n",
       "damage_grade                 0.02                 1.00"
      ]
     },
     "execution_count": 134,
     "metadata": {},
     "output_type": "execute_result"
    }
   ],
   "source": [
    "data_train[[\"o\", 'damage_grade']].corr()"
   ]
  },
  {
   "cell_type": "code",
   "execution_count": 135,
   "metadata": {},
   "outputs": [
    {
     "data": {
      "text/html": [
       "<div>\n",
       "<style scoped>\n",
       "    .dataframe tbody tr th:only-of-type {\n",
       "        vertical-align: middle;\n",
       "    }\n",
       "\n",
       "    .dataframe tbody tr th {\n",
       "        vertical-align: top;\n",
       "    }\n",
       "\n",
       "    .dataframe thead th {\n",
       "        text-align: right;\n",
       "    }\n",
       "</style>\n",
       "<table border=\"1\" class=\"dataframe\">\n",
       "  <thead>\n",
       "    <tr style=\"text-align: right;\">\n",
       "      <th></th>\n",
       "      <th>t</th>\n",
       "      <th>damage_grade</th>\n",
       "    </tr>\n",
       "  </thead>\n",
       "  <tbody>\n",
       "    <tr>\n",
       "      <th>t</th>\n",
       "      <td>1.00</td>\n",
       "      <td>-0.01</td>\n",
       "    </tr>\n",
       "    <tr>\n",
       "      <th>damage_grade</th>\n",
       "      <td>-0.01</td>\n",
       "      <td>1.00</td>\n",
       "    </tr>\n",
       "  </tbody>\n",
       "</table>\n",
       "</div>"
      ],
      "text/plain": [
       "                                t         damage_grade\n",
       "t                            1.00                -0.01\n",
       "damage_grade                -0.01                 1.00"
      ]
     },
     "execution_count": 135,
     "metadata": {},
     "output_type": "execute_result"
    }
   ],
   "source": [
    "data_train[[\"t\", 'damage_grade']].corr()"
   ]
  },
  {
   "cell_type": "markdown",
   "metadata": {},
   "source": [
    "## foundation_type (tipo: categórico) ✔️\n",
    " - tipo de cimientos usados cuando se construyó la edificación. Valores posibles: h, i, r, u, w."
   ]
  },
  {
   "cell_type": "code",
   "execution_count": 140,
   "metadata": {},
   "outputs": [
    {
     "data": {
      "text/plain": [
       "r                   0.84\n",
       "w                   0.06\n",
       "u                   0.05\n",
       "i                   0.04\n",
       "h                   0.01\n",
       "Name: foundation_type, dtype: float64"
      ]
     },
     "execution_count": 140,
     "metadata": {},
     "output_type": "execute_result"
    }
   ],
   "source": [
    "data_train[\"foundation_type\"].value_counts(normalize=\"true\")"
   ]
  },
  {
   "cell_type": "code",
   "execution_count": 138,
   "metadata": {},
   "outputs": [],
   "source": [
    "foundation_dummies = pd.get_dummies(features[\"foundation_type\"])\n",
    "features[\"cimiento r\"] = foundation_dummies[\"r\"]\n",
    "features[\"cimiento w\"] = foundation_dummies[\"w\"]\n",
    "features[\"cimiento u\"] = foundation_dummies[\"u\"]\n",
    "features[\"cimiento i\"] = foundation_dummies[\"i\"]\n",
    "features[\"cimiento h\"] = foundation_dummies[\"h\"]"
   ]
  },
  {
   "cell_type": "code",
   "execution_count": 219,
   "metadata": {},
   "outputs": [
    {
     "data": {
      "text/plain": [
       "foundation_type  damage_grade\n",
       "h                1                  358\n",
       "                 2                  579\n",
       "                 3                  511\n",
       "i                1                 6004\n",
       "                 2                 4354\n",
       "                 3                  221\n",
       "r                1                10720\n",
       "                 2               125515\n",
       "                 3                82961\n",
       "u                1                 3689\n",
       "                 2                 8541\n",
       "                 3                 2030\n",
       "w                1                 4353\n",
       "                 2                 9270\n",
       "                 3                 1495\n",
       "Name: contador, dtype: int64"
      ]
     },
     "execution_count": 219,
     "metadata": {},
     "output_type": "execute_result"
    }
   ],
   "source": [
    "features.groupby([\"foundation_type\",\"damage_grade\"])[\"contador\"].sum()"
   ]
  },
  {
   "cell_type": "code",
   "execution_count": 143,
   "metadata": {},
   "outputs": [
    {
     "data": {
      "text/html": [
       "<div>\n",
       "<style scoped>\n",
       "    .dataframe tbody tr th:only-of-type {\n",
       "        vertical-align: middle;\n",
       "    }\n",
       "\n",
       "    .dataframe tbody tr th {\n",
       "        vertical-align: top;\n",
       "    }\n",
       "\n",
       "    .dataframe thead th {\n",
       "        text-align: right;\n",
       "    }\n",
       "</style>\n",
       "<table border=\"1\" class=\"dataframe\">\n",
       "  <thead>\n",
       "    <tr style=\"text-align: right;\">\n",
       "      <th></th>\n",
       "      <th>cimiento r</th>\n",
       "      <th>damage_grade</th>\n",
       "    </tr>\n",
       "  </thead>\n",
       "  <tbody>\n",
       "    <tr>\n",
       "      <th>cimiento r</th>\n",
       "      <td>1.00</td>\n",
       "      <td>0.34</td>\n",
       "    </tr>\n",
       "    <tr>\n",
       "      <th>damage_grade</th>\n",
       "      <td>0.34</td>\n",
       "      <td>1.00</td>\n",
       "    </tr>\n",
       "  </tbody>\n",
       "</table>\n",
       "</div>"
      ],
      "text/plain": [
       "                       cimiento r         damage_grade\n",
       "cimiento r                   1.00                 0.34\n",
       "damage_grade                 0.34                 1.00"
      ]
     },
     "execution_count": 143,
     "metadata": {},
     "output_type": "execute_result"
    }
   ],
   "source": [
    "data_train[[\"cimiento r\", 'damage_grade']].corr()"
   ]
  },
  {
   "cell_type": "code",
   "execution_count": 144,
   "metadata": {},
   "outputs": [
    {
     "data": {
      "text/html": [
       "<div>\n",
       "<style scoped>\n",
       "    .dataframe tbody tr th:only-of-type {\n",
       "        vertical-align: middle;\n",
       "    }\n",
       "\n",
       "    .dataframe tbody tr th {\n",
       "        vertical-align: top;\n",
       "    }\n",
       "\n",
       "    .dataframe thead th {\n",
       "        text-align: right;\n",
       "    }\n",
       "</style>\n",
       "<table border=\"1\" class=\"dataframe\">\n",
       "  <thead>\n",
       "    <tr style=\"text-align: right;\">\n",
       "      <th></th>\n",
       "      <th>cimiento w</th>\n",
       "      <th>damage_grade</th>\n",
       "    </tr>\n",
       "  </thead>\n",
       "  <tbody>\n",
       "    <tr>\n",
       "      <th>cimiento w</th>\n",
       "      <td>1.00</td>\n",
       "      <td>-0.17</td>\n",
       "    </tr>\n",
       "    <tr>\n",
       "      <th>damage_grade</th>\n",
       "      <td>-0.17</td>\n",
       "      <td>1.00</td>\n",
       "    </tr>\n",
       "  </tbody>\n",
       "</table>\n",
       "</div>"
      ],
      "text/plain": [
       "                       cimiento w         damage_grade\n",
       "cimiento w                   1.00                -0.17\n",
       "damage_grade                -0.17                 1.00"
      ]
     },
     "execution_count": 144,
     "metadata": {},
     "output_type": "execute_result"
    }
   ],
   "source": [
    "data_train[[\"cimiento w\", 'damage_grade']].corr()"
   ]
  },
  {
   "cell_type": "code",
   "execution_count": 145,
   "metadata": {},
   "outputs": [
    {
     "data": {
      "text/html": [
       "<div>\n",
       "<style scoped>\n",
       "    .dataframe tbody tr th:only-of-type {\n",
       "        vertical-align: middle;\n",
       "    }\n",
       "\n",
       "    .dataframe tbody tr th {\n",
       "        vertical-align: top;\n",
       "    }\n",
       "\n",
       "    .dataframe thead th {\n",
       "        text-align: right;\n",
       "    }\n",
       "</style>\n",
       "<table border=\"1\" class=\"dataframe\">\n",
       "  <thead>\n",
       "    <tr style=\"text-align: right;\">\n",
       "      <th></th>\n",
       "      <th>cimiento u</th>\n",
       "      <th>damage_grade</th>\n",
       "    </tr>\n",
       "  </thead>\n",
       "  <tbody>\n",
       "    <tr>\n",
       "      <th>cimiento u</th>\n",
       "      <td>1.00</td>\n",
       "      <td>-0.14</td>\n",
       "    </tr>\n",
       "    <tr>\n",
       "      <th>damage_grade</th>\n",
       "      <td>-0.14</td>\n",
       "      <td>1.00</td>\n",
       "    </tr>\n",
       "  </tbody>\n",
       "</table>\n",
       "</div>"
      ],
      "text/plain": [
       "                       cimiento u         damage_grade\n",
       "cimiento u                   1.00                -0.14\n",
       "damage_grade                -0.14                 1.00"
      ]
     },
     "execution_count": 145,
     "metadata": {},
     "output_type": "execute_result"
    }
   ],
   "source": [
    "data_train[[\"cimiento u\", 'damage_grade']].corr()"
   ]
  },
  {
   "cell_type": "code",
   "execution_count": 146,
   "metadata": {},
   "outputs": [
    {
     "data": {
      "text/html": [
       "<div>\n",
       "<style scoped>\n",
       "    .dataframe tbody tr th:only-of-type {\n",
       "        vertical-align: middle;\n",
       "    }\n",
       "\n",
       "    .dataframe tbody tr th {\n",
       "        vertical-align: top;\n",
       "    }\n",
       "\n",
       "    .dataframe thead th {\n",
       "        text-align: right;\n",
       "    }\n",
       "</style>\n",
       "<table border=\"1\" class=\"dataframe\">\n",
       "  <thead>\n",
       "    <tr style=\"text-align: right;\">\n",
       "      <th></th>\n",
       "      <th>cimiento i</th>\n",
       "      <th>damage_grade</th>\n",
       "    </tr>\n",
       "  </thead>\n",
       "  <tbody>\n",
       "    <tr>\n",
       "      <th>cimiento i</th>\n",
       "      <td>1.00</td>\n",
       "      <td>-0.26</td>\n",
       "    </tr>\n",
       "    <tr>\n",
       "      <th>damage_grade</th>\n",
       "      <td>-0.26</td>\n",
       "      <td>1.00</td>\n",
       "    </tr>\n",
       "  </tbody>\n",
       "</table>\n",
       "</div>"
      ],
      "text/plain": [
       "                       cimiento i         damage_grade\n",
       "cimiento i                   1.00                -0.26\n",
       "damage_grade                -0.26                 1.00"
      ]
     },
     "execution_count": 146,
     "metadata": {},
     "output_type": "execute_result"
    }
   ],
   "source": [
    "data_train[[\"cimiento i\", 'damage_grade']].corr()"
   ]
  },
  {
   "cell_type": "code",
   "execution_count": 147,
   "metadata": {},
   "outputs": [
    {
     "data": {
      "text/html": [
       "<div>\n",
       "<style scoped>\n",
       "    .dataframe tbody tr th:only-of-type {\n",
       "        vertical-align: middle;\n",
       "    }\n",
       "\n",
       "    .dataframe tbody tr th {\n",
       "        vertical-align: top;\n",
       "    }\n",
       "\n",
       "    .dataframe thead th {\n",
       "        text-align: right;\n",
       "    }\n",
       "</style>\n",
       "<table border=\"1\" class=\"dataframe\">\n",
       "  <thead>\n",
       "    <tr style=\"text-align: right;\">\n",
       "      <th></th>\n",
       "      <th>cimiento h</th>\n",
       "      <th>damage_grade</th>\n",
       "    </tr>\n",
       "  </thead>\n",
       "  <tbody>\n",
       "    <tr>\n",
       "      <th>cimiento h</th>\n",
       "      <td>1.00</td>\n",
       "      <td>-0.02</td>\n",
       "    </tr>\n",
       "    <tr>\n",
       "      <th>damage_grade</th>\n",
       "      <td>-0.02</td>\n",
       "      <td>1.00</td>\n",
       "    </tr>\n",
       "  </tbody>\n",
       "</table>\n",
       "</div>"
      ],
      "text/plain": [
       "                       cimiento h         damage_grade\n",
       "cimiento h                   1.00                -0.02\n",
       "damage_grade                -0.02                 1.00"
      ]
     },
     "execution_count": 147,
     "metadata": {},
     "output_type": "execute_result"
    }
   ],
   "source": [
    "data_train[[\"cimiento h\", 'damage_grade']].corr()"
   ]
  },
  {
   "cell_type": "markdown",
   "metadata": {},
   "source": [
    "## roof_type (tipo: categórico) ✔️\n",
    " - tipo de techo usado cuando se construyó la edificación. Valores posibles: n, q, x."
   ]
  },
  {
   "cell_type": "code",
   "execution_count": 149,
   "metadata": {},
   "outputs": [
    {
     "data": {
      "text/plain": [
       "n                   0.70\n",
       "q                   0.24\n",
       "x                   0.06\n",
       "Name: roof_type, dtype: float64"
      ]
     },
     "execution_count": 149,
     "metadata": {},
     "output_type": "execute_result"
    }
   ],
   "source": [
    "data_train[\"roof_type\"].value_counts(normalize=\"true\")"
   ]
  },
  {
   "cell_type": "code",
   "execution_count": 220,
   "metadata": {},
   "outputs": [
    {
     "data": {
      "text/plain": [
       "roof_type  damage_grade\n",
       "n          1                13547\n",
       "           2               106447\n",
       "           3                62848\n",
       "q          1                 3926\n",
       "           2                34009\n",
       "           3                23641\n",
       "x          1                 7651\n",
       "           2                 7803\n",
       "           3                  729\n",
       "Name: contador, dtype: int64"
      ]
     },
     "execution_count": 220,
     "metadata": {},
     "output_type": "execute_result"
    }
   ],
   "source": [
    "features.groupby([\"roof_type\",\"damage_grade\"])[\"contador\"].sum()"
   ]
  },
  {
   "cell_type": "code",
   "execution_count": 162,
   "metadata": {},
   "outputs": [],
   "source": [
    "roof_dummies = pd.get_dummies(features[\"roof_type\"])\n",
    "features[\"techo n\"] = roof_dummies[\"n\"]\n",
    "features[\"techo q\"] = roof_dummies[\"q\"]\n",
    "features[\"techo x\"] = roof_dummies[\"x\"]\n"
   ]
  },
  {
   "cell_type": "code",
   "execution_count": 163,
   "metadata": {},
   "outputs": [
    {
     "data": {
      "text/html": [
       "<div>\n",
       "<style scoped>\n",
       "    .dataframe tbody tr th:only-of-type {\n",
       "        vertical-align: middle;\n",
       "    }\n",
       "\n",
       "    .dataframe tbody tr th {\n",
       "        vertical-align: top;\n",
       "    }\n",
       "\n",
       "    .dataframe thead th {\n",
       "        text-align: right;\n",
       "    }\n",
       "</style>\n",
       "<table border=\"1\" class=\"dataframe\">\n",
       "  <thead>\n",
       "    <tr style=\"text-align: right;\">\n",
       "      <th></th>\n",
       "      <th>techo n</th>\n",
       "      <th>damage_grade</th>\n",
       "    </tr>\n",
       "  </thead>\n",
       "  <tbody>\n",
       "    <tr>\n",
       "      <th>techo n</th>\n",
       "      <td>1.00</td>\n",
       "      <td>0.08</td>\n",
       "    </tr>\n",
       "    <tr>\n",
       "      <th>damage_grade</th>\n",
       "      <td>0.08</td>\n",
       "      <td>1.00</td>\n",
       "    </tr>\n",
       "  </tbody>\n",
       "</table>\n",
       "</div>"
      ],
      "text/plain": [
       "                          techo n         damage_grade\n",
       "techo n                      1.00                 0.08\n",
       "damage_grade                 0.08                 1.00"
      ]
     },
     "execution_count": 163,
     "metadata": {},
     "output_type": "execute_result"
    }
   ],
   "source": [
    "data_train[[\"techo n\", 'damage_grade']].corr()"
   ]
  },
  {
   "cell_type": "code",
   "execution_count": 164,
   "metadata": {},
   "outputs": [
    {
     "data": {
      "text/html": [
       "<div>\n",
       "<style scoped>\n",
       "    .dataframe tbody tr th:only-of-type {\n",
       "        vertical-align: middle;\n",
       "    }\n",
       "\n",
       "    .dataframe tbody tr th {\n",
       "        vertical-align: top;\n",
       "    }\n",
       "\n",
       "    .dataframe thead th {\n",
       "        text-align: right;\n",
       "    }\n",
       "</style>\n",
       "<table border=\"1\" class=\"dataframe\">\n",
       "  <thead>\n",
       "    <tr style=\"text-align: right;\">\n",
       "      <th></th>\n",
       "      <th>techo q</th>\n",
       "      <th>damage_grade</th>\n",
       "    </tr>\n",
       "  </thead>\n",
       "  <tbody>\n",
       "    <tr>\n",
       "      <th>techo q</th>\n",
       "      <td>1.00</td>\n",
       "      <td>0.07</td>\n",
       "    </tr>\n",
       "    <tr>\n",
       "      <th>damage_grade</th>\n",
       "      <td>0.07</td>\n",
       "      <td>1.00</td>\n",
       "    </tr>\n",
       "  </tbody>\n",
       "</table>\n",
       "</div>"
      ],
      "text/plain": [
       "                          techo q         damage_grade\n",
       "techo q                      1.00                 0.07\n",
       "damage_grade                 0.07                 1.00"
      ]
     },
     "execution_count": 164,
     "metadata": {},
     "output_type": "execute_result"
    }
   ],
   "source": [
    "data_train[[\"techo q\", 'damage_grade']].corr()"
   ]
  },
  {
   "cell_type": "code",
   "execution_count": 165,
   "metadata": {},
   "outputs": [
    {
     "data": {
      "text/html": [
       "<div>\n",
       "<style scoped>\n",
       "    .dataframe tbody tr th:only-of-type {\n",
       "        vertical-align: middle;\n",
       "    }\n",
       "\n",
       "    .dataframe tbody tr th {\n",
       "        vertical-align: top;\n",
       "    }\n",
       "\n",
       "    .dataframe thead th {\n",
       "        text-align: right;\n",
       "    }\n",
       "</style>\n",
       "<table border=\"1\" class=\"dataframe\">\n",
       "  <thead>\n",
       "    <tr style=\"text-align: right;\">\n",
       "      <th></th>\n",
       "      <th>techo x</th>\n",
       "      <th>damage_grade</th>\n",
       "    </tr>\n",
       "  </thead>\n",
       "  <tbody>\n",
       "    <tr>\n",
       "      <th>techo x</th>\n",
       "      <td>1.00</td>\n",
       "      <td>-0.28</td>\n",
       "    </tr>\n",
       "    <tr>\n",
       "      <th>damage_grade</th>\n",
       "      <td>-0.28</td>\n",
       "      <td>1.00</td>\n",
       "    </tr>\n",
       "  </tbody>\n",
       "</table>\n",
       "</div>"
      ],
      "text/plain": [
       "                          techo x         damage_grade\n",
       "techo x                      1.00                -0.28\n",
       "damage_grade                -0.28                 1.00"
      ]
     },
     "execution_count": 165,
     "metadata": {},
     "output_type": "execute_result"
    }
   ],
   "source": [
    "data_train[[\"techo x\", 'damage_grade']].corr()"
   ]
  },
  {
   "cell_type": "markdown",
   "metadata": {},
   "source": [
    "## ground_floor_type (tipo: categórico) ✔️\n",
    " - tipo de construcción usado en la planta baja cuando se construyó la edificación. Valores posibles: f, m, v, x, z."
   ]
  },
  {
   "cell_type": "code",
   "execution_count": 166,
   "metadata": {},
   "outputs": [
    {
     "data": {
      "text/plain": [
       "f                   0.80\n",
       "x                   0.10\n",
       "v                   0.09\n",
       "z                   0.00\n",
       "m                   0.00\n",
       "Name: ground_floor_type, dtype: float64"
      ]
     },
     "execution_count": 166,
     "metadata": {},
     "output_type": "execute_result"
    }
   ],
   "source": [
    "data_train[\"ground_floor_type\"].value_counts(normalize=\"true\")"
   ]
  },
  {
   "cell_type": "code",
   "execution_count": 168,
   "metadata": {},
   "outputs": [
    {
     "data": {
      "text/plain": [
       "ground_floor_type  damage_grade\n",
       "f                  1                12474\n",
       "                   2               119877\n",
       "                   3                77268\n",
       "m                  1                   90\n",
       "                   2                  343\n",
       "                   3                   75\n",
       "v                  1                10309\n",
       "                   2                12971\n",
       "                   3                 1313\n",
       "x                  1                 2052\n",
       "                   2                14536\n",
       "                   3                 8289\n",
       "z                  1                  199\n",
       "                   2                  532\n",
       "                   3                  273\n",
       "Name: contador, dtype: int64"
      ]
     },
     "execution_count": 168,
     "metadata": {},
     "output_type": "execute_result"
    }
   ],
   "source": [
    "features.groupby([\"ground_floor_type\",\"damage_grade\"])[\"contador\"].sum()"
   ]
  },
  {
   "cell_type": "code",
   "execution_count": 169,
   "metadata": {},
   "outputs": [],
   "source": [
    "pb_dummies = pd.get_dummies(features[\"ground_floor_type\"])\n",
    "features[\"Planta Baja f\"] = pb_dummies[\"f\"]\n",
    "features[\"Planta Baja m\"] = pb_dummies[\"m\"]\n",
    "features[\"Planta Baja v\"] = pb_dummies[\"v\"]\n",
    "features[\"Planta Baja x\"] = pb_dummies[\"x\"]\n",
    "features[\"Planta Baja z\"] = pb_dummies[\"z\"]\n"
   ]
  },
  {
   "cell_type": "code",
   "execution_count": 170,
   "metadata": {},
   "outputs": [
    {
     "data": {
      "text/html": [
       "<div>\n",
       "<style scoped>\n",
       "    .dataframe tbody tr th:only-of-type {\n",
       "        vertical-align: middle;\n",
       "    }\n",
       "\n",
       "    .dataframe tbody tr th {\n",
       "        vertical-align: top;\n",
       "    }\n",
       "\n",
       "    .dataframe thead th {\n",
       "        text-align: right;\n",
       "    }\n",
       "</style>\n",
       "<table border=\"1\" class=\"dataframe\">\n",
       "  <thead>\n",
       "    <tr style=\"text-align: right;\">\n",
       "      <th></th>\n",
       "      <th>Planta Baja f</th>\n",
       "      <th>damage_grade</th>\n",
       "    </tr>\n",
       "  </thead>\n",
       "  <tbody>\n",
       "    <tr>\n",
       "      <th>Planta Baja f</th>\n",
       "      <td>1.00</td>\n",
       "      <td>0.23</td>\n",
       "    </tr>\n",
       "    <tr>\n",
       "      <th>damage_grade</th>\n",
       "      <td>0.23</td>\n",
       "      <td>1.00</td>\n",
       "    </tr>\n",
       "  </tbody>\n",
       "</table>\n",
       "</div>"
      ],
      "text/plain": [
       "                     Planta Baja f         damage_grade\n",
       "Planta Baja f                 1.00                 0.23\n",
       "damage_grade                  0.23                 1.00"
      ]
     },
     "execution_count": 170,
     "metadata": {},
     "output_type": "execute_result"
    }
   ],
   "source": [
    "data_train[[\"Planta Baja f\", 'damage_grade']].corr()"
   ]
  },
  {
   "cell_type": "code",
   "execution_count": 171,
   "metadata": {},
   "outputs": [
    {
     "data": {
      "text/html": [
       "<div>\n",
       "<style scoped>\n",
       "    .dataframe tbody tr th:only-of-type {\n",
       "        vertical-align: middle;\n",
       "    }\n",
       "\n",
       "    .dataframe tbody tr th {\n",
       "        vertical-align: top;\n",
       "    }\n",
       "\n",
       "    .dataframe thead th {\n",
       "        text-align: right;\n",
       "    }\n",
       "</style>\n",
       "<table border=\"1\" class=\"dataframe\">\n",
       "  <thead>\n",
       "    <tr style=\"text-align: right;\">\n",
       "      <th></th>\n",
       "      <th>Planta Baja m</th>\n",
       "      <th>damage_grade</th>\n",
       "    </tr>\n",
       "  </thead>\n",
       "  <tbody>\n",
       "    <tr>\n",
       "      <th>Planta Baja m</th>\n",
       "      <td>1.00</td>\n",
       "      <td>-0.02</td>\n",
       "    </tr>\n",
       "    <tr>\n",
       "      <th>damage_grade</th>\n",
       "      <td>-0.02</td>\n",
       "      <td>1.00</td>\n",
       "    </tr>\n",
       "  </tbody>\n",
       "</table>\n",
       "</div>"
      ],
      "text/plain": [
       "                     Planta Baja m         damage_grade\n",
       "Planta Baja m                 1.00                -0.02\n",
       "damage_grade                 -0.02                 1.00"
      ]
     },
     "execution_count": 171,
     "metadata": {},
     "output_type": "execute_result"
    }
   ],
   "source": [
    "data_train[[\"Planta Baja m\", 'damage_grade']].corr()"
   ]
  },
  {
   "cell_type": "code",
   "execution_count": 172,
   "metadata": {},
   "outputs": [
    {
     "data": {
      "text/html": [
       "<div>\n",
       "<style scoped>\n",
       "    .dataframe tbody tr th:only-of-type {\n",
       "        vertical-align: middle;\n",
       "    }\n",
       "\n",
       "    .dataframe tbody tr th {\n",
       "        vertical-align: top;\n",
       "    }\n",
       "\n",
       "    .dataframe thead th {\n",
       "        text-align: right;\n",
       "    }\n",
       "</style>\n",
       "<table border=\"1\" class=\"dataframe\">\n",
       "  <thead>\n",
       "    <tr style=\"text-align: right;\">\n",
       "      <th></th>\n",
       "      <th>Planta Baja v</th>\n",
       "      <th>damage_grade</th>\n",
       "    </tr>\n",
       "  </thead>\n",
       "  <tbody>\n",
       "    <tr>\n",
       "      <th>Planta Baja v</th>\n",
       "      <td>1.00</td>\n",
       "      <td>-0.32</td>\n",
       "    </tr>\n",
       "    <tr>\n",
       "      <th>damage_grade</th>\n",
       "      <td>-0.32</td>\n",
       "      <td>1.00</td>\n",
       "    </tr>\n",
       "  </tbody>\n",
       "</table>\n",
       "</div>"
      ],
      "text/plain": [
       "                     Planta Baja v         damage_grade\n",
       "Planta Baja v                 1.00                -0.32\n",
       "damage_grade                 -0.32                 1.00"
      ]
     },
     "execution_count": 172,
     "metadata": {},
     "output_type": "execute_result"
    }
   ],
   "source": [
    "data_train[[\"Planta Baja v\", 'damage_grade']].corr()"
   ]
  },
  {
   "cell_type": "code",
   "execution_count": 173,
   "metadata": {},
   "outputs": [
    {
     "data": {
      "text/html": [
       "<div>\n",
       "<style scoped>\n",
       "    .dataframe tbody tr th:only-of-type {\n",
       "        vertical-align: middle;\n",
       "    }\n",
       "\n",
       "    .dataframe tbody tr th {\n",
       "        vertical-align: top;\n",
       "    }\n",
       "\n",
       "    .dataframe thead th {\n",
       "        text-align: right;\n",
       "    }\n",
       "</style>\n",
       "<table border=\"1\" class=\"dataframe\">\n",
       "  <thead>\n",
       "    <tr style=\"text-align: right;\">\n",
       "      <th></th>\n",
       "      <th>Planta Baja x</th>\n",
       "      <th>damage_grade</th>\n",
       "    </tr>\n",
       "  </thead>\n",
       "  <tbody>\n",
       "    <tr>\n",
       "      <th>Planta Baja x</th>\n",
       "      <td>1.00</td>\n",
       "      <td>0.01</td>\n",
       "    </tr>\n",
       "    <tr>\n",
       "      <th>damage_grade</th>\n",
       "      <td>0.01</td>\n",
       "      <td>1.00</td>\n",
       "    </tr>\n",
       "  </tbody>\n",
       "</table>\n",
       "</div>"
      ],
      "text/plain": [
       "                     Planta Baja x         damage_grade\n",
       "Planta Baja x                 1.00                 0.01\n",
       "damage_grade                  0.01                 1.00"
      ]
     },
     "execution_count": 173,
     "metadata": {},
     "output_type": "execute_result"
    }
   ],
   "source": [
    "data_train[[\"Planta Baja x\", 'damage_grade']].corr()"
   ]
  },
  {
   "cell_type": "code",
   "execution_count": 174,
   "metadata": {},
   "outputs": [
    {
     "data": {
      "text/html": [
       "<div>\n",
       "<style scoped>\n",
       "    .dataframe tbody tr th:only-of-type {\n",
       "        vertical-align: middle;\n",
       "    }\n",
       "\n",
       "    .dataframe tbody tr th {\n",
       "        vertical-align: top;\n",
       "    }\n",
       "\n",
       "    .dataframe thead th {\n",
       "        text-align: right;\n",
       "    }\n",
       "</style>\n",
       "<table border=\"1\" class=\"dataframe\">\n",
       "  <thead>\n",
       "    <tr style=\"text-align: right;\">\n",
       "      <th></th>\n",
       "      <th>Planta Baja z</th>\n",
       "      <th>damage_grade</th>\n",
       "    </tr>\n",
       "  </thead>\n",
       "  <tbody>\n",
       "    <tr>\n",
       "      <th>Planta Baja z</th>\n",
       "      <td>1.00</td>\n",
       "      <td>-0.02</td>\n",
       "    </tr>\n",
       "    <tr>\n",
       "      <th>damage_grade</th>\n",
       "      <td>-0.02</td>\n",
       "      <td>1.00</td>\n",
       "    </tr>\n",
       "  </tbody>\n",
       "</table>\n",
       "</div>"
      ],
      "text/plain": [
       "                     Planta Baja z         damage_grade\n",
       "Planta Baja z                 1.00                -0.02\n",
       "damage_grade                 -0.02                 1.00"
      ]
     },
     "execution_count": 174,
     "metadata": {},
     "output_type": "execute_result"
    }
   ],
   "source": [
    "data_train[[\"Planta Baja z\", 'damage_grade']].corr()"
   ]
  },
  {
   "cell_type": "markdown",
   "metadata": {},
   "source": [
    "## other_floor_type (tipo: categorical) ✔️\n",
    "- tipo de construcción usado en otros pisos cuando se construyó la edificación (exceptuando el techo). Posibles valores: j, q, s, x."
   ]
  },
  {
   "cell_type": "code",
   "execution_count": 175,
   "metadata": {},
   "outputs": [
    {
     "data": {
      "text/plain": [
       "q                   0.63\n",
       "x                   0.17\n",
       "j                   0.15\n",
       "s                   0.05\n",
       "Name: other_floor_type, dtype: float64"
      ]
     },
     "execution_count": 175,
     "metadata": {},
     "output_type": "execute_result"
    }
   ],
   "source": [
    "data_train[\"other_floor_type\"].value_counts(normalize=\"true\")"
   ]
  },
  {
   "cell_type": "code",
   "execution_count": 176,
   "metadata": {},
   "outputs": [
    {
     "data": {
      "text/plain": [
       "other_floor_type  damage_grade\n",
       "j                 1                8886\n",
       "                  2               20362\n",
       "                  3               10595\n",
       "q                 1                7387\n",
       "                  2               98320\n",
       "                  3               59575\n",
       "s                 1                5423\n",
       "                  2                5904\n",
       "                  3                 701\n",
       "x                 1                3428\n",
       "                  2               23673\n",
       "                  3               16347\n",
       "Name: contador, dtype: int64"
      ]
     },
     "execution_count": 176,
     "metadata": {},
     "output_type": "execute_result"
    }
   ],
   "source": [
    "features.groupby([\"other_floor_type\",\"damage_grade\"])[\"contador\"].sum()"
   ]
  },
  {
   "cell_type": "code",
   "execution_count": 178,
   "metadata": {},
   "outputs": [],
   "source": [
    "oft_dummies = pd.get_dummies(features[\"other_floor_type\"])\n",
    "features[\"Otro Piso j\"] = oft_dummies[\"j\"]\n",
    "features[\"Otro Piso q\"] = oft_dummies[\"q\"]\n",
    "features[\"Otro Piso s\"] = oft_dummies[\"s\"]\n",
    "features[\"Otro Piso x\"] = oft_dummies[\"x\"]\n",
    "\n"
   ]
  },
  {
   "cell_type": "code",
   "execution_count": 179,
   "metadata": {},
   "outputs": [
    {
     "data": {
      "text/html": [
       "<div>\n",
       "<style scoped>\n",
       "    .dataframe tbody tr th:only-of-type {\n",
       "        vertical-align: middle;\n",
       "    }\n",
       "\n",
       "    .dataframe tbody tr th {\n",
       "        vertical-align: top;\n",
       "    }\n",
       "\n",
       "    .dataframe thead th {\n",
       "        text-align: right;\n",
       "    }\n",
       "</style>\n",
       "<table border=\"1\" class=\"dataframe\">\n",
       "  <thead>\n",
       "    <tr style=\"text-align: right;\">\n",
       "      <th></th>\n",
       "      <th>Otro Piso j</th>\n",
       "      <th>damage_grade</th>\n",
       "    </tr>\n",
       "  </thead>\n",
       "  <tbody>\n",
       "    <tr>\n",
       "      <th>Otro Piso j</th>\n",
       "      <td>1.00</td>\n",
       "      <td>-0.14</td>\n",
       "    </tr>\n",
       "    <tr>\n",
       "      <th>damage_grade</th>\n",
       "      <td>-0.14</td>\n",
       "      <td>1.00</td>\n",
       "    </tr>\n",
       "  </tbody>\n",
       "</table>\n",
       "</div>"
      ],
      "text/plain": [
       "                      Otro Piso j         damage_grade\n",
       "Otro Piso j                  1.00                -0.14\n",
       "damage_grade                -0.14                 1.00"
      ]
     },
     "execution_count": 179,
     "metadata": {},
     "output_type": "execute_result"
    }
   ],
   "source": [
    "data_train[[\"Otro Piso j\", 'damage_grade']].corr()"
   ]
  },
  {
   "cell_type": "code",
   "execution_count": 180,
   "metadata": {},
   "outputs": [
    {
     "data": {
      "text/html": [
       "<div>\n",
       "<style scoped>\n",
       "    .dataframe tbody tr th:only-of-type {\n",
       "        vertical-align: middle;\n",
       "    }\n",
       "\n",
       "    .dataframe tbody tr th {\n",
       "        vertical-align: top;\n",
       "    }\n",
       "\n",
       "    .dataframe thead th {\n",
       "        text-align: right;\n",
       "    }\n",
       "</style>\n",
       "<table border=\"1\" class=\"dataframe\">\n",
       "  <thead>\n",
       "    <tr style=\"text-align: right;\">\n",
       "      <th></th>\n",
       "      <th>Otro Piso q</th>\n",
       "      <th>damage_grade</th>\n",
       "    </tr>\n",
       "  </thead>\n",
       "  <tbody>\n",
       "    <tr>\n",
       "      <th>Otro Piso q</th>\n",
       "      <td>1.00</td>\n",
       "      <td>0.17</td>\n",
       "    </tr>\n",
       "    <tr>\n",
       "      <th>damage_grade</th>\n",
       "      <td>0.17</td>\n",
       "      <td>1.00</td>\n",
       "    </tr>\n",
       "  </tbody>\n",
       "</table>\n",
       "</div>"
      ],
      "text/plain": [
       "                      Otro Piso q         damage_grade\n",
       "Otro Piso q                  1.00                 0.17\n",
       "damage_grade                 0.17                 1.00"
      ]
     },
     "execution_count": 180,
     "metadata": {},
     "output_type": "execute_result"
    }
   ],
   "source": [
    "data_train[[\"Otro Piso q\", 'damage_grade']].corr()"
   ]
  },
  {
   "cell_type": "code",
   "execution_count": 181,
   "metadata": {},
   "outputs": [
    {
     "data": {
      "text/html": [
       "<div>\n",
       "<style scoped>\n",
       "    .dataframe tbody tr th:only-of-type {\n",
       "        vertical-align: middle;\n",
       "    }\n",
       "\n",
       "    .dataframe tbody tr th {\n",
       "        vertical-align: top;\n",
       "    }\n",
       "\n",
       "    .dataframe thead th {\n",
       "        text-align: right;\n",
       "    }\n",
       "</style>\n",
       "<table border=\"1\" class=\"dataframe\">\n",
       "  <thead>\n",
       "    <tr style=\"text-align: right;\">\n",
       "      <th></th>\n",
       "      <th>Otro Piso s</th>\n",
       "      <th>damage_grade</th>\n",
       "    </tr>\n",
       "  </thead>\n",
       "  <tbody>\n",
       "    <tr>\n",
       "      <th>Otro Piso s</th>\n",
       "      <td>1.00</td>\n",
       "      <td>-0.23</td>\n",
       "    </tr>\n",
       "    <tr>\n",
       "      <th>damage_grade</th>\n",
       "      <td>-0.23</td>\n",
       "      <td>1.00</td>\n",
       "    </tr>\n",
       "  </tbody>\n",
       "</table>\n",
       "</div>"
      ],
      "text/plain": [
       "                      Otro Piso s         damage_grade\n",
       "Otro Piso s                  1.00                -0.23\n",
       "damage_grade                -0.23                 1.00"
      ]
     },
     "execution_count": 181,
     "metadata": {},
     "output_type": "execute_result"
    }
   ],
   "source": [
    "data_train[[\"Otro Piso s\", 'damage_grade']].corr()"
   ]
  },
  {
   "cell_type": "code",
   "execution_count": 182,
   "metadata": {},
   "outputs": [
    {
     "data": {
      "text/html": [
       "<div>\n",
       "<style scoped>\n",
       "    .dataframe tbody tr th:only-of-type {\n",
       "        vertical-align: middle;\n",
       "    }\n",
       "\n",
       "    .dataframe tbody tr th {\n",
       "        vertical-align: top;\n",
       "    }\n",
       "\n",
       "    .dataframe thead th {\n",
       "        text-align: right;\n",
       "    }\n",
       "</style>\n",
       "<table border=\"1\" class=\"dataframe\">\n",
       "  <thead>\n",
       "    <tr style=\"text-align: right;\">\n",
       "      <th></th>\n",
       "      <th>Otro Piso x</th>\n",
       "      <th>damage_grade</th>\n",
       "    </tr>\n",
       "  </thead>\n",
       "  <tbody>\n",
       "    <tr>\n",
       "      <th>Otro Piso x</th>\n",
       "      <td>1.00</td>\n",
       "      <td>0.04</td>\n",
       "    </tr>\n",
       "    <tr>\n",
       "      <th>damage_grade</th>\n",
       "      <td>0.04</td>\n",
       "      <td>1.00</td>\n",
       "    </tr>\n",
       "  </tbody>\n",
       "</table>\n",
       "</div>"
      ],
      "text/plain": [
       "                      Otro Piso x         damage_grade\n",
       "Otro Piso x                  1.00                 0.04\n",
       "damage_grade                 0.04                 1.00"
      ]
     },
     "execution_count": 182,
     "metadata": {},
     "output_type": "execute_result"
    }
   ],
   "source": [
    "data_train[[\"Otro Piso x\", 'damage_grade']].corr()"
   ]
  },
  {
   "cell_type": "markdown",
   "metadata": {},
   "source": [
    "## position (tipo: categórico) ❌\n",
    " - orientación de la edificación. Posibles valores: j, o, s, t."
   ]
  },
  {
   "cell_type": "code",
   "execution_count": 184,
   "metadata": {},
   "outputs": [
    {
     "data": {
      "text/plain": [
       "s                   0.78\n",
       "t                   0.16\n",
       "j                   0.05\n",
       "o                   0.01\n",
       "Name: position, dtype: float64"
      ]
     },
     "execution_count": 184,
     "metadata": {},
     "output_type": "execute_result"
    }
   ],
   "source": [
    "data_train[\"position\"].value_counts(normalize=\"true\")"
   ]
  },
  {
   "cell_type": "code",
   "execution_count": 185,
   "metadata": {},
   "outputs": [
    {
     "data": {
      "text/plain": [
       "position  damage_grade\n",
       "j         1                 1675\n",
       "          2                 7899\n",
       "          3                 3708\n",
       "o         1                  120\n",
       "          2                 1609\n",
       "          3                  604\n",
       "s         1                19867\n",
       "          2               116051\n",
       "          3                66172\n",
       "t         1                 3462\n",
       "          2                22700\n",
       "          3                16734\n",
       "Name: contador, dtype: int64"
      ]
     },
     "execution_count": 185,
     "metadata": {},
     "output_type": "execute_result"
    }
   ],
   "source": [
    "features.groupby([\"position\",\"damage_grade\"])[\"contador\"].sum()"
   ]
  },
  {
   "cell_type": "code",
   "execution_count": 188,
   "metadata": {},
   "outputs": [],
   "source": [
    "position_dummies = pd.get_dummies(features[\"position\"])\n",
    "features[\"Posicion j\"] = position_dummies[\"j\"]\n",
    "features[\"Posicion o\"] = position_dummies[\"o\"]\n",
    "features[\"Posicion s\"] = position_dummies[\"s\"]\n",
    "features[\"Posicion t\"] = position_dummies[\"t\"]"
   ]
  },
  {
   "cell_type": "code",
   "execution_count": 189,
   "metadata": {},
   "outputs": [
    {
     "data": {
      "text/html": [
       "<div>\n",
       "<style scoped>\n",
       "    .dataframe tbody tr th:only-of-type {\n",
       "        vertical-align: middle;\n",
       "    }\n",
       "\n",
       "    .dataframe tbody tr th {\n",
       "        vertical-align: top;\n",
       "    }\n",
       "\n",
       "    .dataframe thead th {\n",
       "        text-align: right;\n",
       "    }\n",
       "</style>\n",
       "<table border=\"1\" class=\"dataframe\">\n",
       "  <thead>\n",
       "    <tr style=\"text-align: right;\">\n",
       "      <th></th>\n",
       "      <th>Posicion j</th>\n",
       "      <th>damage_grade</th>\n",
       "    </tr>\n",
       "  </thead>\n",
       "  <tbody>\n",
       "    <tr>\n",
       "      <th>Posicion j</th>\n",
       "      <td>1.00</td>\n",
       "      <td>-0.03</td>\n",
       "    </tr>\n",
       "    <tr>\n",
       "      <th>damage_grade</th>\n",
       "      <td>-0.03</td>\n",
       "      <td>1.00</td>\n",
       "    </tr>\n",
       "  </tbody>\n",
       "</table>\n",
       "</div>"
      ],
      "text/plain": [
       "                       Posicion j         damage_grade\n",
       "Posicion j                   1.00                -0.03\n",
       "damage_grade                -0.03                 1.00"
      ]
     },
     "execution_count": 189,
     "metadata": {},
     "output_type": "execute_result"
    }
   ],
   "source": [
    "data_train[[\"Posicion j\", 'damage_grade']].corr()"
   ]
  },
  {
   "cell_type": "code",
   "execution_count": 190,
   "metadata": {},
   "outputs": [
    {
     "data": {
      "text/html": [
       "<div>\n",
       "<style scoped>\n",
       "    .dataframe tbody tr th:only-of-type {\n",
       "        vertical-align: middle;\n",
       "    }\n",
       "\n",
       "    .dataframe tbody tr th {\n",
       "        vertical-align: top;\n",
       "    }\n",
       "\n",
       "    .dataframe thead th {\n",
       "        text-align: right;\n",
       "    }\n",
       "</style>\n",
       "<table border=\"1\" class=\"dataframe\">\n",
       "  <thead>\n",
       "    <tr style=\"text-align: right;\">\n",
       "      <th></th>\n",
       "      <th>Posicion o</th>\n",
       "      <th>damage_grade</th>\n",
       "    </tr>\n",
       "  </thead>\n",
       "  <tbody>\n",
       "    <tr>\n",
       "      <th>Posicion o</th>\n",
       "      <td>1.00</td>\n",
       "      <td>-0.00</td>\n",
       "    </tr>\n",
       "    <tr>\n",
       "      <th>damage_grade</th>\n",
       "      <td>-0.00</td>\n",
       "      <td>1.00</td>\n",
       "    </tr>\n",
       "  </tbody>\n",
       "</table>\n",
       "</div>"
      ],
      "text/plain": [
       "                       Posicion o         damage_grade\n",
       "Posicion o                   1.00                -0.00\n",
       "damage_grade                -0.00                 1.00"
      ]
     },
     "execution_count": 190,
     "metadata": {},
     "output_type": "execute_result"
    }
   ],
   "source": [
    "data_train[[\"Posicion o\", 'damage_grade']].corr()"
   ]
  },
  {
   "cell_type": "code",
   "execution_count": 191,
   "metadata": {},
   "outputs": [
    {
     "data": {
      "text/html": [
       "<div>\n",
       "<style scoped>\n",
       "    .dataframe tbody tr th:only-of-type {\n",
       "        vertical-align: middle;\n",
       "    }\n",
       "\n",
       "    .dataframe tbody tr th {\n",
       "        vertical-align: top;\n",
       "    }\n",
       "\n",
       "    .dataframe thead th {\n",
       "        text-align: right;\n",
       "    }\n",
       "</style>\n",
       "<table border=\"1\" class=\"dataframe\">\n",
       "  <thead>\n",
       "    <tr style=\"text-align: right;\">\n",
       "      <th></th>\n",
       "      <th>Posicion s</th>\n",
       "      <th>damage_grade</th>\n",
       "    </tr>\n",
       "  </thead>\n",
       "  <tbody>\n",
       "    <tr>\n",
       "      <th>Posicion s</th>\n",
       "      <td>1.00</td>\n",
       "      <td>-0.03</td>\n",
       "    </tr>\n",
       "    <tr>\n",
       "      <th>damage_grade</th>\n",
       "      <td>-0.03</td>\n",
       "      <td>1.00</td>\n",
       "    </tr>\n",
       "  </tbody>\n",
       "</table>\n",
       "</div>"
      ],
      "text/plain": [
       "                       Posicion s         damage_grade\n",
       "Posicion s                   1.00                -0.03\n",
       "damage_grade                -0.03                 1.00"
      ]
     },
     "execution_count": 191,
     "metadata": {},
     "output_type": "execute_result"
    }
   ],
   "source": [
    "data_train[[\"Posicion s\", 'damage_grade']].corr()"
   ]
  },
  {
   "cell_type": "code",
   "execution_count": 192,
   "metadata": {},
   "outputs": [
    {
     "data": {
      "text/html": [
       "<div>\n",
       "<style scoped>\n",
       "    .dataframe tbody tr th:only-of-type {\n",
       "        vertical-align: middle;\n",
       "    }\n",
       "\n",
       "    .dataframe tbody tr th {\n",
       "        vertical-align: top;\n",
       "    }\n",
       "\n",
       "    .dataframe thead th {\n",
       "        text-align: right;\n",
       "    }\n",
       "</style>\n",
       "<table border=\"1\" class=\"dataframe\">\n",
       "  <thead>\n",
       "    <tr style=\"text-align: right;\">\n",
       "      <th></th>\n",
       "      <th>Posicion t</th>\n",
       "      <th>damage_grade</th>\n",
       "    </tr>\n",
       "  </thead>\n",
       "  <tbody>\n",
       "    <tr>\n",
       "      <th>Posicion t</th>\n",
       "      <td>1.00</td>\n",
       "      <td>0.05</td>\n",
       "    </tr>\n",
       "    <tr>\n",
       "      <th>damage_grade</th>\n",
       "      <td>0.05</td>\n",
       "      <td>1.00</td>\n",
       "    </tr>\n",
       "  </tbody>\n",
       "</table>\n",
       "</div>"
      ],
      "text/plain": [
       "                       Posicion t         damage_grade\n",
       "Posicion t                   1.00                 0.05\n",
       "damage_grade                 0.05                 1.00"
      ]
     },
     "execution_count": 192,
     "metadata": {},
     "output_type": "execute_result"
    }
   ],
   "source": [
    "data_train[[\"Posicion t\", 'damage_grade']].corr()"
   ]
  },
  {
   "cell_type": "markdown",
   "metadata": {},
   "source": [
    "## plan_configuration (tipo: categórico) ❌\n",
    "  - formato de construcción de la edificación (para diseño sísmico). Valores posibles: a, c, d, f, m, n, o, q, s, u."
   ]
  },
  {
   "cell_type": "code",
   "execution_count": 193,
   "metadata": {},
   "outputs": [
    {
     "data": {
      "text/plain": [
       "d                   0.96\n",
       "q                   0.02\n",
       "u                   0.01\n",
       "s                   0.00\n",
       "c                   0.00\n",
       "a                   0.00\n",
       "o                   0.00\n",
       "m                   0.00\n",
       "n                   0.00\n",
       "f                   0.00\n",
       "Name: plan_configuration, dtype: float64"
      ]
     },
     "execution_count": 193,
     "metadata": {},
     "output_type": "execute_result"
    }
   ],
   "source": [
    "data_train[\"plan_configuration\"].value_counts(normalize=\"true\")"
   ]
  },
  {
   "cell_type": "code",
   "execution_count": 194,
   "metadata": {},
   "outputs": [
    {
     "data": {
      "text/plain": [
       "plan_configuration  damage_grade\n",
       "a                   1                             66.00\n",
       "                    2                            157.00\n",
       "                    3                             29.00\n",
       "c                   1                             86.00\n",
       "                    2                            206.00\n",
       "                    3                             33.00\n",
       "d                   1                         23,310.00\n",
       "                    2                        142,523.00\n",
       "                    3                         84,239.00\n",
       "f                   1                               nan\n",
       "                    2                             16.00\n",
       "                    3                              6.00\n",
       "m                   1                              8.00\n",
       "                    2                             34.00\n",
       "                    3                              4.00\n",
       "n                   1                              6.00\n",
       "                    2                             20.00\n",
       "                    3                             12.00\n",
       "o                   1                             40.00\n",
       "                    2                             96.00\n",
       "                    3                             23.00\n",
       "q                   1                            781.00\n",
       "                    2                          2,585.00\n",
       "                    3                          2,326.00\n",
       "s                   1                             53.00\n",
       "                    2                            223.00\n",
       "                    3                             70.00\n",
       "u                   1                            774.00\n",
       "                    2                          2,399.00\n",
       "                    3                            476.00\n",
       "Name: contador, dtype: float64"
      ]
     },
     "execution_count": 194,
     "metadata": {},
     "output_type": "execute_result"
    }
   ],
   "source": [
    "features.groupby([\"plan_configuration\",\"damage_grade\"])[\"contador\"].sum()"
   ]
  },
  {
   "cell_type": "code",
   "execution_count": 196,
   "metadata": {},
   "outputs": [],
   "source": [
    "pc_dummies = pd.get_dummies(features[\"plan_configuration\"])\n",
    "features[\"Plan Configuration a\"] = pc_dummies[\"a\"]\n",
    "features[\"Plan Configuration c\"] = pc_dummies[\"c\"]\n",
    "features[\"Plan Configuration d\"] = pc_dummies[\"d\"]\n",
    "features[\"Plan Configuration f\"] = pc_dummies[\"f\"]\n",
    "features[\"Plan Configuration m\"] = pc_dummies[\"m\"]\n",
    "features[\"Plan Configuration n\"] = pc_dummies[\"n\"]\n",
    "features[\"Plan Configuration o\"] = pc_dummies[\"o\"]\n",
    "features[\"Plan Configuration q\"] = pc_dummies[\"q\"]\n",
    "features[\"Plan Configuration s\"] = pc_dummies[\"s\"]\n",
    "features[\"Plan Configuration u\"] = pc_dummies[\"u\"]\n"
   ]
  },
  {
   "cell_type": "code",
   "execution_count": 197,
   "metadata": {},
   "outputs": [
    {
     "data": {
      "text/html": [
       "<div>\n",
       "<style scoped>\n",
       "    .dataframe tbody tr th:only-of-type {\n",
       "        vertical-align: middle;\n",
       "    }\n",
       "\n",
       "    .dataframe tbody tr th {\n",
       "        vertical-align: top;\n",
       "    }\n",
       "\n",
       "    .dataframe thead th {\n",
       "        text-align: right;\n",
       "    }\n",
       "</style>\n",
       "<table border=\"1\" class=\"dataframe\">\n",
       "  <thead>\n",
       "    <tr style=\"text-align: right;\">\n",
       "      <th></th>\n",
       "      <th>Plan Configuration a</th>\n",
       "      <th>damage_grade</th>\n",
       "    </tr>\n",
       "  </thead>\n",
       "  <tbody>\n",
       "    <tr>\n",
       "      <th>Plan Configuration a</th>\n",
       "      <td>1.00</td>\n",
       "      <td>-0.02</td>\n",
       "    </tr>\n",
       "    <tr>\n",
       "      <th>damage_grade</th>\n",
       "      <td>-0.02</td>\n",
       "      <td>1.00</td>\n",
       "    </tr>\n",
       "  </tbody>\n",
       "</table>\n",
       "</div>"
      ],
      "text/plain": [
       "                      Plan Configuration a         damage_grade\n",
       "Plan Configuration a                  1.00                -0.02\n",
       "damage_grade                         -0.02                 1.00"
      ]
     },
     "execution_count": 197,
     "metadata": {},
     "output_type": "execute_result"
    }
   ],
   "source": [
    "data_train[[\"Plan Configuration a\", 'damage_grade']].corr()"
   ]
  },
  {
   "cell_type": "code",
   "execution_count": 198,
   "metadata": {},
   "outputs": [
    {
     "data": {
      "text/html": [
       "<div>\n",
       "<style scoped>\n",
       "    .dataframe tbody tr th:only-of-type {\n",
       "        vertical-align: middle;\n",
       "    }\n",
       "\n",
       "    .dataframe tbody tr th {\n",
       "        vertical-align: top;\n",
       "    }\n",
       "\n",
       "    .dataframe thead th {\n",
       "        text-align: right;\n",
       "    }\n",
       "</style>\n",
       "<table border=\"1\" class=\"dataframe\">\n",
       "  <thead>\n",
       "    <tr style=\"text-align: right;\">\n",
       "      <th></th>\n",
       "      <th>Plan Configuration c</th>\n",
       "      <th>damage_grade</th>\n",
       "    </tr>\n",
       "  </thead>\n",
       "  <tbody>\n",
       "    <tr>\n",
       "      <th>Plan Configuration c</th>\n",
       "      <td>1.00</td>\n",
       "      <td>-0.02</td>\n",
       "    </tr>\n",
       "    <tr>\n",
       "      <th>damage_grade</th>\n",
       "      <td>-0.02</td>\n",
       "      <td>1.00</td>\n",
       "    </tr>\n",
       "  </tbody>\n",
       "</table>\n",
       "</div>"
      ],
      "text/plain": [
       "                      Plan Configuration c         damage_grade\n",
       "Plan Configuration c                  1.00                -0.02\n",
       "damage_grade                         -0.02                 1.00"
      ]
     },
     "execution_count": 198,
     "metadata": {},
     "output_type": "execute_result"
    }
   ],
   "source": [
    "data_train[[\"Plan Configuration c\", 'damage_grade']].corr()"
   ]
  },
  {
   "cell_type": "code",
   "execution_count": 199,
   "metadata": {},
   "outputs": [
    {
     "data": {
      "text/html": [
       "<div>\n",
       "<style scoped>\n",
       "    .dataframe tbody tr th:only-of-type {\n",
       "        vertical-align: middle;\n",
       "    }\n",
       "\n",
       "    .dataframe tbody tr th {\n",
       "        vertical-align: top;\n",
       "    }\n",
       "\n",
       "    .dataframe thead th {\n",
       "        text-align: right;\n",
       "    }\n",
       "</style>\n",
       "<table border=\"1\" class=\"dataframe\">\n",
       "  <thead>\n",
       "    <tr style=\"text-align: right;\">\n",
       "      <th></th>\n",
       "      <th>Plan Configuration d</th>\n",
       "      <th>damage_grade</th>\n",
       "    </tr>\n",
       "  </thead>\n",
       "  <tbody>\n",
       "    <tr>\n",
       "      <th>Plan Configuration d</th>\n",
       "      <td>1.00</td>\n",
       "      <td>0.04</td>\n",
       "    </tr>\n",
       "    <tr>\n",
       "      <th>damage_grade</th>\n",
       "      <td>0.04</td>\n",
       "      <td>1.00</td>\n",
       "    </tr>\n",
       "  </tbody>\n",
       "</table>\n",
       "</div>"
      ],
      "text/plain": [
       "                      Plan Configuration d         damage_grade\n",
       "Plan Configuration d                  1.00                 0.04\n",
       "damage_grade                          0.04                 1.00"
      ]
     },
     "execution_count": 199,
     "metadata": {},
     "output_type": "execute_result"
    }
   ],
   "source": [
    "data_train[[\"Plan Configuration d\", 'damage_grade']].corr()"
   ]
  },
  {
   "cell_type": "code",
   "execution_count": 200,
   "metadata": {},
   "outputs": [
    {
     "data": {
      "text/html": [
       "<div>\n",
       "<style scoped>\n",
       "    .dataframe tbody tr th:only-of-type {\n",
       "        vertical-align: middle;\n",
       "    }\n",
       "\n",
       "    .dataframe tbody tr th {\n",
       "        vertical-align: top;\n",
       "    }\n",
       "\n",
       "    .dataframe thead th {\n",
       "        text-align: right;\n",
       "    }\n",
       "</style>\n",
       "<table border=\"1\" class=\"dataframe\">\n",
       "  <thead>\n",
       "    <tr style=\"text-align: right;\">\n",
       "      <th></th>\n",
       "      <th>Plan Configuration f</th>\n",
       "      <th>damage_grade</th>\n",
       "    </tr>\n",
       "  </thead>\n",
       "  <tbody>\n",
       "    <tr>\n",
       "      <th>Plan Configuration f</th>\n",
       "      <td>1.00</td>\n",
       "      <td>0.00</td>\n",
       "    </tr>\n",
       "    <tr>\n",
       "      <th>damage_grade</th>\n",
       "      <td>0.00</td>\n",
       "      <td>1.00</td>\n",
       "    </tr>\n",
       "  </tbody>\n",
       "</table>\n",
       "</div>"
      ],
      "text/plain": [
       "                      Plan Configuration f         damage_grade\n",
       "Plan Configuration f                  1.00                 0.00\n",
       "damage_grade                          0.00                 1.00"
      ]
     },
     "execution_count": 200,
     "metadata": {},
     "output_type": "execute_result"
    }
   ],
   "source": [
    "data_train[[\"Plan Configuration f\", 'damage_grade']].corr()"
   ]
  },
  {
   "cell_type": "code",
   "execution_count": 201,
   "metadata": {},
   "outputs": [
    {
     "data": {
      "text/html": [
       "<div>\n",
       "<style scoped>\n",
       "    .dataframe tbody tr th:only-of-type {\n",
       "        vertical-align: middle;\n",
       "    }\n",
       "\n",
       "    .dataframe tbody tr th {\n",
       "        vertical-align: top;\n",
       "    }\n",
       "\n",
       "    .dataframe thead th {\n",
       "        text-align: right;\n",
       "    }\n",
       "</style>\n",
       "<table border=\"1\" class=\"dataframe\">\n",
       "  <thead>\n",
       "    <tr style=\"text-align: right;\">\n",
       "      <th></th>\n",
       "      <th>Plan Configuration m</th>\n",
       "      <th>damage_grade</th>\n",
       "    </tr>\n",
       "  </thead>\n",
       "  <tbody>\n",
       "    <tr>\n",
       "      <th>Plan Configuration m</th>\n",
       "      <td>1.00</td>\n",
       "      <td>-0.01</td>\n",
       "    </tr>\n",
       "    <tr>\n",
       "      <th>damage_grade</th>\n",
       "      <td>-0.01</td>\n",
       "      <td>1.00</td>\n",
       "    </tr>\n",
       "  </tbody>\n",
       "</table>\n",
       "</div>"
      ],
      "text/plain": [
       "                      Plan Configuration m         damage_grade\n",
       "Plan Configuration m                  1.00                -0.01\n",
       "damage_grade                         -0.01                 1.00"
      ]
     },
     "execution_count": 201,
     "metadata": {},
     "output_type": "execute_result"
    }
   ],
   "source": [
    "data_train[[\"Plan Configuration m\", 'damage_grade']].corr()"
   ]
  },
  {
   "cell_type": "code",
   "execution_count": 202,
   "metadata": {},
   "outputs": [
    {
     "data": {
      "text/html": [
       "<div>\n",
       "<style scoped>\n",
       "    .dataframe tbody tr th:only-of-type {\n",
       "        vertical-align: middle;\n",
       "    }\n",
       "\n",
       "    .dataframe tbody tr th {\n",
       "        vertical-align: top;\n",
       "    }\n",
       "\n",
       "    .dataframe thead th {\n",
       "        text-align: right;\n",
       "    }\n",
       "</style>\n",
       "<table border=\"1\" class=\"dataframe\">\n",
       "  <thead>\n",
       "    <tr style=\"text-align: right;\">\n",
       "      <th></th>\n",
       "      <th>Plan Configuration n</th>\n",
       "      <th>damage_grade</th>\n",
       "    </tr>\n",
       "  </thead>\n",
       "  <tbody>\n",
       "    <tr>\n",
       "      <th>Plan Configuration n</th>\n",
       "      <td>1.00</td>\n",
       "      <td>-0.00</td>\n",
       "    </tr>\n",
       "    <tr>\n",
       "      <th>damage_grade</th>\n",
       "      <td>-0.00</td>\n",
       "      <td>1.00</td>\n",
       "    </tr>\n",
       "  </tbody>\n",
       "</table>\n",
       "</div>"
      ],
      "text/plain": [
       "                      Plan Configuration n         damage_grade\n",
       "Plan Configuration n                  1.00                -0.00\n",
       "damage_grade                         -0.00                 1.00"
      ]
     },
     "execution_count": 202,
     "metadata": {},
     "output_type": "execute_result"
    }
   ],
   "source": [
    "data_train[[\"Plan Configuration n\", 'damage_grade']].corr()"
   ]
  },
  {
   "cell_type": "code",
   "execution_count": 203,
   "metadata": {},
   "outputs": [
    {
     "data": {
      "text/html": [
       "<div>\n",
       "<style scoped>\n",
       "    .dataframe tbody tr th:only-of-type {\n",
       "        vertical-align: middle;\n",
       "    }\n",
       "\n",
       "    .dataframe tbody tr th {\n",
       "        vertical-align: top;\n",
       "    }\n",
       "\n",
       "    .dataframe thead th {\n",
       "        text-align: right;\n",
       "    }\n",
       "</style>\n",
       "<table border=\"1\" class=\"dataframe\">\n",
       "  <thead>\n",
       "    <tr style=\"text-align: right;\">\n",
       "      <th></th>\n",
       "      <th>Plan Configuration o</th>\n",
       "      <th>damage_grade</th>\n",
       "    </tr>\n",
       "  </thead>\n",
       "  <tbody>\n",
       "    <tr>\n",
       "      <th>Plan Configuration o</th>\n",
       "      <td>1.00</td>\n",
       "      <td>-0.01</td>\n",
       "    </tr>\n",
       "    <tr>\n",
       "      <th>damage_grade</th>\n",
       "      <td>-0.01</td>\n",
       "      <td>1.00</td>\n",
       "    </tr>\n",
       "  </tbody>\n",
       "</table>\n",
       "</div>"
      ],
      "text/plain": [
       "                      Plan Configuration o         damage_grade\n",
       "Plan Configuration o                  1.00                -0.01\n",
       "damage_grade                         -0.01                 1.00"
      ]
     },
     "execution_count": 203,
     "metadata": {},
     "output_type": "execute_result"
    }
   ],
   "source": [
    "data_train[[\"Plan Configuration o\", 'damage_grade']].corr()"
   ]
  },
  {
   "cell_type": "code",
   "execution_count": 204,
   "metadata": {},
   "outputs": [
    {
     "data": {
      "text/html": [
       "<div>\n",
       "<style scoped>\n",
       "    .dataframe tbody tr th:only-of-type {\n",
       "        vertical-align: middle;\n",
       "    }\n",
       "\n",
       "    .dataframe tbody tr th {\n",
       "        vertical-align: top;\n",
       "    }\n",
       "\n",
       "    .dataframe thead th {\n",
       "        text-align: right;\n",
       "    }\n",
       "</style>\n",
       "<table border=\"1\" class=\"dataframe\">\n",
       "  <thead>\n",
       "    <tr style=\"text-align: right;\">\n",
       "      <th></th>\n",
       "      <th>Plan Configuration q</th>\n",
       "      <th>damage_grade</th>\n",
       "    </tr>\n",
       "  </thead>\n",
       "  <tbody>\n",
       "    <tr>\n",
       "      <th>Plan Configuration q</th>\n",
       "      <td>1.00</td>\n",
       "      <td>0.01</td>\n",
       "    </tr>\n",
       "    <tr>\n",
       "      <th>damage_grade</th>\n",
       "      <td>0.01</td>\n",
       "      <td>1.00</td>\n",
       "    </tr>\n",
       "  </tbody>\n",
       "</table>\n",
       "</div>"
      ],
      "text/plain": [
       "                      Plan Configuration q         damage_grade\n",
       "Plan Configuration q                  1.00                 0.01\n",
       "damage_grade                          0.01                 1.00"
      ]
     },
     "execution_count": 204,
     "metadata": {},
     "output_type": "execute_result"
    }
   ],
   "source": [
    "data_train[[\"Plan Configuration q\", 'damage_grade']].corr()"
   ]
  },
  {
   "cell_type": "code",
   "execution_count": 205,
   "metadata": {},
   "outputs": [
    {
     "data": {
      "text/html": [
       "<div>\n",
       "<style scoped>\n",
       "    .dataframe tbody tr th:only-of-type {\n",
       "        vertical-align: middle;\n",
       "    }\n",
       "\n",
       "    .dataframe tbody tr th {\n",
       "        vertical-align: top;\n",
       "    }\n",
       "\n",
       "    .dataframe thead th {\n",
       "        text-align: right;\n",
       "    }\n",
       "</style>\n",
       "<table border=\"1\" class=\"dataframe\">\n",
       "  <thead>\n",
       "    <tr style=\"text-align: right;\">\n",
       "      <th></th>\n",
       "      <th>Plan Configuration s</th>\n",
       "      <th>damage_grade</th>\n",
       "    </tr>\n",
       "  </thead>\n",
       "  <tbody>\n",
       "    <tr>\n",
       "      <th>Plan Configuration s</th>\n",
       "      <td>1.00</td>\n",
       "      <td>-0.01</td>\n",
       "    </tr>\n",
       "    <tr>\n",
       "      <th>damage_grade</th>\n",
       "      <td>-0.01</td>\n",
       "      <td>1.00</td>\n",
       "    </tr>\n",
       "  </tbody>\n",
       "</table>\n",
       "</div>"
      ],
      "text/plain": [
       "                      Plan Configuration s         damage_grade\n",
       "Plan Configuration s                  1.00                -0.01\n",
       "damage_grade                         -0.01                 1.00"
      ]
     },
     "execution_count": 205,
     "metadata": {},
     "output_type": "execute_result"
    }
   ],
   "source": [
    "data_train[[\"Plan Configuration s\", 'damage_grade']].corr()"
   ]
  },
  {
   "cell_type": "code",
   "execution_count": 206,
   "metadata": {},
   "outputs": [
    {
     "data": {
      "text/html": [
       "<div>\n",
       "<style scoped>\n",
       "    .dataframe tbody tr th:only-of-type {\n",
       "        vertical-align: middle;\n",
       "    }\n",
       "\n",
       "    .dataframe tbody tr th {\n",
       "        vertical-align: top;\n",
       "    }\n",
       "\n",
       "    .dataframe thead th {\n",
       "        text-align: right;\n",
       "    }\n",
       "</style>\n",
       "<table border=\"1\" class=\"dataframe\">\n",
       "  <thead>\n",
       "    <tr style=\"text-align: right;\">\n",
       "      <th></th>\n",
       "      <th>Plan Configuration u</th>\n",
       "      <th>damage_grade</th>\n",
       "    </tr>\n",
       "  </thead>\n",
       "  <tbody>\n",
       "    <tr>\n",
       "      <th>Plan Configuration u</th>\n",
       "      <td>1.00</td>\n",
       "      <td>-0.06</td>\n",
       "    </tr>\n",
       "    <tr>\n",
       "      <th>damage_grade</th>\n",
       "      <td>-0.06</td>\n",
       "      <td>1.00</td>\n",
       "    </tr>\n",
       "  </tbody>\n",
       "</table>\n",
       "</div>"
      ],
      "text/plain": [
       "                      Plan Configuration u         damage_grade\n",
       "Plan Configuration u                  1.00                -0.06\n",
       "damage_grade                         -0.06                 1.00"
      ]
     },
     "execution_count": 206,
     "metadata": {},
     "output_type": "execute_result"
    }
   ],
   "source": [
    "data_train[[\"Plan Configuration u\", 'damage_grade']].corr()"
   ]
  },
  {
   "cell_type": "markdown",
   "metadata": {},
   "source": [
    "## has_superstructure_adobe_mud (tipo: binario) ❌\n",
    "- variable que indica si la edificación fue construida con adobe/barro."
   ]
  },
  {
   "cell_type": "code",
   "execution_count": 57,
   "metadata": {},
   "outputs": [
    {
     "data": {
      "text/plain": [
       "False    237500\n",
       "True      23101\n",
       "Name: has_superstructure_adobe_mud, dtype: int64"
      ]
     },
     "execution_count": 57,
     "metadata": {},
     "output_type": "execute_result"
    }
   ],
   "source": [
    "data_train[\"has_superstructure_adobe_mud\"].value_counts()"
   ]
  },
  {
   "cell_type": "code",
   "execution_count": 58,
   "metadata": {},
   "outputs": [
    {
     "data": {
      "text/plain": [
       "damage_grade  has_superstructure_adobe_mud\n",
       "1             False                            24530\n",
       "              True                               594\n",
       "2             False                           134357\n",
       "              True                             13902\n",
       "3             False                            78613\n",
       "              True                              8605\n",
       "Name: contador, dtype: int64"
      ]
     },
     "execution_count": 58,
     "metadata": {},
     "output_type": "execute_result"
    }
   ],
   "source": [
    "features.groupby([\"damage_grade\",\"has_superstructure_adobe_mud\"])[\"contador\"].sum()"
   ]
  },
  {
   "cell_type": "code",
   "execution_count": 59,
   "metadata": {},
   "outputs": [
    {
     "data": {
      "text/html": [
       "<div>\n",
       "<style scoped>\n",
       "    .dataframe tbody tr th:only-of-type {\n",
       "        vertical-align: middle;\n",
       "    }\n",
       "\n",
       "    .dataframe tbody tr th {\n",
       "        vertical-align: top;\n",
       "    }\n",
       "\n",
       "    .dataframe thead th {\n",
       "        text-align: right;\n",
       "    }\n",
       "</style>\n",
       "<table border=\"1\" class=\"dataframe\">\n",
       "  <thead>\n",
       "    <tr style=\"text-align: right;\">\n",
       "      <th></th>\n",
       "      <th>has_superstructure_adobe_mud</th>\n",
       "      <th>damage_grade</th>\n",
       "    </tr>\n",
       "  </thead>\n",
       "  <tbody>\n",
       "    <tr>\n",
       "      <th>has_superstructure_adobe_mud</th>\n",
       "      <td>1.00</td>\n",
       "      <td>0.06</td>\n",
       "    </tr>\n",
       "    <tr>\n",
       "      <th>damage_grade</th>\n",
       "      <td>0.06</td>\n",
       "      <td>1.00</td>\n",
       "    </tr>\n",
       "  </tbody>\n",
       "</table>\n",
       "</div>"
      ],
      "text/plain": [
       "                              has_superstructure_adobe_mud  \\\n",
       "has_superstructure_adobe_mud                          1.00   \n",
       "damage_grade                                          0.06   \n",
       "\n",
       "                                     damage_grade  \n",
       "has_superstructure_adobe_mud                 0.06  \n",
       "damage_grade                                 1.00  "
      ]
     },
     "execution_count": 59,
     "metadata": {},
     "output_type": "execute_result"
    }
   ],
   "source": [
    "data_train[[\"has_superstructure_adobe_mud\", 'damage_grade']].corr()"
   ]
  },
  {
   "cell_type": "markdown",
   "metadata": {},
   "source": [
    "## has_superstructure_mud_mortar_stone (tipo: binario) ✔️\n",
    "- variable que indica si la edificación fue construida con barro - piedra."
   ]
  },
  {
   "cell_type": "code",
   "execution_count": 60,
   "metadata": {},
   "outputs": [
    {
     "data": {
      "text/plain": [
       "True     198561\n",
       "False     62040\n",
       "Name: has_superstructure_mud_mortar_stone, dtype: int64"
      ]
     },
     "execution_count": 60,
     "metadata": {},
     "output_type": "execute_result"
    }
   ],
   "source": [
    "data_train[\"has_superstructure_mud_mortar_stone\"].value_counts()"
   ]
  },
  {
   "cell_type": "code",
   "execution_count": 61,
   "metadata": {},
   "outputs": [
    {
     "data": {
      "text/plain": [
       "damage_grade  has_superstructure_mud_mortar_stone\n",
       "1             False                                   16364\n",
       "              True                                     8760\n",
       "2             False                                   34312\n",
       "              True                                   113947\n",
       "3             False                                   11364\n",
       "              True                                    75854\n",
       "Name: contador, dtype: int64"
      ]
     },
     "execution_count": 61,
     "metadata": {},
     "output_type": "execute_result"
    }
   ],
   "source": [
    "features.groupby([\"damage_grade\",\"has_superstructure_mud_mortar_stone\"])[\"contador\"].sum()"
   ]
  },
  {
   "cell_type": "code",
   "execution_count": 62,
   "metadata": {},
   "outputs": [
    {
     "data": {
      "text/html": [
       "<div>\n",
       "<style scoped>\n",
       "    .dataframe tbody tr th:only-of-type {\n",
       "        vertical-align: middle;\n",
       "    }\n",
       "\n",
       "    .dataframe tbody tr th {\n",
       "        vertical-align: top;\n",
       "    }\n",
       "\n",
       "    .dataframe thead th {\n",
       "        text-align: right;\n",
       "    }\n",
       "</style>\n",
       "<table border=\"1\" class=\"dataframe\">\n",
       "  <thead>\n",
       "    <tr style=\"text-align: right;\">\n",
       "      <th></th>\n",
       "      <th>has_superstructure_mud_mortar_stone</th>\n",
       "      <th>damage_grade</th>\n",
       "    </tr>\n",
       "  </thead>\n",
       "  <tbody>\n",
       "    <tr>\n",
       "      <th>has_superstructure_mud_mortar_stone</th>\n",
       "      <td>1.00</td>\n",
       "      <td>0.29</td>\n",
       "    </tr>\n",
       "    <tr>\n",
       "      <th>damage_grade</th>\n",
       "      <td>0.29</td>\n",
       "      <td>1.00</td>\n",
       "    </tr>\n",
       "  </tbody>\n",
       "</table>\n",
       "</div>"
      ],
      "text/plain": [
       "                                     has_superstructure_mud_mortar_stone  \\\n",
       "has_superstructure_mud_mortar_stone                                 1.00   \n",
       "damage_grade                                                        0.29   \n",
       "\n",
       "                                            damage_grade  \n",
       "has_superstructure_mud_mortar_stone                 0.29  \n",
       "damage_grade                                        1.00  "
      ]
     },
     "execution_count": 62,
     "metadata": {},
     "output_type": "execute_result"
    }
   ],
   "source": [
    "data_train[[\"has_superstructure_mud_mortar_stone\", 'damage_grade']].corr()"
   ]
  },
  {
   "cell_type": "markdown",
   "metadata": {},
   "source": [
    "## has_superstructure_stone_flag (tipo: binario) ❌\n",
    " - variable que indica si la edificación fue construida con piedra."
   ]
  },
  {
   "cell_type": "code",
   "execution_count": 63,
   "metadata": {},
   "outputs": [
    {
     "data": {
      "text/plain": [
       "False    251654\n",
       "True       8947\n",
       "Name: has_superstructure_stone_flag, dtype: int64"
      ]
     },
     "execution_count": 63,
     "metadata": {},
     "output_type": "execute_result"
    }
   ],
   "source": [
    "data_train[\"has_superstructure_stone_flag\"].value_counts()"
   ]
  },
  {
   "cell_type": "code",
   "execution_count": 64,
   "metadata": {},
   "outputs": [
    {
     "data": {
      "text/plain": [
       "damage_grade  has_superstructure_stone_flag\n",
       "1             False                             24942\n",
       "              True                                182\n",
       "2             False                            143725\n",
       "              True                               4534\n",
       "3             False                             82987\n",
       "              True                               4231\n",
       "Name: contador, dtype: int64"
      ]
     },
     "execution_count": 64,
     "metadata": {},
     "output_type": "execute_result"
    }
   ],
   "source": [
    "features.groupby([\"damage_grade\",\"has_superstructure_stone_flag\"])[\"contador\"].sum()"
   ]
  },
  {
   "cell_type": "code",
   "execution_count": 65,
   "metadata": {},
   "outputs": [
    {
     "data": {
      "text/html": [
       "<div>\n",
       "<style scoped>\n",
       "    .dataframe tbody tr th:only-of-type {\n",
       "        vertical-align: middle;\n",
       "    }\n",
       "\n",
       "    .dataframe tbody tr th {\n",
       "        vertical-align: top;\n",
       "    }\n",
       "\n",
       "    .dataframe thead th {\n",
       "        text-align: right;\n",
       "    }\n",
       "</style>\n",
       "<table border=\"1\" class=\"dataframe\">\n",
       "  <thead>\n",
       "    <tr style=\"text-align: right;\">\n",
       "      <th></th>\n",
       "      <th>has_superstructure_stone_flag</th>\n",
       "      <th>damage_grade</th>\n",
       "    </tr>\n",
       "  </thead>\n",
       "  <tbody>\n",
       "    <tr>\n",
       "      <th>has_superstructure_stone_flag</th>\n",
       "      <td>1.00</td>\n",
       "      <td>0.07</td>\n",
       "    </tr>\n",
       "    <tr>\n",
       "      <th>damage_grade</th>\n",
       "      <td>0.07</td>\n",
       "      <td>1.00</td>\n",
       "    </tr>\n",
       "  </tbody>\n",
       "</table>\n",
       "</div>"
      ],
      "text/plain": [
       "                               has_superstructure_stone_flag  \\\n",
       "has_superstructure_stone_flag                           1.00   \n",
       "damage_grade                                            0.07   \n",
       "\n",
       "                                      damage_grade  \n",
       "has_superstructure_stone_flag                 0.07  \n",
       "damage_grade                                  1.00  "
      ]
     },
     "execution_count": 65,
     "metadata": {},
     "output_type": "execute_result"
    }
   ],
   "source": [
    "data_train[[\"has_superstructure_stone_flag\", 'damage_grade']].corr()"
   ]
  },
  {
   "cell_type": "markdown",
   "metadata": {},
   "source": [
    "## has_superstructure_cement_mortar_stone (tipo: binario) ❌\n",
    " - variable que indica si la edificación fue construida con cemento - piedra."
   ]
  },
  {
   "cell_type": "code",
   "execution_count": 66,
   "metadata": {},
   "outputs": [
    {
     "data": {
      "text/plain": [
       "False    255849\n",
       "True       4752\n",
       "Name: has_superstructure_cement_mortar_stone, dtype: int64"
      ]
     },
     "execution_count": 66,
     "metadata": {},
     "output_type": "execute_result"
    }
   ],
   "source": [
    "data_train[\"has_superstructure_cement_mortar_stone\"].value_counts()"
   ]
  },
  {
   "cell_type": "code",
   "execution_count": 67,
   "metadata": {},
   "outputs": [
    {
     "data": {
      "text/plain": [
       "damage_grade  has_superstructure_cement_mortar_stone\n",
       "1             False                                      24295\n",
       "              True                                         829\n",
       "2             False                                     145011\n",
       "              True                                        3248\n",
       "3             False                                      86543\n",
       "              True                                         675\n",
       "Name: contador, dtype: int64"
      ]
     },
     "execution_count": 67,
     "metadata": {},
     "output_type": "execute_result"
    }
   ],
   "source": [
    "features.groupby([\"damage_grade\",\"has_superstructure_cement_mortar_stone\"])[\"contador\"].sum()"
   ]
  },
  {
   "cell_type": "code",
   "execution_count": 68,
   "metadata": {},
   "outputs": [
    {
     "data": {
      "text/html": [
       "<div>\n",
       "<style scoped>\n",
       "    .dataframe tbody tr th:only-of-type {\n",
       "        vertical-align: middle;\n",
       "    }\n",
       "\n",
       "    .dataframe tbody tr th {\n",
       "        vertical-align: top;\n",
       "    }\n",
       "\n",
       "    .dataframe thead th {\n",
       "        text-align: right;\n",
       "    }\n",
       "</style>\n",
       "<table border=\"1\" class=\"dataframe\">\n",
       "  <thead>\n",
       "    <tr style=\"text-align: right;\">\n",
       "      <th></th>\n",
       "      <th>has_superstructure_cement_mortar_stone</th>\n",
       "      <th>damage_grade</th>\n",
       "    </tr>\n",
       "  </thead>\n",
       "  <tbody>\n",
       "    <tr>\n",
       "      <th>has_superstructure_cement_mortar_stone</th>\n",
       "      <td>1.00</td>\n",
       "      <td>-0.06</td>\n",
       "    </tr>\n",
       "    <tr>\n",
       "      <th>damage_grade</th>\n",
       "      <td>-0.06</td>\n",
       "      <td>1.00</td>\n",
       "    </tr>\n",
       "  </tbody>\n",
       "</table>\n",
       "</div>"
      ],
      "text/plain": [
       "                                        has_superstructure_cement_mortar_stone  \\\n",
       "has_superstructure_cement_mortar_stone                                    1.00   \n",
       "damage_grade                                                             -0.06   \n",
       "\n",
       "                                               damage_grade  \n",
       "has_superstructure_cement_mortar_stone                -0.06  \n",
       "damage_grade                                           1.00  "
      ]
     },
     "execution_count": 68,
     "metadata": {},
     "output_type": "execute_result"
    }
   ],
   "source": [
    "data_train[[\"has_superstructure_cement_mortar_stone\", 'damage_grade']].corr()"
   ]
  },
  {
   "cell_type": "markdown",
   "metadata": {},
   "source": [
    "## has_superstructure_mud_mortar_brick (tipo: binario) ❌\n",
    " - variable que indica si la edificación fue construida con barro - ladrillos."
   ]
  },
  {
   "cell_type": "code",
   "execution_count": 69,
   "metadata": {},
   "outputs": [
    {
     "data": {
      "text/plain": [
       "False    242840\n",
       "True      17761\n",
       "Name: has_superstructure_mud_mortar_brick, dtype: int64"
      ]
     },
     "execution_count": 69,
     "metadata": {},
     "output_type": "execute_result"
    }
   ],
   "source": [
    "data_train[\"has_superstructure_mud_mortar_brick\"].value_counts()"
   ]
  },
  {
   "cell_type": "code",
   "execution_count": 70,
   "metadata": {},
   "outputs": [
    {
     "data": {
      "text/plain": [
       "damage_grade  has_superstructure_mud_mortar_brick\n",
       "1             False                                   24501\n",
       "              True                                      623\n",
       "2             False                                  136561\n",
       "              True                                    11698\n",
       "3             False                                   81778\n",
       "              True                                     5440\n",
       "Name: contador, dtype: int64"
      ]
     },
     "execution_count": 70,
     "metadata": {},
     "output_type": "execute_result"
    }
   ],
   "source": [
    "features.groupby([\"damage_grade\",\"has_superstructure_mud_mortar_brick\"])[\"contador\"].sum()"
   ]
  },
  {
   "cell_type": "code",
   "execution_count": 71,
   "metadata": {},
   "outputs": [
    {
     "data": {
      "text/html": [
       "<div>\n",
       "<style scoped>\n",
       "    .dataframe tbody tr th:only-of-type {\n",
       "        vertical-align: middle;\n",
       "    }\n",
       "\n",
       "    .dataframe tbody tr th {\n",
       "        vertical-align: top;\n",
       "    }\n",
       "\n",
       "    .dataframe thead th {\n",
       "        text-align: right;\n",
       "    }\n",
       "</style>\n",
       "<table border=\"1\" class=\"dataframe\">\n",
       "  <thead>\n",
       "    <tr style=\"text-align: right;\">\n",
       "      <th></th>\n",
       "      <th>has_superstructure_mud_mortar_brick</th>\n",
       "      <th>damage_grade</th>\n",
       "    </tr>\n",
       "  </thead>\n",
       "  <tbody>\n",
       "    <tr>\n",
       "      <th>has_superstructure_mud_mortar_brick</th>\n",
       "      <td>1.00</td>\n",
       "      <td>0.01</td>\n",
       "    </tr>\n",
       "    <tr>\n",
       "      <th>damage_grade</th>\n",
       "      <td>0.01</td>\n",
       "      <td>1.00</td>\n",
       "    </tr>\n",
       "  </tbody>\n",
       "</table>\n",
       "</div>"
      ],
      "text/plain": [
       "                                     has_superstructure_mud_mortar_brick  \\\n",
       "has_superstructure_mud_mortar_brick                                 1.00   \n",
       "damage_grade                                                        0.01   \n",
       "\n",
       "                                            damage_grade  \n",
       "has_superstructure_mud_mortar_brick                 0.01  \n",
       "damage_grade                                        1.00  "
      ]
     },
     "execution_count": 71,
     "metadata": {},
     "output_type": "execute_result"
    }
   ],
   "source": [
    "data_train[[\"has_superstructure_mud_mortar_brick\", 'damage_grade']].corr()"
   ]
  },
  {
   "cell_type": "markdown",
   "metadata": {},
   "source": [
    "## has_superstructure_cement_mortar_brick (tipo: binario) ✔️\n",
    " - variable que indica si la edificación fue construida con cemento - ladrillos."
   ]
  },
  {
   "cell_type": "code",
   "execution_count": 72,
   "metadata": {},
   "outputs": [
    {
     "data": {
      "text/plain": [
       "False    240986\n",
       "True      19615\n",
       "Name: has_superstructure_cement_mortar_brick, dtype: int64"
      ]
     },
     "execution_count": 72,
     "metadata": {},
     "output_type": "execute_result"
    }
   ],
   "source": [
    "data_train[\"has_superstructure_cement_mortar_brick\"].value_counts()"
   ]
  },
  {
   "cell_type": "code",
   "execution_count": 73,
   "metadata": {},
   "outputs": [
    {
     "data": {
      "text/plain": [
       "damage_grade  has_superstructure_cement_mortar_brick\n",
       "1             False                                      18019\n",
       "              True                                        7105\n",
       "2             False                                     136838\n",
       "              True                                       11421\n",
       "3             False                                      86129\n",
       "              True                                        1089\n",
       "Name: contador, dtype: int64"
      ]
     },
     "execution_count": 73,
     "metadata": {},
     "output_type": "execute_result"
    }
   ],
   "source": [
    "features.groupby([\"damage_grade\",\"has_superstructure_cement_mortar_brick\"])[\"contador\"].sum()"
   ]
  },
  {
   "cell_type": "code",
   "execution_count": 74,
   "metadata": {},
   "outputs": [
    {
     "data": {
      "text/html": [
       "<div>\n",
       "<style scoped>\n",
       "    .dataframe tbody tr th:only-of-type {\n",
       "        vertical-align: middle;\n",
       "    }\n",
       "\n",
       "    .dataframe tbody tr th {\n",
       "        vertical-align: top;\n",
       "    }\n",
       "\n",
       "    .dataframe thead th {\n",
       "        text-align: right;\n",
       "    }\n",
       "</style>\n",
       "<table border=\"1\" class=\"dataframe\">\n",
       "  <thead>\n",
       "    <tr style=\"text-align: right;\">\n",
       "      <th></th>\n",
       "      <th>has_superstructure_cement_mortar_brick</th>\n",
       "      <th>damage_grade</th>\n",
       "    </tr>\n",
       "  </thead>\n",
       "  <tbody>\n",
       "    <tr>\n",
       "      <th>has_superstructure_cement_mortar_brick</th>\n",
       "      <td>1.00</td>\n",
       "      <td>-0.25</td>\n",
       "    </tr>\n",
       "    <tr>\n",
       "      <th>damage_grade</th>\n",
       "      <td>-0.25</td>\n",
       "      <td>1.00</td>\n",
       "    </tr>\n",
       "  </tbody>\n",
       "</table>\n",
       "</div>"
      ],
      "text/plain": [
       "                                        has_superstructure_cement_mortar_brick  \\\n",
       "has_superstructure_cement_mortar_brick                                    1.00   \n",
       "damage_grade                                                             -0.25   \n",
       "\n",
       "                                               damage_grade  \n",
       "has_superstructure_cement_mortar_brick                -0.25  \n",
       "damage_grade                                           1.00  "
      ]
     },
     "execution_count": 74,
     "metadata": {},
     "output_type": "execute_result"
    }
   ],
   "source": [
    "data_train[[\"has_superstructure_cement_mortar_brick\", 'damage_grade']].corr()"
   ]
  },
  {
   "cell_type": "markdown",
   "metadata": {},
   "source": [
    "## has_superstructure_timber (tipo: binario) ❌\n",
    " - variable que indica si la edificación fue construida con Timber (madera específica para la construcción)."
   ]
  },
  {
   "cell_type": "code",
   "execution_count": 75,
   "metadata": {},
   "outputs": [
    {
     "data": {
      "text/plain": [
       "False    194151\n",
       "True      66450\n",
       "Name: has_superstructure_timber, dtype: int64"
      ]
     },
     "execution_count": 75,
     "metadata": {},
     "output_type": "execute_result"
    }
   ],
   "source": [
    "data_train[\"has_superstructure_timber\"].value_counts()"
   ]
  },
  {
   "cell_type": "code",
   "execution_count": 76,
   "metadata": {},
   "outputs": [
    {
     "data": {
      "text/plain": [
       "damage_grade  has_superstructure_timber\n",
       "1             False                         17482\n",
       "              True                           7642\n",
       "2             False                        108072\n",
       "              True                          40187\n",
       "3             False                         68597\n",
       "              True                          18621\n",
       "Name: contador, dtype: int64"
      ]
     },
     "execution_count": 76,
     "metadata": {},
     "output_type": "execute_result"
    }
   ],
   "source": [
    "features.groupby([\"damage_grade\",\"has_superstructure_timber\"])[\"contador\"].sum()"
   ]
  },
  {
   "cell_type": "code",
   "execution_count": 77,
   "metadata": {},
   "outputs": [
    {
     "data": {
      "text/html": [
       "<div>\n",
       "<style scoped>\n",
       "    .dataframe tbody tr th:only-of-type {\n",
       "        vertical-align: middle;\n",
       "    }\n",
       "\n",
       "    .dataframe tbody tr th {\n",
       "        vertical-align: top;\n",
       "    }\n",
       "\n",
       "    .dataframe thead th {\n",
       "        text-align: right;\n",
       "    }\n",
       "</style>\n",
       "<table border=\"1\" class=\"dataframe\">\n",
       "  <thead>\n",
       "    <tr style=\"text-align: right;\">\n",
       "      <th></th>\n",
       "      <th>has_superstructure_timber</th>\n",
       "      <th>damage_grade</th>\n",
       "    </tr>\n",
       "  </thead>\n",
       "  <tbody>\n",
       "    <tr>\n",
       "      <th>has_superstructure_timber</th>\n",
       "      <td>1.00</td>\n",
       "      <td>-0.07</td>\n",
       "    </tr>\n",
       "    <tr>\n",
       "      <th>damage_grade</th>\n",
       "      <td>-0.07</td>\n",
       "      <td>1.00</td>\n",
       "    </tr>\n",
       "  </tbody>\n",
       "</table>\n",
       "</div>"
      ],
      "text/plain": [
       "                           has_superstructure_timber         damage_grade\n",
       "has_superstructure_timber                       1.00                -0.07\n",
       "damage_grade                                   -0.07                 1.00"
      ]
     },
     "execution_count": 77,
     "metadata": {},
     "output_type": "execute_result"
    }
   ],
   "source": [
    "data_train[[\"has_superstructure_timber\", 'damage_grade']].corr()"
   ]
  },
  {
   "cell_type": "markdown",
   "metadata": {},
   "source": [
    "## has_superstructure_bamboo (tipo: binario) ❌\n",
    " - variable que indica si la edificación fue construida con Bambú (caña)."
   ]
  },
  {
   "cell_type": "code",
   "execution_count": 78,
   "metadata": {},
   "outputs": [
    {
     "data": {
      "text/plain": [
       "False    238447\n",
       "True      22154\n",
       "Name: has_superstructure_bamboo, dtype: int64"
      ]
     },
     "execution_count": 78,
     "metadata": {},
     "output_type": "execute_result"
    }
   ],
   "source": [
    "data_train[\"has_superstructure_bamboo\"].value_counts()"
   ]
  },
  {
   "cell_type": "code",
   "execution_count": 79,
   "metadata": {},
   "outputs": [
    {
     "data": {
      "text/plain": [
       "damage_grade  has_superstructure_bamboo\n",
       "1             False                         22285\n",
       "              True                           2839\n",
       "2             False                        134258\n",
       "              True                          14001\n",
       "3             False                         81904\n",
       "              True                           5314\n",
       "Name: contador, dtype: int64"
      ]
     },
     "execution_count": 79,
     "metadata": {},
     "output_type": "execute_result"
    }
   ],
   "source": [
    "features.groupby([\"damage_grade\",\"has_superstructure_bamboo\"])[\"contador\"].sum()"
   ]
  },
  {
   "cell_type": "code",
   "execution_count": 80,
   "metadata": {},
   "outputs": [
    {
     "data": {
      "text/html": [
       "<div>\n",
       "<style scoped>\n",
       "    .dataframe tbody tr th:only-of-type {\n",
       "        vertical-align: middle;\n",
       "    }\n",
       "\n",
       "    .dataframe tbody tr th {\n",
       "        vertical-align: top;\n",
       "    }\n",
       "\n",
       "    .dataframe thead th {\n",
       "        text-align: right;\n",
       "    }\n",
       "</style>\n",
       "<table border=\"1\" class=\"dataframe\">\n",
       "  <thead>\n",
       "    <tr style=\"text-align: right;\">\n",
       "      <th></th>\n",
       "      <th>has_superstructure_bamboo</th>\n",
       "      <th>damage_grade</th>\n",
       "    </tr>\n",
       "  </thead>\n",
       "  <tbody>\n",
       "    <tr>\n",
       "      <th>has_superstructure_bamboo</th>\n",
       "      <td>1.00</td>\n",
       "      <td>-0.06</td>\n",
       "    </tr>\n",
       "    <tr>\n",
       "      <th>damage_grade</th>\n",
       "      <td>-0.06</td>\n",
       "      <td>1.00</td>\n",
       "    </tr>\n",
       "  </tbody>\n",
       "</table>\n",
       "</div>"
      ],
      "text/plain": [
       "                           has_superstructure_bamboo         damage_grade\n",
       "has_superstructure_bamboo                       1.00                -0.06\n",
       "damage_grade                                   -0.06                 1.00"
      ]
     },
     "execution_count": 80,
     "metadata": {},
     "output_type": "execute_result"
    }
   ],
   "source": [
    "data_train[[\"has_superstructure_bamboo\", 'damage_grade']].corr()"
   ]
  },
  {
   "cell_type": "markdown",
   "metadata": {},
   "source": [
    "## has_superstructure_rc_non_engineered (tipo: binario) ✔️\n",
    " - variable que indica si la edificación fue construida con concreto reforzado no-diseñado."
   ]
  },
  {
   "cell_type": "code",
   "execution_count": 81,
   "metadata": {},
   "outputs": [
    {
     "data": {
      "text/plain": [
       "False    249502\n",
       "True      11099\n",
       "Name: has_superstructure_rc_non_engineered, dtype: int64"
      ]
     },
     "execution_count": 81,
     "metadata": {},
     "output_type": "execute_result"
    }
   ],
   "source": [
    "data_train[\"has_superstructure_rc_non_engineered\"].value_counts()"
   ]
  },
  {
   "cell_type": "code",
   "execution_count": 82,
   "metadata": {},
   "outputs": [
    {
     "data": {
      "text/plain": [
       "damage_grade  has_superstructure_rc_non_engineered\n",
       "1             False                                    21267\n",
       "              True                                      3857\n",
       "2             False                                   142427\n",
       "              True                                      5832\n",
       "3             False                                    85808\n",
       "              True                                      1410\n",
       "Name: contador, dtype: int64"
      ]
     },
     "execution_count": 82,
     "metadata": {},
     "output_type": "execute_result"
    }
   ],
   "source": [
    "features.groupby([\"damage_grade\",\"has_superstructure_rc_non_engineered\"])[\"contador\"].sum()"
   ]
  },
  {
   "cell_type": "code",
   "execution_count": 83,
   "metadata": {},
   "outputs": [
    {
     "data": {
      "text/html": [
       "<div>\n",
       "<style scoped>\n",
       "    .dataframe tbody tr th:only-of-type {\n",
       "        vertical-align: middle;\n",
       "    }\n",
       "\n",
       "    .dataframe tbody tr th {\n",
       "        vertical-align: top;\n",
       "    }\n",
       "\n",
       "    .dataframe thead th {\n",
       "        text-align: right;\n",
       "    }\n",
       "</style>\n",
       "<table border=\"1\" class=\"dataframe\">\n",
       "  <thead>\n",
       "    <tr style=\"text-align: right;\">\n",
       "      <th></th>\n",
       "      <th>has_superstructure_rc_non_engineered</th>\n",
       "      <th>damage_grade</th>\n",
       "    </tr>\n",
       "  </thead>\n",
       "  <tbody>\n",
       "    <tr>\n",
       "      <th>has_superstructure_rc_non_engineered</th>\n",
       "      <td>1.00</td>\n",
       "      <td>-0.16</td>\n",
       "    </tr>\n",
       "    <tr>\n",
       "      <th>damage_grade</th>\n",
       "      <td>-0.16</td>\n",
       "      <td>1.00</td>\n",
       "    </tr>\n",
       "  </tbody>\n",
       "</table>\n",
       "</div>"
      ],
      "text/plain": [
       "                                      has_superstructure_rc_non_engineered  \\\n",
       "has_superstructure_rc_non_engineered                                  1.00   \n",
       "damage_grade                                                         -0.16   \n",
       "\n",
       "                                             damage_grade  \n",
       "has_superstructure_rc_non_engineered                -0.16  \n",
       "damage_grade                                         1.00  "
      ]
     },
     "execution_count": 83,
     "metadata": {},
     "output_type": "execute_result"
    }
   ],
   "source": [
    "data_train[[\"has_superstructure_rc_non_engineered\", 'damage_grade']].corr()"
   ]
  },
  {
   "cell_type": "markdown",
   "metadata": {},
   "source": [
    "## has_superstructure_rc_engineered (tipo: binario) ✔️\n",
    "- variable que indica si la edificación fue construida con concreto reforzado diseñado."
   ]
  },
  {
   "cell_type": "code",
   "execution_count": 84,
   "metadata": {},
   "outputs": [
    {
     "data": {
      "text/plain": [
       "False    256468\n",
       "True       4133\n",
       "Name: has_superstructure_rc_engineered, dtype: int64"
      ]
     },
     "execution_count": 84,
     "metadata": {},
     "output_type": "execute_result"
    }
   ],
   "source": [
    "data_train[\"has_superstructure_rc_engineered\"].value_counts()"
   ]
  },
  {
   "cell_type": "code",
   "execution_count": 85,
   "metadata": {},
   "outputs": [
    {
     "data": {
      "text/plain": [
       "damage_grade  has_superstructure_rc_engineered\n",
       "1             False                                22468\n",
       "              True                                  2656\n",
       "2             False                               146857\n",
       "              True                                  1402\n",
       "3             False                                87143\n",
       "              True                                    75\n",
       "Name: contador, dtype: int64"
      ]
     },
     "execution_count": 85,
     "metadata": {},
     "output_type": "execute_result"
    }
   ],
   "source": [
    "features.groupby([\"damage_grade\",\"has_superstructure_rc_engineered\"])[\"contador\"].sum()"
   ]
  },
  {
   "cell_type": "code",
   "execution_count": 86,
   "metadata": {},
   "outputs": [
    {
     "data": {
      "text/html": [
       "<div>\n",
       "<style scoped>\n",
       "    .dataframe tbody tr th:only-of-type {\n",
       "        vertical-align: middle;\n",
       "    }\n",
       "\n",
       "    .dataframe tbody tr th {\n",
       "        vertical-align: top;\n",
       "    }\n",
       "\n",
       "    .dataframe thead th {\n",
       "        text-align: right;\n",
       "    }\n",
       "</style>\n",
       "<table border=\"1\" class=\"dataframe\">\n",
       "  <thead>\n",
       "    <tr style=\"text-align: right;\">\n",
       "      <th></th>\n",
       "      <th>has_superstructure_rc_engineered</th>\n",
       "      <th>damage_grade</th>\n",
       "    </tr>\n",
       "  </thead>\n",
       "  <tbody>\n",
       "    <tr>\n",
       "      <th>has_superstructure_rc_engineered</th>\n",
       "      <td>1.00</td>\n",
       "      <td>-0.18</td>\n",
       "    </tr>\n",
       "    <tr>\n",
       "      <th>damage_grade</th>\n",
       "      <td>-0.18</td>\n",
       "      <td>1.00</td>\n",
       "    </tr>\n",
       "  </tbody>\n",
       "</table>\n",
       "</div>"
      ],
      "text/plain": [
       "                                  has_superstructure_rc_engineered  \\\n",
       "has_superstructure_rc_engineered                              1.00   \n",
       "damage_grade                                                 -0.18   \n",
       "\n",
       "                                         damage_grade  \n",
       "has_superstructure_rc_engineered                -0.18  \n",
       "damage_grade                                     1.00  "
      ]
     },
     "execution_count": 86,
     "metadata": {},
     "output_type": "execute_result"
    }
   ],
   "source": [
    "data_train[[\"has_superstructure_rc_engineered\", 'damage_grade']].corr()"
   ]
  },
  {
   "cell_type": "markdown",
   "metadata": {},
   "source": [
    "## has_superstructure_other (tipo: binario)  ❌\n",
    "- variable que indica si la edificación fue construida con otro material."
   ]
  },
  {
   "cell_type": "code",
   "execution_count": 87,
   "metadata": {},
   "outputs": [
    {
     "data": {
      "text/plain": [
       "False    256696\n",
       "True       3905\n",
       "Name: has_superstructure_other, dtype: int64"
      ]
     },
     "execution_count": 87,
     "metadata": {},
     "output_type": "execute_result"
    }
   ],
   "source": [
    "data_train[\"has_superstructure_other\"].value_counts()"
   ]
  },
  {
   "cell_type": "code",
   "execution_count": 88,
   "metadata": {},
   "outputs": [
    {
     "data": {
      "text/plain": [
       "damage_grade  has_superstructure_other\n",
       "1             False                        24468\n",
       "              True                           656\n",
       "2             False                       146011\n",
       "              True                          2248\n",
       "3             False                        86217\n",
       "              True                          1001\n",
       "Name: contador, dtype: int64"
      ]
     },
     "execution_count": 88,
     "metadata": {},
     "output_type": "execute_result"
    }
   ],
   "source": [
    "features.groupby([\"damage_grade\",\"has_superstructure_other\"])[\"contador\"].sum()"
   ]
  },
  {
   "cell_type": "code",
   "execution_count": 89,
   "metadata": {},
   "outputs": [
    {
     "data": {
      "text/html": [
       "<div>\n",
       "<style scoped>\n",
       "    .dataframe tbody tr th:only-of-type {\n",
       "        vertical-align: middle;\n",
       "    }\n",
       "\n",
       "    .dataframe tbody tr th {\n",
       "        vertical-align: top;\n",
       "    }\n",
       "\n",
       "    .dataframe thead th {\n",
       "        text-align: right;\n",
       "    }\n",
       "</style>\n",
       "<table border=\"1\" class=\"dataframe\">\n",
       "  <thead>\n",
       "    <tr style=\"text-align: right;\">\n",
       "      <th></th>\n",
       "      <th>has_superstructure_other</th>\n",
       "      <th>damage_grade</th>\n",
       "    </tr>\n",
       "  </thead>\n",
       "  <tbody>\n",
       "    <tr>\n",
       "      <th>has_superstructure_other</th>\n",
       "      <td>1.00</td>\n",
       "      <td>-0.03</td>\n",
       "    </tr>\n",
       "    <tr>\n",
       "      <th>damage_grade</th>\n",
       "      <td>-0.03</td>\n",
       "      <td>1.00</td>\n",
       "    </tr>\n",
       "  </tbody>\n",
       "</table>\n",
       "</div>"
      ],
      "text/plain": [
       "                          has_superstructure_other         damage_grade\n",
       "has_superstructure_other                      1.00                -0.03\n",
       "damage_grade                                 -0.03                 1.00"
      ]
     },
     "execution_count": 89,
     "metadata": {},
     "output_type": "execute_result"
    }
   ],
   "source": [
    "data_train[[\"has_superstructure_other\", 'damage_grade']].corr()"
   ]
  },
  {
   "cell_type": "markdown",
   "metadata": {},
   "source": [
    "Poca informacion, descartada"
   ]
  },
  {
   "cell_type": "markdown",
   "metadata": {},
   "source": [
    "## legal_ownership_status (tipo: categórico) ❌\n",
    " - estado legal de la tierra donde la edificación fue construida. Valores posibles: a, r, v, w."
   ]
  },
  {
   "cell_type": "code",
   "execution_count": 207,
   "metadata": {},
   "outputs": [
    {
     "data": {
      "text/plain": [
       "v    250939\n",
       "a      5512\n",
       "w      2677\n",
       "r      1473\n",
       "Name: legal_ownership_status, dtype: int64"
      ]
     },
     "execution_count": 207,
     "metadata": {},
     "output_type": "execute_result"
    }
   ],
   "source": [
    "data_train[\"legal_ownership_status\"].value_counts()"
   ]
  },
  {
   "cell_type": "code",
   "execution_count": 208,
   "metadata": {},
   "outputs": [
    {
     "data": {
      "text/plain": [
       "damage_grade  legal_ownership_status\n",
       "1             a                           1511\n",
       "              r                            213\n",
       "              v                          23270\n",
       "              w                            130\n",
       "2             a                           3074\n",
       "              r                            727\n",
       "              v                         143154\n",
       "              w                           1304\n",
       "3             a                            927\n",
       "              r                            533\n",
       "              v                          84515\n",
       "              w                           1243\n",
       "Name: contador, dtype: int64"
      ]
     },
     "execution_count": 208,
     "metadata": {},
     "output_type": "execute_result"
    }
   ],
   "source": [
    "features.groupby([\"damage_grade\",\"legal_ownership_status\"])[\"contador\"].sum()"
   ]
  },
  {
   "cell_type": "code",
   "execution_count": 214,
   "metadata": {},
   "outputs": [],
   "source": [
    "legal_dummies = pd.get_dummies(features[\"legal_ownership_status\"])\n",
    "features[\"Legal a\"] = legal_dummies[\"a\"]\n",
    "features[\"Legal r\"] = legal_dummies[\"r\"]\n",
    "features[\"Legal v\"] = legal_dummies[\"v\"]\n",
    "features[\"Legal w\"] = legal_dummies[\"w\"]"
   ]
  },
  {
   "cell_type": "code",
   "execution_count": 215,
   "metadata": {},
   "outputs": [
    {
     "data": {
      "text/html": [
       "<div>\n",
       "<style scoped>\n",
       "    .dataframe tbody tr th:only-of-type {\n",
       "        vertical-align: middle;\n",
       "    }\n",
       "\n",
       "    .dataframe tbody tr th {\n",
       "        vertical-align: top;\n",
       "    }\n",
       "\n",
       "    .dataframe thead th {\n",
       "        text-align: right;\n",
       "    }\n",
       "</style>\n",
       "<table border=\"1\" class=\"dataframe\">\n",
       "  <thead>\n",
       "    <tr style=\"text-align: right;\">\n",
       "      <th></th>\n",
       "      <th>Legal a</th>\n",
       "      <th>damage_grade</th>\n",
       "    </tr>\n",
       "  </thead>\n",
       "  <tbody>\n",
       "    <tr>\n",
       "      <th>Legal a</th>\n",
       "      <td>1.00</td>\n",
       "      <td>-0.08</td>\n",
       "    </tr>\n",
       "    <tr>\n",
       "      <th>damage_grade</th>\n",
       "      <td>-0.08</td>\n",
       "      <td>1.00</td>\n",
       "    </tr>\n",
       "  </tbody>\n",
       "</table>\n",
       "</div>"
      ],
      "text/plain": [
       "                          Legal a         damage_grade\n",
       "Legal a                      1.00                -0.08\n",
       "damage_grade                -0.08                 1.00"
      ]
     },
     "execution_count": 215,
     "metadata": {},
     "output_type": "execute_result"
    }
   ],
   "source": [
    "data_train[[\"Legal a\", 'damage_grade']].corr()"
   ]
  },
  {
   "cell_type": "code",
   "execution_count": 216,
   "metadata": {},
   "outputs": [
    {
     "data": {
      "text/html": [
       "<div>\n",
       "<style scoped>\n",
       "    .dataframe tbody tr th:only-of-type {\n",
       "        vertical-align: middle;\n",
       "    }\n",
       "\n",
       "    .dataframe tbody tr th {\n",
       "        vertical-align: top;\n",
       "    }\n",
       "\n",
       "    .dataframe thead th {\n",
       "        text-align: right;\n",
       "    }\n",
       "</style>\n",
       "<table border=\"1\" class=\"dataframe\">\n",
       "  <thead>\n",
       "    <tr style=\"text-align: right;\">\n",
       "      <th></th>\n",
       "      <th>Legal r</th>\n",
       "      <th>damage_grade</th>\n",
       "    </tr>\n",
       "  </thead>\n",
       "  <tbody>\n",
       "    <tr>\n",
       "      <th>Legal r</th>\n",
       "      <td>1.00</td>\n",
       "      <td>-0.00</td>\n",
       "    </tr>\n",
       "    <tr>\n",
       "      <th>damage_grade</th>\n",
       "      <td>-0.00</td>\n",
       "      <td>1.00</td>\n",
       "    </tr>\n",
       "  </tbody>\n",
       "</table>\n",
       "</div>"
      ],
      "text/plain": [
       "                          Legal r         damage_grade\n",
       "Legal r                      1.00                -0.00\n",
       "damage_grade                -0.00                 1.00"
      ]
     },
     "execution_count": 216,
     "metadata": {},
     "output_type": "execute_result"
    }
   ],
   "source": [
    "data_train[[\"Legal r\", 'damage_grade']].corr()"
   ]
  },
  {
   "cell_type": "code",
   "execution_count": 217,
   "metadata": {},
   "outputs": [
    {
     "data": {
      "text/html": [
       "<div>\n",
       "<style scoped>\n",
       "    .dataframe tbody tr th:only-of-type {\n",
       "        vertical-align: middle;\n",
       "    }\n",
       "\n",
       "    .dataframe tbody tr th {\n",
       "        vertical-align: top;\n",
       "    }\n",
       "\n",
       "    .dataframe thead th {\n",
       "        text-align: right;\n",
       "    }\n",
       "</style>\n",
       "<table border=\"1\" class=\"dataframe\">\n",
       "  <thead>\n",
       "    <tr style=\"text-align: right;\">\n",
       "      <th></th>\n",
       "      <th>Legal v</th>\n",
       "      <th>damage_grade</th>\n",
       "    </tr>\n",
       "  </thead>\n",
       "  <tbody>\n",
       "    <tr>\n",
       "      <th>Legal v</th>\n",
       "      <td>1.00</td>\n",
       "      <td>0.05</td>\n",
       "    </tr>\n",
       "    <tr>\n",
       "      <th>damage_grade</th>\n",
       "      <td>0.05</td>\n",
       "      <td>1.00</td>\n",
       "    </tr>\n",
       "  </tbody>\n",
       "</table>\n",
       "</div>"
      ],
      "text/plain": [
       "                          Legal v         damage_grade\n",
       "Legal v                      1.00                 0.05\n",
       "damage_grade                 0.05                 1.00"
      ]
     },
     "execution_count": 217,
     "metadata": {},
     "output_type": "execute_result"
    }
   ],
   "source": [
    "data_train[[\"Legal v\", 'damage_grade']].corr()"
   ]
  },
  {
   "cell_type": "code",
   "execution_count": 218,
   "metadata": {},
   "outputs": [
    {
     "data": {
      "text/html": [
       "<div>\n",
       "<style scoped>\n",
       "    .dataframe tbody tr th:only-of-type {\n",
       "        vertical-align: middle;\n",
       "    }\n",
       "\n",
       "    .dataframe tbody tr th {\n",
       "        vertical-align: top;\n",
       "    }\n",
       "\n",
       "    .dataframe thead th {\n",
       "        text-align: right;\n",
       "    }\n",
       "</style>\n",
       "<table border=\"1\" class=\"dataframe\">\n",
       "  <thead>\n",
       "    <tr style=\"text-align: right;\">\n",
       "      <th></th>\n",
       "      <th>Legal w</th>\n",
       "      <th>damage_grade</th>\n",
       "    </tr>\n",
       "  </thead>\n",
       "  <tbody>\n",
       "    <tr>\n",
       "      <th>Legal w</th>\n",
       "      <td>1.00</td>\n",
       "      <td>0.03</td>\n",
       "    </tr>\n",
       "    <tr>\n",
       "      <th>damage_grade</th>\n",
       "      <td>0.03</td>\n",
       "      <td>1.00</td>\n",
       "    </tr>\n",
       "  </tbody>\n",
       "</table>\n",
       "</div>"
      ],
      "text/plain": [
       "                          Legal w         damage_grade\n",
       "Legal w                      1.00                 0.03\n",
       "damage_grade                 0.03                 1.00"
      ]
     },
     "execution_count": 218,
     "metadata": {},
     "output_type": "execute_result"
    }
   ],
   "source": [
    "data_train[[\"Legal w\", 'damage_grade']].corr()"
   ]
  },
  {
   "cell_type": "markdown",
   "metadata": {},
   "source": [
    "## count_families (tipo: entero) ❌\n",
    "  - número de familias que vivían en la edificación."
   ]
  },
  {
   "cell_type": "code",
   "execution_count": 90,
   "metadata": {},
   "outputs": [
    {
     "data": {
      "text/plain": [
       "1    226115\n",
       "0     20862\n",
       "2     11294\n",
       "3      1802\n",
       "4       389\n",
       "5       104\n",
       "6        22\n",
       "7         7\n",
       "9         4\n",
       "8         2\n",
       "Name: count_families, dtype: int64"
      ]
     },
     "execution_count": 90,
     "metadata": {},
     "output_type": "execute_result"
    }
   ],
   "source": [
    "data_train[\"count_families\"].value_counts()"
   ]
  },
  {
   "cell_type": "code",
   "execution_count": 91,
   "metadata": {},
   "outputs": [
    {
     "data": {
      "text/html": [
       "<div>\n",
       "<style scoped>\n",
       "    .dataframe tbody tr th:only-of-type {\n",
       "        vertical-align: middle;\n",
       "    }\n",
       "\n",
       "    .dataframe tbody tr th {\n",
       "        vertical-align: top;\n",
       "    }\n",
       "\n",
       "    .dataframe thead th {\n",
       "        text-align: right;\n",
       "    }\n",
       "</style>\n",
       "<table border=\"1\" class=\"dataframe\">\n",
       "  <thead>\n",
       "    <tr style=\"text-align: right;\">\n",
       "      <th></th>\n",
       "      <th>count_families</th>\n",
       "      <th>damage_grade</th>\n",
       "    </tr>\n",
       "  </thead>\n",
       "  <tbody>\n",
       "    <tr>\n",
       "      <th>count_families</th>\n",
       "      <td>1.00</td>\n",
       "      <td>0.06</td>\n",
       "    </tr>\n",
       "    <tr>\n",
       "      <th>damage_grade</th>\n",
       "      <td>0.06</td>\n",
       "      <td>1.00</td>\n",
       "    </tr>\n",
       "  </tbody>\n",
       "</table>\n",
       "</div>"
      ],
      "text/plain": [
       "                     count_families         damage_grade\n",
       "count_families                 1.00                 0.06\n",
       "damage_grade                   0.06                 1.00"
      ]
     },
     "execution_count": 91,
     "metadata": {},
     "output_type": "execute_result"
    }
   ],
   "source": [
    "data_train[[\"count_families\", 'damage_grade']].corr()"
   ]
  },
  {
   "cell_type": "markdown",
   "metadata": {},
   "source": [
    "## has_secondary_use (tipo: binario) ❌\n",
    "- variable que indica si la edificación era usada con un uso secundario."
   ]
  },
  {
   "cell_type": "code",
   "execution_count": 92,
   "metadata": {},
   "outputs": [
    {
     "data": {
      "text/plain": [
       "False    231445\n",
       "True      29156\n",
       "Name: has_secondary_use, dtype: int64"
      ]
     },
     "execution_count": 92,
     "metadata": {},
     "output_type": "execute_result"
    }
   ],
   "source": [
    "data_train[\"has_secondary_use\"].value_counts()"
   ]
  },
  {
   "cell_type": "code",
   "execution_count": 93,
   "metadata": {},
   "outputs": [
    {
     "data": {
      "text/plain": [
       "damage_grade  has_secondary_use\n",
       "1             False                 20876\n",
       "              True                   4248\n",
       "2             False                130544\n",
       "              True                  17715\n",
       "3             False                 80025\n",
       "              True                   7193\n",
       "Name: contador, dtype: int64"
      ]
     },
     "execution_count": 93,
     "metadata": {},
     "output_type": "execute_result"
    }
   ],
   "source": [
    "features.groupby([\"damage_grade\",\"has_secondary_use\"])[\"contador\"].sum()"
   ]
  },
  {
   "cell_type": "code",
   "execution_count": 94,
   "metadata": {},
   "outputs": [
    {
     "data": {
      "text/html": [
       "<div>\n",
       "<style scoped>\n",
       "    .dataframe tbody tr th:only-of-type {\n",
       "        vertical-align: middle;\n",
       "    }\n",
       "\n",
       "    .dataframe tbody tr th {\n",
       "        vertical-align: top;\n",
       "    }\n",
       "\n",
       "    .dataframe thead th {\n",
       "        text-align: right;\n",
       "    }\n",
       "</style>\n",
       "<table border=\"1\" class=\"dataframe\">\n",
       "  <thead>\n",
       "    <tr style=\"text-align: right;\">\n",
       "      <th></th>\n",
       "      <th>has_secondary_use</th>\n",
       "      <th>damage_grade</th>\n",
       "    </tr>\n",
       "  </thead>\n",
       "  <tbody>\n",
       "    <tr>\n",
       "      <th>has_secondary_use</th>\n",
       "      <td>1.00</td>\n",
       "      <td>-0.08</td>\n",
       "    </tr>\n",
       "    <tr>\n",
       "      <th>damage_grade</th>\n",
       "      <td>-0.08</td>\n",
       "      <td>1.00</td>\n",
       "    </tr>\n",
       "  </tbody>\n",
       "</table>\n",
       "</div>"
      ],
      "text/plain": [
       "                     has_secondary_use         damage_grade\n",
       "has_secondary_use                 1.00                -0.08\n",
       "damage_grade                     -0.08                 1.00"
      ]
     },
     "execution_count": 94,
     "metadata": {},
     "output_type": "execute_result"
    }
   ],
   "source": [
    "data_train[[\"has_secondary_use\", 'damage_grade']].corr()"
   ]
  },
  {
   "cell_type": "markdown",
   "metadata": {},
   "source": [
    "## has_secondary_use_agriculture (tipo: binario) ❌\n",
    " - variable que indica si la edificación era usada con propósitos de agricultura."
   ]
  },
  {
   "cell_type": "code",
   "execution_count": 95,
   "metadata": {},
   "outputs": [
    {
     "data": {
      "text/plain": [
       "False    243824\n",
       "True      16777\n",
       "Name: has_secondary_use_agriculture, dtype: int64"
      ]
     },
     "execution_count": 95,
     "metadata": {},
     "output_type": "execute_result"
    }
   ],
   "source": [
    "data_train[\"has_secondary_use_agriculture\"].value_counts()"
   ]
  },
  {
   "cell_type": "code",
   "execution_count": 96,
   "metadata": {},
   "outputs": [
    {
     "data": {
      "text/plain": [
       "damage_grade  has_secondary_use_agriculture\n",
       "1             False                             24295\n",
       "              True                                829\n",
       "2             False                            137580\n",
       "              True                              10679\n",
       "3             False                             81949\n",
       "              True                               5269\n",
       "Name: contador, dtype: int64"
      ]
     },
     "execution_count": 96,
     "metadata": {},
     "output_type": "execute_result"
    }
   ],
   "source": [
    "features.groupby([\"damage_grade\",\"has_secondary_use_agriculture\"])[\"contador\"].sum()"
   ]
  },
  {
   "cell_type": "code",
   "execution_count": 97,
   "metadata": {},
   "outputs": [
    {
     "data": {
      "text/html": [
       "<div>\n",
       "<style scoped>\n",
       "    .dataframe tbody tr th:only-of-type {\n",
       "        vertical-align: middle;\n",
       "    }\n",
       "\n",
       "    .dataframe tbody tr th {\n",
       "        vertical-align: top;\n",
       "    }\n",
       "\n",
       "    .dataframe thead th {\n",
       "        text-align: right;\n",
       "    }\n",
       "</style>\n",
       "<table border=\"1\" class=\"dataframe\">\n",
       "  <thead>\n",
       "    <tr style=\"text-align: right;\">\n",
       "      <th></th>\n",
       "      <th>has_secondary_use_agriculture</th>\n",
       "      <th>damage_grade</th>\n",
       "    </tr>\n",
       "  </thead>\n",
       "  <tbody>\n",
       "    <tr>\n",
       "      <th>has_secondary_use_agriculture</th>\n",
       "      <td>1.00</td>\n",
       "      <td>0.01</td>\n",
       "    </tr>\n",
       "    <tr>\n",
       "      <th>damage_grade</th>\n",
       "      <td>0.01</td>\n",
       "      <td>1.00</td>\n",
       "    </tr>\n",
       "  </tbody>\n",
       "</table>\n",
       "</div>"
      ],
      "text/plain": [
       "                               has_secondary_use_agriculture  \\\n",
       "has_secondary_use_agriculture                           1.00   \n",
       "damage_grade                                            0.01   \n",
       "\n",
       "                                      damage_grade  \n",
       "has_secondary_use_agriculture                 0.01  \n",
       "damage_grade                                  1.00  "
      ]
     },
     "execution_count": 97,
     "metadata": {},
     "output_type": "execute_result"
    }
   ],
   "source": [
    "data_train[[\"has_secondary_use_agriculture\", 'damage_grade']].corr()"
   ]
  },
  {
   "cell_type": "markdown",
   "metadata": {},
   "source": [
    "## has_secondary_use_hotel (tipo: binario)  ❌\n",
    " - variable que indica si la edificación era usada como oficina de gobierno."
   ]
  },
  {
   "cell_type": "code",
   "execution_count": 98,
   "metadata": {},
   "outputs": [
    {
     "data": {
      "text/plain": [
       "False    251838\n",
       "True       8763\n",
       "Name: has_secondary_use_hotel, dtype: int64"
      ]
     },
     "execution_count": 98,
     "metadata": {},
     "output_type": "execute_result"
    }
   ],
   "source": [
    "data_train[\"has_secondary_use_hotel\"].value_counts()"
   ]
  },
  {
   "cell_type": "code",
   "execution_count": 99,
   "metadata": {},
   "outputs": [
    {
     "data": {
      "text/plain": [
       "damage_grade  has_secondary_use_hotel\n",
       "1             False                       22908\n",
       "              True                         2216\n",
       "2             False                      143201\n",
       "              True                         5058\n",
       "3             False                       85729\n",
       "              True                         1489\n",
       "Name: contador, dtype: int64"
      ]
     },
     "execution_count": 99,
     "metadata": {},
     "output_type": "execute_result"
    }
   ],
   "source": [
    "features.groupby([\"damage_grade\",\"has_secondary_use_hotel\"])[\"contador\"].sum()"
   ]
  },
  {
   "cell_type": "code",
   "execution_count": 100,
   "metadata": {},
   "outputs": [
    {
     "data": {
      "text/html": [
       "<div>\n",
       "<style scoped>\n",
       "    .dataframe tbody tr th:only-of-type {\n",
       "        vertical-align: middle;\n",
       "    }\n",
       "\n",
       "    .dataframe tbody tr th {\n",
       "        vertical-align: top;\n",
       "    }\n",
       "\n",
       "    .dataframe thead th {\n",
       "        text-align: right;\n",
       "    }\n",
       "</style>\n",
       "<table border=\"1\" class=\"dataframe\">\n",
       "  <thead>\n",
       "    <tr style=\"text-align: right;\">\n",
       "      <th></th>\n",
       "      <th>has_secondary_use_hotel</th>\n",
       "      <th>damage_grade</th>\n",
       "    </tr>\n",
       "  </thead>\n",
       "  <tbody>\n",
       "    <tr>\n",
       "      <th>has_secondary_use_hotel</th>\n",
       "      <td>1.00</td>\n",
       "      <td>-0.10</td>\n",
       "    </tr>\n",
       "    <tr>\n",
       "      <th>damage_grade</th>\n",
       "      <td>-0.10</td>\n",
       "      <td>1.00</td>\n",
       "    </tr>\n",
       "  </tbody>\n",
       "</table>\n",
       "</div>"
      ],
      "text/plain": [
       "                         has_secondary_use_hotel         damage_grade\n",
       "has_secondary_use_hotel                     1.00                -0.10\n",
       "damage_grade                               -0.10                 1.00"
      ]
     },
     "execution_count": 100,
     "metadata": {},
     "output_type": "execute_result"
    }
   ],
   "source": [
    "data_train[[\"has_secondary_use_hotel\", 'damage_grade']].corr()"
   ]
  },
  {
   "cell_type": "markdown",
   "metadata": {},
   "source": [
    "## has_secondary_use_rental (tipo: binario) ❌\n",
    " - variable que indica si la edificación se alquilaba."
   ]
  },
  {
   "cell_type": "code",
   "execution_count": 101,
   "metadata": {},
   "outputs": [
    {
     "data": {
      "text/plain": [
       "False    258490\n",
       "True       2111\n",
       "Name: has_secondary_use_rental, dtype: int64"
      ]
     },
     "execution_count": 101,
     "metadata": {},
     "output_type": "execute_result"
    }
   ],
   "source": [
    "data_train[\"has_secondary_use_rental\"].value_counts()"
   ]
  },
  {
   "cell_type": "code",
   "execution_count": 102,
   "metadata": {},
   "outputs": [
    {
     "data": {
      "text/plain": [
       "damage_grade  has_secondary_use_rental\n",
       "1             False                        24247\n",
       "              True                           877\n",
       "2             False                       147208\n",
       "              True                          1051\n",
       "3             False                        87035\n",
       "              True                           183\n",
       "Name: contador, dtype: int64"
      ]
     },
     "execution_count": 102,
     "metadata": {},
     "output_type": "execute_result"
    }
   ],
   "source": [
    "features.groupby([\"damage_grade\",\"has_secondary_use_rental\"])[\"contador\"].sum()"
   ]
  },
  {
   "cell_type": "code",
   "execution_count": 103,
   "metadata": {},
   "outputs": [
    {
     "data": {
      "text/html": [
       "<div>\n",
       "<style scoped>\n",
       "    .dataframe tbody tr th:only-of-type {\n",
       "        vertical-align: middle;\n",
       "    }\n",
       "\n",
       "    .dataframe tbody tr th {\n",
       "        vertical-align: top;\n",
       "    }\n",
       "\n",
       "    .dataframe thead th {\n",
       "        text-align: right;\n",
       "    }\n",
       "</style>\n",
       "<table border=\"1\" class=\"dataframe\">\n",
       "  <thead>\n",
       "    <tr style=\"text-align: right;\">\n",
       "      <th></th>\n",
       "      <th>has_secondary_use_rental</th>\n",
       "      <th>damage_grade</th>\n",
       "    </tr>\n",
       "  </thead>\n",
       "  <tbody>\n",
       "    <tr>\n",
       "      <th>has_secondary_use_rental</th>\n",
       "      <td>1.00</td>\n",
       "      <td>-0.08</td>\n",
       "    </tr>\n",
       "    <tr>\n",
       "      <th>damage_grade</th>\n",
       "      <td>-0.08</td>\n",
       "      <td>1.00</td>\n",
       "    </tr>\n",
       "  </tbody>\n",
       "</table>\n",
       "</div>"
      ],
      "text/plain": [
       "                          has_secondary_use_rental         damage_grade\n",
       "has_secondary_use_rental                      1.00                -0.08\n",
       "damage_grade                                 -0.08                 1.00"
      ]
     },
     "execution_count": 103,
     "metadata": {},
     "output_type": "execute_result"
    }
   ],
   "source": [
    "data_train[[\"has_secondary_use_rental\", 'damage_grade']].corr()"
   ]
  },
  {
   "cell_type": "markdown",
   "metadata": {},
   "source": [
    "Pocos datos, descartado"
   ]
  },
  {
   "cell_type": "markdown",
   "metadata": {},
   "source": [
    "## has_secondary_use_institution (tipo: binario) ❌\n",
    " - variable que indica si la edificación era usada como sede de una institución."
   ]
  },
  {
   "cell_type": "code",
   "execution_count": 104,
   "metadata": {},
   "outputs": [
    {
     "data": {
      "text/plain": [
       "False    260356\n",
       "True        245\n",
       "Name: has_secondary_use_institution, dtype: int64"
      ]
     },
     "execution_count": 104,
     "metadata": {},
     "output_type": "execute_result"
    }
   ],
   "source": [
    "data_train[\"has_secondary_use_institution\"].value_counts()"
   ]
  },
  {
   "cell_type": "code",
   "execution_count": 105,
   "metadata": {},
   "outputs": [
    {
     "data": {
      "text/plain": [
       "damage_grade  has_secondary_use_institution\n",
       "1             False                             25025\n",
       "              True                                 99\n",
       "2             False                            148130\n",
       "              True                                129\n",
       "3             False                             87201\n",
       "              True                                 17\n",
       "Name: contador, dtype: int64"
      ]
     },
     "execution_count": 105,
     "metadata": {},
     "output_type": "execute_result"
    }
   ],
   "source": [
    "features.groupby([\"damage_grade\",\"has_secondary_use_institution\"])[\"contador\"].sum()"
   ]
  },
  {
   "cell_type": "code",
   "execution_count": 106,
   "metadata": {},
   "outputs": [
    {
     "data": {
      "text/html": [
       "<div>\n",
       "<style scoped>\n",
       "    .dataframe tbody tr th:only-of-type {\n",
       "        vertical-align: middle;\n",
       "    }\n",
       "\n",
       "    .dataframe tbody tr th {\n",
       "        vertical-align: top;\n",
       "    }\n",
       "\n",
       "    .dataframe thead th {\n",
       "        text-align: right;\n",
       "    }\n",
       "</style>\n",
       "<table border=\"1\" class=\"dataframe\">\n",
       "  <thead>\n",
       "    <tr style=\"text-align: right;\">\n",
       "      <th></th>\n",
       "      <th>has_secondary_use_institution</th>\n",
       "      <th>damage_grade</th>\n",
       "    </tr>\n",
       "  </thead>\n",
       "  <tbody>\n",
       "    <tr>\n",
       "      <th>has_secondary_use_institution</th>\n",
       "      <td>1.00</td>\n",
       "      <td>-0.03</td>\n",
       "    </tr>\n",
       "    <tr>\n",
       "      <th>damage_grade</th>\n",
       "      <td>-0.03</td>\n",
       "      <td>1.00</td>\n",
       "    </tr>\n",
       "  </tbody>\n",
       "</table>\n",
       "</div>"
      ],
      "text/plain": [
       "                               has_secondary_use_institution  \\\n",
       "has_secondary_use_institution                           1.00   \n",
       "damage_grade                                           -0.03   \n",
       "\n",
       "                                      damage_grade  \n",
       "has_secondary_use_institution                -0.03  \n",
       "damage_grade                                  1.00  "
      ]
     },
     "execution_count": 106,
     "metadata": {},
     "output_type": "execute_result"
    }
   ],
   "source": [
    "data_train[[\"has_secondary_use_institution\", 'damage_grade']].corr()"
   ]
  },
  {
   "cell_type": "markdown",
   "metadata": {},
   "source": [
    "## has_secondary_use_school (tipo: binario) ❌\n",
    "- variable que indica si la edificación era usada como escuela."
   ]
  },
  {
   "cell_type": "code",
   "execution_count": 107,
   "metadata": {},
   "outputs": [
    {
     "data": {
      "text/plain": [
       "False    260507\n",
       "True         94\n",
       "Name: has_secondary_use_school, dtype: int64"
      ]
     },
     "execution_count": 107,
     "metadata": {},
     "output_type": "execute_result"
    }
   ],
   "source": [
    "data_train[\"has_secondary_use_school\"].value_counts()"
   ]
  },
  {
   "cell_type": "code",
   "execution_count": 108,
   "metadata": {},
   "outputs": [
    {
     "data": {
      "text/plain": [
       "damage_grade  has_secondary_use_school\n",
       "1             False                        25094\n",
       "              True                            30\n",
       "2             False                       148212\n",
       "              True                            47\n",
       "3             False                        87201\n",
       "              True                            17\n",
       "Name: contador, dtype: int64"
      ]
     },
     "execution_count": 108,
     "metadata": {},
     "output_type": "execute_result"
    }
   ],
   "source": [
    "features.groupby([\"damage_grade\",\"has_secondary_use_school\"])[\"contador\"].sum()"
   ]
  },
  {
   "cell_type": "code",
   "execution_count": 109,
   "metadata": {},
   "outputs": [
    {
     "data": {
      "text/html": [
       "<div>\n",
       "<style scoped>\n",
       "    .dataframe tbody tr th:only-of-type {\n",
       "        vertical-align: middle;\n",
       "    }\n",
       "\n",
       "    .dataframe tbody tr th {\n",
       "        vertical-align: top;\n",
       "    }\n",
       "\n",
       "    .dataframe thead th {\n",
       "        text-align: right;\n",
       "    }\n",
       "</style>\n",
       "<table border=\"1\" class=\"dataframe\">\n",
       "  <thead>\n",
       "    <tr style=\"text-align: right;\">\n",
       "      <th></th>\n",
       "      <th>has_secondary_use_school</th>\n",
       "      <th>damage_grade</th>\n",
       "    </tr>\n",
       "  </thead>\n",
       "  <tbody>\n",
       "    <tr>\n",
       "      <th>has_secondary_use_school</th>\n",
       "      <td>1.00</td>\n",
       "      <td>-0.01</td>\n",
       "    </tr>\n",
       "    <tr>\n",
       "      <th>damage_grade</th>\n",
       "      <td>-0.01</td>\n",
       "      <td>1.00</td>\n",
       "    </tr>\n",
       "  </tbody>\n",
       "</table>\n",
       "</div>"
      ],
      "text/plain": [
       "                          has_secondary_use_school         damage_grade\n",
       "has_secondary_use_school                      1.00                -0.01\n",
       "damage_grade                                 -0.01                 1.00"
      ]
     },
     "execution_count": 109,
     "metadata": {},
     "output_type": "execute_result"
    }
   ],
   "source": [
    "data_train[[\"has_secondary_use_school\", 'damage_grade']].corr()"
   ]
  },
  {
   "cell_type": "markdown",
   "metadata": {},
   "source": [
    "## has_secondary_use_industry (tipo: binario) ❌\n",
    "- variable que indica si la edificación era usada con propósitos industriales."
   ]
  },
  {
   "cell_type": "code",
   "execution_count": 110,
   "metadata": {},
   "outputs": [
    {
     "data": {
      "text/plain": [
       "False    260322\n",
       "True        279\n",
       "Name: has_secondary_use_industry, dtype: int64"
      ]
     },
     "execution_count": 110,
     "metadata": {},
     "output_type": "execute_result"
    }
   ],
   "source": [
    "data_train[\"has_secondary_use_industry\"].value_counts()"
   ]
  },
  {
   "cell_type": "code",
   "execution_count": 111,
   "metadata": {},
   "outputs": [
    {
     "data": {
      "text/plain": [
       "damage_grade  has_secondary_use_industry\n",
       "1             False                          25065\n",
       "              True                              59\n",
       "2             False                         148107\n",
       "              True                             152\n",
       "3             False                          87150\n",
       "              True                              68\n",
       "Name: contador, dtype: int64"
      ]
     },
     "execution_count": 111,
     "metadata": {},
     "output_type": "execute_result"
    }
   ],
   "source": [
    "features.groupby([\"damage_grade\",\"has_secondary_use_industry\"])[\"contador\"].sum()"
   ]
  },
  {
   "cell_type": "code",
   "execution_count": 112,
   "metadata": {},
   "outputs": [
    {
     "data": {
      "text/html": [
       "<div>\n",
       "<style scoped>\n",
       "    .dataframe tbody tr th:only-of-type {\n",
       "        vertical-align: middle;\n",
       "    }\n",
       "\n",
       "    .dataframe tbody tr th {\n",
       "        vertical-align: top;\n",
       "    }\n",
       "\n",
       "    .dataframe thead th {\n",
       "        text-align: right;\n",
       "    }\n",
       "</style>\n",
       "<table border=\"1\" class=\"dataframe\">\n",
       "  <thead>\n",
       "    <tr style=\"text-align: right;\">\n",
       "      <th></th>\n",
       "      <th>has_secondary_use_industry</th>\n",
       "      <th>damage_grade</th>\n",
       "    </tr>\n",
       "  </thead>\n",
       "  <tbody>\n",
       "    <tr>\n",
       "      <th>has_secondary_use_industry</th>\n",
       "      <td>1.00</td>\n",
       "      <td>-0.01</td>\n",
       "    </tr>\n",
       "    <tr>\n",
       "      <th>damage_grade</th>\n",
       "      <td>-0.01</td>\n",
       "      <td>1.00</td>\n",
       "    </tr>\n",
       "  </tbody>\n",
       "</table>\n",
       "</div>"
      ],
      "text/plain": [
       "                            has_secondary_use_industry         damage_grade\n",
       "has_secondary_use_industry                        1.00                -0.01\n",
       "damage_grade                                     -0.01                 1.00"
      ]
     },
     "execution_count": 112,
     "metadata": {},
     "output_type": "execute_result"
    }
   ],
   "source": [
    "data_train[[\"has_secondary_use_industry\", 'damage_grade']].corr()"
   ]
  },
  {
   "cell_type": "markdown",
   "metadata": {},
   "source": [
    "## has_secondary_use_health_post (tipo: binario) ❌\n",
    "- variable que indica si la edificación era usada como puesto de salud."
   ]
  },
  {
   "cell_type": "code",
   "execution_count": 113,
   "metadata": {},
   "outputs": [
    {
     "data": {
      "text/plain": [
       "False    260552\n",
       "True         49\n",
       "Name: has_secondary_use_health_post, dtype: int64"
      ]
     },
     "execution_count": 113,
     "metadata": {},
     "output_type": "execute_result"
    }
   ],
   "source": [
    "data_train[\"has_secondary_use_health_post\"].value_counts()"
   ]
  },
  {
   "cell_type": "code",
   "execution_count": 114,
   "metadata": {},
   "outputs": [
    {
     "data": {
      "text/plain": [
       "damage_grade  has_secondary_use_health_post\n",
       "1             False                             25112\n",
       "              True                                 12\n",
       "2             False                            148227\n",
       "              True                                 32\n",
       "3             False                             87213\n",
       "              True                                  5\n",
       "Name: contador, dtype: int64"
      ]
     },
     "execution_count": 114,
     "metadata": {},
     "output_type": "execute_result"
    }
   ],
   "source": [
    "features.groupby([\"damage_grade\",\"has_secondary_use_health_post\"])[\"contador\"].sum()"
   ]
  },
  {
   "cell_type": "code",
   "execution_count": 115,
   "metadata": {},
   "outputs": [
    {
     "data": {
      "text/html": [
       "<div>\n",
       "<style scoped>\n",
       "    .dataframe tbody tr th:only-of-type {\n",
       "        vertical-align: middle;\n",
       "    }\n",
       "\n",
       "    .dataframe tbody tr th {\n",
       "        vertical-align: top;\n",
       "    }\n",
       "\n",
       "    .dataframe thead th {\n",
       "        text-align: right;\n",
       "    }\n",
       "</style>\n",
       "<table border=\"1\" class=\"dataframe\">\n",
       "  <thead>\n",
       "    <tr style=\"text-align: right;\">\n",
       "      <th></th>\n",
       "      <th>has_secondary_use_health_post</th>\n",
       "      <th>damage_grade</th>\n",
       "    </tr>\n",
       "  </thead>\n",
       "  <tbody>\n",
       "    <tr>\n",
       "      <th>has_secondary_use_health_post</th>\n",
       "      <td>1.00</td>\n",
       "      <td>-0.01</td>\n",
       "    </tr>\n",
       "    <tr>\n",
       "      <th>damage_grade</th>\n",
       "      <td>-0.01</td>\n",
       "      <td>1.00</td>\n",
       "    </tr>\n",
       "  </tbody>\n",
       "</table>\n",
       "</div>"
      ],
      "text/plain": [
       "                               has_secondary_use_health_post  \\\n",
       "has_secondary_use_health_post                           1.00   \n",
       "damage_grade                                           -0.01   \n",
       "\n",
       "                                      damage_grade  \n",
       "has_secondary_use_health_post                -0.01  \n",
       "damage_grade                                  1.00  "
      ]
     },
     "execution_count": 115,
     "metadata": {},
     "output_type": "execute_result"
    }
   ],
   "source": [
    "data_train[[\"has_secondary_use_health_post\", 'damage_grade']].corr()"
   ]
  },
  {
   "cell_type": "markdown",
   "metadata": {},
   "source": [
    "## has_secondary_use_gov_office (tipo: binario) ❌ \n",
    "- variable que indica si la edificación era usada como oficina de gobierno."
   ]
  },
  {
   "cell_type": "code",
   "execution_count": 116,
   "metadata": {},
   "outputs": [
    {
     "data": {
      "text/plain": [
       "False    260563\n",
       "True         38\n",
       "Name: has_secondary_use_gov_office, dtype: int64"
      ]
     },
     "execution_count": 116,
     "metadata": {},
     "output_type": "execute_result"
    }
   ],
   "source": [
    "data_train[\"has_secondary_use_gov_office\"].value_counts()"
   ]
  },
  {
   "cell_type": "code",
   "execution_count": 117,
   "metadata": {},
   "outputs": [
    {
     "data": {
      "text/plain": [
       "damage_grade  has_secondary_use_gov_office\n",
       "1             False                            25111\n",
       "              True                                13\n",
       "2             False                           148238\n",
       "              True                                21\n",
       "3             False                            87214\n",
       "              True                                 4\n",
       "Name: contador, dtype: int64"
      ]
     },
     "execution_count": 117,
     "metadata": {},
     "output_type": "execute_result"
    }
   ],
   "source": [
    "features.groupby([\"damage_grade\",\"has_secondary_use_gov_office\"])[\"contador\"].sum()"
   ]
  },
  {
   "cell_type": "code",
   "execution_count": 118,
   "metadata": {},
   "outputs": [
    {
     "data": {
      "text/html": [
       "<div>\n",
       "<style scoped>\n",
       "    .dataframe tbody tr th:only-of-type {\n",
       "        vertical-align: middle;\n",
       "    }\n",
       "\n",
       "    .dataframe tbody tr th {\n",
       "        vertical-align: top;\n",
       "    }\n",
       "\n",
       "    .dataframe thead th {\n",
       "        text-align: right;\n",
       "    }\n",
       "</style>\n",
       "<table border=\"1\" class=\"dataframe\">\n",
       "  <thead>\n",
       "    <tr style=\"text-align: right;\">\n",
       "      <th></th>\n",
       "      <th>has_secondary_use_gov_office</th>\n",
       "      <th>damage_grade</th>\n",
       "    </tr>\n",
       "  </thead>\n",
       "  <tbody>\n",
       "    <tr>\n",
       "      <th>has_secondary_use_gov_office</th>\n",
       "      <td>1.00</td>\n",
       "      <td>-0.01</td>\n",
       "    </tr>\n",
       "    <tr>\n",
       "      <th>damage_grade</th>\n",
       "      <td>-0.01</td>\n",
       "      <td>1.00</td>\n",
       "    </tr>\n",
       "  </tbody>\n",
       "</table>\n",
       "</div>"
      ],
      "text/plain": [
       "                              has_secondary_use_gov_office  \\\n",
       "has_secondary_use_gov_office                          1.00   \n",
       "damage_grade                                         -0.01   \n",
       "\n",
       "                                     damage_grade  \n",
       "has_secondary_use_gov_office                -0.01  \n",
       "damage_grade                                 1.00  "
      ]
     },
     "execution_count": 118,
     "metadata": {},
     "output_type": "execute_result"
    }
   ],
   "source": [
    "data_train[[\"has_secondary_use_gov_office\", 'damage_grade']].corr()"
   ]
  },
  {
   "cell_type": "markdown",
   "metadata": {},
   "source": [
    "## has_secondary_use_use_police (tipo: binario) ❌\n",
    "- variable que indica si la edificación era usada como estación de policía."
   ]
  },
  {
   "cell_type": "code",
   "execution_count": 119,
   "metadata": {},
   "outputs": [
    {
     "data": {
      "text/plain": [
       "False    260578\n",
       "True         23\n",
       "Name: has_secondary_use_use_police, dtype: int64"
      ]
     },
     "execution_count": 119,
     "metadata": {},
     "output_type": "execute_result"
    }
   ],
   "source": [
    "data_train[\"has_secondary_use_use_police\"].value_counts()"
   ]
  },
  {
   "cell_type": "code",
   "execution_count": 120,
   "metadata": {},
   "outputs": [
    {
     "data": {
      "text/plain": [
       "damage_grade  has_secondary_use_use_police\n",
       "1             False                            25120\n",
       "              True                                 4\n",
       "2             False                           148247\n",
       "              True                                12\n",
       "3             False                            87211\n",
       "              True                                 7\n",
       "Name: contador, dtype: int64"
      ]
     },
     "execution_count": 120,
     "metadata": {},
     "output_type": "execute_result"
    }
   ],
   "source": [
    "features.groupby([\"damage_grade\",\"has_secondary_use_use_police\"])[\"contador\"].sum()"
   ]
  },
  {
   "cell_type": "code",
   "execution_count": 121,
   "metadata": {},
   "outputs": [
    {
     "data": {
      "text/html": [
       "<div>\n",
       "<style scoped>\n",
       "    .dataframe tbody tr th:only-of-type {\n",
       "        vertical-align: middle;\n",
       "    }\n",
       "\n",
       "    .dataframe tbody tr th {\n",
       "        vertical-align: top;\n",
       "    }\n",
       "\n",
       "    .dataframe thead th {\n",
       "        text-align: right;\n",
       "    }\n",
       "</style>\n",
       "<table border=\"1\" class=\"dataframe\">\n",
       "  <thead>\n",
       "    <tr style=\"text-align: right;\">\n",
       "      <th></th>\n",
       "      <th>has_secondary_use_use_police</th>\n",
       "      <th>damage_grade</th>\n",
       "    </tr>\n",
       "  </thead>\n",
       "  <tbody>\n",
       "    <tr>\n",
       "      <th>has_secondary_use_use_police</th>\n",
       "      <td>1.00</td>\n",
       "      <td>-0.00</td>\n",
       "    </tr>\n",
       "    <tr>\n",
       "      <th>damage_grade</th>\n",
       "      <td>-0.00</td>\n",
       "      <td>1.00</td>\n",
       "    </tr>\n",
       "  </tbody>\n",
       "</table>\n",
       "</div>"
      ],
      "text/plain": [
       "                              has_secondary_use_use_police  \\\n",
       "has_secondary_use_use_police                          1.00   \n",
       "damage_grade                                         -0.00   \n",
       "\n",
       "                                     damage_grade  \n",
       "has_secondary_use_use_police                -0.00  \n",
       "damage_grade                                 1.00  "
      ]
     },
     "execution_count": 121,
     "metadata": {},
     "output_type": "execute_result"
    }
   ],
   "source": [
    "data_train[[\"has_secondary_use_use_police\", 'damage_grade']].corr()"
   ]
  },
  {
   "cell_type": "markdown",
   "metadata": {},
   "source": [
    "## has_secondary_use_other (tipo: binario) ❌\n",
    "- variable que indica si la edificación era usada con otro uso secundario"
   ]
  },
  {
   "cell_type": "code",
   "execution_count": 122,
   "metadata": {},
   "outputs": [
    {
     "data": {
      "text/plain": [
       "False    259267\n",
       "True       1334\n",
       "Name: has_secondary_use_other, dtype: int64"
      ]
     },
     "execution_count": 122,
     "metadata": {},
     "output_type": "execute_result"
    }
   ],
   "source": [
    "data_train[\"has_secondary_use_other\"].value_counts()"
   ]
  },
  {
   "cell_type": "code",
   "execution_count": 123,
   "metadata": {},
   "outputs": [
    {
     "data": {
      "text/plain": [
       "damage_grade  has_secondary_use_other\n",
       "1             False                       24949\n",
       "              True                          175\n",
       "2             False                      147407\n",
       "              True                          852\n",
       "3             False                       86911\n",
       "              True                          307\n",
       "Name: contador, dtype: int64"
      ]
     },
     "execution_count": 123,
     "metadata": {},
     "output_type": "execute_result"
    }
   ],
   "source": [
    "features.groupby([\"damage_grade\",\"has_secondary_use_other\"])[\"contador\"].sum()"
   ]
  },
  {
   "cell_type": "code",
   "execution_count": 124,
   "metadata": {},
   "outputs": [
    {
     "data": {
      "text/html": [
       "<div>\n",
       "<style scoped>\n",
       "    .dataframe tbody tr th:only-of-type {\n",
       "        vertical-align: middle;\n",
       "    }\n",
       "\n",
       "    .dataframe tbody tr th {\n",
       "        vertical-align: top;\n",
       "    }\n",
       "\n",
       "    .dataframe thead th {\n",
       "        text-align: right;\n",
       "    }\n",
       "</style>\n",
       "<table border=\"1\" class=\"dataframe\">\n",
       "  <thead>\n",
       "    <tr style=\"text-align: right;\">\n",
       "      <th></th>\n",
       "      <th>has_secondary_use_other</th>\n",
       "      <th>damage_grade</th>\n",
       "    </tr>\n",
       "  </thead>\n",
       "  <tbody>\n",
       "    <tr>\n",
       "      <th>has_secondary_use_other</th>\n",
       "      <td>1.00</td>\n",
       "      <td>-0.02</td>\n",
       "    </tr>\n",
       "    <tr>\n",
       "      <th>damage_grade</th>\n",
       "      <td>-0.02</td>\n",
       "      <td>1.00</td>\n",
       "    </tr>\n",
       "  </tbody>\n",
       "</table>\n",
       "</div>"
      ],
      "text/plain": [
       "                         has_secondary_use_other         damage_grade\n",
       "has_secondary_use_other                     1.00                -0.02\n",
       "damage_grade                               -0.02                 1.00"
      ]
     },
     "execution_count": 124,
     "metadata": {},
     "output_type": "execute_result"
    }
   ],
   "source": [
    "data_train[[\"has_secondary_use_other\", 'damage_grade']].corr()"
   ]
  },
  {
   "cell_type": "markdown",
   "metadata": {},
   "source": [
    "## Conclusiones"
   ]
  },
  {
   "cell_type": "markdown",
   "metadata": {},
   "source": [
    " - Luego de todo el analisis realizado en esta seccion, consideramos a los siguientes features como los mas interesantes para el modelo de machine learning:\n",
    "     - count_floors_per_eq\n",
    "     - area_percentage\n",
    "     - foundation_type (r,w,u,i)\n",
    "     - roof_type (x)\n",
    "     - other_floor_type(s,q,j)\n",
    "     - ground_floor_type(f,v)\n",
    "     - superstructure_mud_mortar_stone\n",
    "     - superstructure_cement_mortar_brick\n",
    "     - superstructure_rc_non_engineered\n",
    "     - superstructure_rc_engineered"
   ]
  },
  {
   "cell_type": "code",
   "execution_count": null,
   "metadata": {},
   "outputs": [],
   "source": []
  }
 ],
 "metadata": {
  "colab": {
   "collapsed_sections": [],
   "name": "Untitled4.ipynb",
   "provenance": []
  },
  "kernelspec": {
   "display_name": "Python 3",
   "language": "python",
   "name": "python3"
  },
  "language_info": {
   "codemirror_mode": {
    "name": "ipython",
    "version": 3
   },
   "file_extension": ".py",
   "mimetype": "text/x-python",
   "name": "python",
   "nbconvert_exporter": "python",
   "pygments_lexer": "ipython3",
   "version": "3.8.5"
  }
 },
 "nbformat": 4,
 "nbformat_minor": 1
}
